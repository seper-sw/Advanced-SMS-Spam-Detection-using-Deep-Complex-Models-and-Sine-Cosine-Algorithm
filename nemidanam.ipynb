{
 "cells": [
  {
   "cell_type": "code",
   "execution_count": null,
   "metadata": {},
   "outputs": [],
   "source": []
  },
  {
   "cell_type": "markdown",
   "metadata": {},
   "source": [
    "<h2>SCA by KNN"
   ]
  },
  {
   "cell_type": "code",
   "execution_count": null,
   "metadata": {},
   "outputs": [],
   "source": [
    "fold = {'x_train':scaled_x_train_SCA, 'y_train':scaled_y_train_SCA, 'x_valid':scaled_x_valid_SCA, 'y_valid':scaled_y_valid_SCA}\n",
    "T    = 1   # maximum number of iterations\n",
    "opts = {'fold':fold, 'T':T,'alpha':0.1}\n",
    "SCA_knn = SCAFUN(scaled_obj_data, scaled_obj_label, opts,'knn')\n",
    "sf_knn   = SCA_knn['selected_features']"
   ]
  },
  {
   "cell_type": "code",
   "execution_count": null,
   "metadata": {},
   "outputs": [
    {
     "data": {
      "text/plain": [
       "(4380,)"
      ]
     },
     "metadata": {},
     "output_type": "display_data"
    }
   ],
   "source": [
    "sf_knn.shape"
   ]
  },
  {
   "cell_type": "code",
   "execution_count": null,
   "metadata": {},
   "outputs": [],
   "source": [
    "knn_sca_x_train,knn_sca_x_test,knn_sca_y_train,knn_sca_y_test=train_test_split(scaled_obj_data[:,sf_knn],scaled_obj_label,test_size=0.3,stratify=scaled_obj_label,shuffle=True)"
   ]
  },
  {
   "cell_type": "code",
   "execution_count": null,
   "metadata": {},
   "outputs": [
    {
     "data": {
      "text/plain": [
       "0.867822966507177"
      ]
     },
     "metadata": {},
     "output_type": "display_data"
    }
   ],
   "source": [
    "SCA_tffi_knn=KNeighborsClassifier(n_neighbors=13)\n",
    "SCA_tffi_knn.fit(knn_sca_x_train,knn_sca_y_train)\n",
    "SCA_knn_tffi_pred=SCA_tffi_knn.predict(X=knn_sca_x_test)\n",
    "SCA_tffi_knn.score(X=knn_sca_x_test,y=knn_sca_y_test)"
   ]
  },
  {
   "cell_type": "code",
   "execution_count": null,
   "metadata": {},
   "outputs": [
    {
     "name": "stdout",
     "output_type": "stream",
     "text": [
      "Measuring knn wit TF*IDF SCA:\n",
      "\n",
      "Accuracy: 0.867822966507177\n",
      "Recall: 0.013392857142857142\n",
      "Precision: 1.0\n",
      "F1-score: 0.026431718061674006\n"
     ]
    }
   ],
   "source": [
    "SCA_knn_tffi_precision = precision_score(knn_sca_y_test, SCA_knn_tffi_pred)\n",
    "SCA_knn_tffi_recall = recall_score(knn_sca_y_test, SCA_knn_tffi_pred)\n",
    "SCA_knn_tffi_f1 = f1_score(knn_sca_y_test, SCA_knn_tffi_pred)\n",
    "SCA_knn_tffi_accuracy = accuracy_score(knn_sca_y_test, SCA_knn_tffi_pred)\n",
    "print(\"Measuring knn wit TF*IDF SCA:\\n\")\n",
    "print(\"Accuracy:\", SCA_knn_tffi_accuracy)\n",
    "print(\"Recall:\", SCA_knn_tffi_recall)\n",
    "print(\"Precision:\", SCA_knn_tffi_precision)\n",
    "print(\"F1-score:\", SCA_knn_tffi_f1)\n"
   ]
  },
  {
   "cell_type": "markdown",
   "metadata": {},
   "source": [
    "<h3>SCA by SVM"
   ]
  },
  {
   "cell_type": "code",
   "execution_count": null,
   "metadata": {},
   "outputs": [],
   "source": [
    "fold = {'x_train':scaled_x_train_SCA, 'y_train':scaled_y_train_SCA, 'x_valid':scaled_x_valid_SCA, 'y_valid':scaled_y_valid_SCA}\n",
    "T    = 4   # maximum number of iterations\n",
    "opts = {'fold':fold, 'T':T,'alpha':0.01}\n",
    "SCA_svm = SCAFUN(scaled_obj_data, scaled_obj_label, opts,'svm')\n",
    "sf_svm   = SCA_svm['selected_features']"
   ]
  },
  {
   "cell_type": "code",
   "execution_count": null,
   "metadata": {},
   "outputs": [
    {
     "data": {
      "text/plain": [
       "(4364,)"
      ]
     },
     "metadata": {},
     "output_type": "display_data"
    }
   ],
   "source": [
    "sf_svm.shape"
   ]
  },
  {
   "cell_type": "code",
   "execution_count": null,
   "metadata": {},
   "outputs": [],
   "source": [
    "svm_sca_x_train,svm_sca_x_test,svm_sca_y_train,svm_sca_y_test=train_test_split(scaled_obj_data[:,sf_svm],scaled_obj_label,test_size=0.3,stratify=scaled_obj_label,shuffle=True)"
   ]
  },
  {
   "cell_type": "code",
   "execution_count": null,
   "metadata": {},
   "outputs": [
    {
     "data": {
      "text/plain": [
       "0.8911483253588517"
      ]
     },
     "metadata": {},
     "output_type": "display_data"
    }
   ],
   "source": [
    "SCA_tffi_SVM=svm.SVC(kernel='rbf',C=10,gamma=0.1)\n",
    "SCA_tffi_SVM.fit(svm_sca_x_train,svm_sca_y_train)\n",
    "SCA_tffi_SVM_pred=SCA_tffi_SVM.predict(X=svm_sca_x_test)\n",
    "SCA_tffi_SVM.score(X=svm_sca_x_test,y=svm_sca_y_test)"
   ]
  },
  {
   "cell_type": "code",
   "execution_count": null,
   "metadata": {},
   "outputs": [
    {
     "name": "stdout",
     "output_type": "stream",
     "text": [
      "Measuring SVM wit TF*IDF :\n",
      "\n",
      "Accuracy: 0.8911483253588517\n",
      "Recall: 0.1875\n",
      "Precision: 1.0\n",
      "F1-score: 0.3157894736842105\n"
     ]
    }
   ],
   "source": [
    "SCA_tffi_SVM_precision = precision_score(svm_sca_y_test, SCA_tffi_SVM_pred)\n",
    "SCA_tffi_SVM_recall = recall_score(svm_sca_y_test, SCA_tffi_SVM_pred)\n",
    "SCA_tffi_SVM_f1 = f1_score(svm_sca_y_test, SCA_tffi_SVM_pred)\n",
    "SCA_tffi_SVM_accuracy = accuracy_score(svm_sca_y_test, SCA_tffi_SVM_pred)\n",
    "print(\"Measuring SVM wit TF*IDF :\\n\")\n",
    "print(\"Accuracy:\", SCA_tffi_SVM_accuracy)\n",
    "print(\"Recall:\", SCA_tffi_SVM_recall)\n",
    "print(\"Precision:\", SCA_tffi_SVM_precision)\n",
    "print(\"F1-score:\", SCA_tffi_SVM_f1)\n"
   ]
  }
 ],
 "metadata": {
  "language_info": {
   "name": "python"
  },
  "orig_nbformat": 4
 },
 "nbformat": 4,
 "nbformat_minor": 2
}
