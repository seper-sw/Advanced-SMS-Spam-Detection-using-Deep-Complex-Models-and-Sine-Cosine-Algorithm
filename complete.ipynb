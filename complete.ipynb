{
 "cells": [
  {
   "attachments": {},
   "cell_type": "markdown",
   "metadata": {},
   "source": [
    "<h1> __________________Sepehr Rezaei__________________ \n",
    "<h3> ________________________rsepehr746@gmail.com________________________ "
   ]
  },
  {
   "cell_type": "code",
   "execution_count": 1,
   "metadata": {},
   "outputs": [],
   "source": [
    "import pandas as pd\n",
    "from sklearn.metrics import confusion_matrix, ConfusionMatrixDisplay\n",
    "import matplotlib.pyplot as plt"
   ]
  },
  {
   "attachments": {},
   "cell_type": "markdown",
   "metadata": {},
   "source": [
    "<h1>load data"
   ]
  },
  {
   "cell_type": "code",
   "execution_count": 2,
   "metadata": {},
   "outputs": [
    {
     "data": {
      "text/html": [
       "<div>\n",
       "<style scoped>\n",
       "    .dataframe tbody tr th:only-of-type {\n",
       "        vertical-align: middle;\n",
       "    }\n",
       "\n",
       "    .dataframe tbody tr th {\n",
       "        vertical-align: top;\n",
       "    }\n",
       "\n",
       "    .dataframe thead th {\n",
       "        text-align: right;\n",
       "    }\n",
       "</style>\n",
       "<table border=\"1\" class=\"dataframe\">\n",
       "  <thead>\n",
       "    <tr style=\"text-align: right;\">\n",
       "      <th></th>\n",
       "      <th>v1</th>\n",
       "      <th>v2</th>\n",
       "      <th>Unnamed: 2</th>\n",
       "      <th>Unnamed: 3</th>\n",
       "      <th>Unnamed: 4</th>\n",
       "    </tr>\n",
       "  </thead>\n",
       "  <tbody>\n",
       "    <tr>\n",
       "      <th>0</th>\n",
       "      <td>ham</td>\n",
       "      <td>Go until jurong point, crazy.. Available only ...</td>\n",
       "      <td>NaN</td>\n",
       "      <td>NaN</td>\n",
       "      <td>NaN</td>\n",
       "    </tr>\n",
       "    <tr>\n",
       "      <th>1</th>\n",
       "      <td>ham</td>\n",
       "      <td>Ok lar... Joking wif u oni...</td>\n",
       "      <td>NaN</td>\n",
       "      <td>NaN</td>\n",
       "      <td>NaN</td>\n",
       "    </tr>\n",
       "    <tr>\n",
       "      <th>2</th>\n",
       "      <td>spam</td>\n",
       "      <td>Free entry in 2 a wkly comp to win FA Cup fina...</td>\n",
       "      <td>NaN</td>\n",
       "      <td>NaN</td>\n",
       "      <td>NaN</td>\n",
       "    </tr>\n",
       "    <tr>\n",
       "      <th>3</th>\n",
       "      <td>ham</td>\n",
       "      <td>U dun say so early hor... U c already then say...</td>\n",
       "      <td>NaN</td>\n",
       "      <td>NaN</td>\n",
       "      <td>NaN</td>\n",
       "    </tr>\n",
       "    <tr>\n",
       "      <th>4</th>\n",
       "      <td>ham</td>\n",
       "      <td>Nah I don't think he goes to usf, he lives aro...</td>\n",
       "      <td>NaN</td>\n",
       "      <td>NaN</td>\n",
       "      <td>NaN</td>\n",
       "    </tr>\n",
       "    <tr>\n",
       "      <th>5</th>\n",
       "      <td>spam</td>\n",
       "      <td>FreeMsg Hey there darling it's been 3 week's n...</td>\n",
       "      <td>NaN</td>\n",
       "      <td>NaN</td>\n",
       "      <td>NaN</td>\n",
       "    </tr>\n",
       "    <tr>\n",
       "      <th>6</th>\n",
       "      <td>ham</td>\n",
       "      <td>Even my brother is not like to speak with me. ...</td>\n",
       "      <td>NaN</td>\n",
       "      <td>NaN</td>\n",
       "      <td>NaN</td>\n",
       "    </tr>\n",
       "    <tr>\n",
       "      <th>7</th>\n",
       "      <td>ham</td>\n",
       "      <td>As per your request 'Melle Melle (Oru Minnamin...</td>\n",
       "      <td>NaN</td>\n",
       "      <td>NaN</td>\n",
       "      <td>NaN</td>\n",
       "    </tr>\n",
       "    <tr>\n",
       "      <th>8</th>\n",
       "      <td>spam</td>\n",
       "      <td>WINNER!! As a valued network customer you have...</td>\n",
       "      <td>NaN</td>\n",
       "      <td>NaN</td>\n",
       "      <td>NaN</td>\n",
       "    </tr>\n",
       "    <tr>\n",
       "      <th>9</th>\n",
       "      <td>spam</td>\n",
       "      <td>Had your mobile 11 months or more? U R entitle...</td>\n",
       "      <td>NaN</td>\n",
       "      <td>NaN</td>\n",
       "      <td>NaN</td>\n",
       "    </tr>\n",
       "  </tbody>\n",
       "</table>\n",
       "</div>"
      ],
      "text/plain": [
       "     v1                                                 v2 Unnamed: 2  \\\n",
       "0   ham  Go until jurong point, crazy.. Available only ...        NaN   \n",
       "1   ham                      Ok lar... Joking wif u oni...        NaN   \n",
       "2  spam  Free entry in 2 a wkly comp to win FA Cup fina...        NaN   \n",
       "3   ham  U dun say so early hor... U c already then say...        NaN   \n",
       "4   ham  Nah I don't think he goes to usf, he lives aro...        NaN   \n",
       "5  spam  FreeMsg Hey there darling it's been 3 week's n...        NaN   \n",
       "6   ham  Even my brother is not like to speak with me. ...        NaN   \n",
       "7   ham  As per your request 'Melle Melle (Oru Minnamin...        NaN   \n",
       "8  spam  WINNER!! As a valued network customer you have...        NaN   \n",
       "9  spam  Had your mobile 11 months or more? U R entitle...        NaN   \n",
       "\n",
       "  Unnamed: 3 Unnamed: 4  \n",
       "0        NaN        NaN  \n",
       "1        NaN        NaN  \n",
       "2        NaN        NaN  \n",
       "3        NaN        NaN  \n",
       "4        NaN        NaN  \n",
       "5        NaN        NaN  \n",
       "6        NaN        NaN  \n",
       "7        NaN        NaN  \n",
       "8        NaN        NaN  \n",
       "9        NaN        NaN  "
      ]
     },
     "execution_count": 2,
     "metadata": {},
     "output_type": "execute_result"
    }
   ],
   "source": [
    "text=pd.read_csv( 'spam.csv',encoding='ISO-8859-1')\n",
    "text.head(10)"
   ]
  },
  {
   "cell_type": "code",
   "execution_count": 3,
   "metadata": {},
   "outputs": [
    {
     "data": {
      "text/html": [
       "<div>\n",
       "<style scoped>\n",
       "    .dataframe tbody tr th:only-of-type {\n",
       "        vertical-align: middle;\n",
       "    }\n",
       "\n",
       "    .dataframe tbody tr th {\n",
       "        vertical-align: top;\n",
       "    }\n",
       "\n",
       "    .dataframe thead th {\n",
       "        text-align: right;\n",
       "    }\n",
       "</style>\n",
       "<table border=\"1\" class=\"dataframe\">\n",
       "  <thead>\n",
       "    <tr style=\"text-align: right;\">\n",
       "      <th></th>\n",
       "      <th>v1</th>\n",
       "      <th>v2</th>\n",
       "    </tr>\n",
       "  </thead>\n",
       "  <tbody>\n",
       "    <tr>\n",
       "      <th>0</th>\n",
       "      <td>ham</td>\n",
       "      <td>Go until jurong point, crazy.. Available only ...</td>\n",
       "    </tr>\n",
       "    <tr>\n",
       "      <th>1</th>\n",
       "      <td>ham</td>\n",
       "      <td>Ok lar... Joking wif u oni...</td>\n",
       "    </tr>\n",
       "    <tr>\n",
       "      <th>2</th>\n",
       "      <td>spam</td>\n",
       "      <td>Free entry in 2 a wkly comp to win FA Cup fina...</td>\n",
       "    </tr>\n",
       "    <tr>\n",
       "      <th>3</th>\n",
       "      <td>ham</td>\n",
       "      <td>U dun say so early hor... U c already then say...</td>\n",
       "    </tr>\n",
       "    <tr>\n",
       "      <th>4</th>\n",
       "      <td>ham</td>\n",
       "      <td>Nah I don't think he goes to usf, he lives aro...</td>\n",
       "    </tr>\n",
       "    <tr>\n",
       "      <th>5</th>\n",
       "      <td>spam</td>\n",
       "      <td>FreeMsg Hey there darling it's been 3 week's n...</td>\n",
       "    </tr>\n",
       "    <tr>\n",
       "      <th>6</th>\n",
       "      <td>ham</td>\n",
       "      <td>Even my brother is not like to speak with me. ...</td>\n",
       "    </tr>\n",
       "    <tr>\n",
       "      <th>7</th>\n",
       "      <td>ham</td>\n",
       "      <td>As per your request 'Melle Melle (Oru Minnamin...</td>\n",
       "    </tr>\n",
       "    <tr>\n",
       "      <th>8</th>\n",
       "      <td>spam</td>\n",
       "      <td>WINNER!! As a valued network customer you have...</td>\n",
       "    </tr>\n",
       "    <tr>\n",
       "      <th>9</th>\n",
       "      <td>spam</td>\n",
       "      <td>Had your mobile 11 months or more? U R entitle...</td>\n",
       "    </tr>\n",
       "  </tbody>\n",
       "</table>\n",
       "</div>"
      ],
      "text/plain": [
       "     v1                                                 v2\n",
       "0   ham  Go until jurong point, crazy.. Available only ...\n",
       "1   ham                      Ok lar... Joking wif u oni...\n",
       "2  spam  Free entry in 2 a wkly comp to win FA Cup fina...\n",
       "3   ham  U dun say so early hor... U c already then say...\n",
       "4   ham  Nah I don't think he goes to usf, he lives aro...\n",
       "5  spam  FreeMsg Hey there darling it's been 3 week's n...\n",
       "6   ham  Even my brother is not like to speak with me. ...\n",
       "7   ham  As per your request 'Melle Melle (Oru Minnamin...\n",
       "8  spam  WINNER!! As a valued network customer you have...\n",
       "9  spam  Had your mobile 11 months or more? U R entitle..."
      ]
     },
     "execution_count": 3,
     "metadata": {},
     "output_type": "execute_result"
    }
   ],
   "source": [
    "text.drop(['Unnamed: 2', 'Unnamed: 3','Unnamed: 4'], axis=1,inplace=True)\n",
    "# Verify the updated DataFrame\n",
    "text.head(10)"
   ]
  },
  {
   "attachments": {},
   "cell_type": "markdown",
   "metadata": {},
   "source": [
    "<h4>number of ham & spam sms "
   ]
  },
  {
   "cell_type": "code",
   "execution_count": 4,
   "metadata": {},
   "outputs": [
    {
     "data": {
      "text/plain": [
       "ham     4825\n",
       "spam     747\n",
       "Name: v1, dtype: int64"
      ]
     },
     "execution_count": 4,
     "metadata": {},
     "output_type": "execute_result"
    }
   ],
   "source": [
    "text['v1'].value_counts()"
   ]
  },
  {
   "attachments": {},
   "cell_type": "markdown",
   "metadata": {},
   "source": [
    "<h3>change ham to 0 and spam to 1"
   ]
  },
  {
   "cell_type": "code",
   "execution_count": 5,
   "metadata": {},
   "outputs": [
    {
     "data": {
      "text/html": [
       "<div>\n",
       "<style scoped>\n",
       "    .dataframe tbody tr th:only-of-type {\n",
       "        vertical-align: middle;\n",
       "    }\n",
       "\n",
       "    .dataframe tbody tr th {\n",
       "        vertical-align: top;\n",
       "    }\n",
       "\n",
       "    .dataframe thead th {\n",
       "        text-align: right;\n",
       "    }\n",
       "</style>\n",
       "<table border=\"1\" class=\"dataframe\">\n",
       "  <thead>\n",
       "    <tr style=\"text-align: right;\">\n",
       "      <th></th>\n",
       "      <th>v1</th>\n",
       "      <th>v2</th>\n",
       "    </tr>\n",
       "  </thead>\n",
       "  <tbody>\n",
       "    <tr>\n",
       "      <th>0</th>\n",
       "      <td>0</td>\n",
       "      <td>Go until jurong point, crazy.. Available only ...</td>\n",
       "    </tr>\n",
       "    <tr>\n",
       "      <th>1</th>\n",
       "      <td>0</td>\n",
       "      <td>Ok lar... Joking wif u oni...</td>\n",
       "    </tr>\n",
       "    <tr>\n",
       "      <th>2</th>\n",
       "      <td>1</td>\n",
       "      <td>Free entry in 2 a wkly comp to win FA Cup fina...</td>\n",
       "    </tr>\n",
       "    <tr>\n",
       "      <th>3</th>\n",
       "      <td>0</td>\n",
       "      <td>U dun say so early hor... U c already then say...</td>\n",
       "    </tr>\n",
       "    <tr>\n",
       "      <th>4</th>\n",
       "      <td>0</td>\n",
       "      <td>Nah I don't think he goes to usf, he lives aro...</td>\n",
       "    </tr>\n",
       "    <tr>\n",
       "      <th>5</th>\n",
       "      <td>1</td>\n",
       "      <td>FreeMsg Hey there darling it's been 3 week's n...</td>\n",
       "    </tr>\n",
       "    <tr>\n",
       "      <th>6</th>\n",
       "      <td>0</td>\n",
       "      <td>Even my brother is not like to speak with me. ...</td>\n",
       "    </tr>\n",
       "    <tr>\n",
       "      <th>7</th>\n",
       "      <td>0</td>\n",
       "      <td>As per your request 'Melle Melle (Oru Minnamin...</td>\n",
       "    </tr>\n",
       "    <tr>\n",
       "      <th>8</th>\n",
       "      <td>1</td>\n",
       "      <td>WINNER!! As a valued network customer you have...</td>\n",
       "    </tr>\n",
       "    <tr>\n",
       "      <th>9</th>\n",
       "      <td>1</td>\n",
       "      <td>Had your mobile 11 months or more? U R entitle...</td>\n",
       "    </tr>\n",
       "  </tbody>\n",
       "</table>\n",
       "</div>"
      ],
      "text/plain": [
       "   v1                                                 v2\n",
       "0   0  Go until jurong point, crazy.. Available only ...\n",
       "1   0                      Ok lar... Joking wif u oni...\n",
       "2   1  Free entry in 2 a wkly comp to win FA Cup fina...\n",
       "3   0  U dun say so early hor... U c already then say...\n",
       "4   0  Nah I don't think he goes to usf, he lives aro...\n",
       "5   1  FreeMsg Hey there darling it's been 3 week's n...\n",
       "6   0  Even my brother is not like to speak with me. ...\n",
       "7   0  As per your request 'Melle Melle (Oru Minnamin...\n",
       "8   1  WINNER!! As a valued network customer you have...\n",
       "9   1  Had your mobile 11 months or more? U R entitle..."
      ]
     },
     "execution_count": 5,
     "metadata": {},
     "output_type": "execute_result"
    }
   ],
   "source": [
    "text['v1'] = text['v1'].replace({'ham': 0, 'spam': 1})\n",
    "text.head(10)"
   ]
  },
  {
   "attachments": {},
   "cell_type": "markdown",
   "metadata": {},
   "source": [
    "<h2>Data Pre_Processing"
   ]
  },
  {
   "attachments": {},
   "cell_type": "markdown",
   "metadata": {},
   "source": [
    "<h4>make words to lowercase"
   ]
  },
  {
   "cell_type": "code",
   "execution_count": 6,
   "metadata": {},
   "outputs": [
    {
     "data": {
      "text/html": [
       "<div>\n",
       "<style scoped>\n",
       "    .dataframe tbody tr th:only-of-type {\n",
       "        vertical-align: middle;\n",
       "    }\n",
       "\n",
       "    .dataframe tbody tr th {\n",
       "        vertical-align: top;\n",
       "    }\n",
       "\n",
       "    .dataframe thead th {\n",
       "        text-align: right;\n",
       "    }\n",
       "</style>\n",
       "<table border=\"1\" class=\"dataframe\">\n",
       "  <thead>\n",
       "    <tr style=\"text-align: right;\">\n",
       "      <th></th>\n",
       "      <th>v1</th>\n",
       "      <th>v2</th>\n",
       "    </tr>\n",
       "  </thead>\n",
       "  <tbody>\n",
       "    <tr>\n",
       "      <th>0</th>\n",
       "      <td>0</td>\n",
       "      <td>go until jurong point, crazy.. available only ...</td>\n",
       "    </tr>\n",
       "    <tr>\n",
       "      <th>1</th>\n",
       "      <td>0</td>\n",
       "      <td>ok lar... joking wif u oni...</td>\n",
       "    </tr>\n",
       "    <tr>\n",
       "      <th>2</th>\n",
       "      <td>1</td>\n",
       "      <td>free entry in 2 a wkly comp to win fa cup fina...</td>\n",
       "    </tr>\n",
       "    <tr>\n",
       "      <th>3</th>\n",
       "      <td>0</td>\n",
       "      <td>u dun say so early hor... u c already then say...</td>\n",
       "    </tr>\n",
       "    <tr>\n",
       "      <th>4</th>\n",
       "      <td>0</td>\n",
       "      <td>nah i don't think he goes to usf, he lives aro...</td>\n",
       "    </tr>\n",
       "    <tr>\n",
       "      <th>5</th>\n",
       "      <td>1</td>\n",
       "      <td>freemsg hey there darling it's been 3 week's n...</td>\n",
       "    </tr>\n",
       "    <tr>\n",
       "      <th>6</th>\n",
       "      <td>0</td>\n",
       "      <td>even my brother is not like to speak with me. ...</td>\n",
       "    </tr>\n",
       "    <tr>\n",
       "      <th>7</th>\n",
       "      <td>0</td>\n",
       "      <td>as per your request 'melle melle (oru minnamin...</td>\n",
       "    </tr>\n",
       "    <tr>\n",
       "      <th>8</th>\n",
       "      <td>1</td>\n",
       "      <td>winner!! as a valued network customer you have...</td>\n",
       "    </tr>\n",
       "    <tr>\n",
       "      <th>9</th>\n",
       "      <td>1</td>\n",
       "      <td>had your mobile 11 months or more? u r entitle...</td>\n",
       "    </tr>\n",
       "  </tbody>\n",
       "</table>\n",
       "</div>"
      ],
      "text/plain": [
       "   v1                                                 v2\n",
       "0   0  go until jurong point, crazy.. available only ...\n",
       "1   0                      ok lar... joking wif u oni...\n",
       "2   1  free entry in 2 a wkly comp to win fa cup fina...\n",
       "3   0  u dun say so early hor... u c already then say...\n",
       "4   0  nah i don't think he goes to usf, he lives aro...\n",
       "5   1  freemsg hey there darling it's been 3 week's n...\n",
       "6   0  even my brother is not like to speak with me. ...\n",
       "7   0  as per your request 'melle melle (oru minnamin...\n",
       "8   1  winner!! as a valued network customer you have...\n",
       "9   1  had your mobile 11 months or more? u r entitle..."
      ]
     },
     "execution_count": 6,
     "metadata": {},
     "output_type": "execute_result"
    }
   ],
   "source": [
    "text['v2']=text['v2'].str.lower()\n",
    "text.head(10)"
   ]
  },
  {
   "attachments": {},
   "cell_type": "markdown",
   "metadata": {},
   "source": [
    "<h4>removing stop words"
   ]
  },
  {
   "cell_type": "code",
   "execution_count": 7,
   "metadata": {},
   "outputs": [],
   "source": [
    "from nltk.corpus import stopwords\n",
    "import nltk\n"
   ]
  },
  {
   "cell_type": "code",
   "execution_count": 8,
   "metadata": {},
   "outputs": [
    {
     "data": {
      "text/html": [
       "<div>\n",
       "<style scoped>\n",
       "    .dataframe tbody tr th:only-of-type {\n",
       "        vertical-align: middle;\n",
       "    }\n",
       "\n",
       "    .dataframe tbody tr th {\n",
       "        vertical-align: top;\n",
       "    }\n",
       "\n",
       "    .dataframe thead th {\n",
       "        text-align: right;\n",
       "    }\n",
       "</style>\n",
       "<table border=\"1\" class=\"dataframe\">\n",
       "  <thead>\n",
       "    <tr style=\"text-align: right;\">\n",
       "      <th></th>\n",
       "      <th>v1</th>\n",
       "      <th>v2</th>\n",
       "    </tr>\n",
       "  </thead>\n",
       "  <tbody>\n",
       "    <tr>\n",
       "      <th>0</th>\n",
       "      <td>0</td>\n",
       "      <td>go jurong point, crazy.. available bugis n gre...</td>\n",
       "    </tr>\n",
       "    <tr>\n",
       "      <th>1</th>\n",
       "      <td>0</td>\n",
       "      <td>ok lar... joking wif u oni...</td>\n",
       "    </tr>\n",
       "    <tr>\n",
       "      <th>2</th>\n",
       "      <td>1</td>\n",
       "      <td>free entry 2 wkly comp win fa cup final tkts 2...</td>\n",
       "    </tr>\n",
       "    <tr>\n",
       "      <th>3</th>\n",
       "      <td>0</td>\n",
       "      <td>u dun say early hor... u c already say...</td>\n",
       "    </tr>\n",
       "    <tr>\n",
       "      <th>4</th>\n",
       "      <td>0</td>\n",
       "      <td>nah think goes usf, lives around though</td>\n",
       "    </tr>\n",
       "    <tr>\n",
       "      <th>5</th>\n",
       "      <td>1</td>\n",
       "      <td>freemsg hey darling 3 week's word back! i'd li...</td>\n",
       "    </tr>\n",
       "    <tr>\n",
       "      <th>6</th>\n",
       "      <td>0</td>\n",
       "      <td>even brother like speak me. treat like aids pa...</td>\n",
       "    </tr>\n",
       "    <tr>\n",
       "      <th>7</th>\n",
       "      <td>0</td>\n",
       "      <td>per request 'melle melle (oru minnaminunginte ...</td>\n",
       "    </tr>\n",
       "    <tr>\n",
       "      <th>8</th>\n",
       "      <td>1</td>\n",
       "      <td>winner!! valued network customer selected rece...</td>\n",
       "    </tr>\n",
       "    <tr>\n",
       "      <th>9</th>\n",
       "      <td>1</td>\n",
       "      <td>mobile 11 months more? u r entitled update lat...</td>\n",
       "    </tr>\n",
       "  </tbody>\n",
       "</table>\n",
       "</div>"
      ],
      "text/plain": [
       "   v1                                                 v2\n",
       "0   0  go jurong point, crazy.. available bugis n gre...\n",
       "1   0                      ok lar... joking wif u oni...\n",
       "2   1  free entry 2 wkly comp win fa cup final tkts 2...\n",
       "3   0          u dun say early hor... u c already say...\n",
       "4   0            nah think goes usf, lives around though\n",
       "5   1  freemsg hey darling 3 week's word back! i'd li...\n",
       "6   0  even brother like speak me. treat like aids pa...\n",
       "7   0  per request 'melle melle (oru minnaminunginte ...\n",
       "8   1  winner!! valued network customer selected rece...\n",
       "9   1  mobile 11 months more? u r entitled update lat..."
      ]
     },
     "execution_count": 8,
     "metadata": {},
     "output_type": "execute_result"
    }
   ],
   "source": [
    "stopword=set(stopwords.words('english'))\n",
    "def remove_stopwords(text):\n",
    "    words = text.split()\n",
    "    words = [word for word in words if word.lower() not in stopword]\n",
    "    return ' '.join(words)\n",
    "# Apply the remove_stopwords function to the 'sms' column\n",
    "text['v2'] = text['v2'].apply(remove_stopwords)\n",
    "text.head(10)"
   ]
  },
  {
   "attachments": {},
   "cell_type": "markdown",
   "metadata": {},
   "source": [
    "<h4>Stemming with Porter stemmer "
   ]
  },
  {
   "cell_type": "code",
   "execution_count": 9,
   "metadata": {},
   "outputs": [],
   "source": [
    "from nltk.stem import porter\n",
    "Pstemmer = porter.PorterStemmer()"
   ]
  },
  {
   "cell_type": "code",
   "execution_count": 10,
   "metadata": {},
   "outputs": [
    {
     "data": {
      "text/html": [
       "<div>\n",
       "<style scoped>\n",
       "    .dataframe tbody tr th:only-of-type {\n",
       "        vertical-align: middle;\n",
       "    }\n",
       "\n",
       "    .dataframe tbody tr th {\n",
       "        vertical-align: top;\n",
       "    }\n",
       "\n",
       "    .dataframe thead th {\n",
       "        text-align: right;\n",
       "    }\n",
       "</style>\n",
       "<table border=\"1\" class=\"dataframe\">\n",
       "  <thead>\n",
       "    <tr style=\"text-align: right;\">\n",
       "      <th></th>\n",
       "      <th>v1</th>\n",
       "      <th>v2</th>\n",
       "    </tr>\n",
       "  </thead>\n",
       "  <tbody>\n",
       "    <tr>\n",
       "      <th>0</th>\n",
       "      <td>0</td>\n",
       "      <td>go jurong point, crazy.. available bugis n gre...</td>\n",
       "    </tr>\n",
       "    <tr>\n",
       "      <th>1</th>\n",
       "      <td>0</td>\n",
       "      <td>ok lar... joking wif u oni...</td>\n",
       "    </tr>\n",
       "    <tr>\n",
       "      <th>2</th>\n",
       "      <td>1</td>\n",
       "      <td>free entry 2 wkly comp win fa cup final tkts 2...</td>\n",
       "    </tr>\n",
       "    <tr>\n",
       "      <th>3</th>\n",
       "      <td>0</td>\n",
       "      <td>u dun say early hor... u c already say...</td>\n",
       "    </tr>\n",
       "    <tr>\n",
       "      <th>4</th>\n",
       "      <td>0</td>\n",
       "      <td>nah think goes usf, lives around though</td>\n",
       "    </tr>\n",
       "    <tr>\n",
       "      <th>5</th>\n",
       "      <td>1</td>\n",
       "      <td>freemsg hey darling 3 week's word back! i'd li...</td>\n",
       "    </tr>\n",
       "    <tr>\n",
       "      <th>6</th>\n",
       "      <td>0</td>\n",
       "      <td>even brother like speak me. treat like aids pa...</td>\n",
       "    </tr>\n",
       "    <tr>\n",
       "      <th>7</th>\n",
       "      <td>0</td>\n",
       "      <td>per request 'melle melle (oru minnaminunginte ...</td>\n",
       "    </tr>\n",
       "    <tr>\n",
       "      <th>8</th>\n",
       "      <td>1</td>\n",
       "      <td>winner!! valued network customer selected rece...</td>\n",
       "    </tr>\n",
       "    <tr>\n",
       "      <th>9</th>\n",
       "      <td>1</td>\n",
       "      <td>mobile 11 months more? u r entitled update lat...</td>\n",
       "    </tr>\n",
       "  </tbody>\n",
       "</table>\n",
       "</div>"
      ],
      "text/plain": [
       "   v1                                                 v2\n",
       "0   0  go jurong point, crazy.. available bugis n gre...\n",
       "1   0                      ok lar... joking wif u oni...\n",
       "2   1  free entry 2 wkly comp win fa cup final tkts 2...\n",
       "3   0          u dun say early hor... u c already say...\n",
       "4   0            nah think goes usf, lives around though\n",
       "5   1  freemsg hey darling 3 week's word back! i'd li...\n",
       "6   0  even brother like speak me. treat like aids pa...\n",
       "7   0  per request 'melle melle (oru minnaminunginte ...\n",
       "8   1  winner!! valued network customer selected rece...\n",
       "9   1  mobile 11 months more? u r entitled update lat..."
      ]
     },
     "execution_count": 10,
     "metadata": {},
     "output_type": "execute_result"
    }
   ],
   "source": [
    "text['v2'] = [Pstemmer.stem(word=wo) for wo in text['v2']]\n",
    "text.head(10)"
   ]
  },
  {
   "attachments": {},
   "cell_type": "markdown",
   "metadata": {},
   "source": [
    "<h2>Tokenization-TF*IDF"
   ]
  },
  {
   "cell_type": "code",
   "execution_count": 11,
   "metadata": {},
   "outputs": [],
   "source": [
    "from sklearn.feature_extraction.text import TfidfVectorizer"
   ]
  },
  {
   "cell_type": "code",
   "execution_count": 12,
   "metadata": {},
   "outputs": [
    {
     "data": {
      "text/plain": [
       "<5572x8820 sparse matrix of type '<class 'numpy.float64'>'\n",
       "\twith 50149 stored elements in Compressed Sparse Row format>"
      ]
     },
     "execution_count": 12,
     "metadata": {},
     "output_type": "execute_result"
    }
   ],
   "source": [
    "TFFi=TfidfVectorizer()\n",
    "tffi_tokenized_text=TFFi.fit_transform(text['v2'])\n",
    "tffi_tokenized_text\n"
   ]
  },
  {
   "attachments": {},
   "cell_type": "markdown",
   "metadata": {},
   "source": [
    "<h1>Bag of Word"
   ]
  },
  {
   "cell_type": "code",
   "execution_count": 13,
   "metadata": {},
   "outputs": [],
   "source": [
    "from sklearn.feature_extraction.text import CountVectorizer"
   ]
  },
  {
   "cell_type": "code",
   "execution_count": 14,
   "metadata": {},
   "outputs": [
    {
     "name": "stdout",
     "output_type": "stream",
     "text": [
      "[[0 0 0 ... 0 0 0]\n",
      " [0 0 0 ... 0 0 0]\n",
      " [0 0 0 ... 0 0 0]\n",
      " ...\n",
      " [0 0 0 ... 0 0 0]\n",
      " [0 0 0 ... 0 0 0]\n",
      " [0 0 0 ... 0 0 0]]\n"
     ]
    }
   ],
   "source": [
    "vectorizer = CountVectorizer()\n",
    "bow_model = vectorizer.fit_transform(text['v2'])\n",
    "bow_tokenized_text=bow_model.toarray()      # returns the rows and column number of cells which have 1 as value\n",
    "print(bow_tokenized_text)  "
   ]
  },
  {
   "cell_type": "code",
   "execution_count": 15,
   "metadata": {},
   "outputs": [
    {
     "data": {
      "text/plain": [
       "(5572, 8820)"
      ]
     },
     "execution_count": 15,
     "metadata": {},
     "output_type": "execute_result"
    }
   ],
   "source": [
    "bow_tokenized_text.shape"
   ]
  },
  {
   "attachments": {},
   "cell_type": "markdown",
   "metadata": {},
   "source": [
    "<h1>Split data to Train and test "
   ]
  },
  {
   "cell_type": "code",
   "execution_count": 16,
   "metadata": {},
   "outputs": [],
   "source": [
    "from sklearn.model_selection import train_test_split"
   ]
  },
  {
   "cell_type": "code",
   "execution_count": 17,
   "metadata": {},
   "outputs": [],
   "source": [
    "tffi_x_train,tffi_x_test,tffi_y_train,tffi_y_test=train_test_split(tffi_tokenized_text,text['v1'],random_state=42,shuffle=True,test_size=0.3,stratify=text['v1'])\n",
    "bow_x_train,bow_x_test,bow_y_train,bow_y_test=train_test_split(bow_tokenized_text,text['v1'],random_state=42,shuffle=True,test_size=0.3,stratify=text['v1'])"
   ]
  },
  {
   "attachments": {},
   "cell_type": "markdown",
   "metadata": {},
   "source": [
    "<h1>measures"
   ]
  },
  {
   "cell_type": "code",
   "execution_count": 18,
   "metadata": {},
   "outputs": [],
   "source": [
    "from sklearn.metrics import recall_score,accuracy_score,precision_score,f1_score"
   ]
  },
  {
   "attachments": {},
   "cell_type": "markdown",
   "metadata": {},
   "source": [
    "<h1>KNN"
   ]
  },
  {
   "cell_type": "code",
   "execution_count": 19,
   "metadata": {},
   "outputs": [],
   "source": [
    "from sklearn.neighbors import KNeighborsClassifier"
   ]
  },
  {
   "cell_type": "code",
   "execution_count": 20,
   "metadata": {},
   "outputs": [],
   "source": [
    "tffi_knn=KNeighborsClassifier(n_neighbors=13)\n"
   ]
  },
  {
   "cell_type": "code",
   "execution_count": 21,
   "metadata": {},
   "outputs": [],
   "source": [
    "bow_knn=KNeighborsClassifier(n_neighbors=13)"
   ]
  },
  {
   "attachments": {},
   "cell_type": "markdown",
   "metadata": {},
   "source": [
    "<h1>Random forest"
   ]
  },
  {
   "cell_type": "code",
   "execution_count": 22,
   "metadata": {},
   "outputs": [],
   "source": [
    "from sklearn.ensemble import RandomForestClassifier"
   ]
  },
  {
   "attachments": {},
   "cell_type": "markdown",
   "metadata": {},
   "source": [
    "<h5>Random forest with TF*IDF"
   ]
  },
  {
   "cell_type": "code",
   "execution_count": 23,
   "metadata": {},
   "outputs": [],
   "source": [
    "tffi_Random_F=RandomForestClassifier(n_estimators=31,criterion='gini')\n"
   ]
  },
  {
   "attachments": {},
   "cell_type": "markdown",
   "metadata": {},
   "source": [
    "<h5>Random_forest with BOW"
   ]
  },
  {
   "cell_type": "code",
   "execution_count": 24,
   "metadata": {},
   "outputs": [],
   "source": [
    "bow_Random_F=RandomForestClassifier(n_estimators=31,criterion='gini')\n"
   ]
  },
  {
   "attachments": {},
   "cell_type": "markdown",
   "metadata": {},
   "source": [
    "<h1>SVM"
   ]
  },
  {
   "cell_type": "code",
   "execution_count": 25,
   "metadata": {},
   "outputs": [],
   "source": [
    "from sklearn import svm"
   ]
  },
  {
   "attachments": {},
   "cell_type": "markdown",
   "metadata": {},
   "source": [
    "<h5>SVM with TF*IDF"
   ]
  },
  {
   "cell_type": "code",
   "execution_count": 26,
   "metadata": {},
   "outputs": [],
   "source": [
    "tffi_SVM=svm.SVC(kernel='rbf',C=10,gamma=0.1)\n"
   ]
  },
  {
   "attachments": {},
   "cell_type": "markdown",
   "metadata": {},
   "source": [
    "<h5>SVM with BOW"
   ]
  },
  {
   "cell_type": "code",
   "execution_count": 27,
   "metadata": {},
   "outputs": [],
   "source": [
    "bow_SVM=svm.SVC(kernel='rbf',C=10,gamma=0.1)\n"
   ]
  },
  {
   "cell_type": "markdown",
   "metadata": {},
   "source": [
    "<h1>Navie Bayse\n"
   ]
  },
  {
   "cell_type": "code",
   "execution_count": 28,
   "metadata": {},
   "outputs": [],
   "source": [
    "from sklearn.naive_bayes import GaussianNB\n",
    "gb_tf=GaussianNB()\n",
    "gb_bow=GaussianNB()"
   ]
  },
  {
   "attachments": {},
   "cell_type": "markdown",
   "metadata": {},
   "source": [
    "<h1> MLP"
   ]
  },
  {
   "cell_type": "code",
   "execution_count": 29,
   "metadata": {},
   "outputs": [],
   "source": [
    "from tensorflow import  keras\n",
    "from keras.models import Sequential\n",
    "from keras.layers import Dense\n",
    "from keras.optimizers import Adam\n",
    "import random\n",
    "import numpy as np"
   ]
  },
  {
   "attachments": {},
   "cell_type": "markdown",
   "metadata": {},
   "source": [
    "<h5>split TF*IDF data"
   ]
  },
  {
   "cell_type": "code",
   "execution_count": 30,
   "metadata": {},
   "outputs": [],
   "source": [
    "mlp_tf_x_train_full, mlp_tf_x_test, mlp_tf_y_train_full, mlp_tf_y_test = train_test_split(tffi_tokenized_text.toarray(),text['v1'],random_state=42,shuffle=True,test_size=0.1,stratify=text['v1'])\n",
    "mlp_tf_x_train,mlp_tf_x_valid, mlp_tf_y_train, mlp_tf_y_valid = train_test_split(mlp_tf_x_train_full, mlp_tf_y_train_full,test_size=0.1)\n"
   ]
  },
  {
   "attachments": {},
   "cell_type": "markdown",
   "metadata": {},
   "source": [
    "<h5>split BOW data"
   ]
  },
  {
   "cell_type": "code",
   "execution_count": 31,
   "metadata": {},
   "outputs": [],
   "source": [
    "mlp_bow_x_train_full, mlp_bow_x_test, mlp_bow_y_train_full, mlp_bow_y_test = train_test_split(bow_tokenized_text,text['v1'],random_state=42,shuffle=True,test_size=0.1,stratify=text['v1'])\n",
    "mlp_bow_x_train,mlp_bow_x_valid, mlp_bow_y_train, mlp_bow_y_valid = train_test_split(mlp_bow_x_train_full, mlp_bow_y_train_full,test_size=0.1)\n"
   ]
  },
  {
   "cell_type": "markdown",
   "metadata": {},
   "source": [
    "<h1>Voting betwen classifiers"
   ]
  },
  {
   "cell_type": "code",
   "execution_count": 32,
   "metadata": {},
   "outputs": [],
   "source": [
    "from sklearn.ensemble import VotingClassifier"
   ]
  },
  {
   "cell_type": "code",
   "execution_count": 33,
   "metadata": {},
   "outputs": [],
   "source": [
    "from sklearn.base import BaseEstimator, ClassifierMixin\n",
    "from keras.wrappers.scikit_learn import KerasClassifier\n",
    "class MLPClassifier(BaseEstimator, ClassifierMixin):\n",
    "    def __init__(self):\n",
    "        self.model = None\n",
    "\n",
    "    def fit(self, X, y):\n",
    "        self.model = Sequential()\n",
    "        self.model.add(Dense(200, activation='relu', input_shape=(X.shape[1],)))\n",
    "        self.model.add(Dense(1, activation='sigmoid'))\n",
    "        self.model.compile(optimizer=Adam(learning_rate=0.001), loss='binary_crossentropy', metrics=['accuracy'])\n",
    "        self.model.fit(X, y, epochs=10, batch_size=32)\n",
    "\n",
    "    def predict(self, X):\n",
    "        return np.squeeze((self.model.predict(X) > 0.5).astype(int))"
   ]
  },
  {
   "cell_type": "code",
   "execution_count": 34,
   "metadata": {},
   "outputs": [],
   "source": [
    "#votting betwen SVM and Random_f and KNN in tf-idf\n",
    "ensemble1 = VotingClassifier(estimators=[ ('SVM', tffi_SVM), ('RF', tffi_Random_F), ('knn', tffi_knn)], voting='hard')"
   ]
  },
  {
   "cell_type": "code",
   "execution_count": 35,
   "metadata": {},
   "outputs": [
    {
     "data": {
      "text/html": [
       "<style>#sk-container-id-1 {color: black;background-color: white;}#sk-container-id-1 pre{padding: 0;}#sk-container-id-1 div.sk-toggleable {background-color: white;}#sk-container-id-1 label.sk-toggleable__label {cursor: pointer;display: block;width: 100%;margin-bottom: 0;padding: 0.3em;box-sizing: border-box;text-align: center;}#sk-container-id-1 label.sk-toggleable__label-arrow:before {content: \"▸\";float: left;margin-right: 0.25em;color: #696969;}#sk-container-id-1 label.sk-toggleable__label-arrow:hover:before {color: black;}#sk-container-id-1 div.sk-estimator:hover label.sk-toggleable__label-arrow:before {color: black;}#sk-container-id-1 div.sk-toggleable__content {max-height: 0;max-width: 0;overflow: hidden;text-align: left;background-color: #f0f8ff;}#sk-container-id-1 div.sk-toggleable__content pre {margin: 0.2em;color: black;border-radius: 0.25em;background-color: #f0f8ff;}#sk-container-id-1 input.sk-toggleable__control:checked~div.sk-toggleable__content {max-height: 200px;max-width: 100%;overflow: auto;}#sk-container-id-1 input.sk-toggleable__control:checked~label.sk-toggleable__label-arrow:before {content: \"▾\";}#sk-container-id-1 div.sk-estimator input.sk-toggleable__control:checked~label.sk-toggleable__label {background-color: #d4ebff;}#sk-container-id-1 div.sk-label input.sk-toggleable__control:checked~label.sk-toggleable__label {background-color: #d4ebff;}#sk-container-id-1 input.sk-hidden--visually {border: 0;clip: rect(1px 1px 1px 1px);clip: rect(1px, 1px, 1px, 1px);height: 1px;margin: -1px;overflow: hidden;padding: 0;position: absolute;width: 1px;}#sk-container-id-1 div.sk-estimator {font-family: monospace;background-color: #f0f8ff;border: 1px dotted black;border-radius: 0.25em;box-sizing: border-box;margin-bottom: 0.5em;}#sk-container-id-1 div.sk-estimator:hover {background-color: #d4ebff;}#sk-container-id-1 div.sk-parallel-item::after {content: \"\";width: 100%;border-bottom: 1px solid gray;flex-grow: 1;}#sk-container-id-1 div.sk-label:hover label.sk-toggleable__label {background-color: #d4ebff;}#sk-container-id-1 div.sk-serial::before {content: \"\";position: absolute;border-left: 1px solid gray;box-sizing: border-box;top: 0;bottom: 0;left: 50%;z-index: 0;}#sk-container-id-1 div.sk-serial {display: flex;flex-direction: column;align-items: center;background-color: white;padding-right: 0.2em;padding-left: 0.2em;position: relative;}#sk-container-id-1 div.sk-item {position: relative;z-index: 1;}#sk-container-id-1 div.sk-parallel {display: flex;align-items: stretch;justify-content: center;background-color: white;position: relative;}#sk-container-id-1 div.sk-item::before, #sk-container-id-1 div.sk-parallel-item::before {content: \"\";position: absolute;border-left: 1px solid gray;box-sizing: border-box;top: 0;bottom: 0;left: 50%;z-index: -1;}#sk-container-id-1 div.sk-parallel-item {display: flex;flex-direction: column;z-index: 1;position: relative;background-color: white;}#sk-container-id-1 div.sk-parallel-item:first-child::after {align-self: flex-end;width: 50%;}#sk-container-id-1 div.sk-parallel-item:last-child::after {align-self: flex-start;width: 50%;}#sk-container-id-1 div.sk-parallel-item:only-child::after {width: 0;}#sk-container-id-1 div.sk-dashed-wrapped {border: 1px dashed gray;margin: 0 0.4em 0.5em 0.4em;box-sizing: border-box;padding-bottom: 0.4em;background-color: white;}#sk-container-id-1 div.sk-label label {font-family: monospace;font-weight: bold;display: inline-block;line-height: 1.2em;}#sk-container-id-1 div.sk-label-container {text-align: center;}#sk-container-id-1 div.sk-container {/* jupyter's `normalize.less` sets `[hidden] { display: none; }` but bootstrap.min.css set `[hidden] { display: none !important; }` so we also need the `!important` here to be able to override the default hidden behavior on the sphinx rendered scikit-learn.org. See: https://github.com/scikit-learn/scikit-learn/issues/21755 */display: inline-block !important;position: relative;}#sk-container-id-1 div.sk-text-repr-fallback {display: none;}</style><div id=\"sk-container-id-1\" class=\"sk-top-container\"><div class=\"sk-text-repr-fallback\"><pre>VotingClassifier(estimators=[(&#x27;SVM&#x27;, SVC(C=10, gamma=0.1)),\n",
       "                             (&#x27;RF&#x27;, RandomForestClassifier(n_estimators=31)),\n",
       "                             (&#x27;knn&#x27;, KNeighborsClassifier(n_neighbors=13))])</pre><b>In a Jupyter environment, please rerun this cell to show the HTML representation or trust the notebook. <br />On GitHub, the HTML representation is unable to render, please try loading this page with nbviewer.org.</b></div><div class=\"sk-container\" hidden><div class=\"sk-item sk-dashed-wrapped\"><div class=\"sk-label-container\"><div class=\"sk-label sk-toggleable\"><input class=\"sk-toggleable__control sk-hidden--visually\" id=\"sk-estimator-id-1\" type=\"checkbox\" ><label for=\"sk-estimator-id-1\" class=\"sk-toggleable__label sk-toggleable__label-arrow\">VotingClassifier</label><div class=\"sk-toggleable__content\"><pre>VotingClassifier(estimators=[(&#x27;SVM&#x27;, SVC(C=10, gamma=0.1)),\n",
       "                             (&#x27;RF&#x27;, RandomForestClassifier(n_estimators=31)),\n",
       "                             (&#x27;knn&#x27;, KNeighborsClassifier(n_neighbors=13))])</pre></div></div></div><div class=\"sk-parallel\"><div class=\"sk-parallel-item\"><div class=\"sk-item\"><div class=\"sk-label-container\"><div class=\"sk-label sk-toggleable\"><label>SVM</label></div></div><div class=\"sk-serial\"><div class=\"sk-item\"><div class=\"sk-estimator sk-toggleable\"><input class=\"sk-toggleable__control sk-hidden--visually\" id=\"sk-estimator-id-2\" type=\"checkbox\" ><label for=\"sk-estimator-id-2\" class=\"sk-toggleable__label sk-toggleable__label-arrow\">SVC</label><div class=\"sk-toggleable__content\"><pre>SVC(C=10, gamma=0.1)</pre></div></div></div></div></div></div><div class=\"sk-parallel-item\"><div class=\"sk-item\"><div class=\"sk-label-container\"><div class=\"sk-label sk-toggleable\"><label>RF</label></div></div><div class=\"sk-serial\"><div class=\"sk-item\"><div class=\"sk-estimator sk-toggleable\"><input class=\"sk-toggleable__control sk-hidden--visually\" id=\"sk-estimator-id-3\" type=\"checkbox\" ><label for=\"sk-estimator-id-3\" class=\"sk-toggleable__label sk-toggleable__label-arrow\">RandomForestClassifier</label><div class=\"sk-toggleable__content\"><pre>RandomForestClassifier(n_estimators=31)</pre></div></div></div></div></div></div><div class=\"sk-parallel-item\"><div class=\"sk-item\"><div class=\"sk-label-container\"><div class=\"sk-label sk-toggleable\"><label>knn</label></div></div><div class=\"sk-serial\"><div class=\"sk-item\"><div class=\"sk-estimator sk-toggleable\"><input class=\"sk-toggleable__control sk-hidden--visually\" id=\"sk-estimator-id-4\" type=\"checkbox\" ><label for=\"sk-estimator-id-4\" class=\"sk-toggleable__label sk-toggleable__label-arrow\">KNeighborsClassifier</label><div class=\"sk-toggleable__content\"><pre>KNeighborsClassifier(n_neighbors=13)</pre></div></div></div></div></div></div></div></div></div></div>"
      ],
      "text/plain": [
       "VotingClassifier(estimators=[('SVM', SVC(C=10, gamma=0.1)),\n",
       "                             ('RF', RandomForestClassifier(n_estimators=31)),\n",
       "                             ('knn', KNeighborsClassifier(n_neighbors=13))])"
      ]
     },
     "execution_count": 35,
     "metadata": {},
     "output_type": "execute_result"
    }
   ],
   "source": [
    "ensemble1.fit(tffi_x_train,tffi_y_train)"
   ]
  },
  {
   "cell_type": "code",
   "execution_count": 36,
   "metadata": {},
   "outputs": [],
   "source": [
    "ens_prd1=ensemble1.predict(tffi_x_test)"
   ]
  },
  {
   "cell_type": "code",
   "execution_count": 37,
   "metadata": {},
   "outputs": [
    {
     "name": "stdout",
     "output_type": "stream",
     "text": [
      "Accuracy: 0.9778708133971292\n",
      "Recall: 0.8348214285714286\n",
      "Precision: 1.0\n",
      "F1-score: 0.9099756690997567\n"
     ]
    }
   ],
   "source": [
    "ens1_precision = precision_score(y_true=tffi_y_test, y_pred=ens_prd1)\n",
    "ens1_recall = recall_score(y_true=tffi_y_test,y_pred= ens_prd1)\n",
    "ens1_f1 = f1_score(y_true=tffi_y_test, y_pred=ens_prd1)\n",
    "ens1_accuracy = accuracy_score(y_true=tffi_y_test, y_pred=ens_prd1)\n",
    "\n",
    "print(\"Accuracy:\", ens1_accuracy)\n",
    "print(\"Recall:\", ens1_recall)\n",
    "print(\"Precision:\", ens1_precision)\n",
    "print(\"F1-score:\", ens1_f1)"
   ]
  },
  {
   "cell_type": "markdown",
   "metadata": {},
   "source": [
    "<h3>votting with BOW"
   ]
  },
  {
   "cell_type": "code",
   "execution_count": 38,
   "metadata": {},
   "outputs": [],
   "source": [
    "ensemble4 = VotingClassifier(estimators=[ ('SVM', bow_SVM), ('RF', bow_Random_F), ('knn', bow_knn)], voting='hard')"
   ]
  },
  {
   "cell_type": "code",
   "execution_count": 39,
   "metadata": {},
   "outputs": [],
   "source": [
    "ensemble4.fit(X=bow_x_train,y=bow_y_train)\n",
    "ens_prd4=ensemble4.predict(bow_x_test)"
   ]
  },
  {
   "cell_type": "code",
   "execution_count": 40,
   "metadata": {},
   "outputs": [
    {
     "name": "stdout",
     "output_type": "stream",
     "text": [
      "Accuracy: 0.9736842105263158\n",
      "Recall: 0.8035714285714286\n",
      "Precision: 1.0\n",
      "F1-score: 0.8910891089108911\n"
     ]
    }
   ],
   "source": [
    "ens4_precision = precision_score(y_true=bow_y_test,y_pred=ens_prd4)\n",
    "ens4_recall = recall_score(y_true=bow_y_test, y_pred=ens_prd4)\n",
    "ens4_f1 = f1_score(y_true=bow_y_test, y_pred=ens_prd4)\n",
    "ens4_accuracy = accuracy_score(y_true=bow_y_test, y_pred=ens_prd4)\n",
    "\n",
    "print(\"Accuracy:\", ens4_accuracy)\n",
    "print(\"Recall:\", ens4_recall)\n",
    "print(\"Precision:\", ens4_precision)\n",
    "print(\"F1-score:\", ens4_f1)"
   ]
  },
  {
   "cell_type": "markdown",
   "metadata": {},
   "source": [
    "<h1>Bagging"
   ]
  },
  {
   "cell_type": "code",
   "execution_count": 41,
   "metadata": {},
   "outputs": [],
   "source": [
    "from sklearn.ensemble import BaggingClassifier"
   ]
  },
  {
   "cell_type": "markdown",
   "metadata": {},
   "source": [
    "<h3>Naive Bayes"
   ]
  },
  {
   "cell_type": "code",
   "execution_count": 42,
   "metadata": {},
   "outputs": [],
   "source": [
    "gb_tf_bag=BaggingClassifier(estimator=gb_tf,n_estimators=8,max_samples=0.4,bootstrap=True)\n",
    "gb_tf_bag.fit(X=tffi_x_train.toarray(),y=tffi_y_train)\n",
    "gb_tf_bag.score(X=tffi_x_test.toarray(),y=tffi_y_test)\n",
    "gb_tf_bag_pred=gb_tf_bag.predict(X=tffi_x_test.toarray())"
   ]
  },
  {
   "cell_type": "code",
   "execution_count": 43,
   "metadata": {},
   "outputs": [],
   "source": [
    "gb_bow_bag=BaggingClassifier(estimator=gb_bow,n_estimators=8,max_samples=0.4,bootstrap=True)\n",
    "gb_bow_bag.fit(X=bow_x_train,y=bow_y_train)\n",
    "gb_bow_bag.score(X=bow_x_test,y=bow_y_test)\n",
    "gb_bow_bag_pred=gb_bow_bag.predict(X=bow_x_test)"
   ]
  },
  {
   "cell_type": "code",
   "execution_count": 44,
   "metadata": {},
   "outputs": [
    {
     "name": "stdout",
     "output_type": "stream",
     "text": [
      "\n",
      "Measuring Naive Bayes wit tf_idf :\n",
      "\n",
      "Accuracy: 0.9336124401913876\n",
      "Recall: 0.8526785714285714\n",
      "Precision: 0.7100371747211895\n",
      "F1-score: 0.7748478701825557\n",
      "\n",
      "Measuring Naive Bayes wit BOW :\n",
      "\n",
      "Accuracy: 0.9324162679425837\n",
      "Recall: 0.8616071428571429\n",
      "Precision: 0.7018181818181818\n",
      "F1-score: 0.7735470941883767\n"
     ]
    }
   ],
   "source": [
    "gb_tf_bag_per=precision_score(y_true=tffi_y_test,y_pred=gb_tf_bag_pred)\n",
    "gb_tf_bag_f=f1_score(y_true=tffi_y_test,y_pred=gb_tf_bag_pred)\n",
    "gb_tf_bag_re=recall_score(y_true=tffi_y_test,y_pred=gb_tf_bag_pred)\n",
    "gb_tf_bag_ac=accuracy_score(y_true=tffi_y_test,y_pred=gb_tf_bag_pred)\n",
    "\n",
    "gb_bow_bag_per=precision_score(y_true=bow_y_test,y_pred=gb_bow_bag_pred)\n",
    "gb_bow_bag_f=f1_score(y_true=bow_y_test,y_pred=gb_bow_bag_pred)\n",
    "gb_bow_bag_re=recall_score(y_true=bow_y_test,y_pred=gb_bow_bag_pred)\n",
    "gb_bow_bag_ac=accuracy_score(y_true=bow_y_test,y_pred=gb_bow_bag_pred)\n",
    "\n",
    "print(\"\\nMeasuring Naive Bayes wit tf_idf :\\n\")\n",
    "print(\"Accuracy:\", gb_tf_bag_ac)\n",
    "print(\"Recall:\", gb_tf_bag_re)\n",
    "print(\"Precision:\", gb_tf_bag_per)\n",
    "print(\"F1-score:\", gb_tf_bag_f)\n",
    "\n",
    "print(\"\\nMeasuring Naive Bayes wit BOW :\\n\")\n",
    "print(\"Accuracy:\", gb_bow_bag_ac)\n",
    "print(\"Recall:\", gb_bow_bag_re)\n",
    "print(\"Precision:\", gb_bow_bag_per)\n",
    "print(\"F1-score:\", gb_bow_bag_f)"
   ]
  },
  {
   "attachments": {},
   "cell_type": "markdown",
   "metadata": {},
   "source": [
    "<h1>Dimention Reduction: using SCA Algorithm"
   ]
  },
  {
   "cell_type": "code",
   "execution_count": 45,
   "metadata": {},
   "outputs": [],
   "source": [
    "import numpy as np\n",
    "from sca import SCAFUN    "
   ]
  },
  {
   "attachments": {},
   "cell_type": "markdown",
   "metadata": {},
   "source": [
    "<h3>We have to scale data"
   ]
  },
  {
   "cell_type": "code",
   "execution_count": 46,
   "metadata": {},
   "outputs": [],
   "source": [
    "from sklearn.preprocessing import StandardScaler"
   ]
  },
  {
   "cell_type": "code",
   "execution_count": 47,
   "metadata": {},
   "outputs": [],
   "source": [
    "scaler2=StandardScaler()\n",
    "scaled_data=scaler2.fit_transform(tffi_tokenized_text.toarray())\n"
   ]
  },
  {
   "cell_type": "code",
   "execution_count": 48,
   "metadata": {},
   "outputs": [
    {
     "data": {
      "text/plain": [
       "(5572, 8820)"
      ]
     },
     "execution_count": 48,
     "metadata": {},
     "output_type": "execute_result"
    }
   ],
   "source": [
    "scaled_obj_data=scaled_data.astype(float)\n",
    "scaled_obj_label=text['v1'].astype(float)\n",
    "scaled_obj_data.shape"
   ]
  },
  {
   "attachments": {},
   "cell_type": "markdown",
   "metadata": {},
   "source": [
    "<h3>First extract TFIDF feature vectors with SCA on scaled data"
   ]
  },
  {
   "cell_type": "code",
   "execution_count": 49,
   "metadata": {},
   "outputs": [],
   "source": [
    "scaled_x_train_SCA, scaled_x_valid_SCA, scaled_y_train_SCA, scaled_y_valid_SCA = train_test_split(scaled_obj_data, scaled_obj_label, test_size=0.2, stratify=scaled_obj_label,shuffle=True)"
   ]
  },
  {
   "cell_type": "markdown",
   "metadata": {},
   "source": [
    "<h3>SCA by MLP"
   ]
  },
  {
   "cell_type": "code",
   "execution_count": 50,
   "metadata": {},
   "outputs": [],
   "source": [
    "fold = {'x_train':scaled_x_train_SCA, 'y_train':scaled_y_train_SCA, 'x_valid':scaled_x_valid_SCA, 'y_valid':scaled_y_valid_SCA}\n",
    "T    = 5   # maximum number of iterations\n",
    "opts = {'fold':fold, 'T':T,'alpha':0.1}"
   ]
  },
  {
   "cell_type": "code",
   "execution_count": 51,
   "metadata": {},
   "outputs": [
    {
     "name": "stdout",
     "output_type": "stream",
     "text": [
      "Epoch 1/10\n"
     ]
    },
    {
     "name": "stdout",
     "output_type": "stream",
     "text": [
      "140/140 [==============================] - 1s 3ms/step - loss: 0.6461\n",
      "Epoch 2/10\n",
      "140/140 [==============================] - 0s 3ms/step - loss: 0.3345\n",
      "Epoch 3/10\n",
      "140/140 [==============================] - 0s 3ms/step - loss: 0.1608\n",
      "Epoch 4/10\n",
      "140/140 [==============================] - 0s 2ms/step - loss: 0.0379\n",
      "Epoch 5/10\n",
      "140/140 [==============================] - 0s 3ms/step - loss: 0.0139\n",
      "Epoch 6/10\n",
      "140/140 [==============================] - 0s 2ms/step - loss: 0.0082\n",
      "Epoch 7/10\n",
      "140/140 [==============================] - 0s 2ms/step - loss: 0.0041\n",
      "Epoch 8/10\n",
      "140/140 [==============================] - 0s 2ms/step - loss: 0.0056\n",
      "Epoch 9/10\n",
      "140/140 [==============================] - 0s 2ms/step - loss: 0.0065\n",
      "Epoch 10/10\n",
      "140/140 [==============================] - 0s 2ms/step - loss: 0.0053\n",
      "35/35 [==============================] - 0s 1ms/step\n",
      "Epoch 1/10\n",
      "140/140 [==============================] - 1s 2ms/step - loss: 0.8941\n",
      "Epoch 2/10\n",
      "140/140 [==============================] - 0s 2ms/step - loss: 0.2981\n",
      "Epoch 3/10\n",
      "140/140 [==============================] - 0s 2ms/step - loss: 0.3154\n",
      "Epoch 4/10\n",
      "140/140 [==============================] - 0s 2ms/step - loss: 0.0408\n",
      "Epoch 5/10\n",
      "140/140 [==============================] - 0s 2ms/step - loss: 0.1054\n",
      "Epoch 6/10\n",
      "140/140 [==============================] - 0s 2ms/step - loss: 0.1683\n",
      "Epoch 7/10\n",
      "140/140 [==============================] - 0s 3ms/step - loss: 0.1174\n",
      "Epoch 8/10\n",
      "140/140 [==============================] - 0s 3ms/step - loss: 0.0505\n",
      "Epoch 9/10\n",
      "140/140 [==============================] - 0s 3ms/step - loss: 0.0179\n",
      "Epoch 10/10\n",
      "140/140 [==============================] - 0s 2ms/step - loss: 0.0102\n",
      "35/35 [==============================] - 0s 1ms/step\n",
      "Epoch 1/10\n",
      "140/140 [==============================] - 1s 3ms/step - loss: 0.6362\n",
      "Epoch 2/10\n",
      "140/140 [==============================] - 0s 2ms/step - loss: 0.1044\n",
      "Epoch 3/10\n",
      "140/140 [==============================] - 0s 2ms/step - loss: 0.2721\n",
      "Epoch 4/10\n",
      "140/140 [==============================] - 0s 2ms/step - loss: 0.4693\n",
      "Epoch 5/10\n",
      "140/140 [==============================] - 0s 2ms/step - loss: 0.2897\n",
      "Epoch 6/10\n",
      "140/140 [==============================] - 0s 3ms/step - loss: 0.0731\n",
      "Epoch 7/10\n",
      "140/140 [==============================] - 0s 3ms/step - loss: 0.0087\n",
      "Epoch 8/10\n",
      "140/140 [==============================] - 0s 2ms/step - loss: 0.0063\n",
      "Epoch 9/10\n",
      "140/140 [==============================] - 0s 2ms/step - loss: 0.0064\n",
      "Epoch 10/10\n",
      "140/140 [==============================] - 0s 2ms/step - loss: 0.0048\n",
      "35/35 [==============================] - 0s 1ms/step\n",
      "Epoch 1/10\n",
      "140/140 [==============================] - 1s 2ms/step - loss: 0.9821\n",
      "Epoch 2/10\n",
      "140/140 [==============================] - 0s 2ms/step - loss: 0.1753\n",
      "Epoch 3/10\n",
      "140/140 [==============================] - 0s 2ms/step - loss: 0.1899\n",
      "Epoch 4/10\n",
      "140/140 [==============================] - 0s 2ms/step - loss: 0.0272\n",
      "Epoch 5/10\n",
      "140/140 [==============================] - 0s 2ms/step - loss: 0.0818\n",
      "Epoch 6/10\n",
      "140/140 [==============================] - 0s 2ms/step - loss: 0.0720\n",
      "Epoch 7/10\n",
      "140/140 [==============================] - 0s 2ms/step - loss: 0.3109\n",
      "Epoch 8/10\n",
      "140/140 [==============================] - 0s 2ms/step - loss: 0.2720\n",
      "Epoch 9/10\n",
      "140/140 [==============================] - 0s 2ms/step - loss: 0.2793\n",
      "Epoch 10/10\n",
      "140/140 [==============================] - 0s 2ms/step - loss: 1.1746\n",
      "35/35 [==============================] - 0s 1ms/step\n",
      "Epoch 1/10\n",
      "140/140 [==============================] - 1s 2ms/step - loss: 0.6460\n",
      "Epoch 2/10\n",
      "140/140 [==============================] - 0s 2ms/step - loss: 0.0694\n",
      "Epoch 3/10\n",
      "140/140 [==============================] - 0s 2ms/step - loss: 0.0996\n",
      "Epoch 4/10\n",
      "140/140 [==============================] - 0s 2ms/step - loss: 0.1908\n",
      "Epoch 5/10\n",
      "140/140 [==============================] - 0s 2ms/step - loss: 0.0996\n",
      "Epoch 6/10\n",
      "140/140 [==============================] - 0s 2ms/step - loss: 0.0806\n",
      "Epoch 7/10\n",
      "140/140 [==============================] - 0s 2ms/step - loss: 0.0725\n",
      "Epoch 8/10\n",
      "140/140 [==============================] - 0s 2ms/step - loss: 0.6398\n",
      "Epoch 9/10\n",
      "140/140 [==============================] - 0s 2ms/step - loss: 0.9715\n",
      "Epoch 10/10\n",
      "140/140 [==============================] - 0s 2ms/step - loss: 0.2481\n",
      "35/35 [==============================] - 0s 1ms/step\n"
     ]
    }
   ],
   "source": [
    "SCA_output1 = SCAFUN(scaled_obj_data, scaled_obj_label, opts,'mlp')\n",
    "sf1   = SCA_output1['selected_features']"
   ]
  },
  {
   "attachments": {},
   "cell_type": "markdown",
   "metadata": {},
   "source": [
    "<h2>Size of selected features"
   ]
  },
  {
   "cell_type": "code",
   "execution_count": 52,
   "metadata": {},
   "outputs": [
    {
     "data": {
      "text/plain": [
       "4319"
      ]
     },
     "execution_count": 52,
     "metadata": {},
     "output_type": "execute_result"
    }
   ],
   "source": [
    "sf1.size"
   ]
  },
  {
   "attachments": {},
   "cell_type": "markdown",
   "metadata": {},
   "source": [
    "<h4>splite extracted scaled data"
   ]
  },
  {
   "cell_type": "code",
   "execution_count": 53,
   "metadata": {},
   "outputs": [],
   "source": [
    "sca_x_train,mlp_sca_x_test,sca_y_train,mlp_sca_y_test=train_test_split(scaled_obj_data[:,sf1],scaled_obj_label,test_size=0.3,stratify=scaled_obj_label,shuffle=True)\n"
   ]
  },
  {
   "cell_type": "code",
   "execution_count": 54,
   "metadata": {},
   "outputs": [],
   "source": [
    "mlp_sca_x_train,mlp_sca_x_valid, mlp_sca_y_train, mlp_sca_y_valid = train_test_split(sca_x_train, sca_y_train,test_size=0.2,shuffle=True)"
   ]
  },
  {
   "cell_type": "markdown",
   "metadata": {},
   "source": [
    "<h1>Make mlp with SCA features"
   ]
  },
  {
   "cell_type": "code",
   "execution_count": 55,
   "metadata": {},
   "outputs": [
    {
     "name": "stdout",
     "output_type": "stream",
     "text": [
      "Epoch 1/10\n"
     ]
    },
    {
     "name": "stdout",
     "output_type": "stream",
     "text": [
      "98/98 [==============================] - 1s 6ms/step - loss: 2.4320 - accuracy: 0.7663 - val_loss: 0.7497 - val_accuracy: 0.8526\n",
      "Epoch 2/10\n",
      "98/98 [==============================] - 0s 3ms/step - loss: 0.1904 - accuracy: 0.9526 - val_loss: 0.0979 - val_accuracy: 0.9590\n",
      "Epoch 3/10\n",
      "98/98 [==============================] - 0s 4ms/step - loss: 0.0341 - accuracy: 0.9849 - val_loss: 0.0859 - val_accuracy: 0.9667\n",
      "Epoch 4/10\n",
      "98/98 [==============================] - 0s 3ms/step - loss: 0.0251 - accuracy: 0.9881 - val_loss: 0.0844 - val_accuracy: 0.9692\n",
      "Epoch 5/10\n",
      "98/98 [==============================] - 0s 3ms/step - loss: 0.0208 - accuracy: 0.9894 - val_loss: 0.0840 - val_accuracy: 0.9705\n",
      "Epoch 6/10\n",
      "98/98 [==============================] - 0s 3ms/step - loss: 0.0181 - accuracy: 0.9901 - val_loss: 0.0845 - val_accuracy: 0.9705\n",
      "Epoch 7/10\n",
      "98/98 [==============================] - 0s 3ms/step - loss: 0.0163 - accuracy: 0.9904 - val_loss: 0.0865 - val_accuracy: 0.9679\n",
      "Epoch 8/10\n",
      "98/98 [==============================] - 0s 3ms/step - loss: 0.0149 - accuracy: 0.9933 - val_loss: 0.0937 - val_accuracy: 0.9692\n",
      "Epoch 9/10\n",
      "98/98 [==============================] - 0s 3ms/step - loss: 0.0138 - accuracy: 0.9978 - val_loss: 0.0970 - val_accuracy: 0.9679\n",
      "Epoch 10/10\n",
      "98/98 [==============================] - 0s 3ms/step - loss: 0.0130 - accuracy: 0.9965 - val_loss: 0.1003 - val_accuracy: 0.9667\n",
      "53/53 [==============================] - 0s 2ms/step - loss: 0.1681 - accuracy: 0.9563\n",
      "Test loss: 0.16807278990745544\n",
      "Test accuracy: 0.9563397169113159\n"
     ]
    }
   ],
   "source": [
    "model5 = Sequential()\n",
    "model5.add(Dense(200, activation='relu', input_shape=(mlp_sca_x_train.shape[1],)))\n",
    "model5.add(Dense(1, activation='sigmoid'))\n",
    "\n",
    "# Compile the model \n",
    "model5.compile(optimizer=Adam(learning_rate=0.001), loss='binary_crossentropy', metrics=['accuracy'])\n",
    "# Training the model\n",
    "history5 = model5.fit(mlp_sca_x_train, mlp_sca_y_train, validation_data=(mlp_sca_x_valid, mlp_sca_y_valid), epochs=10, batch_size=32)\n",
    "# Evaluate the model\n",
    "score5 = model5.evaluate(mlp_sca_x_test, mlp_sca_y_test)\n",
    "print('Test loss:', score5[0])\n",
    "print('Test accuracy:', score5[1])"
   ]
  },
  {
   "cell_type": "markdown",
   "metadata": {},
   "source": [
    "<h4>evalute model"
   ]
  },
  {
   "cell_type": "code",
   "execution_count": 56,
   "metadata": {},
   "outputs": [
    {
     "name": "stdout",
     "output_type": "stream",
     "text": [
      " 1/53 [..............................] - ETA: 2s"
     ]
    },
    {
     "name": "stdout",
     "output_type": "stream",
     "text": [
      "53/53 [==============================] - 0s 2ms/step\n",
      "Accuracy: 0.9563397129186603\n",
      "Recall: 0.8794642857142857\n",
      "Precision: 0.8106995884773662\n",
      "F1-score: 0.8436830835117772\n"
     ]
    }
   ],
   "source": [
    "y_pred_prob5 = model5.predict(mlp_sca_x_test)\n",
    "\n",
    "# Converting probabilities to class labels based on a threshold (e.g., 0.5)\n",
    "y_pred5 = (y_pred_prob5 >= 0.5).astype(int)\n",
    "\n",
    "# Calculating precision, recall, F1-score, and accuracy\n",
    "precision5 = precision_score(mlp_sca_y_test, y_pred5)\n",
    "recall5 = recall_score(mlp_sca_y_test, y_pred5)\n",
    "f15 = f1_score(mlp_sca_y_test, y_pred5)\n",
    "accuracy5 = accuracy_score(mlp_sca_y_test, y_pred5)\n",
    "\n",
    "print(\"Accuracy:\", accuracy5)\n",
    "print(\"Recall:\", recall5)\n",
    "print(\"Precision:\", precision5)\n",
    "print(\"F1-score:\", f15)"
   ]
  },
  {
   "cell_type": "markdown",
   "metadata": {},
   "source": [
    "<h1>KNN with SCA"
   ]
  },
  {
   "cell_type": "code",
   "execution_count": 57,
   "metadata": {},
   "outputs": [
    {
     "data": {
      "text/plain": [
       "0.8672248803827751"
      ]
     },
     "execution_count": 57,
     "metadata": {},
     "output_type": "execute_result"
    }
   ],
   "source": [
    "SCA_tffi_knn=KNeighborsClassifier(n_neighbors=13)\n",
    "SCA_tffi_knn.fit(X=sca_x_train,y=sca_y_train)\n",
    "SCA_tffi_bow_pred=SCA_tffi_knn.predict(X=mlp_sca_x_test)\n",
    "SCA_tffi_knn.score(X=mlp_sca_x_test,y=mlp_sca_y_test)"
   ]
  },
  {
   "cell_type": "code",
   "execution_count": 58,
   "metadata": {},
   "outputs": [
    {
     "name": "stdout",
     "output_type": "stream",
     "text": [
      "\n",
      "\n",
      "Measuring knn wit tffi SCA :\n",
      "\n",
      "Accuracy: 0.8672248803827751\n",
      "Recall: 0.008928571428571428\n",
      "Precision: 1.0\n",
      "F1-score: 0.017699115044247787\n"
     ]
    }
   ],
   "source": [
    "\n",
    "SCA_knn_tffi_precision = precision_score(y_true=mlp_sca_y_test, y_pred=SCA_tffi_bow_pred)\n",
    "SCA_knn_tffi_recall = recall_score(y_true=mlp_sca_y_test, y_pred=SCA_tffi_bow_pred)\n",
    "SCA_knn_tffi_f1 = f1_score(y_true=mlp_sca_y_test, y_pred=SCA_tffi_bow_pred)\n",
    "SCA_knn_tffi_accuracy = accuracy_score(y_true=mlp_sca_y_test,y_pred= SCA_tffi_bow_pred)\n",
    "print(\"\\n\\nMeasuring knn wit tffi SCA :\\n\")\n",
    "print(\"Accuracy:\", SCA_knn_tffi_accuracy)\n",
    "print(\"Recall:\", SCA_knn_tffi_recall)\n",
    "print(\"Precision:\", SCA_knn_tffi_precision)\n",
    "print(\"F1-score:\", SCA_knn_tffi_f1)"
   ]
  },
  {
   "cell_type": "markdown",
   "metadata": {},
   "source": [
    "<h1>Naive Bayes SCA\n"
   ]
  },
  {
   "cell_type": "code",
   "execution_count": 59,
   "metadata": {},
   "outputs": [
    {
     "data": {
      "text/plain": [
       "0.7212918660287081"
      ]
     },
     "execution_count": 59,
     "metadata": {},
     "output_type": "execute_result"
    }
   ],
   "source": [
    "gb_tf_SCA=GaussianNB()\n",
    "gb_tf_SCA.fit(X=sca_x_train,y=sca_y_train)\n",
    "gb_tf_SCA_pred=gb_tf_SCA.predict(X=mlp_sca_x_test)\n",
    "gb_tf_SCA.score(X=mlp_sca_x_test,y=mlp_sca_y_test)\n"
   ]
  },
  {
   "cell_type": "code",
   "execution_count": 60,
   "metadata": {},
   "outputs": [
    {
     "name": "stdout",
     "output_type": "stream",
     "text": [
      "\n",
      "Measuring Naive Bayes SCA  tf_idf :\n",
      "\n",
      "Accuracy: 0.7212918660287081\n",
      "Recall: 0.8839285714285714\n",
      "Precision: 0.3103448275862069\n",
      "F1-score: 0.4593967517401393\n"
     ]
    }
   ],
   "source": [
    "gb_tf_SCA_per=precision_score(y_true=mlp_sca_y_test,y_pred=gb_tf_SCA_pred)\n",
    "gb_tf_SCA_f=f1_score(y_true=mlp_sca_y_test,y_pred=gb_tf_SCA_pred)\n",
    "gb_tf_SCA_re=recall_score(y_true=mlp_sca_y_test,y_pred=gb_tf_SCA_pred)\n",
    "gb_tf_SCA_ac=accuracy_score(y_true=mlp_sca_y_test,y_pred=gb_tf_SCA_pred)\n",
    "\n",
    "\n",
    "\n",
    "print(\"\\nMeasuring Naive Bayes SCA  tf_idf :\\n\")\n",
    "print(\"Accuracy:\", gb_tf_SCA_ac)\n",
    "print(\"Recall:\", gb_tf_SCA_re)\n",
    "print(\"Precision:\", gb_tf_SCA_per)\n",
    "print(\"F1-score:\", gb_tf_SCA_f)\n",
    "\n"
   ]
  },
  {
   "cell_type": "markdown",
   "metadata": {},
   "source": [
    "<h1>Random forest with SCA"
   ]
  },
  {
   "cell_type": "code",
   "execution_count": 61,
   "metadata": {},
   "outputs": [
    {
     "data": {
      "text/plain": [
       "0.9766746411483254"
      ]
     },
     "execution_count": 61,
     "metadata": {},
     "output_type": "execute_result"
    }
   ],
   "source": [
    "SCA_tffi_Random_F=RandomForestClassifier(n_estimators=31,criterion='gini')\n",
    "SCA_tffi_Random_F.fit(sca_x_train,sca_y_train)\n",
    "SCA_tffi_Randmon_F_pred=SCA_tffi_Random_F.predict(X=mlp_sca_x_test)\n",
    "SCA_tffi_Random_F.score(X=mlp_sca_x_test,y=mlp_sca_y_test)"
   ]
  },
  {
   "cell_type": "code",
   "execution_count": 62,
   "metadata": {},
   "outputs": [
    {
     "name": "stdout",
     "output_type": "stream",
     "text": [
      "Measuring Random forest wit TF*IDF :\n",
      "\n",
      "Accuracy: 0.9766746411483254\n",
      "Recall: 0.8392857142857143\n",
      "Precision: 0.9842931937172775\n",
      "F1-score: 0.9060240963855423\n"
     ]
    }
   ],
   "source": [
    "SCA_tffi_Random_F_precision = precision_score(y_true=mlp_sca_y_test, y_pred=SCA_tffi_Randmon_F_pred)\n",
    "SCA_tffi_Random_F_recall = recall_score(y_true=mlp_sca_y_test, y_pred=SCA_tffi_Randmon_F_pred)\n",
    "SCA_tffi_Random_F_f1 = f1_score(y_true=mlp_sca_y_test, y_pred=SCA_tffi_Randmon_F_pred)\n",
    "SCA_tffi_Random_F_accuracy = accuracy_score(y_true=mlp_sca_y_test, y_pred=SCA_tffi_Randmon_F_pred)\n",
    "print(\"Measuring Random forest wit TF*IDF :\\n\")\n",
    "print(\"Accuracy:\", SCA_tffi_Random_F_accuracy)\n",
    "print(\"Recall:\", SCA_tffi_Random_F_recall)\n",
    "print(\"Precision:\", SCA_tffi_Random_F_precision)\n",
    "print(\"F1-score:\", SCA_tffi_Random_F_f1)"
   ]
  },
  {
   "cell_type": "markdown",
   "metadata": {},
   "source": [
    "<h1>SCA SVM"
   ]
  },
  {
   "cell_type": "code",
   "execution_count": 63,
   "metadata": {},
   "outputs": [
    {
     "data": {
      "text/plain": [
       "0.9007177033492823"
      ]
     },
     "execution_count": 63,
     "metadata": {},
     "output_type": "execute_result"
    }
   ],
   "source": [
    "SCA_tffi_SVM=svm.SVC(kernel='rbf',C=10,gamma=0.1)\n",
    "SCA_tffi_SVM.fit(X=sca_x_train,y=sca_y_train)\n",
    "SCA_tffi_SVM_pred=SCA_tffi_SVM.predict(X=mlp_sca_x_test)\n",
    "SCA_tffi_SVM.score(X=mlp_sca_x_test,y=mlp_sca_y_test)"
   ]
  },
  {
   "cell_type": "code",
   "execution_count": 64,
   "metadata": {},
   "outputs": [
    {
     "name": "stdout",
     "output_type": "stream",
     "text": [
      "\n",
      "\n",
      "Measuring SVM wit tf_idf :\n",
      "\n",
      "Accuracy: 0.9007177033492823\n",
      "Recall: 0.25892857142857145\n",
      "Precision: 1.0\n",
      "F1-score: 0.4113475177304965\n"
     ]
    }
   ],
   "source": [
    "\n",
    "SCA_tffi_SVM_precision = precision_score(y_true=mlp_sca_y_test, y_pred=SCA_tffi_SVM_pred)\n",
    "SCA_tffi_SVM_recall = recall_score(y_true=mlp_sca_y_test, y_pred=SCA_tffi_SVM_pred)\n",
    "SCA_tffi_SVM_f1 = f1_score(y_true=mlp_sca_y_test, y_pred=SCA_tffi_SVM_pred)\n",
    "SCA_tffi_SVM_accuracy = accuracy_score(y_true=mlp_sca_y_test, y_pred=SCA_tffi_SVM_pred)\n",
    "print(\"\\n\\nMeasuring SVM wit tf_idf :\\n\")\n",
    "print(\"Accuracy:\", SCA_tffi_SVM_accuracy)\n",
    "print(\"Recall:\", SCA_tffi_SVM_recall)\n",
    "print(\"Precision:\", SCA_tffi_SVM_precision)\n",
    "print(\"F1-score:\", SCA_tffi_SVM_f1)"
   ]
  },
  {
   "attachments": {},
   "cell_type": "markdown",
   "metadata": {},
   "source": [
    "<h1>Now extract BOW feature vectors with SCA "
   ]
  },
  {
   "cell_type": "code",
   "execution_count": 65,
   "metadata": {},
   "outputs": [
    {
     "data": {
      "text/plain": [
       "(5572, 8820)"
      ]
     },
     "execution_count": 65,
     "metadata": {},
     "output_type": "execute_result"
    }
   ],
   "source": [
    "bow_obj_data=bow_tokenized_text.astype(float)\n",
    "bow_obj_label=text['v1'].astype(float)\n",
    "bow_obj_data.shape"
   ]
  },
  {
   "attachments": {},
   "cell_type": "markdown",
   "metadata": {},
   "source": [
    "split data to train and test"
   ]
  },
  {
   "cell_type": "code",
   "execution_count": 66,
   "metadata": {},
   "outputs": [],
   "source": [
    "bow_x_train, bow_x_valid, bow_y_train, bow_y_valid = train_test_split(bow_obj_data, bow_obj_label, test_size=0.2, stratify=bow_obj_label)"
   ]
  },
  {
   "cell_type": "code",
   "execution_count": 67,
   "metadata": {},
   "outputs": [],
   "source": [
    "fold = {'x_train':bow_x_train, 'y_train':bow_y_train, 'x_valid':bow_x_valid, 'y_valid':bow_y_valid}\n",
    "T    = 5   # maximum number of iterations\n",
    "opts = {'fold':fold, 'T':T,'alpha':0.1}"
   ]
  },
  {
   "cell_type": "code",
   "execution_count": 68,
   "metadata": {},
   "outputs": [
    {
     "name": "stdout",
     "output_type": "stream",
     "text": [
      "Epoch 1/10\n",
      "140/140 [==============================] - 1s 3ms/step - loss: 0.1332\n",
      "Epoch 2/10\n",
      "140/140 [==============================] - 0s 3ms/step - loss: 0.0183\n",
      "Epoch 3/10\n",
      "140/140 [==============================] - 0s 3ms/step - loss: 0.0067\n",
      "Epoch 4/10\n",
      "140/140 [==============================] - 0s 2ms/step - loss: 0.0038\n",
      "Epoch 5/10\n",
      "140/140 [==============================] - 0s 2ms/step - loss: 0.0039\n",
      "Epoch 6/10\n",
      "140/140 [==============================] - 0s 2ms/step - loss: 0.0028\n",
      "Epoch 7/10\n",
      "140/140 [==============================] - 0s 2ms/step - loss: 0.0028\n",
      "Epoch 8/10\n",
      "140/140 [==============================] - 0s 2ms/step - loss: 0.0028\n",
      "Epoch 9/10\n",
      "140/140 [==============================] - 0s 2ms/step - loss: 0.0027\n",
      "Epoch 10/10\n",
      "140/140 [==============================] - 0s 3ms/step - loss: 0.0028\n",
      "35/35 [==============================] - 0s 1ms/step\n",
      "Epoch 1/10\n",
      "140/140 [==============================] - 1s 2ms/step - loss: 0.1352\n",
      "Epoch 2/10\n",
      "140/140 [==============================] - 0s 2ms/step - loss: 0.0194\n",
      "Epoch 3/10\n",
      "140/140 [==============================] - 0s 2ms/step - loss: 0.0067\n",
      "Epoch 4/10\n",
      "140/140 [==============================] - 0s 2ms/step - loss: 0.0046\n",
      "Epoch 5/10\n",
      "140/140 [==============================] - 0s 2ms/step - loss: 0.0034\n",
      "Epoch 6/10\n",
      "140/140 [==============================] - 0s 2ms/step - loss: 0.0030\n",
      "Epoch 7/10\n",
      "140/140 [==============================] - 0s 2ms/step - loss: 0.0030\n",
      "Epoch 8/10\n",
      "140/140 [==============================] - 0s 2ms/step - loss: 0.0029\n",
      "Epoch 9/10\n",
      "140/140 [==============================] - 0s 2ms/step - loss: 0.0029\n",
      "Epoch 10/10\n",
      "140/140 [==============================] - 0s 2ms/step - loss: 0.0022\n",
      "35/35 [==============================] - 0s 1ms/step\n",
      "Epoch 1/10\n",
      "140/140 [==============================] - 1s 2ms/step - loss: 0.1381\n",
      "Epoch 2/10\n",
      "140/140 [==============================] - 0s 2ms/step - loss: 0.0206\n",
      "Epoch 3/10\n",
      "140/140 [==============================] - 0s 2ms/step - loss: 0.0076\n",
      "Epoch 4/10\n",
      "140/140 [==============================] - 0s 2ms/step - loss: 0.0056\n",
      "Epoch 5/10\n",
      "140/140 [==============================] - 0s 2ms/step - loss: 0.0037\n",
      "Epoch 6/10\n",
      "140/140 [==============================] - 0s 2ms/step - loss: 0.0033\n",
      "Epoch 7/10\n",
      "140/140 [==============================] - 0s 2ms/step - loss: 0.0028\n",
      "Epoch 8/10\n",
      "140/140 [==============================] - 0s 2ms/step - loss: 0.0022\n",
      "Epoch 9/10\n",
      "140/140 [==============================] - 0s 2ms/step - loss: 0.0027\n",
      "Epoch 10/10\n",
      "140/140 [==============================] - 0s 2ms/step - loss: 0.0027\n",
      "35/35 [==============================] - 0s 1ms/step\n",
      "Epoch 1/10\n",
      "140/140 [==============================] - 1s 2ms/step - loss: 0.1287\n",
      "Epoch 2/10\n",
      "140/140 [==============================] - 0s 2ms/step - loss: 0.0217\n",
      "Epoch 3/10\n",
      "140/140 [==============================] - 0s 2ms/step - loss: 0.0082\n",
      "Epoch 4/10\n",
      "140/140 [==============================] - 0s 2ms/step - loss: 0.0054\n",
      "Epoch 5/10\n",
      "140/140 [==============================] - 0s 2ms/step - loss: 0.0046\n",
      "Epoch 6/10\n",
      "140/140 [==============================] - 0s 2ms/step - loss: 0.0034\n",
      "Epoch 7/10\n",
      "140/140 [==============================] - 0s 2ms/step - loss: 0.0029\n",
      "Epoch 8/10\n",
      "140/140 [==============================] - 0s 2ms/step - loss: 0.0027\n",
      "Epoch 9/10\n",
      "140/140 [==============================] - 0s 2ms/step - loss: 0.0022\n",
      "Epoch 10/10\n",
      "140/140 [==============================] - 0s 2ms/step - loss: 0.0026\n",
      "35/35 [==============================] - 0s 1ms/step\n",
      "Epoch 1/10\n",
      "140/140 [==============================] - 1s 2ms/step - loss: 0.1417\n",
      "Epoch 2/10\n",
      "140/140 [==============================] - 0s 2ms/step - loss: 0.0222\n",
      "Epoch 3/10\n",
      "140/140 [==============================] - 0s 2ms/step - loss: 0.0076\n",
      "Epoch 4/10\n",
      "140/140 [==============================] - 0s 2ms/step - loss: 0.0052\n",
      "Epoch 5/10\n",
      "140/140 [==============================] - 0s 3ms/step - loss: 0.0039\n",
      "Epoch 6/10\n",
      "140/140 [==============================] - 0s 2ms/step - loss: 0.0030\n",
      "Epoch 7/10\n",
      "140/140 [==============================] - 0s 2ms/step - loss: 0.0031\n",
      "Epoch 8/10\n",
      "140/140 [==============================] - 0s 2ms/step - loss: 0.0029\n",
      "Epoch 9/10\n",
      "140/140 [==============================] - 0s 2ms/step - loss: 0.0028\n",
      "Epoch 10/10\n",
      "140/140 [==============================] - 0s 2ms/step - loss: 0.0023\n",
      "35/35 [==============================] - 0s 1ms/step\n"
     ]
    }
   ],
   "source": [
    "SCA_output2 = SCAFUN(bow_obj_data, bow_obj_label, opts,'mlp')\n",
    "sf2   = SCA_output2['selected_features']"
   ]
  },
  {
   "cell_type": "code",
   "execution_count": 69,
   "metadata": {},
   "outputs": [
    {
     "data": {
      "text/plain": [
       "(4448,)"
      ]
     },
     "execution_count": 69,
     "metadata": {},
     "output_type": "execute_result"
    }
   ],
   "source": [
    "sf2.shape"
   ]
  },
  {
   "attachments": {},
   "cell_type": "markdown",
   "metadata": {},
   "source": [
    "<h4>So  8820-4462=4358 features were omitted by applying  SCA "
   ]
  },
  {
   "attachments": {},
   "cell_type": "markdown",
   "metadata": {},
   "source": [
    "<h1>load extracted data"
   ]
  },
  {
   "cell_type": "code",
   "execution_count": 70,
   "metadata": {},
   "outputs": [],
   "source": [
    "sca_x_bow_train,mlp_sca_x_bow_test,sca_y_bow_train,mlp_sca_y_bow_test=train_test_split(bow_obj_data[:,sf2],bow_obj_label,test_size=0.3,stratify=bow_obj_label,shuffle=True)\n"
   ]
  },
  {
   "cell_type": "code",
   "execution_count": 71,
   "metadata": {},
   "outputs": [],
   "source": [
    "mlp_sca_bow_x_train,mlp_sca_bow_x_valid, mlp_sca_bow_y_train, mlp_sca_bow_y_valid = train_test_split(sca_x_bow_train, sca_y_bow_train,test_size=0.2,shuffle=True)\n"
   ]
  },
  {
   "cell_type": "markdown",
   "metadata": {},
   "source": [
    "<h2>make mlp _ SCA on BOW data_"
   ]
  },
  {
   "cell_type": "code",
   "execution_count": 72,
   "metadata": {},
   "outputs": [
    {
     "name": "stdout",
     "output_type": "stream",
     "text": [
      "Epoch 1/10\n"
     ]
    },
    {
     "name": "stdout",
     "output_type": "stream",
     "text": [
      "98/98 [==============================] - 1s 4ms/step - loss: 0.3731 - accuracy: 0.9103 - val_loss: 0.1440 - val_accuracy: 0.9731\n",
      "Epoch 2/10\n",
      "98/98 [==============================] - 0s 3ms/step - loss: 0.0877 - accuracy: 0.9785 - val_loss: 0.0728 - val_accuracy: 0.9808\n",
      "Epoch 3/10\n",
      "98/98 [==============================] - 0s 3ms/step - loss: 0.0425 - accuracy: 0.9891 - val_loss: 0.0632 - val_accuracy: 0.9808\n",
      "Epoch 4/10\n",
      "98/98 [==============================] - 0s 3ms/step - loss: 0.0257 - accuracy: 0.9926 - val_loss: 0.0624 - val_accuracy: 0.9808\n",
      "Epoch 5/10\n",
      "98/98 [==============================] - 0s 3ms/step - loss: 0.0173 - accuracy: 0.9952 - val_loss: 0.0663 - val_accuracy: 0.9808\n",
      "Epoch 6/10\n",
      "98/98 [==============================] - 0s 3ms/step - loss: 0.0127 - accuracy: 0.9968 - val_loss: 0.0669 - val_accuracy: 0.9821\n",
      "Epoch 7/10\n",
      "98/98 [==============================] - 0s 3ms/step - loss: 0.0101 - accuracy: 0.9974 - val_loss: 0.0681 - val_accuracy: 0.9795\n",
      "Epoch 8/10\n",
      "98/98 [==============================] - 0s 3ms/step - loss: 0.0084 - accuracy: 0.9978 - val_loss: 0.0753 - val_accuracy: 0.9782\n",
      "Epoch 9/10\n",
      "98/98 [==============================] - 0s 3ms/step - loss: 0.0074 - accuracy: 0.9984 - val_loss: 0.0779 - val_accuracy: 0.9782\n",
      "Epoch 10/10\n",
      "98/98 [==============================] - 0s 3ms/step - loss: 0.0065 - accuracy: 0.9984 - val_loss: 0.0811 - val_accuracy: 0.9769\n",
      "53/53 [==============================] - 0s 1ms/step - loss: 0.1393 - accuracy: 0.9689\n",
      "Test loss: 0.1392998993396759\n",
      "Test accuracy: 0.9688995480537415\n"
     ]
    }
   ],
   "source": [
    "model6 = Sequential()\n",
    "model6.add(Dense(200, activation='relu', input_shape=(mlp_sca_bow_x_train.shape[1],)))\n",
    "model6.add(Dense(1, activation='sigmoid'))\n",
    "\n",
    "# Compile the model with SCA optimizer\n",
    "model6.compile(optimizer=Adam(learning_rate=0.001), loss='binary_crossentropy', metrics=['accuracy'])\n",
    "# Training the model\n",
    "history6 = model6.fit(mlp_sca_bow_x_train, mlp_sca_bow_y_train, validation_data=(mlp_sca_bow_x_valid, mlp_sca_bow_y_valid), epochs=10, batch_size=32)\n",
    "# Evaluate the model\n",
    "score6 = model6.evaluate(mlp_sca_x_bow_test, mlp_sca_y_bow_test)\n",
    "print('Test loss:', score6[0])\n",
    "print('Test accuracy:', score6[1])"
   ]
  },
  {
   "cell_type": "code",
   "execution_count": 73,
   "metadata": {},
   "outputs": [
    {
     "name": "stdout",
     "output_type": "stream",
     "text": [
      "39/98 [==========>...................] - ETA: 0s - loss: 0.0056 - accuracy: 0.9992"
     ]
    },
    {
     "name": "stdout",
     "output_type": "stream",
     "text": [
      "98/98 [==============================] - 0s 1ms/step - loss: 0.0057 - accuracy: 0.9984\n",
      "Train Loss: 0.005677454173564911\n",
      "Train Accuracy: 0.9983974099159241\n"
     ]
    }
   ],
   "source": [
    "\n",
    "train_loss6, train_accuracy6 = model6.evaluate(mlp_sca_bow_x_train, mlp_sca_bow_y_train)\n",
    "print(\"Train Loss:\", train_loss6)\n",
    "print(\"Train Accuracy:\", train_accuracy6)"
   ]
  },
  {
   "cell_type": "code",
   "execution_count": 74,
   "metadata": {},
   "outputs": [
    {
     "name": "stdout",
     "output_type": "stream",
     "text": [
      " 1/53 [..............................] - ETA: 1s"
     ]
    },
    {
     "name": "stdout",
     "output_type": "stream",
     "text": [
      "53/53 [==============================] - 0s 1ms/step\n",
      "Accuracy: 0.9688995215311005\n",
      "Recall: 0.8125\n",
      "Precision: 0.9479166666666666\n",
      "F1-score: 0.875\n"
     ]
    }
   ],
   "source": [
    "y_pred_prob6 = model6.predict(mlp_sca_x_bow_test)\n",
    "\n",
    "# Converting probabilities to class labels based on a threshold (e.g., 0.5)\n",
    "y_pred6 = (y_pred_prob6 >= 0.5).astype(int)\n",
    "\n",
    "# Calculating precision, recall, F1-score, and accuracy\n",
    "precision6 = precision_score(mlp_sca_y_bow_test, y_pred6)\n",
    "recall6 = recall_score(mlp_sca_y_bow_test, y_pred6)\n",
    "f16 = f1_score(mlp_sca_y_bow_test, y_pred6)\n",
    "accuracy6 = accuracy_score(mlp_sca_y_bow_test, y_pred6)\n",
    "\n",
    "print(\"Accuracy:\", accuracy6)\n",
    "print(\"Recall:\", recall6)\n",
    "print(\"Precision:\", precision6)\n",
    "print(\"F1-score:\", f16)"
   ]
  },
  {
   "attachments": {},
   "cell_type": "markdown",
   "metadata": {},
   "source": [
    "<h1>KNN with SCA"
   ]
  },
  {
   "cell_type": "code",
   "execution_count": 75,
   "metadata": {},
   "outputs": [
    {
     "data": {
      "text/plain": [
       "0.8833732057416268"
      ]
     },
     "execution_count": 75,
     "metadata": {},
     "output_type": "execute_result"
    }
   ],
   "source": [
    "SCA_bow_knn=KNeighborsClassifier(n_neighbors=13)\n",
    "SCA_bow_knn.fit(X=sca_x_bow_train,y=sca_y_bow_train)\n",
    "SCA_knn_bow_pred=SCA_bow_knn.predict(X=mlp_sca_x_bow_test)\n",
    "SCA_bow_knn.score(X=mlp_sca_x_bow_test,y=mlp_sca_y_bow_test)"
   ]
  },
  {
   "cell_type": "code",
   "execution_count": 76,
   "metadata": {},
   "outputs": [
    {
     "name": "stdout",
     "output_type": "stream",
     "text": [
      "\n",
      "\n",
      "Measuring knn wit BOW SCA :\n",
      "\n",
      "Accuracy: 0.8833732057416268\n",
      "Recall: 0.12946428571428573\n",
      "Precision: 1.0\n",
      "F1-score: 0.22924901185770752\n"
     ]
    }
   ],
   "source": [
    "\n",
    "SCA_knn_bow_precision = precision_score(y_true=mlp_sca_y_bow_test,y_pred= SCA_knn_bow_pred)\n",
    "SCA_knn_bow_recall = recall_score(y_true=mlp_sca_y_bow_test, y_pred=SCA_knn_bow_pred)\n",
    "SCA_knn_bow_f1 = f1_score(y_true=mlp_sca_y_bow_test, y_pred=SCA_knn_bow_pred)\n",
    "SCA_knn_bow_accuracy = accuracy_score(y_true=mlp_sca_y_bow_test,y_pred= SCA_knn_bow_pred)\n",
    "print(\"\\n\\nMeasuring knn wit BOW SCA :\\n\")\n",
    "print(\"Accuracy:\", SCA_knn_bow_accuracy)\n",
    "print(\"Recall:\", SCA_knn_bow_recall)\n",
    "print(\"Precision:\", SCA_knn_bow_precision)\n",
    "print(\"F1-score:\", SCA_knn_bow_f1)"
   ]
  },
  {
   "cell_type": "markdown",
   "metadata": {},
   "source": [
    "<h1>Naive byes"
   ]
  },
  {
   "cell_type": "code",
   "execution_count": 77,
   "metadata": {},
   "outputs": [
    {
     "data": {
      "text/plain": [
       "0.77811004784689"
      ]
     },
     "execution_count": 77,
     "metadata": {},
     "output_type": "execute_result"
    }
   ],
   "source": [
    "gb_bow_SCA=GaussianNB()\n",
    "gb_bow_SCA.fit(X=sca_x_bow_train,y=sca_y_bow_train)\n",
    "gb_bow_SCA_pred=gb_bow_SCA.predict(X=mlp_sca_x_bow_test)\n",
    "gb_bow_SCA.score(X=mlp_sca_x_bow_test,y=mlp_sca_y_bow_test)"
   ]
  },
  {
   "cell_type": "code",
   "execution_count": 78,
   "metadata": {},
   "outputs": [
    {
     "name": "stdout",
     "output_type": "stream",
     "text": [
      "\n",
      "Measuring Naive Bayes SCA wit BOW :\n",
      "\n",
      "Accuracy: 0.77811004784689\n",
      "Recall: 0.9151785714285714\n",
      "Precision: 0.36804308797127466\n",
      "F1-score: 0.5249679897567221\n"
     ]
    }
   ],
   "source": [
    "gb_bow_bag_per=precision_score(y_true=mlp_sca_y_bow_test,y_pred=gb_bow_SCA_pred)\n",
    "gb_bow_bag_f=f1_score(y_true=mlp_sca_y_bow_test,y_pred=gb_bow_SCA_pred)\n",
    "gb_bow_bag_re=recall_score(y_true=mlp_sca_y_bow_test,y_pred=gb_bow_SCA_pred)\n",
    "gb_bow_bag_ac=accuracy_score(y_true=mlp_sca_y_bow_test,y_pred=gb_bow_SCA_pred)\n",
    "\n",
    "\n",
    "print(\"\\nMeasuring Naive Bayes SCA wit BOW :\\n\")\n",
    "print(\"Accuracy:\", gb_bow_bag_ac)\n",
    "print(\"Recall:\", gb_bow_bag_re)\n",
    "print(\"Precision:\", gb_bow_bag_per)\n",
    "print(\"F1-score:\", gb_bow_bag_f)"
   ]
  },
  {
   "attachments": {},
   "cell_type": "markdown",
   "metadata": {},
   "source": [
    "<h1>Random forest with SCA"
   ]
  },
  {
   "cell_type": "code",
   "execution_count": 79,
   "metadata": {},
   "outputs": [
    {
     "data": {
      "text/plain": [
       "0.9641148325358851"
      ]
     },
     "execution_count": 79,
     "metadata": {},
     "output_type": "execute_result"
    }
   ],
   "source": [
    "SCA_bow_Random_F=RandomForestClassifier(n_estimators=31,criterion='gini')\n",
    "SCA_bow_Random_F.fit(sca_x_bow_train,sca_y_bow_train)\n",
    "SCA_bow_Randmon_F_pred=SCA_bow_Random_F.predict(X=mlp_sca_x_bow_test)\n",
    "SCA_bow_Random_F.score(X=mlp_sca_x_bow_test,y=mlp_sca_y_bow_test)"
   ]
  },
  {
   "attachments": {},
   "cell_type": "markdown",
   "metadata": {},
   "source": [
    "<h3>measuring"
   ]
  },
  {
   "cell_type": "code",
   "execution_count": 80,
   "metadata": {},
   "outputs": [
    {
     "name": "stdout",
     "output_type": "stream",
     "text": [
      "\n",
      "\n",
      "Measuring Random forest wit BOW :\n",
      "\n",
      "Accuracy: 0.9641148325358851\n",
      "Recall: 0.7410714285714286\n",
      "Precision: 0.9880952380952381\n",
      "F1-score: 0.8469387755102041\n"
     ]
    }
   ],
   "source": [
    "SCA_bow_Random_F_precision = precision_score(y_true=mlp_sca_y_bow_test, y_pred=SCA_bow_Randmon_F_pred)\n",
    "SCA_bow_Random_F_recall = recall_score(y_true=mlp_sca_y_bow_test, y_pred=SCA_bow_Randmon_F_pred)\n",
    "SCA_bow_Random_F_f1 = f1_score(y_true=mlp_sca_y_bow_test, y_pred=SCA_bow_Randmon_F_pred)\n",
    "SCA_bow_Random_F_accuracy = accuracy_score(y_true=mlp_sca_y_bow_test,y_pred= SCA_bow_Randmon_F_pred)\n",
    "print(\"\\n\\nMeasuring Random forest wit BOW :\\n\")\n",
    "print(\"Accuracy:\", SCA_bow_Random_F_accuracy)\n",
    "print(\"Recall:\", SCA_bow_Random_F_recall)\n",
    "print(\"Precision:\", SCA_bow_Random_F_precision)\n",
    "print(\"F1-score:\", SCA_bow_Random_F_f1)"
   ]
  },
  {
   "attachments": {},
   "cell_type": "markdown",
   "metadata": {},
   "source": [
    "<h1>SCA SVM"
   ]
  },
  {
   "cell_type": "code",
   "execution_count": 81,
   "metadata": {},
   "outputs": [
    {
     "data": {
      "text/plain": [
       "0.9683014354066986"
      ]
     },
     "execution_count": 81,
     "metadata": {},
     "output_type": "execute_result"
    }
   ],
   "source": [
    "SCA_bow_SVM=svm.SVC(kernel='rbf',C=10,gamma=0.1)\n",
    "SCA_bow_SVM.fit(sca_x_bow_train,sca_y_bow_train)\n",
    "SCA_bow_SVM_pred=SCA_bow_SVM.predict(X=mlp_sca_x_bow_test)\n",
    "SCA_bow_SVM.score(X=mlp_sca_x_bow_test,y=mlp_sca_y_bow_test)"
   ]
  },
  {
   "cell_type": "code",
   "execution_count": 82,
   "metadata": {},
   "outputs": [
    {
     "name": "stdout",
     "output_type": "stream",
     "text": [
      "\n",
      "\n",
      "Measuring SVM wit BOW :\n",
      "\n",
      "Accuracy: 0.9683014354066986\n",
      "Recall: 0.7857142857142857\n",
      "Precision: 0.9723756906077348\n",
      "F1-score: 0.8691358024691358\n"
     ]
    }
   ],
   "source": [
    "\n",
    "SCA_bow_SVM_precision = precision_score(y_true=mlp_sca_y_bow_test, y_pred=SCA_bow_SVM_pred)\n",
    "SCA_bow_SVM_recall = recall_score(y_true=mlp_sca_y_bow_test, y_pred=SCA_bow_SVM_pred)\n",
    "SCA_bow_SVM_f1 = f1_score(y_true=mlp_sca_y_bow_test, y_pred=SCA_bow_SVM_pred)\n",
    "SCA_bow_SVM_accuracy = accuracy_score(y_true=mlp_sca_y_bow_test, y_pred=SCA_bow_SVM_pred)\n",
    "print(\"\\n\\nMeasuring SVM wit BOW :\\n\")\n",
    "print(\"Accuracy:\", SCA_bow_SVM_accuracy)\n",
    "print(\"Recall:\", SCA_bow_SVM_recall)\n",
    "print(\"Precision:\", SCA_bow_SVM_precision)\n",
    "print(\"F1-score:\", SCA_bow_SVM_f1)"
   ]
  },
  {
   "cell_type": "markdown",
   "metadata": {},
   "source": [
    "<H1>Complex model"
   ]
  },
  {
   "cell_type": "markdown",
   "metadata": {},
   "source": [
    "<h3>tf_idf\n"
   ]
  },
  {
   "cell_type": "code",
   "execution_count": 83,
   "metadata": {},
   "outputs": [],
   "source": [
    "sca_x_train,mlp_sca_x_test,sca_y_train,mlp_sca_y_test=train_test_split(scaled_obj_data[:,sf1],scaled_obj_label,test_size=0.3,shuffle=False)\n",
    "mlp_sca_x_train,mlp_sca_x_valid, mlp_sca_y_train, mlp_sca_y_valid = train_test_split(sca_x_train, sca_y_train,test_size=0.2,shuffle=False)"
   ]
  },
  {
   "cell_type": "code",
   "execution_count": 84,
   "metadata": {},
   "outputs": [],
   "source": [
    "all_features = range(scaled_obj_data.shape[1])\n",
    "remaining_features = list(set(all_features) - set(sf1))"
   ]
  },
  {
   "cell_type": "code",
   "execution_count": 85,
   "metadata": {},
   "outputs": [],
   "source": [
    "sca_x_train_remaining, mlp_sca_x_test_remaining, sca_y_train_remaining, mlp_sca_y_test_remaining = train_test_split(scaled_obj_data[:, remaining_features],scaled_obj_label,test_size=0.3,shuffle=False)\n",
    "sca_x_train_remaining,sca_x_valid_remaining, sca_y_train_remaining, sca_y_valid_remaining = train_test_split(sca_x_train_remaining, sca_y_train_remaining,test_size=0.2,shuffle=False)"
   ]
  },
  {
   "cell_type": "markdown",
   "metadata": {},
   "source": [
    "define complex model"
   ]
  },
  {
   "cell_type": "code",
   "execution_count": 86,
   "metadata": {},
   "outputs": [
    {
     "name": "stdout",
     "output_type": "stream",
     "text": [
      "Epoch 1/10\n",
      "98/98 [==============================] - 1s 6ms/step - loss: 1.9069 - accuracy: 0.8109 - val_loss: 0.5797 - val_accuracy: 0.9090\n",
      "Epoch 2/10\n",
      "98/98 [==============================] - 0s 5ms/step - loss: 0.1853 - accuracy: 0.9699 - val_loss: 0.2151 - val_accuracy: 0.9603\n",
      "Epoch 3/10\n",
      "98/98 [==============================] - 0s 5ms/step - loss: 0.0181 - accuracy: 0.9946 - val_loss: 0.1363 - val_accuracy: 0.9679\n",
      "Epoch 4/10\n",
      "98/98 [==============================] - 0s 5ms/step - loss: 0.0064 - accuracy: 0.9974 - val_loss: 0.1331 - val_accuracy: 0.9692\n",
      "Epoch 5/10\n",
      "98/98 [==============================] - 0s 5ms/step - loss: 0.0033 - accuracy: 0.9990 - val_loss: 0.1340 - val_accuracy: 0.9692\n",
      "Epoch 6/10\n",
      "98/98 [==============================] - 0s 5ms/step - loss: 0.0022 - accuracy: 1.0000 - val_loss: 0.1358 - val_accuracy: 0.9705\n",
      "Epoch 7/10\n",
      "98/98 [==============================] - 0s 5ms/step - loss: 0.0017 - accuracy: 1.0000 - val_loss: 0.1384 - val_accuracy: 0.9692\n",
      "Epoch 8/10\n",
      "98/98 [==============================] - 0s 5ms/step - loss: 0.0014 - accuracy: 1.0000 - val_loss: 0.1410 - val_accuracy: 0.9692\n",
      "Epoch 9/10\n",
      "98/98 [==============================] - 0s 5ms/step - loss: 0.0011 - accuracy: 1.0000 - val_loss: 0.1436 - val_accuracy: 0.9692\n",
      "Epoch 10/10\n",
      "98/98 [==============================] - 0s 5ms/step - loss: 9.5184e-04 - accuracy: 1.0000 - val_loss: 0.1463 - val_accuracy: 0.9705\n",
      "53/53 [==============================] - 0s 2ms/step - loss: 0.1030 - accuracy: 0.9731\n"
     ]
    }
   ],
   "source": [
    "input1=keras.layers.Input(shape=(mlp_sca_x_train.shape[1],))\n",
    "input2=keras.layers.Input(shape=(sca_x_train_remaining.shape[1],))\n",
    "hidden1=keras.layers.Dense(100,activation='relu')(input2)\n",
    "hidden2=keras.layers.Dense(200,activation='relu')(input1)\n",
    "concat=keras.layers.concatenate([hidden2,hidden1])\n",
    "output=keras.layers.Dense(1,activation='sigmoid')(concat)\n",
    "cmodel=keras.models.Model(inputs=[input1,input2],outputs=[output])\n",
    "cmodel.compile(optimizer=Adam(learning_rate=0.001), loss='binary_crossentropy', metrics=['accuracy'])\n",
    "chistory = cmodel.fit((mlp_sca_x_train,sca_x_train_remaining), mlp_sca_y_train, validation_data=((mlp_sca_x_valid,sca_x_valid_remaining), mlp_sca_y_valid), epochs=10, batch_size=32)\n",
    "cscore = cmodel.evaluate((mlp_sca_x_test,mlp_sca_x_test_remaining), mlp_sca_y_test)"
   ]
  },
  {
   "cell_type": "code",
   "execution_count": 87,
   "metadata": {},
   "outputs": [],
   "source": [
    "from matplotlib import pyplot"
   ]
  },
  {
   "cell_type": "markdown",
   "metadata": {},
   "source": [
    "evaluat"
   ]
  },
  {
   "cell_type": "code",
   "execution_count": 88,
   "metadata": {},
   "outputs": [
    {
     "name": "stdout",
     "output_type": "stream",
     "text": [
      "53/53 [==============================] - 0s 2ms/step\n",
      "evaluating complex model 1\n",
      "Accuracy: 0.9730861244019139\n",
      "Recall: 0.8508771929824561\n",
      "Precision: 0.9463414634146341\n",
      "F1-score: 0.8960739030023094\n"
     ]
    }
   ],
   "source": [
    "c_y_pred= cmodel.predict((mlp_sca_x_test,mlp_sca_x_test_remaining))\n",
    "\n",
    "# Converting probabilities to class labels based on a threshold (e.g., 0.5)\n",
    "c_y_pred = (c_y_pred >= 0.5).astype(int)\n",
    "\n",
    "# Calculating precision, recall, F1-score, and accuracy\n",
    "cprecision = precision_score(y_true=mlp_sca_y_test, y_pred=c_y_pred)\n",
    "crecall = recall_score(y_true=mlp_sca_y_test, y_pred=c_y_pred)\n",
    "cf1 = f1_score(y_true=mlp_sca_y_test, y_pred=c_y_pred)\n",
    "caccuracy = accuracy_score(y_true=mlp_sca_y_test, y_pred=c_y_pred)\n",
    "print(\"evaluating complex model 1\")\n",
    "print(\"Accuracy:\", caccuracy)\n",
    "print(\"Recall:\", crecall)\n",
    "print(\"Precision:\", cprecision)\n",
    "print(\"F1-score:\", cf1)"
   ]
  },
  {
   "cell_type": "code",
   "execution_count": 89,
   "metadata": {},
   "outputs": [
    {
     "data": {
      "text/plain": [
       "<sklearn.metrics._plot.confusion_matrix.ConfusionMatrixDisplay at 0x127db5a05e0>"
      ]
     },
     "execution_count": 89,
     "metadata": {},
     "output_type": "execute_result"
    },
    {
     "data": {
      "image/png": "[encoded data removed]",
      "text/plain": [
       "<Figure size 432x288 with 2 Axes>"
      ]
     },
     "metadata": {
      "needs_background": "light"
     },
     "output_type": "display_data"
    }
   ],
   "source": [
    "cm=confusion_matrix(y_true=mlp_sca_y_test, y_pred=c_y_pred)\n",
    "disp = ConfusionMatrixDisplay(confusion_matrix=cm)\n",
    "disp.plot()"
   ]
  },
  {
   "cell_type": "markdown",
   "metadata": {},
   "source": [
    "<h3>BOW"
   ]
  },
  {
   "cell_type": "code",
   "execution_count": 90,
   "metadata": {},
   "outputs": [],
   "source": [
    "sca_x_bow_train,mlp_sca_x_bow_test,sca_y_bow_train,mlp_sca_y_bow_test=train_test_split(bow_obj_data[:,sf2],bow_obj_label,test_size=0.3,shuffle=False)\n",
    "mlp_sca_bow_x_train,mlp_sca_bow_x_valid, mlp_sca_bow_y_train, mlp_sca_bow_y_valid = train_test_split(sca_x_bow_train, sca_y_bow_train,test_size=0.2,shuffle=False)\n"
   ]
  },
  {
   "cell_type": "code",
   "execution_count": 91,
   "metadata": {},
   "outputs": [],
   "source": [
    "all_features2 = range(bow_obj_data.shape[1])\n",
    "remaining_features2 = list(set(all_features2) - set(sf2))"
   ]
  },
  {
   "cell_type": "code",
   "execution_count": 92,
   "metadata": {},
   "outputs": [],
   "source": [
    "sca_bow_x_train_remaining, mlp_bow_sca_x_test_remaining, sca_bow_y_train_remaining, mlp_sca_bow_y_test_remaining = train_test_split(bow_obj_data[:, remaining_features2],bow_obj_label,test_size=0.3,shuffle=False)\n",
    "sca_bow_x_train_remaining,sca_bow_x_valid_remaining, sca_bow_y_train_remaining, sca_bow_y_valid_remaining = train_test_split(sca_bow_x_train_remaining, sca_bow_y_train_remaining,test_size=0.2,shuffle=False)"
   ]
  },
  {
   "cell_type": "markdown",
   "metadata": {},
   "source": [
    "define complex model"
   ]
  },
  {
   "cell_type": "code",
   "execution_count": 93,
   "metadata": {},
   "outputs": [
    {
     "name": "stdout",
     "output_type": "stream",
     "text": [
      "Epoch 1/10\n",
      "98/98 [==============================] - 1s 6ms/step - loss: 0.3320 - accuracy: 0.9167 - val_loss: 0.1214 - val_accuracy: 0.9705\n",
      "Epoch 2/10\n",
      "98/98 [==============================] - 1s 5ms/step - loss: 0.0575 - accuracy: 0.9888 - val_loss: 0.0777 - val_accuracy: 0.9769\n",
      "Epoch 3/10\n",
      "98/98 [==============================] - 0s 5ms/step - loss: 0.0221 - accuracy: 0.9958 - val_loss: 0.0728 - val_accuracy: 0.9782\n",
      "Epoch 4/10\n",
      "98/98 [==============================] - 0s 5ms/step - loss: 0.0109 - accuracy: 0.9978 - val_loss: 0.0727 - val_accuracy: 0.9808\n",
      "Epoch 5/10\n",
      "98/98 [==============================] - 0s 5ms/step - loss: 0.0059 - accuracy: 0.9997 - val_loss: 0.0758 - val_accuracy: 0.9808\n",
      "Epoch 6/10\n",
      "98/98 [==============================] - 0s 5ms/step - loss: 0.0038 - accuracy: 1.0000 - val_loss: 0.0786 - val_accuracy: 0.9808\n",
      "Epoch 7/10\n",
      "98/98 [==============================] - 0s 5ms/step - loss: 0.0026 - accuracy: 1.0000 - val_loss: 0.0801 - val_accuracy: 0.9808\n",
      "Epoch 8/10\n",
      "98/98 [==============================] - 0s 5ms/step - loss: 0.0019 - accuracy: 1.0000 - val_loss: 0.0827 - val_accuracy: 0.9808\n",
      "Epoch 9/10\n",
      "98/98 [==============================] - 0s 5ms/step - loss: 0.0014 - accuracy: 1.0000 - val_loss: 0.0852 - val_accuracy: 0.9821\n",
      "Epoch 10/10\n",
      "98/98 [==============================] - 0s 5ms/step - loss: 0.0011 - accuracy: 1.0000 - val_loss: 0.0873 - val_accuracy: 0.9821\n",
      "53/53 [==============================] - 0s 1ms/step - loss: 0.0771 - accuracy: 0.9803\n"
     ]
    }
   ],
   "source": [
    "input12=keras.layers.Input(shape=(mlp_sca_bow_x_train.shape[1],))\n",
    "input22=keras.layers.Input(shape=(sca_bow_x_train_remaining.shape[1],))\n",
    "hidden11=keras.layers.Dense(200,activation='relu')(input12)\n",
    "hidden12=keras.layers.Dense(100,activation='relu')(input22)\n",
    "concat2=keras.layers.concatenate([hidden11,hidden12])\n",
    "output2=keras.layers.Dense(1,activation='sigmoid')(concat2)\n",
    "cmodel2=keras.models.Model(inputs=[input12,input22],outputs=[output2])\n",
    "cmodel2.compile(optimizer=Adam(learning_rate=0.001), loss='binary_crossentropy', metrics=['accuracy'])\n",
    "chistory2 = cmodel2.fit((mlp_sca_bow_x_train,sca_bow_x_train_remaining), mlp_sca_bow_y_train, validation_data=((mlp_sca_bow_x_valid,sca_bow_x_valid_remaining), mlp_sca_bow_y_valid), epochs=10, batch_size=32)\n",
    "cscore2 = cmodel2.evaluate((mlp_sca_x_bow_test,mlp_bow_sca_x_test_remaining), mlp_sca_y_bow_test)"
   ]
  },
  {
   "cell_type": "code",
   "execution_count": 94,
   "metadata": {},
   "outputs": [
    {
     "name": "stdout",
     "output_type": "stream",
     "text": [
      "53/53 [==============================] - 0s 2ms/step\n",
      "Accuracy: 0.9802631578947368\n",
      "Recall: 0.8552631578947368\n",
      "Precision: 1.0\n",
      "F1-score: 0.9219858156028369\n"
     ]
    }
   ],
   "source": [
    "c_y_pred2= cmodel2.predict((mlp_sca_x_bow_test,mlp_bow_sca_x_test_remaining))\n",
    "\n",
    "# Converting probabilities to class labels based on a threshold (e.g., 0.5)\n",
    "c_y_pred2 = (c_y_pred2 >= 0.5).astype(int)\n",
    "\n",
    "# Calculating precision, recall, F1-score, and accuracy\n",
    "cprecision2 = precision_score(y_true=mlp_sca_y_bow_test, y_pred=c_y_pred2)\n",
    "crecall2 = recall_score(y_true=mlp_sca_y_bow_test, y_pred=c_y_pred2)\n",
    "cf12 = f1_score(y_true=mlp_sca_y_bow_test, y_pred=c_y_pred2)\n",
    "caccuracy2 = accuracy_score(y_true=mlp_sca_y_bow_test, y_pred=c_y_pred2)\n",
    "\n",
    "print(\"Accuracy:\", caccuracy2)\n",
    "print(\"Recall:\", crecall2)\n",
    "print(\"Precision:\", cprecision2)\n",
    "print(\"F1-score:\", cf12)"
   ]
  },
  {
   "cell_type": "code",
   "execution_count": 95,
   "metadata": {},
   "outputs": [
    {
     "data": {
      "text/plain": [
       "<sklearn.metrics._plot.confusion_matrix.ConfusionMatrixDisplay at 0x127db469a00>"
      ]
     },
     "execution_count": 95,
     "metadata": {},
     "output_type": "execute_result"
    },
    {
     "data": {
      "image/png": "[encoded data removed]",
      "text/plain": [
       "<Figure size 432x288 with 2 Axes>"
      ]
     },
     "metadata": {
      "needs_background": "light"
     },
     "output_type": "display_data"
    }
   ],
   "source": [
    "cm=confusion_matrix(y_true=mlp_sca_y_bow_test, y_pred=c_y_pred2)\n",
    "disp = ConfusionMatrixDisplay(confusion_matrix=cm)\n",
    "disp.plot()"
   ]
  },
  {
   "attachments": {},
   "cell_type": "markdown",
   "metadata": {},
   "source": [
    "<h1>make result Table"
   ]
  },
  {
   "cell_type": "code",
   "execution_count": 96,
   "metadata": {},
   "outputs": [
    {
     "data": {
      "text/html": [
       "<div>\n",
       "<style scoped>\n",
       "    .dataframe tbody tr th:only-of-type {\n",
       "        vertical-align: middle;\n",
       "    }\n",
       "\n",
       "    .dataframe tbody tr th {\n",
       "        vertical-align: top;\n",
       "    }\n",
       "\n",
       "    .dataframe thead th {\n",
       "        text-align: right;\n",
       "    }\n",
       "</style>\n",
       "<table border=\"1\" class=\"dataframe\">\n",
       "  <thead>\n",
       "    <tr style=\"text-align: right;\">\n",
       "      <th></th>\n",
       "      <th>Accuracy      BOW</th>\n",
       "      <th>Accuracy   TF-IDF</th>\n",
       "      <th>Recall        BOW</th>\n",
       "      <th>Recall     TF-IDF</th>\n",
       "      <th>Precision     BOW</th>\n",
       "      <th>Precision  TF-IDF</th>\n",
       "      <th>F-measure     BOW</th>\n",
       "      <th>F-measure  TF-IDF</th>\n",
       "    </tr>\n",
       "    <tr>\n",
       "      <th>Algorithm</th>\n",
       "      <th></th>\n",
       "      <th></th>\n",
       "      <th></th>\n",
       "      <th></th>\n",
       "      <th></th>\n",
       "      <th></th>\n",
       "      <th></th>\n",
       "      <th></th>\n",
       "    </tr>\n",
       "  </thead>\n",
       "  <tbody>\n",
       "    <tr>\n",
       "      <th>MLP-SCA</th>\n",
       "      <td>96.889952</td>\n",
       "      <td>95.633971</td>\n",
       "      <td>81.250000</td>\n",
       "      <td>87.946429</td>\n",
       "      <td>94.791667</td>\n",
       "      <td>81.069959</td>\n",
       "      <td>87.500000</td>\n",
       "      <td>84.368308</td>\n",
       "    </tr>\n",
       "    <tr>\n",
       "      <th>KNN-SCA</th>\n",
       "      <td>88.337321</td>\n",
       "      <td>86.722488</td>\n",
       "      <td>12.946429</td>\n",
       "      <td>0.892857</td>\n",
       "      <td>100.000000</td>\n",
       "      <td>100.000000</td>\n",
       "      <td>22.924901</td>\n",
       "      <td>1.769912</td>\n",
       "    </tr>\n",
       "    <tr>\n",
       "      <th>SVM-SCA</th>\n",
       "      <td>96.830144</td>\n",
       "      <td>90.071770</td>\n",
       "      <td>78.571429</td>\n",
       "      <td>25.892857</td>\n",
       "      <td>97.237569</td>\n",
       "      <td>100.000000</td>\n",
       "      <td>86.913580</td>\n",
       "      <td>41.134752</td>\n",
       "    </tr>\n",
       "    <tr>\n",
       "      <th>R.forest-SCA</th>\n",
       "      <td>96.411483</td>\n",
       "      <td>97.667464</td>\n",
       "      <td>74.107143</td>\n",
       "      <td>83.928571</td>\n",
       "      <td>98.809524</td>\n",
       "      <td>98.429319</td>\n",
       "      <td>84.693878</td>\n",
       "      <td>90.602410</td>\n",
       "    </tr>\n",
       "    <tr>\n",
       "      <th>Naive Bayes-SCA</th>\n",
       "      <td>77.811005</td>\n",
       "      <td>72.129187</td>\n",
       "      <td>91.517857</td>\n",
       "      <td>88.392857</td>\n",
       "      <td>36.804309</td>\n",
       "      <td>31.034483</td>\n",
       "      <td>52.496799</td>\n",
       "      <td>45.939675</td>\n",
       "    </tr>\n",
       "    <tr>\n",
       "      <th>Vot (SVM,KNN,RF)</th>\n",
       "      <td>97.368421</td>\n",
       "      <td>97.787081</td>\n",
       "      <td>80.357143</td>\n",
       "      <td>83.482143</td>\n",
       "      <td>100.000000</td>\n",
       "      <td>100.000000</td>\n",
       "      <td>89.108911</td>\n",
       "      <td>90.997567</td>\n",
       "    </tr>\n",
       "    <tr>\n",
       "      <th>Bagging</th>\n",
       "      <td>77.811005</td>\n",
       "      <td>93.361244</td>\n",
       "      <td>91.517857</td>\n",
       "      <td>85.267857</td>\n",
       "      <td>36.804309</td>\n",
       "      <td>71.003717</td>\n",
       "      <td>52.496799</td>\n",
       "      <td>77.484787</td>\n",
       "    </tr>\n",
       "    <tr>\n",
       "      <th>Complex-MLP</th>\n",
       "      <td>98.026316</td>\n",
       "      <td>97.308612</td>\n",
       "      <td>85.526316</td>\n",
       "      <td>85.087719</td>\n",
       "      <td>100.000000</td>\n",
       "      <td>94.634146</td>\n",
       "      <td>92.198582</td>\n",
       "      <td>89.607390</td>\n",
       "    </tr>\n",
       "  </tbody>\n",
       "</table>\n",
       "</div>"
      ],
      "text/plain": [
       "                  Accuracy      BOW  Accuracy   TF-IDF  Recall        BOW  \\\n",
       "Algorithm                                                                   \n",
       "MLP-SCA                   96.889952          95.633971          81.250000   \n",
       "KNN-SCA                   88.337321          86.722488          12.946429   \n",
       "SVM-SCA                   96.830144          90.071770          78.571429   \n",
       "R.forest-SCA              96.411483          97.667464          74.107143   \n",
       "Naive Bayes-SCA           77.811005          72.129187          91.517857   \n",
       "Vot (SVM,KNN,RF)          97.368421          97.787081          80.357143   \n",
       "Bagging                   77.811005          93.361244          91.517857   \n",
       "Complex-MLP               98.026316          97.308612          85.526316   \n",
       "\n",
       "                  Recall     TF-IDF  Precision     BOW  Precision  TF-IDF  \\\n",
       "Algorithm                                                                   \n",
       "MLP-SCA                   87.946429          94.791667          81.069959   \n",
       "KNN-SCA                    0.892857         100.000000         100.000000   \n",
       "SVM-SCA                   25.892857          97.237569         100.000000   \n",
       "R.forest-SCA              83.928571          98.809524          98.429319   \n",
       "Naive Bayes-SCA           88.392857          36.804309          31.034483   \n",
       "Vot (SVM,KNN,RF)          83.482143         100.000000         100.000000   \n",
       "Bagging                   85.267857          36.804309          71.003717   \n",
       "Complex-MLP               85.087719         100.000000          94.634146   \n",
       "\n",
       "                  F-measure     BOW  F-measure  TF-IDF  \n",
       "Algorithm                                               \n",
       "MLP-SCA                   87.500000          84.368308  \n",
       "KNN-SCA                   22.924901           1.769912  \n",
       "SVM-SCA                   86.913580          41.134752  \n",
       "R.forest-SCA              84.693878          90.602410  \n",
       "Naive Bayes-SCA           52.496799          45.939675  \n",
       "Vot (SVM,KNN,RF)          89.108911          90.997567  \n",
       "Bagging                   52.496799          77.484787  \n",
       "Complex-MLP               92.198582          89.607390  "
      ]
     },
     "execution_count": 96,
     "metadata": {},
     "output_type": "execute_result"
    }
   ],
   "source": [
    "\n",
    "results_mlp_56 = {'Algorithm': 'MLP-SCA', 'Accuracy_BOW': accuracy6*100 ,'Accuracy_TF-IDF':accuracy5*100 , 'Recall_BOW': recall6*100, 'Recall_TF-IDF': recall5*100,'Precision_BOW':precision6*100  ,'Precision_TF-IDF':precision5*100 ,'F-measure_BOW':f16*100,'F-measure_TF-IDF':f15*100}\n",
    "results_nay_bag={'Algorithm': 'Bagging', 'Accuracy_BOW': gb_bow_bag_ac*100 ,'Accuracy_TF-IDF':gb_tf_bag_ac*100 , 'Recall_BOW': gb_bow_bag_re*100, 'Recall_TF-IDF': gb_tf_bag_re*100,'Precision_BOW':gb_bow_bag_per*100  ,'Precision_TF-IDF':gb_tf_bag_per*100 ,'F-measure_BOW':gb_bow_bag_f*100,'F-measure_TF-IDF':gb_tf_bag_f*100}\n",
    "results_SCA_knn = {'Algorithm': 'KNN-SCA', 'Accuracy_BOW': SCA_knn_bow_accuracy*100 ,'Accuracy_TF-IDF':SCA_knn_tffi_accuracy*100 , 'Recall_BOW': SCA_knn_bow_recall*100, 'Recall_TF-IDF': SCA_knn_tffi_recall*100,'Precision_BOW':SCA_knn_bow_precision*100  ,'Precision_TF-IDF':SCA_knn_tffi_precision*100 ,'F-measure_BOW':SCA_knn_bow_f1*100,'F-measure_TF-IDF':SCA_knn_tffi_f1*100}\n",
    "results_SCA_svm = {'Algorithm': 'SVM-SCA', 'Accuracy_BOW': SCA_bow_SVM_accuracy*100 ,'Accuracy_TF-IDF':SCA_tffi_SVM_accuracy*100 , 'Recall_BOW': SCA_bow_SVM_recall*100, 'Recall_TF-IDF': SCA_tffi_SVM_recall*100,'Precision_BOW':SCA_bow_SVM_precision*100  ,'Precision_TF-IDF':SCA_tffi_SVM_precision*100 ,'F-measure_BOW':SCA_bow_SVM_f1*100,'F-measure_TF-IDF':SCA_tffi_SVM_f1*100}\n",
    "results_SCA_rf = {'Algorithm': 'R.forest-SCA', 'Accuracy_BOW': SCA_bow_Random_F_accuracy*100 ,'Accuracy_TF-IDF':SCA_tffi_Random_F_accuracy*100 , 'Recall_BOW': SCA_bow_Random_F_recall*100, 'Recall_TF-IDF': SCA_tffi_Random_F_recall*100,'Precision_BOW':SCA_bow_Random_F_precision*100  ,'Precision_TF-IDF':SCA_tffi_Random_F_precision*100 ,'F-measure_BOW':SCA_bow_Random_F_f1*100,'F-measure_TF-IDF':SCA_tffi_Random_F_f1*100}\n",
    "results_Cmodel={'Algorithm': 'Complex-MLP', 'Accuracy_BOW': caccuracy2*100 ,'Accuracy_TF-IDF':caccuracy*100 , 'Precision_BOW':cprecision2*100  ,'Precision_TF-IDF':cprecision*100 ,'Recall_BOW':crecall2*100, 'Recall_TF-IDF':crecall*100,'F-measure_BOW':cf12*100,'F-measure_TF-IDF':cf1*100}\n",
    "results_SCA_NB = {'Algorithm': 'Naive Bayes-SCA', 'Accuracy_BOW': gb_bow_bag_ac*100 ,'Accuracy_TF-IDF':gb_tf_SCA_ac*100 , 'Recall_BOW': gb_bow_bag_re*100, 'Recall_TF-IDF': gb_tf_SCA_re*100,'Precision_BOW':gb_bow_bag_per*100  ,'Precision_TF-IDF':gb_tf_SCA_per*100 ,'F-measure_BOW':gb_bow_bag_f*100,'F-measure_TF-IDF':gb_tf_SCA_f*100}\n",
    "results_votting2={'Algorithm': 'Vot (SVM,KNN,RF)', 'Accuracy_BOW': ens4_accuracy*100 ,'Accuracy_TF-IDF':ens1_accuracy*100 , 'Recall_BOW': ens4_recall*100, 'Recall_TF-IDF': ens1_recall*100,'Precision_BOW':ens4_precision*100  ,'Precision_TF-IDF':ens1_precision*100 ,'F-measure_BOW':ens4_f1*100,'F-measure_TF-IDF':ens1_f1*100}\n",
    "\n",
    "df = pd.DataFrame([results_mlp_56,results_SCA_knn,results_SCA_svm ,results_SCA_rf,results_SCA_NB,results_votting2,results_nay_bag,results_Cmodel])\n",
    "df.set_index('Algorithm', inplace=True)\n",
    "columns = pd.MultiIndex.from_tuples([\n",
    "    ('Accuracy', 'BOW'), ('Accuracy', 'TF-IDF'),\n",
    "    ('Recall', 'BOW'), ('Recall', 'TF-IDF'),\n",
    "    ('Precision', 'BOW'), ('Precision', 'TF-IDF'),\n",
    "    \n",
    "    ('F-measure', 'BOW'), ('F-measure', 'TF-IDF')\n",
    "])\n",
    "\n",
    "df.columns = columns\n",
    "\n",
    "# Define column spacing\n",
    "col_width = max(len(name) for name in df.columns.get_level_values(0))\n",
    "level_width = max(len(str(level)) for level in df.columns.get_level_values(1))\n",
    "spacing = 2  # Number of extra spaces between columns\n",
    "\n",
    "# Function to format column headers with adjusted spacing\n",
    "def format_columns(columns):\n",
    "    return [f\"{col:{col_width}s}{level:>{level_width + spacing}s}\" for col, level in columns]\n",
    "\n",
    "# Format columns with adjusted spacing\n",
    "df.columns = format_columns(df.columns)\n",
    "\n",
    "# Display the DataFrame\n",
    "df"
   ]
  }
 ],
 "metadata": {
  "kernelspec": {
   "display_name": "Python 3",
   "language": "python",
   "name": "python3"
  },
  "language_info": {
   "codemirror_mode": {
    "name": "ipython",
    "version": 3
   },
   "file_extension": ".py",
   "mimetype": "text/x-python",
   "name": "python",
   "nbconvert_exporter": "python",
   "pygments_lexer": "ipython3",
   "version": "3.9.0"
  },
  "orig_nbformat": 4
 },
 "nbformat": 4,
 "nbformat_minor": 2
}
