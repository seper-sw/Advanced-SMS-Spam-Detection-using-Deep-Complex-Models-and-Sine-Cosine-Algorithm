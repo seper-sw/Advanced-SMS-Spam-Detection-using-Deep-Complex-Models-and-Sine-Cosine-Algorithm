{
 "cells": [
  {
   "attachments": {},
   "cell_type": "markdown",
   "metadata": {},
   "source": [
    "<h1> __________________Sepehr Rezaei__________________ \n",
    "<h3> ________________________rsepehr746@gmail.com________________________ "
   ]
  },
  {
   "cell_type": "code",
   "execution_count": 1,
   "metadata": {},
   "outputs": [],
   "source": [
    "import pandas as pd"
   ]
  },
  {
   "attachments": {},
   "cell_type": "markdown",
   "metadata": {},
   "source": [
    "<h1>load data"
   ]
  },
  {
   "cell_type": "code",
   "execution_count": 2,
   "metadata": {},
   "outputs": [
    {
     "data": {
      "text/html": [
       "<div>\n",
       "<style scoped>\n",
       "    .dataframe tbody tr th:only-of-type {\n",
       "        vertical-align: middle;\n",
       "    }\n",
       "\n",
       "    .dataframe tbody tr th {\n",
       "        vertical-align: top;\n",
       "    }\n",
       "\n",
       "    .dataframe thead th {\n",
       "        text-align: right;\n",
       "    }\n",
       "</style>\n",
       "<table border=\"1\" class=\"dataframe\">\n",
       "  <thead>\n",
       "    <tr style=\"text-align: right;\">\n",
       "      <th></th>\n",
       "      <th>v1</th>\n",
       "      <th>v2</th>\n",
       "      <th>Unnamed: 2</th>\n",
       "      <th>Unnamed: 3</th>\n",
       "      <th>Unnamed: 4</th>\n",
       "    </tr>\n",
       "  </thead>\n",
       "  <tbody>\n",
       "    <tr>\n",
       "      <th>0</th>\n",
       "      <td>ham</td>\n",
       "      <td>Go until jurong point, crazy.. Available only ...</td>\n",
       "      <td>NaN</td>\n",
       "      <td>NaN</td>\n",
       "      <td>NaN</td>\n",
       "    </tr>\n",
       "    <tr>\n",
       "      <th>1</th>\n",
       "      <td>ham</td>\n",
       "      <td>Ok lar... Joking wif u oni...</td>\n",
       "      <td>NaN</td>\n",
       "      <td>NaN</td>\n",
       "      <td>NaN</td>\n",
       "    </tr>\n",
       "    <tr>\n",
       "      <th>2</th>\n",
       "      <td>spam</td>\n",
       "      <td>Free entry in 2 a wkly comp to win FA Cup fina...</td>\n",
       "      <td>NaN</td>\n",
       "      <td>NaN</td>\n",
       "      <td>NaN</td>\n",
       "    </tr>\n",
       "    <tr>\n",
       "      <th>3</th>\n",
       "      <td>ham</td>\n",
       "      <td>U dun say so early hor... U c already then say...</td>\n",
       "      <td>NaN</td>\n",
       "      <td>NaN</td>\n",
       "      <td>NaN</td>\n",
       "    </tr>\n",
       "    <tr>\n",
       "      <th>4</th>\n",
       "      <td>ham</td>\n",
       "      <td>Nah I don't think he goes to usf, he lives aro...</td>\n",
       "      <td>NaN</td>\n",
       "      <td>NaN</td>\n",
       "      <td>NaN</td>\n",
       "    </tr>\n",
       "    <tr>\n",
       "      <th>5</th>\n",
       "      <td>spam</td>\n",
       "      <td>FreeMsg Hey there darling it's been 3 week's n...</td>\n",
       "      <td>NaN</td>\n",
       "      <td>NaN</td>\n",
       "      <td>NaN</td>\n",
       "    </tr>\n",
       "    <tr>\n",
       "      <th>6</th>\n",
       "      <td>ham</td>\n",
       "      <td>Even my brother is not like to speak with me. ...</td>\n",
       "      <td>NaN</td>\n",
       "      <td>NaN</td>\n",
       "      <td>NaN</td>\n",
       "    </tr>\n",
       "    <tr>\n",
       "      <th>7</th>\n",
       "      <td>ham</td>\n",
       "      <td>As per your request 'Melle Melle (Oru Minnamin...</td>\n",
       "      <td>NaN</td>\n",
       "      <td>NaN</td>\n",
       "      <td>NaN</td>\n",
       "    </tr>\n",
       "    <tr>\n",
       "      <th>8</th>\n",
       "      <td>spam</td>\n",
       "      <td>WINNER!! As a valued network customer you have...</td>\n",
       "      <td>NaN</td>\n",
       "      <td>NaN</td>\n",
       "      <td>NaN</td>\n",
       "    </tr>\n",
       "    <tr>\n",
       "      <th>9</th>\n",
       "      <td>spam</td>\n",
       "      <td>Had your mobile 11 months or more? U R entitle...</td>\n",
       "      <td>NaN</td>\n",
       "      <td>NaN</td>\n",
       "      <td>NaN</td>\n",
       "    </tr>\n",
       "  </tbody>\n",
       "</table>\n",
       "</div>"
      ],
      "text/plain": [
       "     v1                                                 v2 Unnamed: 2  \\\n",
       "0   ham  Go until jurong point, crazy.. Available only ...        NaN   \n",
       "1   ham                      Ok lar... Joking wif u oni...        NaN   \n",
       "2  spam  Free entry in 2 a wkly comp to win FA Cup fina...        NaN   \n",
       "3   ham  U dun say so early hor... U c already then say...        NaN   \n",
       "4   ham  Nah I don't think he goes to usf, he lives aro...        NaN   \n",
       "5  spam  FreeMsg Hey there darling it's been 3 week's n...        NaN   \n",
       "6   ham  Even my brother is not like to speak with me. ...        NaN   \n",
       "7   ham  As per your request 'Melle Melle (Oru Minnamin...        NaN   \n",
       "8  spam  WINNER!! As a valued network customer you have...        NaN   \n",
       "9  spam  Had your mobile 11 months or more? U R entitle...        NaN   \n",
       "\n",
       "  Unnamed: 3 Unnamed: 4  \n",
       "0        NaN        NaN  \n",
       "1        NaN        NaN  \n",
       "2        NaN        NaN  \n",
       "3        NaN        NaN  \n",
       "4        NaN        NaN  \n",
       "5        NaN        NaN  \n",
       "6        NaN        NaN  \n",
       "7        NaN        NaN  \n",
       "8        NaN        NaN  \n",
       "9        NaN        NaN  "
      ]
     },
     "execution_count": 2,
     "metadata": {},
     "output_type": "execute_result"
    }
   ],
   "source": [
    "text=pd.read_csv( 'spam.csv',encoding='ISO-8859-1')\n",
    "text.head(10)"
   ]
  },
  {
   "cell_type": "code",
   "execution_count": 3,
   "metadata": {},
   "outputs": [
    {
     "data": {
      "text/html": [
       "<div>\n",
       "<style scoped>\n",
       "    .dataframe tbody tr th:only-of-type {\n",
       "        vertical-align: middle;\n",
       "    }\n",
       "\n",
       "    .dataframe tbody tr th {\n",
       "        vertical-align: top;\n",
       "    }\n",
       "\n",
       "    .dataframe thead th {\n",
       "        text-align: right;\n",
       "    }\n",
       "</style>\n",
       "<table border=\"1\" class=\"dataframe\">\n",
       "  <thead>\n",
       "    <tr style=\"text-align: right;\">\n",
       "      <th></th>\n",
       "      <th>v1</th>\n",
       "      <th>v2</th>\n",
       "    </tr>\n",
       "  </thead>\n",
       "  <tbody>\n",
       "    <tr>\n",
       "      <th>0</th>\n",
       "      <td>ham</td>\n",
       "      <td>Go until jurong point, crazy.. Available only ...</td>\n",
       "    </tr>\n",
       "    <tr>\n",
       "      <th>1</th>\n",
       "      <td>ham</td>\n",
       "      <td>Ok lar... Joking wif u oni...</td>\n",
       "    </tr>\n",
       "    <tr>\n",
       "      <th>2</th>\n",
       "      <td>spam</td>\n",
       "      <td>Free entry in 2 a wkly comp to win FA Cup fina...</td>\n",
       "    </tr>\n",
       "    <tr>\n",
       "      <th>3</th>\n",
       "      <td>ham</td>\n",
       "      <td>U dun say so early hor... U c already then say...</td>\n",
       "    </tr>\n",
       "    <tr>\n",
       "      <th>4</th>\n",
       "      <td>ham</td>\n",
       "      <td>Nah I don't think he goes to usf, he lives aro...</td>\n",
       "    </tr>\n",
       "    <tr>\n",
       "      <th>5</th>\n",
       "      <td>spam</td>\n",
       "      <td>FreeMsg Hey there darling it's been 3 week's n...</td>\n",
       "    </tr>\n",
       "    <tr>\n",
       "      <th>6</th>\n",
       "      <td>ham</td>\n",
       "      <td>Even my brother is not like to speak with me. ...</td>\n",
       "    </tr>\n",
       "    <tr>\n",
       "      <th>7</th>\n",
       "      <td>ham</td>\n",
       "      <td>As per your request 'Melle Melle (Oru Minnamin...</td>\n",
       "    </tr>\n",
       "    <tr>\n",
       "      <th>8</th>\n",
       "      <td>spam</td>\n",
       "      <td>WINNER!! As a valued network customer you have...</td>\n",
       "    </tr>\n",
       "    <tr>\n",
       "      <th>9</th>\n",
       "      <td>spam</td>\n",
       "      <td>Had your mobile 11 months or more? U R entitle...</td>\n",
       "    </tr>\n",
       "  </tbody>\n",
       "</table>\n",
       "</div>"
      ],
      "text/plain": [
       "     v1                                                 v2\n",
       "0   ham  Go until jurong point, crazy.. Available only ...\n",
       "1   ham                      Ok lar... Joking wif u oni...\n",
       "2  spam  Free entry in 2 a wkly comp to win FA Cup fina...\n",
       "3   ham  U dun say so early hor... U c already then say...\n",
       "4   ham  Nah I don't think he goes to usf, he lives aro...\n",
       "5  spam  FreeMsg Hey there darling it's been 3 week's n...\n",
       "6   ham  Even my brother is not like to speak with me. ...\n",
       "7   ham  As per your request 'Melle Melle (Oru Minnamin...\n",
       "8  spam  WINNER!! As a valued network customer you have...\n",
       "9  spam  Had your mobile 11 months or more? U R entitle..."
      ]
     },
     "execution_count": 3,
     "metadata": {},
     "output_type": "execute_result"
    }
   ],
   "source": [
    "text.drop(['Unnamed: 2', 'Unnamed: 3','Unnamed: 4'], axis=1,inplace=True)\n",
    "# Verify the updated DataFrame\n",
    "text.head(10)"
   ]
  },
  {
   "attachments": {},
   "cell_type": "markdown",
   "metadata": {},
   "source": [
    "<h4>number of ham & spam sms "
   ]
  },
  {
   "cell_type": "code",
   "execution_count": 4,
   "metadata": {},
   "outputs": [
    {
     "data": {
      "text/plain": [
       "ham     4825\n",
       "spam     747\n",
       "Name: v1, dtype: int64"
      ]
     },
     "execution_count": 4,
     "metadata": {},
     "output_type": "execute_result"
    }
   ],
   "source": [
    "text['v1'].value_counts()"
   ]
  },
  {
   "attachments": {},
   "cell_type": "markdown",
   "metadata": {},
   "source": [
    "<h3>change ham to 0 and spam to 1"
   ]
  },
  {
   "cell_type": "code",
   "execution_count": 5,
   "metadata": {},
   "outputs": [
    {
     "data": {
      "text/html": [
       "<div>\n",
       "<style scoped>\n",
       "    .dataframe tbody tr th:only-of-type {\n",
       "        vertical-align: middle;\n",
       "    }\n",
       "\n",
       "    .dataframe tbody tr th {\n",
       "        vertical-align: top;\n",
       "    }\n",
       "\n",
       "    .dataframe thead th {\n",
       "        text-align: right;\n",
       "    }\n",
       "</style>\n",
       "<table border=\"1\" class=\"dataframe\">\n",
       "  <thead>\n",
       "    <tr style=\"text-align: right;\">\n",
       "      <th></th>\n",
       "      <th>v1</th>\n",
       "      <th>v2</th>\n",
       "    </tr>\n",
       "  </thead>\n",
       "  <tbody>\n",
       "    <tr>\n",
       "      <th>0</th>\n",
       "      <td>0</td>\n",
       "      <td>Go until jurong point, crazy.. Available only ...</td>\n",
       "    </tr>\n",
       "    <tr>\n",
       "      <th>1</th>\n",
       "      <td>0</td>\n",
       "      <td>Ok lar... Joking wif u oni...</td>\n",
       "    </tr>\n",
       "    <tr>\n",
       "      <th>2</th>\n",
       "      <td>1</td>\n",
       "      <td>Free entry in 2 a wkly comp to win FA Cup fina...</td>\n",
       "    </tr>\n",
       "    <tr>\n",
       "      <th>3</th>\n",
       "      <td>0</td>\n",
       "      <td>U dun say so early hor... U c already then say...</td>\n",
       "    </tr>\n",
       "    <tr>\n",
       "      <th>4</th>\n",
       "      <td>0</td>\n",
       "      <td>Nah I don't think he goes to usf, he lives aro...</td>\n",
       "    </tr>\n",
       "    <tr>\n",
       "      <th>5</th>\n",
       "      <td>1</td>\n",
       "      <td>FreeMsg Hey there darling it's been 3 week's n...</td>\n",
       "    </tr>\n",
       "    <tr>\n",
       "      <th>6</th>\n",
       "      <td>0</td>\n",
       "      <td>Even my brother is not like to speak with me. ...</td>\n",
       "    </tr>\n",
       "    <tr>\n",
       "      <th>7</th>\n",
       "      <td>0</td>\n",
       "      <td>As per your request 'Melle Melle (Oru Minnamin...</td>\n",
       "    </tr>\n",
       "    <tr>\n",
       "      <th>8</th>\n",
       "      <td>1</td>\n",
       "      <td>WINNER!! As a valued network customer you have...</td>\n",
       "    </tr>\n",
       "    <tr>\n",
       "      <th>9</th>\n",
       "      <td>1</td>\n",
       "      <td>Had your mobile 11 months or more? U R entitle...</td>\n",
       "    </tr>\n",
       "  </tbody>\n",
       "</table>\n",
       "</div>"
      ],
      "text/plain": [
       "   v1                                                 v2\n",
       "0   0  Go until jurong point, crazy.. Available only ...\n",
       "1   0                      Ok lar... Joking wif u oni...\n",
       "2   1  Free entry in 2 a wkly comp to win FA Cup fina...\n",
       "3   0  U dun say so early hor... U c already then say...\n",
       "4   0  Nah I don't think he goes to usf, he lives aro...\n",
       "5   1  FreeMsg Hey there darling it's been 3 week's n...\n",
       "6   0  Even my brother is not like to speak with me. ...\n",
       "7   0  As per your request 'Melle Melle (Oru Minnamin...\n",
       "8   1  WINNER!! As a valued network customer you have...\n",
       "9   1  Had your mobile 11 months or more? U R entitle..."
      ]
     },
     "execution_count": 5,
     "metadata": {},
     "output_type": "execute_result"
    }
   ],
   "source": [
    "text['v1'] = text['v1'].replace({'ham': 0, 'spam': 1})\n",
    "text.head(10)"
   ]
  },
  {
   "attachments": {},
   "cell_type": "markdown",
   "metadata": {},
   "source": [
    "<h2>Data Pre_Processing"
   ]
  },
  {
   "attachments": {},
   "cell_type": "markdown",
   "metadata": {},
   "source": [
    "<h4>make words to lowercase"
   ]
  },
  {
   "cell_type": "code",
   "execution_count": 6,
   "metadata": {},
   "outputs": [
    {
     "data": {
      "text/html": [
       "<div>\n",
       "<style scoped>\n",
       "    .dataframe tbody tr th:only-of-type {\n",
       "        vertical-align: middle;\n",
       "    }\n",
       "\n",
       "    .dataframe tbody tr th {\n",
       "        vertical-align: top;\n",
       "    }\n",
       "\n",
       "    .dataframe thead th {\n",
       "        text-align: right;\n",
       "    }\n",
       "</style>\n",
       "<table border=\"1\" class=\"dataframe\">\n",
       "  <thead>\n",
       "    <tr style=\"text-align: right;\">\n",
       "      <th></th>\n",
       "      <th>v1</th>\n",
       "      <th>v2</th>\n",
       "    </tr>\n",
       "  </thead>\n",
       "  <tbody>\n",
       "    <tr>\n",
       "      <th>0</th>\n",
       "      <td>0</td>\n",
       "      <td>go until jurong point, crazy.. available only ...</td>\n",
       "    </tr>\n",
       "    <tr>\n",
       "      <th>1</th>\n",
       "      <td>0</td>\n",
       "      <td>ok lar... joking wif u oni...</td>\n",
       "    </tr>\n",
       "    <tr>\n",
       "      <th>2</th>\n",
       "      <td>1</td>\n",
       "      <td>free entry in 2 a wkly comp to win fa cup fina...</td>\n",
       "    </tr>\n",
       "    <tr>\n",
       "      <th>3</th>\n",
       "      <td>0</td>\n",
       "      <td>u dun say so early hor... u c already then say...</td>\n",
       "    </tr>\n",
       "    <tr>\n",
       "      <th>4</th>\n",
       "      <td>0</td>\n",
       "      <td>nah i don't think he goes to usf, he lives aro...</td>\n",
       "    </tr>\n",
       "    <tr>\n",
       "      <th>5</th>\n",
       "      <td>1</td>\n",
       "      <td>freemsg hey there darling it's been 3 week's n...</td>\n",
       "    </tr>\n",
       "    <tr>\n",
       "      <th>6</th>\n",
       "      <td>0</td>\n",
       "      <td>even my brother is not like to speak with me. ...</td>\n",
       "    </tr>\n",
       "    <tr>\n",
       "      <th>7</th>\n",
       "      <td>0</td>\n",
       "      <td>as per your request 'melle melle (oru minnamin...</td>\n",
       "    </tr>\n",
       "    <tr>\n",
       "      <th>8</th>\n",
       "      <td>1</td>\n",
       "      <td>winner!! as a valued network customer you have...</td>\n",
       "    </tr>\n",
       "    <tr>\n",
       "      <th>9</th>\n",
       "      <td>1</td>\n",
       "      <td>had your mobile 11 months or more? u r entitle...</td>\n",
       "    </tr>\n",
       "  </tbody>\n",
       "</table>\n",
       "</div>"
      ],
      "text/plain": [
       "   v1                                                 v2\n",
       "0   0  go until jurong point, crazy.. available only ...\n",
       "1   0                      ok lar... joking wif u oni...\n",
       "2   1  free entry in 2 a wkly comp to win fa cup fina...\n",
       "3   0  u dun say so early hor... u c already then say...\n",
       "4   0  nah i don't think he goes to usf, he lives aro...\n",
       "5   1  freemsg hey there darling it's been 3 week's n...\n",
       "6   0  even my brother is not like to speak with me. ...\n",
       "7   0  as per your request 'melle melle (oru minnamin...\n",
       "8   1  winner!! as a valued network customer you have...\n",
       "9   1  had your mobile 11 months or more? u r entitle..."
      ]
     },
     "execution_count": 6,
     "metadata": {},
     "output_type": "execute_result"
    }
   ],
   "source": [
    "text['v2']=text['v2'].str.lower()\n",
    "text.head(10)"
   ]
  },
  {
   "attachments": {},
   "cell_type": "markdown",
   "metadata": {},
   "source": [
    "<h4>removing stop words"
   ]
  },
  {
   "cell_type": "code",
   "execution_count": 7,
   "metadata": {},
   "outputs": [],
   "source": [
    "from nltk.corpus import stopwords\n",
    "import nltk\n"
   ]
  },
  {
   "cell_type": "code",
   "execution_count": 8,
   "metadata": {},
   "outputs": [
    {
     "data": {
      "text/html": [
       "<div>\n",
       "<style scoped>\n",
       "    .dataframe tbody tr th:only-of-type {\n",
       "        vertical-align: middle;\n",
       "    }\n",
       "\n",
       "    .dataframe tbody tr th {\n",
       "        vertical-align: top;\n",
       "    }\n",
       "\n",
       "    .dataframe thead th {\n",
       "        text-align: right;\n",
       "    }\n",
       "</style>\n",
       "<table border=\"1\" class=\"dataframe\">\n",
       "  <thead>\n",
       "    <tr style=\"text-align: right;\">\n",
       "      <th></th>\n",
       "      <th>v1</th>\n",
       "      <th>v2</th>\n",
       "    </tr>\n",
       "  </thead>\n",
       "  <tbody>\n",
       "    <tr>\n",
       "      <th>0</th>\n",
       "      <td>0</td>\n",
       "      <td>go jurong point, crazy.. available bugis n gre...</td>\n",
       "    </tr>\n",
       "    <tr>\n",
       "      <th>1</th>\n",
       "      <td>0</td>\n",
       "      <td>ok lar... joking wif u oni...</td>\n",
       "    </tr>\n",
       "    <tr>\n",
       "      <th>2</th>\n",
       "      <td>1</td>\n",
       "      <td>free entry 2 wkly comp win fa cup final tkts 2...</td>\n",
       "    </tr>\n",
       "    <tr>\n",
       "      <th>3</th>\n",
       "      <td>0</td>\n",
       "      <td>u dun say early hor... u c already say...</td>\n",
       "    </tr>\n",
       "    <tr>\n",
       "      <th>4</th>\n",
       "      <td>0</td>\n",
       "      <td>nah think goes usf, lives around though</td>\n",
       "    </tr>\n",
       "    <tr>\n",
       "      <th>5</th>\n",
       "      <td>1</td>\n",
       "      <td>freemsg hey darling 3 week's word back! i'd li...</td>\n",
       "    </tr>\n",
       "    <tr>\n",
       "      <th>6</th>\n",
       "      <td>0</td>\n",
       "      <td>even brother like speak me. treat like aids pa...</td>\n",
       "    </tr>\n",
       "    <tr>\n",
       "      <th>7</th>\n",
       "      <td>0</td>\n",
       "      <td>per request 'melle melle (oru minnaminunginte ...</td>\n",
       "    </tr>\n",
       "    <tr>\n",
       "      <th>8</th>\n",
       "      <td>1</td>\n",
       "      <td>winner!! valued network customer selected rece...</td>\n",
       "    </tr>\n",
       "    <tr>\n",
       "      <th>9</th>\n",
       "      <td>1</td>\n",
       "      <td>mobile 11 months more? u r entitled update lat...</td>\n",
       "    </tr>\n",
       "  </tbody>\n",
       "</table>\n",
       "</div>"
      ],
      "text/plain": [
       "   v1                                                 v2\n",
       "0   0  go jurong point, crazy.. available bugis n gre...\n",
       "1   0                      ok lar... joking wif u oni...\n",
       "2   1  free entry 2 wkly comp win fa cup final tkts 2...\n",
       "3   0          u dun say early hor... u c already say...\n",
       "4   0            nah think goes usf, lives around though\n",
       "5   1  freemsg hey darling 3 week's word back! i'd li...\n",
       "6   0  even brother like speak me. treat like aids pa...\n",
       "7   0  per request 'melle melle (oru minnaminunginte ...\n",
       "8   1  winner!! valued network customer selected rece...\n",
       "9   1  mobile 11 months more? u r entitled update lat..."
      ]
     },
     "execution_count": 8,
     "metadata": {},
     "output_type": "execute_result"
    }
   ],
   "source": [
    "stopword=set(stopwords.words('english'))\n",
    "def remove_stopwords(text):\n",
    "    words = text.split()\n",
    "    words = [word for word in words if word.lower() not in stopword]\n",
    "    return ' '.join(words)\n",
    "# Apply the remove_stopwords function to the 'sms' column\n",
    "text['v2'] = text['v2'].apply(remove_stopwords)\n",
    "text.head(10)"
   ]
  },
  {
   "attachments": {},
   "cell_type": "markdown",
   "metadata": {},
   "source": [
    "<h4>Stemming with Porter stemmer "
   ]
  },
  {
   "cell_type": "code",
   "execution_count": 9,
   "metadata": {},
   "outputs": [],
   "source": [
    "from nltk.stem import porter\n",
    "Pstemmer = porter.PorterStemmer()"
   ]
  },
  {
   "cell_type": "code",
   "execution_count": 10,
   "metadata": {},
   "outputs": [
    {
     "data": {
      "text/html": [
       "<div>\n",
       "<style scoped>\n",
       "    .dataframe tbody tr th:only-of-type {\n",
       "        vertical-align: middle;\n",
       "    }\n",
       "\n",
       "    .dataframe tbody tr th {\n",
       "        vertical-align: top;\n",
       "    }\n",
       "\n",
       "    .dataframe thead th {\n",
       "        text-align: right;\n",
       "    }\n",
       "</style>\n",
       "<table border=\"1\" class=\"dataframe\">\n",
       "  <thead>\n",
       "    <tr style=\"text-align: right;\">\n",
       "      <th></th>\n",
       "      <th>v1</th>\n",
       "      <th>v2</th>\n",
       "    </tr>\n",
       "  </thead>\n",
       "  <tbody>\n",
       "    <tr>\n",
       "      <th>0</th>\n",
       "      <td>0</td>\n",
       "      <td>go jurong point, crazy.. available bugis n gre...</td>\n",
       "    </tr>\n",
       "    <tr>\n",
       "      <th>1</th>\n",
       "      <td>0</td>\n",
       "      <td>ok lar... joking wif u oni...</td>\n",
       "    </tr>\n",
       "    <tr>\n",
       "      <th>2</th>\n",
       "      <td>1</td>\n",
       "      <td>free entry 2 wkly comp win fa cup final tkts 2...</td>\n",
       "    </tr>\n",
       "    <tr>\n",
       "      <th>3</th>\n",
       "      <td>0</td>\n",
       "      <td>u dun say early hor... u c already say...</td>\n",
       "    </tr>\n",
       "    <tr>\n",
       "      <th>4</th>\n",
       "      <td>0</td>\n",
       "      <td>nah think goes usf, lives around though</td>\n",
       "    </tr>\n",
       "    <tr>\n",
       "      <th>5</th>\n",
       "      <td>1</td>\n",
       "      <td>freemsg hey darling 3 week's word back! i'd li...</td>\n",
       "    </tr>\n",
       "    <tr>\n",
       "      <th>6</th>\n",
       "      <td>0</td>\n",
       "      <td>even brother like speak me. treat like aids pa...</td>\n",
       "    </tr>\n",
       "    <tr>\n",
       "      <th>7</th>\n",
       "      <td>0</td>\n",
       "      <td>per request 'melle melle (oru minnaminunginte ...</td>\n",
       "    </tr>\n",
       "    <tr>\n",
       "      <th>8</th>\n",
       "      <td>1</td>\n",
       "      <td>winner!! valued network customer selected rece...</td>\n",
       "    </tr>\n",
       "    <tr>\n",
       "      <th>9</th>\n",
       "      <td>1</td>\n",
       "      <td>mobile 11 months more? u r entitled update lat...</td>\n",
       "    </tr>\n",
       "  </tbody>\n",
       "</table>\n",
       "</div>"
      ],
      "text/plain": [
       "   v1                                                 v2\n",
       "0   0  go jurong point, crazy.. available bugis n gre...\n",
       "1   0                      ok lar... joking wif u oni...\n",
       "2   1  free entry 2 wkly comp win fa cup final tkts 2...\n",
       "3   0          u dun say early hor... u c already say...\n",
       "4   0            nah think goes usf, lives around though\n",
       "5   1  freemsg hey darling 3 week's word back! i'd li...\n",
       "6   0  even brother like speak me. treat like aids pa...\n",
       "7   0  per request 'melle melle (oru minnaminunginte ...\n",
       "8   1  winner!! valued network customer selected rece...\n",
       "9   1  mobile 11 months more? u r entitled update lat..."
      ]
     },
     "execution_count": 10,
     "metadata": {},
     "output_type": "execute_result"
    }
   ],
   "source": [
    "text['v2'] = [Pstemmer.stem(word=wo) for wo in text['v2']]\n",
    "text.head(10)"
   ]
  },
  {
   "cell_type": "markdown",
   "metadata": {},
   "source": [
    "<h1>store preprocessed data"
   ]
  },
  {
   "cell_type": "code",
   "execution_count": 11,
   "metadata": {},
   "outputs": [],
   "source": [
    "text.to_csv('ready_text.csv')"
   ]
  },
  {
   "attachments": {},
   "cell_type": "markdown",
   "metadata": {},
   "source": [
    "<h2>Tokenization-TF*IDF"
   ]
  },
  {
   "cell_type": "code",
   "execution_count": 12,
   "metadata": {},
   "outputs": [],
   "source": [
    "from sklearn.feature_extraction.text import TfidfVectorizer"
   ]
  },
  {
   "cell_type": "code",
   "execution_count": 13,
   "metadata": {},
   "outputs": [
    {
     "data": {
      "text/plain": [
       "<5572x8820 sparse matrix of type '<class 'numpy.float64'>'\n",
       "\twith 50149 stored elements in Compressed Sparse Row format>"
      ]
     },
     "execution_count": 13,
     "metadata": {},
     "output_type": "execute_result"
    }
   ],
   "source": [
    "TFFi=TfidfVectorizer()\n",
    "tffi_tokenized_text=TFFi.fit_transform(text['v2'])\n",
    "tffi_tokenized_text\n"
   ]
  },
  {
   "attachments": {},
   "cell_type": "markdown",
   "metadata": {},
   "source": [
    "<h1>Bag of Word"
   ]
  },
  {
   "cell_type": "code",
   "execution_count": 14,
   "metadata": {},
   "outputs": [],
   "source": [
    "from sklearn.feature_extraction.text import CountVectorizer"
   ]
  },
  {
   "cell_type": "code",
   "execution_count": 15,
   "metadata": {},
   "outputs": [
    {
     "name": "stdout",
     "output_type": "stream",
     "text": [
      "[[0 0 0 ... 0 0 0]\n",
      " [0 0 0 ... 0 0 0]\n",
      " [0 0 0 ... 0 0 0]\n",
      " ...\n",
      " [0 0 0 ... 0 0 0]\n",
      " [0 0 0 ... 0 0 0]\n",
      " [0 0 0 ... 0 0 0]]\n"
     ]
    }
   ],
   "source": [
    "vectorizer = CountVectorizer()\n",
    "bow_model = vectorizer.fit_transform(text['v2'])\n",
    "bow_tokenized_text=bow_model.toarray()      # returns the rows and column number of cells which have 1 as value\n",
    "print(bow_tokenized_text)  "
   ]
  },
  {
   "attachments": {},
   "cell_type": "markdown",
   "metadata": {},
   "source": [
    "<h1>Split data to Train and test "
   ]
  },
  {
   "cell_type": "code",
   "execution_count": 16,
   "metadata": {},
   "outputs": [],
   "source": [
    "from sklearn.model_selection import train_test_split"
   ]
  },
  {
   "cell_type": "code",
   "execution_count": 17,
   "metadata": {},
   "outputs": [],
   "source": [
    "tffi_x_train,tffi_x_test,tffi_y_train,tffi_y_test=train_test_split(tffi_tokenized_text,text['v1'],random_state=42,shuffle=True,test_size=0.3,stratify=text['v1'])\n",
    "bow_x_train,bow_x_test,bow_y_train,bow_y_test=train_test_split(bow_tokenized_text,text['v1'],random_state=42,shuffle=True,test_size=0.3,stratify=text['v1'])"
   ]
  },
  {
   "attachments": {},
   "cell_type": "markdown",
   "metadata": {},
   "source": [
    "<h1>measures"
   ]
  },
  {
   "cell_type": "code",
   "execution_count": 18,
   "metadata": {},
   "outputs": [],
   "source": [
    "from sklearn.metrics import recall_score,accuracy_score,precision_score,f1_score"
   ]
  },
  {
   "attachments": {},
   "cell_type": "markdown",
   "metadata": {},
   "source": [
    "<h1>KNN"
   ]
  },
  {
   "cell_type": "code",
   "execution_count": 19,
   "metadata": {},
   "outputs": [],
   "source": [
    "from sklearn.neighbors import KNeighborsClassifier"
   ]
  },
  {
   "cell_type": "code",
   "execution_count": 20,
   "metadata": {},
   "outputs": [
    {
     "data": {
      "text/plain": [
       "0.9479665071770335"
      ]
     },
     "execution_count": 20,
     "metadata": {},
     "output_type": "execute_result"
    }
   ],
   "source": [
    "tffi_knn=KNeighborsClassifier(n_neighbors=13)\n",
    "tffi_knn.fit(tffi_x_train,tffi_y_train)\n",
    "knn_tffi_pred=tffi_knn.predict(X=tffi_x_test)\n",
    "tffi_knn.score(X=tffi_x_test,y=tffi_y_test)"
   ]
  },
  {
   "cell_type": "code",
   "execution_count": 21,
   "metadata": {},
   "outputs": [
    {
     "data": {
      "text/plain": [
       "0.8773923444976076"
      ]
     },
     "execution_count": 21,
     "metadata": {},
     "output_type": "execute_result"
    }
   ],
   "source": [
    "bow_knn=KNeighborsClassifier(n_neighbors=13)\n",
    "bow_knn.fit(X=bow_x_train,y=bow_y_train)\n",
    "knn_bow_pred=bow_knn.predict(X=bow_x_test)\n",
    "bow_knn.score(X=bow_x_test,y=bow_y_test)"
   ]
  },
  {
   "attachments": {},
   "cell_type": "markdown",
   "metadata": {},
   "source": [
    "<h2>Measurin knn algorithms\n"
   ]
  },
  {
   "cell_type": "code",
   "execution_count": 22,
   "metadata": {},
   "outputs": [
    {
     "name": "stdout",
     "output_type": "stream",
     "text": [
      "Measuring knn wit TF*IDF :\n",
      "\n",
      "Accuracy: 0.9479665071770335\n",
      "Recall: 0.6116071428571429\n",
      "Precision: 1.0\n",
      "F1-score: 0.7590027700831026\n",
      "\n",
      "\n",
      "Measuring knn wit BOW :\n",
      "\n",
      "Accuracy: 0.8773923444976076\n",
      "Recall: 0.08482142857142858\n",
      "Precision: 1.0\n",
      "F1-score: 0.15637860082304528\n"
     ]
    }
   ],
   "source": [
    "knn_tffi_precision = precision_score(tffi_y_test, knn_tffi_pred)\n",
    "knn_tffi_recall = recall_score(tffi_y_test, knn_tffi_pred)\n",
    "knn_tffi_f1 = f1_score(tffi_y_test, knn_tffi_pred)\n",
    "knn_tffi_accuracy = accuracy_score(tffi_y_test, knn_tffi_pred)\n",
    "print(\"Measuring knn wit TF*IDF :\\n\")\n",
    "print(\"Accuracy:\", knn_tffi_accuracy)\n",
    "print(\"Recall:\", knn_tffi_recall)\n",
    "print(\"Precision:\", knn_tffi_precision)\n",
    "print(\"F1-score:\", knn_tffi_f1)\n",
    "\n",
    "knn_bow_precision = precision_score(bow_y_test, knn_bow_pred)\n",
    "knn_bow_recall = recall_score(bow_y_test, knn_bow_pred)\n",
    "knn_bow_f1 = f1_score(bow_y_test, knn_bow_pred)\n",
    "knn_bow_accuracy = accuracy_score(bow_y_test, knn_bow_pred)\n",
    "print(\"\\n\\nMeasuring knn wit BOW :\\n\")\n",
    "print(\"Accuracy:\", knn_bow_accuracy)\n",
    "print(\"Recall:\", knn_bow_recall)\n",
    "print(\"Precision:\", knn_bow_precision)\n",
    "print(\"F1-score:\", knn_bow_f1)"
   ]
  },
  {
   "attachments": {},
   "cell_type": "markdown",
   "metadata": {},
   "source": [
    "<h1>Random forest"
   ]
  },
  {
   "cell_type": "code",
   "execution_count": 23,
   "metadata": {},
   "outputs": [],
   "source": [
    "from sklearn.ensemble import RandomForestClassifier"
   ]
  },
  {
   "attachments": {},
   "cell_type": "markdown",
   "metadata": {},
   "source": [
    "<h5>Random forest with TF*IDF"
   ]
  },
  {
   "cell_type": "code",
   "execution_count": 24,
   "metadata": {},
   "outputs": [
    {
     "data": {
      "text/plain": [
       "0.9742822966507177"
      ]
     },
     "execution_count": 24,
     "metadata": {},
     "output_type": "execute_result"
    }
   ],
   "source": [
    "tffi_Random_F=RandomForestClassifier(n_estimators=31,criterion='gini')\n",
    "tffi_Random_F.fit(tffi_x_train,tffi_y_train)\n",
    "tffi_Randmon_F_pred=tffi_Random_F.predict(X=tffi_x_test)\n",
    "tffi_Random_F.score(X=tffi_x_test,y=tffi_y_test)"
   ]
  },
  {
   "attachments": {},
   "cell_type": "markdown",
   "metadata": {},
   "source": [
    "<h5>Random_forest with BOW"
   ]
  },
  {
   "cell_type": "code",
   "execution_count": 25,
   "metadata": {},
   "outputs": [
    {
     "data": {
      "text/plain": [
       "0.9754784688995215"
      ]
     },
     "execution_count": 25,
     "metadata": {},
     "output_type": "execute_result"
    }
   ],
   "source": [
    "bow_Random_F=RandomForestClassifier(n_estimators=31,criterion='gini')\n",
    "bow_Random_F.fit(bow_x_train,bow_y_train)\n",
    "bow_Randmon_F_pred=bow_Random_F.predict(X=bow_x_test)\n",
    "bow_Random_F.score(X=bow_x_test,y=bow_y_test)"
   ]
  },
  {
   "attachments": {},
   "cell_type": "markdown",
   "metadata": {},
   "source": [
    "<h4>Measuring both Random Forest "
   ]
  },
  {
   "cell_type": "code",
   "execution_count": 26,
   "metadata": {},
   "outputs": [
    {
     "name": "stdout",
     "output_type": "stream",
     "text": [
      "Measuring Random forest wit TF*IDF :\n",
      "\n",
      "Accuracy: 0.9742822966507177\n",
      "Recall: 0.8080357142857143\n",
      "Precision: 1.0\n",
      "F1-score: 0.8938271604938272\n",
      "\n",
      "\n",
      "Measuring Random forest wit BOW :\n",
      "\n",
      "Accuracy: 0.9754784688995215\n",
      "Recall: 0.8169642857142857\n",
      "Precision: 1.0\n",
      "F1-score: 0.8992628992628993\n"
     ]
    }
   ],
   "source": [
    "tffi_Random_F_precision = precision_score(tffi_y_test, tffi_Randmon_F_pred)\n",
    "tffi_Random_F_recall = recall_score(tffi_y_test, tffi_Randmon_F_pred)\n",
    "tffi_Random_F_f1 = f1_score(tffi_y_test, tffi_Randmon_F_pred)\n",
    "tffi_Random_F_accuracy = accuracy_score(tffi_y_test, tffi_Randmon_F_pred)\n",
    "print(\"Measuring Random forest wit TF*IDF :\\n\")\n",
    "print(\"Accuracy:\", tffi_Random_F_accuracy)\n",
    "print(\"Recall:\", tffi_Random_F_recall)\n",
    "print(\"Precision:\", tffi_Random_F_precision)\n",
    "print(\"F1-score:\", tffi_Random_F_f1)\n",
    "\n",
    "bow_Random_F_precision = precision_score(bow_y_test, bow_Randmon_F_pred)\n",
    "bow_Random_F_recall = recall_score(bow_y_test, bow_Randmon_F_pred)\n",
    "bow_Random_F_f1 = f1_score(bow_y_test, bow_Randmon_F_pred)\n",
    "bow_Random_F_accuracy = accuracy_score(bow_y_test, bow_Randmon_F_pred)\n",
    "print(\"\\n\\nMeasuring Random forest wit BOW :\\n\")\n",
    "print(\"Accuracy:\", bow_Random_F_accuracy)\n",
    "print(\"Recall:\", bow_Random_F_recall)\n",
    "print(\"Precision:\", bow_Random_F_precision)\n",
    "print(\"F1-score:\", bow_Random_F_f1)"
   ]
  },
  {
   "attachments": {},
   "cell_type": "markdown",
   "metadata": {},
   "source": [
    "<h1>SVM"
   ]
  },
  {
   "cell_type": "code",
   "execution_count": 27,
   "metadata": {},
   "outputs": [],
   "source": [
    "from sklearn import svm"
   ]
  },
  {
   "attachments": {},
   "cell_type": "markdown",
   "metadata": {},
   "source": [
    "<h5>SVM with TF*IDF"
   ]
  },
  {
   "cell_type": "code",
   "execution_count": 28,
   "metadata": {},
   "outputs": [
    {
     "data": {
      "text/plain": [
       "0.9838516746411483"
      ]
     },
     "execution_count": 28,
     "metadata": {},
     "output_type": "execute_result"
    }
   ],
   "source": [
    "tffi_SVM=svm.SVC(kernel='rbf',C=10,gamma=0.1)\n",
    "tffi_SVM.fit(tffi_x_train,tffi_y_train)\n",
    "tffi_SVM_pred=tffi_SVM.predict(X=tffi_x_test)\n",
    "tffi_SVM.score(X=tffi_x_test,y=tffi_y_test)"
   ]
  },
  {
   "attachments": {},
   "cell_type": "markdown",
   "metadata": {},
   "source": [
    "<h5>SVM with BOW"
   ]
  },
  {
   "cell_type": "code",
   "execution_count": 29,
   "metadata": {},
   "outputs": [
    {
     "data": {
      "text/plain": [
       "0.9784688995215312"
      ]
     },
     "execution_count": 29,
     "metadata": {},
     "output_type": "execute_result"
    }
   ],
   "source": [
    "bow_SVM=svm.SVC(kernel='rbf',C=10,gamma=0.1)\n",
    "bow_SVM.fit(bow_x_train,bow_y_train)\n",
    "bow_SVM_pred=bow_SVM.predict(X=bow_x_test)\n",
    "bow_SVM.score(X=bow_x_test,y=bow_y_test)"
   ]
  },
  {
   "attachments": {},
   "cell_type": "markdown",
   "metadata": {},
   "source": [
    "<h3>Measuring SVM"
   ]
  },
  {
   "cell_type": "code",
   "execution_count": 30,
   "metadata": {},
   "outputs": [
    {
     "name": "stdout",
     "output_type": "stream",
     "text": [
      "Measuring SVM wit TF*IDF :\n",
      "\n",
      "Accuracy: 0.9838516746411483\n",
      "Recall: 0.8928571428571429\n",
      "Precision: 0.9852216748768473\n",
      "F1-score: 0.936768149882904\n",
      "\n",
      "\n",
      "Measuring SVM wit BOW :\n",
      "\n",
      "Accuracy: 0.9784688995215312\n",
      "Recall: 0.8392857142857143\n",
      "Precision: 1.0\n",
      "F1-score: 0.9126213592233009\n"
     ]
    }
   ],
   "source": [
    "tffi_SVM_precision = precision_score(tffi_y_test, tffi_SVM_pred)\n",
    "tffi_SVM_recall = recall_score(tffi_y_test, tffi_SVM_pred)\n",
    "tffi_SVM_f1 = f1_score(tffi_y_test, tffi_SVM_pred)\n",
    "tffi_SVM_accuracy = accuracy_score(tffi_y_test, tffi_SVM_pred)\n",
    "print(\"Measuring SVM wit TF*IDF :\\n\")\n",
    "print(\"Accuracy:\", tffi_SVM_accuracy)\n",
    "print(\"Recall:\", tffi_SVM_recall)\n",
    "print(\"Precision:\", tffi_SVM_precision)\n",
    "print(\"F1-score:\", tffi_SVM_f1)\n",
    "\n",
    "bow_SVM_precision = precision_score(bow_y_test, bow_SVM_pred)\n",
    "bow_SVM_recall = recall_score(bow_y_test, bow_SVM_pred)\n",
    "bow_SVM_f1 = f1_score(bow_y_test, bow_SVM_pred)\n",
    "bow_SVM_accuracy = accuracy_score(bow_y_test, bow_SVM_pred)\n",
    "print(\"\\n\\nMeasuring SVM wit BOW :\\n\")\n",
    "print(\"Accuracy:\", bow_SVM_accuracy)\n",
    "print(\"Recall:\", bow_SVM_recall)\n",
    "print(\"Precision:\", bow_SVM_precision)\n",
    "print(\"F1-score:\", bow_SVM_f1)"
   ]
  },
  {
   "attachments": {},
   "cell_type": "markdown",
   "metadata": {},
   "source": [
    "<h1>Learning MLP"
   ]
  },
  {
   "cell_type": "code",
   "execution_count": 31,
   "metadata": {},
   "outputs": [],
   "source": [
    "from tensorflow import  keras\n",
    "from keras.models import Sequential\n",
    "from keras.layers import Dense\n",
    "from keras.optimizers import Adam"
   ]
  },
  {
   "attachments": {},
   "cell_type": "markdown",
   "metadata": {},
   "source": [
    "<h5>split TF*IDF data"
   ]
  },
  {
   "cell_type": "code",
   "execution_count": 32,
   "metadata": {},
   "outputs": [],
   "source": [
    "mlp_tf_x_train_full, mlp_tf_x_test, mlp_tf_y_train_full, mlp_tf_y_test = train_test_split(tffi_tokenized_text.toarray(),text['v1'],random_state=42,shuffle=True,test_size=0.1,stratify=text['v1'])\n",
    "mlp_tf_x_train,mlp_tf_x_valid, mlp_tf_y_train, mlp_tf_y_valid = train_test_split(mlp_tf_x_train_full, mlp_tf_y_train_full,test_size=0.1)\n"
   ]
  },
  {
   "attachments": {},
   "cell_type": "markdown",
   "metadata": {},
   "source": [
    "<h5>split BOW data"
   ]
  },
  {
   "cell_type": "code",
   "execution_count": 33,
   "metadata": {},
   "outputs": [],
   "source": [
    "mlp_bow_x_train_full, mlp_bow_x_test, mlp_bow_y_train_full, mlp_bow_y_test = train_test_split(bow_tokenized_text,text['v1'],random_state=42,shuffle=True,test_size=0.1,stratify=text['v1'])\n",
    "mlp_bow_x_train,mlp_bow_x_valid, mlp_bow_y_train, mlp_bow_y_valid = train_test_split(mlp_bow_x_train_full, mlp_bow_y_train_full,test_size=0.1)\n"
   ]
  },
  {
   "attachments": {},
   "cell_type": "markdown",
   "metadata": {},
   "source": [
    "<h3>MLP with TF*IDF"
   ]
  },
  {
   "cell_type": "code",
   "execution_count": 34,
   "metadata": {},
   "outputs": [],
   "source": [
    "from tensorflow import  keras\n",
    "import random\n",
    "from keras.models import Sequential\n",
    "from keras.layers import Dense\n",
    "import numpy as np"
   ]
  },
  {
   "cell_type": "code",
   "execution_count": 35,
   "metadata": {},
   "outputs": [],
   "source": [
    "model1 = Sequential()\n",
    "model1.add(Dense(200, activation='relu', input_shape=(mlp_tf_x_train.shape[1],)))\n",
    "model1.add(Dense(1, activation='sigmoid'))"
   ]
  },
  {
   "attachments": {},
   "cell_type": "markdown",
   "metadata": {},
   "source": [
    "compile model"
   ]
  },
  {
   "cell_type": "code",
   "execution_count": 36,
   "metadata": {},
   "outputs": [],
   "source": [
    "model1.compile(optimizer=Adam(learning_rate=0.001), loss='binary_crossentropy', metrics=['accuracy'])"
   ]
  },
  {
   "attachments": {},
   "cell_type": "markdown",
   "metadata": {},
   "source": [
    "Train and Evaluate"
   ]
  },
  {
   "cell_type": "code",
   "execution_count": 37,
   "metadata": {},
   "outputs": [
    {
     "name": "stdout",
     "output_type": "stream",
     "text": [
      "Epoch 1/10\n"
     ]
    },
    {
     "name": "stdout",
     "output_type": "stream",
     "text": [
      "141/141 [==============================] - 1s 6ms/step - loss: 0.3321 - accuracy: 0.9016 - val_loss: 0.1169 - val_accuracy: 0.9721\n",
      "Epoch 2/10\n",
      "141/141 [==============================] - 1s 5ms/step - loss: 0.0589 - accuracy: 0.9854 - val_loss: 0.0510 - val_accuracy: 0.9880\n",
      "Epoch 3/10\n",
      "141/141 [==============================] - 1s 5ms/step - loss: 0.0197 - accuracy: 0.9962 - val_loss: 0.0399 - val_accuracy: 0.9920\n",
      "Epoch 4/10\n",
      "141/141 [==============================] - 1s 5ms/step - loss: 0.0091 - accuracy: 0.9984 - val_loss: 0.0355 - val_accuracy: 0.9940\n",
      "Epoch 5/10\n",
      "141/141 [==============================] - 1s 5ms/step - loss: 0.0049 - accuracy: 0.9998 - val_loss: 0.0346 - val_accuracy: 0.9940\n",
      "Epoch 6/10\n",
      "141/141 [==============================] - 1s 5ms/step - loss: 0.0030 - accuracy: 0.9998 - val_loss: 0.0346 - val_accuracy: 0.9940\n",
      "Epoch 7/10\n",
      "141/141 [==============================] - 1s 5ms/step - loss: 0.0020 - accuracy: 1.0000 - val_loss: 0.0330 - val_accuracy: 0.9940\n",
      "Epoch 8/10\n",
      "141/141 [==============================] - 1s 5ms/step - loss: 0.0014 - accuracy: 1.0000 - val_loss: 0.0338 - val_accuracy: 0.9940\n",
      "Epoch 9/10\n",
      "141/141 [==============================] - 1s 5ms/step - loss: 0.0011 - accuracy: 1.0000 - val_loss: 0.0331 - val_accuracy: 0.9940\n",
      "Epoch 10/10\n",
      "141/141 [==============================] - 1s 5ms/step - loss: 8.2433e-04 - accuracy: 1.0000 - val_loss: 0.0333 - val_accuracy: 0.9940\n",
      "18/18 [==============================] - 0s 2ms/step - loss: 0.0919 - accuracy: 0.9749\n",
      "Test loss: 0.09187789261341095\n",
      "Test accuracy: 0.9749103784561157\n"
     ]
    }
   ],
   "source": [
    "history1 = model1.fit(mlp_tf_x_train, mlp_tf_y_train, validation_data=(mlp_tf_x_valid, mlp_tf_y_valid), epochs=10, batch_size=32)\n",
    "# Evaluate the model\n",
    "score1 = model1.evaluate(mlp_tf_x_test, mlp_tf_y_test)\n",
    "print('Test loss:', score1[0])\n",
    "print('Test accuracy:', score1[1])"
   ]
  },
  {
   "attachments": {},
   "cell_type": "markdown",
   "metadata": {},
   "source": [
    "<h4>evaluate model on trainig data"
   ]
  },
  {
   "cell_type": "markdown",
   "metadata": {},
   "source": [
    "<h1>plot train and test acurracy plot"
   ]
  },
  {
   "cell_type": "code",
   "execution_count": 38,
   "metadata": {},
   "outputs": [],
   "source": [
    "from matplotlib import pyplot"
   ]
  },
  {
   "cell_type": "code",
   "execution_count": 39,
   "metadata": {},
   "outputs": [
    {
     "data": {
      "image/png": "[encoded data removed]",
      "text/plain": [
       "<Figure size 432x288 with 1 Axes>"
      ]
     },
     "metadata": {
      "needs_background": "light"
     },
     "output_type": "display_data"
    }
   ],
   "source": [
    "pyplot.plot(history1.history['accuracy'], label='train')\n",
    "pyplot.plot(history1.history['val_accuracy'], label='test')\n",
    "pyplot.legend()\n",
    "pyplot.show()"
   ]
  },
  {
   "cell_type": "code",
   "execution_count": 40,
   "metadata": {},
   "outputs": [
    {
     "name": "stdout",
     "output_type": "stream",
     "text": [
      "  1/141 [..............................] - ETA: 2s - loss: 2.3303e-04 - accuracy: 1.0000"
     ]
    },
    {
     "name": "stdout",
     "output_type": "stream",
     "text": [
      "141/141 [==============================] - 0s 2ms/step - loss: 6.9204e-04 - accuracy: 1.0000\n",
      "Train Loss: 0.0006920380983501673\n",
      "Train Accuracy: 1.0\n"
     ]
    }
   ],
   "source": [
    "# Evaluating the model on the train set\n",
    "train_loss1, train_accuracy1 = model1.evaluate(mlp_tf_x_train, mlp_tf_y_train)\n",
    "print(\"Train Loss:\", train_loss1)\n",
    "print(\"Train Accuracy:\", train_accuracy1)"
   ]
  },
  {
   "attachments": {},
   "cell_type": "markdown",
   "metadata": {},
   "source": [
    "<h4>evaluate model on test data"
   ]
  },
  {
   "cell_type": "code",
   "execution_count": 41,
   "metadata": {},
   "outputs": [
    {
     "name": "stdout",
     "output_type": "stream",
     "text": [
      "18/18 [==============================] - 0s 2ms/step\n",
      "Accuracy: 0.974910394265233\n",
      "Recall: 0.8133333333333334\n",
      "Precision: 1.0\n",
      "F1-score: 0.8970588235294117\n"
     ]
    }
   ],
   "source": [
    "y_pred_prob1 = model1.predict(mlp_tf_x_test)\n",
    "\n",
    "# Converting probabilities to class labels based on a threshold \n",
    "y_pred1 = (y_pred_prob1 >= 0.5).astype(int)\n",
    "\n",
    "# Calculating precision, recall, F1-score, and accuracy\n",
    "precision1 = precision_score(mlp_tf_y_test, y_pred1)\n",
    "recall1 = recall_score(mlp_tf_y_test, y_pred1)\n",
    "f11 = f1_score(mlp_tf_y_test, y_pred1)\n",
    "accuracy1 = accuracy_score(mlp_tf_y_test, y_pred1)\n",
    "\n",
    "print(\"Accuracy:\", accuracy1)\n",
    "print(\"Recall:\", recall1)\n",
    "print(\"Precision:\", precision1)\n",
    "print(\"F1-score:\", f11)\n"
   ]
  },
  {
   "attachments": {},
   "cell_type": "markdown",
   "metadata": {},
   "source": [
    "<h1>MLP with BOW"
   ]
  },
  {
   "attachments": {},
   "cell_type": "markdown",
   "metadata": {},
   "source": [
    "Define the neural network model"
   ]
  },
  {
   "cell_type": "code",
   "execution_count": 42,
   "metadata": {},
   "outputs": [],
   "source": [
    "model2 = Sequential()\n",
    "model2.add(Dense(200, activation='relu', input_shape=(mlp_bow_x_train.shape[1],)))\n",
    "model2.add(Dense(1, activation='sigmoid'))"
   ]
  },
  {
   "attachments": {},
   "cell_type": "markdown",
   "metadata": {},
   "source": [
    "Compile the model with SCA optimizer"
   ]
  },
  {
   "cell_type": "code",
   "execution_count": 43,
   "metadata": {},
   "outputs": [],
   "source": [
    "model2.compile(optimizer=Adam(learning_rate=0.001), loss='binary_crossentropy', metrics=['accuracy'])"
   ]
  },
  {
   "attachments": {},
   "cell_type": "markdown",
   "metadata": {},
   "source": [
    "Train and Evaluate"
   ]
  },
  {
   "cell_type": "code",
   "execution_count": 44,
   "metadata": {},
   "outputs": [
    {
     "name": "stdout",
     "output_type": "stream",
     "text": [
      "Epoch 1/10\n"
     ]
    },
    {
     "name": "stdout",
     "output_type": "stream",
     "text": [
      "141/141 [==============================] - 1s 6ms/step - loss: 0.2319 - accuracy: 0.9543 - val_loss: 0.0819 - val_accuracy: 0.9801\n",
      "Epoch 2/10\n",
      "141/141 [==============================] - 1s 6ms/step - loss: 0.0287 - accuracy: 0.9951 - val_loss: 0.0721 - val_accuracy: 0.9841\n",
      "Epoch 3/10\n",
      "141/141 [==============================] - 1s 6ms/step - loss: 0.0099 - accuracy: 0.9984 - val_loss: 0.0766 - val_accuracy: 0.9821\n",
      "Epoch 4/10\n",
      "141/141 [==============================] - 1s 6ms/step - loss: 0.0045 - accuracy: 0.9996 - val_loss: 0.0837 - val_accuracy: 0.9821\n",
      "Epoch 5/10\n",
      "141/141 [==============================] - 1s 6ms/step - loss: 0.0027 - accuracy: 0.9998 - val_loss: 0.0898 - val_accuracy: 0.9821\n",
      "Epoch 6/10\n",
      "141/141 [==============================] - 1s 6ms/step - loss: 0.0019 - accuracy: 0.9998 - val_loss: 0.0919 - val_accuracy: 0.9821\n",
      "Epoch 7/10\n",
      "141/141 [==============================] - 1s 6ms/step - loss: 0.0014 - accuracy: 0.9998 - val_loss: 0.0959 - val_accuracy: 0.9821\n",
      "Epoch 8/10\n",
      "141/141 [==============================] - 1s 6ms/step - loss: 0.0011 - accuracy: 0.9998 - val_loss: 0.0996 - val_accuracy: 0.9821\n",
      "Epoch 9/10\n",
      "141/141 [==============================] - 1s 6ms/step - loss: 8.8315e-04 - accuracy: 0.9998 - val_loss: 0.1020 - val_accuracy: 0.9821\n",
      "Epoch 10/10\n",
      "141/141 [==============================] - 1s 6ms/step - loss: 6.9740e-04 - accuracy: 0.9998 - val_loss: 0.1052 - val_accuracy: 0.9821\n",
      "18/18 [==============================] - 0s 2ms/step - loss: 0.1207 - accuracy: 0.9785\n",
      "Test loss: 0.1206890344619751\n",
      "Test accuracy: 0.9784946441650391\n"
     ]
    }
   ],
   "source": [
    "history2 = model2.fit(mlp_bow_x_train, mlp_bow_y_train, validation_data=(mlp_bow_x_valid, mlp_bow_y_valid), epochs=10, batch_size=32)\n",
    "# Evaluate the model\n",
    "score2 = model2.evaluate(mlp_bow_x_test, mlp_bow_y_test)\n",
    "print('Test loss:', score2[0])\n",
    "print('Test accuracy:', score2[1])"
   ]
  },
  {
   "attachments": {},
   "cell_type": "markdown",
   "metadata": {},
   "source": [
    "<h4>evaluate model on trainig data"
   ]
  },
  {
   "cell_type": "code",
   "execution_count": 45,
   "metadata": {},
   "outputs": [
    {
     "name": "stdout",
     "output_type": "stream",
     "text": [
      " 23/141 [===>..........................] - ETA: 0s - loss: 4.5226e-04 - accuracy: 1.0000"
     ]
    },
    {
     "name": "stdout",
     "output_type": "stream",
     "text": [
      "141/141 [==============================] - 0s 2ms/step - loss: 5.8173e-04 - accuracy: 1.0000\n",
      "Train Loss: 0.0005817331839352846\n",
      "Train Accuracy: 1.0\n"
     ]
    }
   ],
   "source": [
    "# Evaluating the model on the train set\n",
    "train_loss2, train_accuracy2 = model2.evaluate(mlp_bow_x_train, mlp_bow_y_train)\n",
    "print(\"Train Loss:\", train_loss2)\n",
    "print(\"Train Accuracy:\", train_accuracy2)"
   ]
  },
  {
   "attachments": {},
   "cell_type": "markdown",
   "metadata": {},
   "source": [
    "<h4>evaluate model on test data"
   ]
  },
  {
   "cell_type": "code",
   "execution_count": 46,
   "metadata": {},
   "outputs": [
    {
     "name": "stdout",
     "output_type": "stream",
     "text": [
      "18/18 [==============================] - 0s 2ms/step\n",
      "Accuracy: 0.978494623655914\n",
      "Recall: 0.84\n",
      "Precision: 1.0\n",
      "F1-score: 0.9130434782608696\n"
     ]
    }
   ],
   "source": [
    "y_pred_prob2 = model2.predict(mlp_bow_x_test)\n",
    "\n",
    "# Converting probabilities to class labels based on a threshold \n",
    "y_pred2 = (y_pred_prob2 >= 0.5).astype(int)\n",
    "\n",
    "# Calculating precision, recall, F1-score, and accuracy\n",
    "precision2 = precision_score(mlp_bow_y_test, y_pred2)\n",
    "recall2 = recall_score(mlp_bow_y_test, y_pred2)\n",
    "f12 = f1_score(mlp_bow_y_test, y_pred2)\n",
    "accuracy2 = accuracy_score(mlp_bow_y_test, y_pred2)\n",
    "\n",
    "print(\"Accuracy:\", accuracy2)\n",
    "print(\"Recall:\", recall2)\n",
    "print(\"Precision:\", precision2)\n",
    "print(\"F1-score:\", f12)\n"
   ]
  },
  {
   "attachments": {},
   "cell_type": "markdown",
   "metadata": {},
   "source": [
    "<h3>MLP with scaled data  TF*IDF"
   ]
  },
  {
   "cell_type": "code",
   "execution_count": 47,
   "metadata": {},
   "outputs": [],
   "source": [
    "from sklearn.preprocessing import StandardScaler"
   ]
  },
  {
   "attachments": {},
   "cell_type": "markdown",
   "metadata": {},
   "source": [
    "scailing data"
   ]
  },
  {
   "cell_type": "code",
   "execution_count": 48,
   "metadata": {},
   "outputs": [],
   "source": [
    "scaler = StandardScaler()\n",
    "mlp_tf_x_train_scaled = scaler.fit_transform(mlp_tf_x_train)\n",
    "mlp_tf_x_valid_scaled = scaler.transform(mlp_tf_x_valid)\n",
    "mlp_tf_x_test_scaled = scaler.transform(mlp_tf_x_test)"
   ]
  },
  {
   "attachments": {},
   "cell_type": "markdown",
   "metadata": {},
   "source": [
    "Defining model"
   ]
  },
  {
   "cell_type": "code",
   "execution_count": 49,
   "metadata": {},
   "outputs": [],
   "source": [
    "model3 = Sequential()\n",
    "model3.add(Dense(200, activation='relu', input_shape=(mlp_tf_x_train_scaled.shape[1],)))\n",
    "model3.add(Dense(1, activation='sigmoid'))"
   ]
  },
  {
   "attachments": {},
   "cell_type": "markdown",
   "metadata": {},
   "source": [
    "Compiling the model"
   ]
  },
  {
   "cell_type": "code",
   "execution_count": 50,
   "metadata": {},
   "outputs": [],
   "source": [
    "model3.compile(optimizer=Adam(learning_rate=0.001), loss='binary_crossentropy', metrics=['accuracy'])"
   ]
  },
  {
   "attachments": {},
   "cell_type": "markdown",
   "metadata": {},
   "source": [
    "Train and Evaluate"
   ]
  },
  {
   "cell_type": "code",
   "execution_count": 51,
   "metadata": {},
   "outputs": [
    {
     "name": "stdout",
     "output_type": "stream",
     "text": [
      "Epoch 1/10\n"
     ]
    },
    {
     "name": "stdout",
     "output_type": "stream",
     "text": [
      "141/141 [==============================] - 1s 6ms/step - loss: 2.8854 - accuracy: 0.8183 - val_loss: 0.6000 - val_accuracy: 0.9442\n",
      "Epoch 2/10\n",
      "141/141 [==============================] - 1s 6ms/step - loss: 0.0890 - accuracy: 0.9896 - val_loss: 0.2062 - val_accuracy: 0.9681\n",
      "Epoch 3/10\n",
      "141/141 [==============================] - 1s 5ms/step - loss: 0.0095 - accuracy: 0.9973 - val_loss: 0.1683 - val_accuracy: 0.9701\n",
      "Epoch 4/10\n",
      "141/141 [==============================] - 1s 6ms/step - loss: 0.0037 - accuracy: 0.9996 - val_loss: 0.1513 - val_accuracy: 0.9701\n",
      "Epoch 5/10\n",
      "141/141 [==============================] - 1s 6ms/step - loss: 0.0013 - accuracy: 0.9998 - val_loss: 0.1406 - val_accuracy: 0.9721\n",
      "Epoch 6/10\n",
      "141/141 [==============================] - 1s 6ms/step - loss: 5.5377e-04 - accuracy: 1.0000 - val_loss: 0.1333 - val_accuracy: 0.9761\n",
      "Epoch 7/10\n",
      "141/141 [==============================] - 1s 5ms/step - loss: 3.3856e-04 - accuracy: 1.0000 - val_loss: 0.1293 - val_accuracy: 0.9761\n",
      "Epoch 8/10\n",
      "141/141 [==============================] - 1s 6ms/step - loss: 2.4039e-04 - accuracy: 1.0000 - val_loss: 0.1257 - val_accuracy: 0.9761\n",
      "Epoch 9/10\n",
      "141/141 [==============================] - 1s 6ms/step - loss: 1.8323e-04 - accuracy: 1.0000 - val_loss: 0.1233 - val_accuracy: 0.9761\n",
      "Epoch 10/10\n",
      "141/141 [==============================] - 1s 6ms/step - loss: 1.4661e-04 - accuracy: 1.0000 - val_loss: 0.1214 - val_accuracy: 0.9761\n",
      "18/18 [==============================] - 0s 2ms/step - loss: 0.1741 - accuracy: 0.9713\n",
      "Test Loss: 0.1741151362657547\n",
      "Test Accuracy: 0.9713261723518372\n"
     ]
    }
   ],
   "source": [
    "history3 = model3.fit(mlp_tf_x_train_scaled, mlp_tf_y_train, validation_data=(mlp_tf_x_valid_scaled, mlp_tf_y_valid), epochs=10, batch_size=32)\n",
    "test_loss3, test_accuracy3 = model3.evaluate(mlp_tf_x_test_scaled, mlp_tf_y_test)\n",
    "print(\"Test Loss:\", test_loss3)\n",
    "print(\"Test Accuracy:\", test_accuracy3)"
   ]
  },
  {
   "attachments": {},
   "cell_type": "markdown",
   "metadata": {},
   "source": [
    "<h4>evaluate model on test data"
   ]
  },
  {
   "cell_type": "code",
   "execution_count": 52,
   "metadata": {},
   "outputs": [
    {
     "name": "stdout",
     "output_type": "stream",
     "text": [
      "18/18 [==============================] - 0s 2ms/step\n",
      "Accuracy: 0.9713261648745519\n",
      "Recall: 0.8\n",
      "Precision: 0.9836065573770492\n",
      "F1-score: 0.8823529411764706\n"
     ]
    }
   ],
   "source": [
    "y_pred_prob3 = model3.predict(mlp_tf_x_test_scaled)\n",
    "\n",
    "# Converting probabilities to class labels based on a threshold \n",
    "y_pred3 = (y_pred_prob3 >= 0.5).astype(int)\n",
    "\n",
    "# Calculating precision, recall, F1-score, and accuracy\n",
    "precision3 = precision_score(mlp_tf_y_test, y_pred3)\n",
    "recall3 = recall_score(mlp_tf_y_test, y_pred3)\n",
    "f13 = f1_score(mlp_tf_y_test, y_pred3)\n",
    "accuracy3 = accuracy_score(mlp_tf_y_test, y_pred3)\n",
    "\n",
    "print(\"Accuracy:\", accuracy3)\n",
    "print(\"Recall:\", recall3)\n",
    "print(\"Precision:\", precision3)\n",
    "print(\"F1-score:\", f13)\n"
   ]
  },
  {
   "cell_type": "code",
   "execution_count": null,
   "metadata": {},
   "outputs": [],
   "source": []
  },
  {
   "cell_type": "markdown",
   "metadata": {},
   "source": [
    "<h1>Voting betwen classifiers"
   ]
  },
  {
   "cell_type": "code",
   "execution_count": 53,
   "metadata": {},
   "outputs": [],
   "source": [
    "from sklearn.ensemble import VotingClassifier"
   ]
  },
  {
   "cell_type": "code",
   "execution_count": 54,
   "metadata": {},
   "outputs": [],
   "source": [
    "from sklearn.base import BaseEstimator, ClassifierMixin\n",
    "from keras.wrappers.scikit_learn import KerasClassifier\n",
    "class MLPClassifier(BaseEstimator, ClassifierMixin):\n",
    "    def __init__(self):\n",
    "        self.model = None\n",
    "\n",
    "    def fit(self, X, y):\n",
    "        self.model = Sequential()\n",
    "        self.model.add(Dense(200, activation='relu', input_shape=(X.shape[1],)))\n",
    "        self.model.add(Dense(1, activation='sigmoid'))\n",
    "        self.model.compile(optimizer=Adam(learning_rate=0.001), loss='binary_crossentropy', metrics=['accuracy'])\n",
    "        self.model.fit(X, y, epochs=10, batch_size=32)\n",
    "\n",
    "    def predict(self, X):\n",
    "        return np.squeeze((self.model.predict(X) > 0.5).astype(int))"
   ]
  },
  {
   "cell_type": "code",
   "execution_count": 55,
   "metadata": {},
   "outputs": [],
   "source": [
    "#votting betwen SVM and Random_f and KNN in tf-idf\n",
    "ensemble1 = VotingClassifier(estimators=[ ('SVM', tffi_SVM), ('RF', tffi_Random_F), ('knn', tffi_knn)], voting='hard')"
   ]
  },
  {
   "cell_type": "code",
   "execution_count": 56,
   "metadata": {},
   "outputs": [
    {
     "data": {
      "text/html": [
       "<style>#sk-container-id-1 {color: black;background-color: white;}#sk-container-id-1 pre{padding: 0;}#sk-container-id-1 div.sk-toggleable {background-color: white;}#sk-container-id-1 label.sk-toggleable__label {cursor: pointer;display: block;width: 100%;margin-bottom: 0;padding: 0.3em;box-sizing: border-box;text-align: center;}#sk-container-id-1 label.sk-toggleable__label-arrow:before {content: \"▸\";float: left;margin-right: 0.25em;color: #696969;}#sk-container-id-1 label.sk-toggleable__label-arrow:hover:before {color: black;}#sk-container-id-1 div.sk-estimator:hover label.sk-toggleable__label-arrow:before {color: black;}#sk-container-id-1 div.sk-toggleable__content {max-height: 0;max-width: 0;overflow: hidden;text-align: left;background-color: #f0f8ff;}#sk-container-id-1 div.sk-toggleable__content pre {margin: 0.2em;color: black;border-radius: 0.25em;background-color: #f0f8ff;}#sk-container-id-1 input.sk-toggleable__control:checked~div.sk-toggleable__content {max-height: 200px;max-width: 100%;overflow: auto;}#sk-container-id-1 input.sk-toggleable__control:checked~label.sk-toggleable__label-arrow:before {content: \"▾\";}#sk-container-id-1 div.sk-estimator input.sk-toggleable__control:checked~label.sk-toggleable__label {background-color: #d4ebff;}#sk-container-id-1 div.sk-label input.sk-toggleable__control:checked~label.sk-toggleable__label {background-color: #d4ebff;}#sk-container-id-1 input.sk-hidden--visually {border: 0;clip: rect(1px 1px 1px 1px);clip: rect(1px, 1px, 1px, 1px);height: 1px;margin: -1px;overflow: hidden;padding: 0;position: absolute;width: 1px;}#sk-container-id-1 div.sk-estimator {font-family: monospace;background-color: #f0f8ff;border: 1px dotted black;border-radius: 0.25em;box-sizing: border-box;margin-bottom: 0.5em;}#sk-container-id-1 div.sk-estimator:hover {background-color: #d4ebff;}#sk-container-id-1 div.sk-parallel-item::after {content: \"\";width: 100%;border-bottom: 1px solid gray;flex-grow: 1;}#sk-container-id-1 div.sk-label:hover label.sk-toggleable__label {background-color: #d4ebff;}#sk-container-id-1 div.sk-serial::before {content: \"\";position: absolute;border-left: 1px solid gray;box-sizing: border-box;top: 0;bottom: 0;left: 50%;z-index: 0;}#sk-container-id-1 div.sk-serial {display: flex;flex-direction: column;align-items: center;background-color: white;padding-right: 0.2em;padding-left: 0.2em;position: relative;}#sk-container-id-1 div.sk-item {position: relative;z-index: 1;}#sk-container-id-1 div.sk-parallel {display: flex;align-items: stretch;justify-content: center;background-color: white;position: relative;}#sk-container-id-1 div.sk-item::before, #sk-container-id-1 div.sk-parallel-item::before {content: \"\";position: absolute;border-left: 1px solid gray;box-sizing: border-box;top: 0;bottom: 0;left: 50%;z-index: -1;}#sk-container-id-1 div.sk-parallel-item {display: flex;flex-direction: column;z-index: 1;position: relative;background-color: white;}#sk-container-id-1 div.sk-parallel-item:first-child::after {align-self: flex-end;width: 50%;}#sk-container-id-1 div.sk-parallel-item:last-child::after {align-self: flex-start;width: 50%;}#sk-container-id-1 div.sk-parallel-item:only-child::after {width: 0;}#sk-container-id-1 div.sk-dashed-wrapped {border: 1px dashed gray;margin: 0 0.4em 0.5em 0.4em;box-sizing: border-box;padding-bottom: 0.4em;background-color: white;}#sk-container-id-1 div.sk-label label {font-family: monospace;font-weight: bold;display: inline-block;line-height: 1.2em;}#sk-container-id-1 div.sk-label-container {text-align: center;}#sk-container-id-1 div.sk-container {/* jupyter's `normalize.less` sets `[hidden] { display: none; }` but bootstrap.min.css set `[hidden] { display: none !important; }` so we also need the `!important` here to be able to override the default hidden behavior on the sphinx rendered scikit-learn.org. See: https://github.com/scikit-learn/scikit-learn/issues/21755 */display: inline-block !important;position: relative;}#sk-container-id-1 div.sk-text-repr-fallback {display: none;}</style><div id=\"sk-container-id-1\" class=\"sk-top-container\"><div class=\"sk-text-repr-fallback\"><pre>VotingClassifier(estimators=[(&#x27;SVM&#x27;, SVC(C=10, gamma=0.1)),\n",
       "                             (&#x27;RF&#x27;, RandomForestClassifier(n_estimators=31)),\n",
       "                             (&#x27;knn&#x27;, KNeighborsClassifier(n_neighbors=13))])</pre><b>In a Jupyter environment, please rerun this cell to show the HTML representation or trust the notebook. <br />On GitHub, the HTML representation is unable to render, please try loading this page with nbviewer.org.</b></div><div class=\"sk-container\" hidden><div class=\"sk-item sk-dashed-wrapped\"><div class=\"sk-label-container\"><div class=\"sk-label sk-toggleable\"><input class=\"sk-toggleable__control sk-hidden--visually\" id=\"sk-estimator-id-1\" type=\"checkbox\" ><label for=\"sk-estimator-id-1\" class=\"sk-toggleable__label sk-toggleable__label-arrow\">VotingClassifier</label><div class=\"sk-toggleable__content\"><pre>VotingClassifier(estimators=[(&#x27;SVM&#x27;, SVC(C=10, gamma=0.1)),\n",
       "                             (&#x27;RF&#x27;, RandomForestClassifier(n_estimators=31)),\n",
       "                             (&#x27;knn&#x27;, KNeighborsClassifier(n_neighbors=13))])</pre></div></div></div><div class=\"sk-parallel\"><div class=\"sk-parallel-item\"><div class=\"sk-item\"><div class=\"sk-label-container\"><div class=\"sk-label sk-toggleable\"><label>SVM</label></div></div><div class=\"sk-serial\"><div class=\"sk-item\"><div class=\"sk-estimator sk-toggleable\"><input class=\"sk-toggleable__control sk-hidden--visually\" id=\"sk-estimator-id-2\" type=\"checkbox\" ><label for=\"sk-estimator-id-2\" class=\"sk-toggleable__label sk-toggleable__label-arrow\">SVC</label><div class=\"sk-toggleable__content\"><pre>SVC(C=10, gamma=0.1)</pre></div></div></div></div></div></div><div class=\"sk-parallel-item\"><div class=\"sk-item\"><div class=\"sk-label-container\"><div class=\"sk-label sk-toggleable\"><label>RF</label></div></div><div class=\"sk-serial\"><div class=\"sk-item\"><div class=\"sk-estimator sk-toggleable\"><input class=\"sk-toggleable__control sk-hidden--visually\" id=\"sk-estimator-id-3\" type=\"checkbox\" ><label for=\"sk-estimator-id-3\" class=\"sk-toggleable__label sk-toggleable__label-arrow\">RandomForestClassifier</label><div class=\"sk-toggleable__content\"><pre>RandomForestClassifier(n_estimators=31)</pre></div></div></div></div></div></div><div class=\"sk-parallel-item\"><div class=\"sk-item\"><div class=\"sk-label-container\"><div class=\"sk-label sk-toggleable\"><label>knn</label></div></div><div class=\"sk-serial\"><div class=\"sk-item\"><div class=\"sk-estimator sk-toggleable\"><input class=\"sk-toggleable__control sk-hidden--visually\" id=\"sk-estimator-id-4\" type=\"checkbox\" ><label for=\"sk-estimator-id-4\" class=\"sk-toggleable__label sk-toggleable__label-arrow\">KNeighborsClassifier</label><div class=\"sk-toggleable__content\"><pre>KNeighborsClassifier(n_neighbors=13)</pre></div></div></div></div></div></div></div></div></div></div>"
      ],
      "text/plain": [
       "VotingClassifier(estimators=[('SVM', SVC(C=10, gamma=0.1)),\n",
       "                             ('RF', RandomForestClassifier(n_estimators=31)),\n",
       "                             ('knn', KNeighborsClassifier(n_neighbors=13))])"
      ]
     },
     "execution_count": 56,
     "metadata": {},
     "output_type": "execute_result"
    }
   ],
   "source": [
    "ensemble1.fit(tffi_x_train,tffi_y_train)"
   ]
  },
  {
   "cell_type": "code",
   "execution_count": 57,
   "metadata": {},
   "outputs": [],
   "source": [
    "ens_prd1=ensemble1.predict(tffi_x_test)"
   ]
  },
  {
   "cell_type": "code",
   "execution_count": 58,
   "metadata": {},
   "outputs": [
    {
     "name": "stdout",
     "output_type": "stream",
     "text": [
      "Accuracy: 0.979066985645933\n",
      "Recall: 0.84375\n",
      "Precision: 1.0\n",
      "F1-score: 0.9152542372881356\n"
     ]
    }
   ],
   "source": [
    "ens1_precision = precision_score(y_true=tffi_y_test, y_pred=ens_prd1)\n",
    "ens1_recall = recall_score(y_true=tffi_y_test,y_pred= ens_prd1)\n",
    "ens1_f1 = f1_score(y_true=tffi_y_test, y_pred=ens_prd1)\n",
    "ens1_accuracy = accuracy_score(y_true=tffi_y_test, y_pred=ens_prd1)\n",
    "\n",
    "print(\"Accuracy:\", ens1_accuracy)\n",
    "print(\"Recall:\", ens1_recall)\n",
    "print(\"Precision:\", ens1_precision)\n",
    "print(\"F1-score:\", ens1_f1)"
   ]
  },
  {
   "cell_type": "markdown",
   "metadata": {},
   "source": [
    "<h3>add mlp to votting"
   ]
  },
  {
   "cell_type": "code",
   "execution_count": 59,
   "metadata": {},
   "outputs": [],
   "source": [
    "mlp_classifier_tf1 = MLPClassifier()\n",
    "ensemble2 = VotingClassifier(estimators=[ ('mlp',mlp_classifier_tf1),('SVM', tffi_SVM), ('RF', tffi_Random_F), ('knn', tffi_knn)], voting='hard')"
   ]
  },
  {
   "cell_type": "code",
   "execution_count": 60,
   "metadata": {},
   "outputs": [
    {
     "name": "stdout",
     "output_type": "stream",
     "text": [
      "Epoch 1/10\n"
     ]
    },
    {
     "name": "stdout",
     "output_type": "stream",
     "text": [
      "122/122 [==============================] - 2s 11ms/step - loss: 0.3591 - accuracy: 0.8890\n",
      "Epoch 2/10\n",
      "122/122 [==============================] - 1s 11ms/step - loss: 0.0728 - accuracy: 0.9838\n",
      "Epoch 3/10\n",
      "122/122 [==============================] - 1s 11ms/step - loss: 0.0253 - accuracy: 0.9944\n",
      "Epoch 4/10\n",
      "122/122 [==============================] - 1s 11ms/step - loss: 0.0117 - accuracy: 0.9982\n",
      "Epoch 5/10\n",
      "122/122 [==============================] - 1s 11ms/step - loss: 0.0063 - accuracy: 0.9990\n",
      "Epoch 6/10\n",
      "122/122 [==============================] - 1s 10ms/step - loss: 0.0038 - accuracy: 1.0000\n",
      "Epoch 7/10\n",
      "122/122 [==============================] - 1s 11ms/step - loss: 0.0025 - accuracy: 1.0000\n",
      "Epoch 8/10\n",
      "122/122 [==============================] - 1s 10ms/step - loss: 0.0018 - accuracy: 1.0000\n",
      "Epoch 9/10\n",
      "122/122 [==============================] - 1s 10ms/step - loss: 0.0013 - accuracy: 1.0000\n",
      "Epoch 10/10\n",
      "122/122 [==============================] - 1s 11ms/step - loss: 0.0010 - accuracy: 1.0000\n"
     ]
    },
    {
     "data": {
      "text/html": [
       "<style>#sk-container-id-2 {color: black;background-color: white;}#sk-container-id-2 pre{padding: 0;}#sk-container-id-2 div.sk-toggleable {background-color: white;}#sk-container-id-2 label.sk-toggleable__label {cursor: pointer;display: block;width: 100%;margin-bottom: 0;padding: 0.3em;box-sizing: border-box;text-align: center;}#sk-container-id-2 label.sk-toggleable__label-arrow:before {content: \"▸\";float: left;margin-right: 0.25em;color: #696969;}#sk-container-id-2 label.sk-toggleable__label-arrow:hover:before {color: black;}#sk-container-id-2 div.sk-estimator:hover label.sk-toggleable__label-arrow:before {color: black;}#sk-container-id-2 div.sk-toggleable__content {max-height: 0;max-width: 0;overflow: hidden;text-align: left;background-color: #f0f8ff;}#sk-container-id-2 div.sk-toggleable__content pre {margin: 0.2em;color: black;border-radius: 0.25em;background-color: #f0f8ff;}#sk-container-id-2 input.sk-toggleable__control:checked~div.sk-toggleable__content {max-height: 200px;max-width: 100%;overflow: auto;}#sk-container-id-2 input.sk-toggleable__control:checked~label.sk-toggleable__label-arrow:before {content: \"▾\";}#sk-container-id-2 div.sk-estimator input.sk-toggleable__control:checked~label.sk-toggleable__label {background-color: #d4ebff;}#sk-container-id-2 div.sk-label input.sk-toggleable__control:checked~label.sk-toggleable__label {background-color: #d4ebff;}#sk-container-id-2 input.sk-hidden--visually {border: 0;clip: rect(1px 1px 1px 1px);clip: rect(1px, 1px, 1px, 1px);height: 1px;margin: -1px;overflow: hidden;padding: 0;position: absolute;width: 1px;}#sk-container-id-2 div.sk-estimator {font-family: monospace;background-color: #f0f8ff;border: 1px dotted black;border-radius: 0.25em;box-sizing: border-box;margin-bottom: 0.5em;}#sk-container-id-2 div.sk-estimator:hover {background-color: #d4ebff;}#sk-container-id-2 div.sk-parallel-item::after {content: \"\";width: 100%;border-bottom: 1px solid gray;flex-grow: 1;}#sk-container-id-2 div.sk-label:hover label.sk-toggleable__label {background-color: #d4ebff;}#sk-container-id-2 div.sk-serial::before {content: \"\";position: absolute;border-left: 1px solid gray;box-sizing: border-box;top: 0;bottom: 0;left: 50%;z-index: 0;}#sk-container-id-2 div.sk-serial {display: flex;flex-direction: column;align-items: center;background-color: white;padding-right: 0.2em;padding-left: 0.2em;position: relative;}#sk-container-id-2 div.sk-item {position: relative;z-index: 1;}#sk-container-id-2 div.sk-parallel {display: flex;align-items: stretch;justify-content: center;background-color: white;position: relative;}#sk-container-id-2 div.sk-item::before, #sk-container-id-2 div.sk-parallel-item::before {content: \"\";position: absolute;border-left: 1px solid gray;box-sizing: border-box;top: 0;bottom: 0;left: 50%;z-index: -1;}#sk-container-id-2 div.sk-parallel-item {display: flex;flex-direction: column;z-index: 1;position: relative;background-color: white;}#sk-container-id-2 div.sk-parallel-item:first-child::after {align-self: flex-end;width: 50%;}#sk-container-id-2 div.sk-parallel-item:last-child::after {align-self: flex-start;width: 50%;}#sk-container-id-2 div.sk-parallel-item:only-child::after {width: 0;}#sk-container-id-2 div.sk-dashed-wrapped {border: 1px dashed gray;margin: 0 0.4em 0.5em 0.4em;box-sizing: border-box;padding-bottom: 0.4em;background-color: white;}#sk-container-id-2 div.sk-label label {font-family: monospace;font-weight: bold;display: inline-block;line-height: 1.2em;}#sk-container-id-2 div.sk-label-container {text-align: center;}#sk-container-id-2 div.sk-container {/* jupyter's `normalize.less` sets `[hidden] { display: none; }` but bootstrap.min.css set `[hidden] { display: none !important; }` so we also need the `!important` here to be able to override the default hidden behavior on the sphinx rendered scikit-learn.org. See: https://github.com/scikit-learn/scikit-learn/issues/21755 */display: inline-block !important;position: relative;}#sk-container-id-2 div.sk-text-repr-fallback {display: none;}</style><div id=\"sk-container-id-2\" class=\"sk-top-container\"><div class=\"sk-text-repr-fallback\"><pre>VotingClassifier(estimators=[(&#x27;mlp&#x27;, MLPClassifier()),\n",
       "                             (&#x27;SVM&#x27;, SVC(C=10, gamma=0.1)),\n",
       "                             (&#x27;RF&#x27;, RandomForestClassifier(n_estimators=31)),\n",
       "                             (&#x27;knn&#x27;, KNeighborsClassifier(n_neighbors=13))])</pre><b>In a Jupyter environment, please rerun this cell to show the HTML representation or trust the notebook. <br />On GitHub, the HTML representation is unable to render, please try loading this page with nbviewer.org.</b></div><div class=\"sk-container\" hidden><div class=\"sk-item sk-dashed-wrapped\"><div class=\"sk-label-container\"><div class=\"sk-label sk-toggleable\"><input class=\"sk-toggleable__control sk-hidden--visually\" id=\"sk-estimator-id-5\" type=\"checkbox\" ><label for=\"sk-estimator-id-5\" class=\"sk-toggleable__label sk-toggleable__label-arrow\">VotingClassifier</label><div class=\"sk-toggleable__content\"><pre>VotingClassifier(estimators=[(&#x27;mlp&#x27;, MLPClassifier()),\n",
       "                             (&#x27;SVM&#x27;, SVC(C=10, gamma=0.1)),\n",
       "                             (&#x27;RF&#x27;, RandomForestClassifier(n_estimators=31)),\n",
       "                             (&#x27;knn&#x27;, KNeighborsClassifier(n_neighbors=13))])</pre></div></div></div><div class=\"sk-parallel\"><div class=\"sk-parallel-item\"><div class=\"sk-item\"><div class=\"sk-label-container\"><div class=\"sk-label sk-toggleable\"><label>mlp</label></div></div><div class=\"sk-serial\"><div class=\"sk-item\"><div class=\"sk-estimator sk-toggleable\"><input class=\"sk-toggleable__control sk-hidden--visually\" id=\"sk-estimator-id-6\" type=\"checkbox\" ><label for=\"sk-estimator-id-6\" class=\"sk-toggleable__label sk-toggleable__label-arrow\">MLPClassifier</label><div class=\"sk-toggleable__content\"><pre>MLPClassifier()</pre></div></div></div></div></div></div><div class=\"sk-parallel-item\"><div class=\"sk-item\"><div class=\"sk-label-container\"><div class=\"sk-label sk-toggleable\"><label>SVM</label></div></div><div class=\"sk-serial\"><div class=\"sk-item\"><div class=\"sk-estimator sk-toggleable\"><input class=\"sk-toggleable__control sk-hidden--visually\" id=\"sk-estimator-id-7\" type=\"checkbox\" ><label for=\"sk-estimator-id-7\" class=\"sk-toggleable__label sk-toggleable__label-arrow\">SVC</label><div class=\"sk-toggleable__content\"><pre>SVC(C=10, gamma=0.1)</pre></div></div></div></div></div></div><div class=\"sk-parallel-item\"><div class=\"sk-item\"><div class=\"sk-label-container\"><div class=\"sk-label sk-toggleable\"><label>RF</label></div></div><div class=\"sk-serial\"><div class=\"sk-item\"><div class=\"sk-estimator sk-toggleable\"><input class=\"sk-toggleable__control sk-hidden--visually\" id=\"sk-estimator-id-8\" type=\"checkbox\" ><label for=\"sk-estimator-id-8\" class=\"sk-toggleable__label sk-toggleable__label-arrow\">RandomForestClassifier</label><div class=\"sk-toggleable__content\"><pre>RandomForestClassifier(n_estimators=31)</pre></div></div></div></div></div></div><div class=\"sk-parallel-item\"><div class=\"sk-item\"><div class=\"sk-label-container\"><div class=\"sk-label sk-toggleable\"><label>knn</label></div></div><div class=\"sk-serial\"><div class=\"sk-item\"><div class=\"sk-estimator sk-toggleable\"><input class=\"sk-toggleable__control sk-hidden--visually\" id=\"sk-estimator-id-9\" type=\"checkbox\" ><label for=\"sk-estimator-id-9\" class=\"sk-toggleable__label sk-toggleable__label-arrow\">KNeighborsClassifier</label><div class=\"sk-toggleable__content\"><pre>KNeighborsClassifier(n_neighbors=13)</pre></div></div></div></div></div></div></div></div></div></div>"
      ],
      "text/plain": [
       "VotingClassifier(estimators=[('mlp', MLPClassifier()),\n",
       "                             ('SVM', SVC(C=10, gamma=0.1)),\n",
       "                             ('RF', RandomForestClassifier(n_estimators=31)),\n",
       "                             ('knn', KNeighborsClassifier(n_neighbors=13))])"
      ]
     },
     "execution_count": 60,
     "metadata": {},
     "output_type": "execute_result"
    }
   ],
   "source": [
    "ensemble2.fit(X=tffi_x_train,y=tffi_y_train)"
   ]
  },
  {
   "cell_type": "code",
   "execution_count": 61,
   "metadata": {},
   "outputs": [
    {
     "name": "stdout",
     "output_type": "stream",
     "text": [
      " 1/53 [..............................] - ETA: 2s"
     ]
    },
    {
     "name": "stdout",
     "output_type": "stream",
     "text": [
      "53/53 [==============================] - 0s 731us/step\n"
     ]
    }
   ],
   "source": [
    "ens_prd2=ensemble2.predict(tffi_x_test)"
   ]
  },
  {
   "cell_type": "code",
   "execution_count": 62,
   "metadata": {},
   "outputs": [
    {
     "name": "stdout",
     "output_type": "stream",
     "text": [
      "Accuracy: 0.979066985645933\n",
      "Recall: 0.84375\n",
      "Precision: 1.0\n",
      "F1-score: 0.9152542372881356\n"
     ]
    }
   ],
   "source": [
    "ens2_precision = precision_score(y_true=tffi_y_test,y_pred=ens_prd2)\n",
    "ens2_recall = recall_score(y_true=tffi_y_test, y_pred=ens_prd2)\n",
    "ens2_f1 = f1_score(y_true=tffi_y_test, y_pred=ens_prd2)\n",
    "ens2_accuracy = accuracy_score(y_true=tffi_y_test, y_pred=ens_prd2)\n",
    "\n",
    "print(\"Accuracy:\", ens2_accuracy)\n",
    "print(\"Recall:\", ens2_recall)\n",
    "print(\"Precision:\", ens2_precision)\n",
    "print(\"F1-score:\", ens2_f1)"
   ]
  },
  {
   "cell_type": "markdown",
   "metadata": {},
   "source": [
    "<h3>votting with BOW"
   ]
  },
  {
   "cell_type": "code",
   "execution_count": 63,
   "metadata": {},
   "outputs": [],
   "source": [
    "mlp_classifier_bow1 = MLPClassifier()\n",
    "ensemble3 = VotingClassifier(estimators=[('mlp',mlp_classifier_bow1),('SVM', tffi_SVM), ('RF', tffi_Random_F), ('knn', tffi_knn)], voting='hard')"
   ]
  },
  {
   "cell_type": "code",
   "execution_count": 64,
   "metadata": {},
   "outputs": [
    {
     "name": "stdout",
     "output_type": "stream",
     "text": [
      "Epoch 1/10\n"
     ]
    },
    {
     "name": "stdout",
     "output_type": "stream",
     "text": [
      "122/122 [==============================] - 1s 5ms/step - loss: 0.2560 - accuracy: 0.9490\n",
      "Epoch 2/10\n",
      "122/122 [==============================] - 1s 5ms/step - loss: 0.0356 - accuracy: 0.9931\n",
      "Epoch 3/10\n",
      "122/122 [==============================] - 1s 5ms/step - loss: 0.0121 - accuracy: 0.9977\n",
      "Epoch 4/10\n",
      "122/122 [==============================] - 1s 5ms/step - loss: 0.0054 - accuracy: 0.9995\n",
      "Epoch 5/10\n",
      "122/122 [==============================] - 1s 5ms/step - loss: 0.0033 - accuracy: 0.9997\n",
      "Epoch 6/10\n",
      "122/122 [==============================] - 1s 5ms/step - loss: 0.0023 - accuracy: 0.9997\n",
      "Epoch 7/10\n",
      "122/122 [==============================] - 1s 5ms/step - loss: 0.0017 - accuracy: 0.9997\n",
      "Epoch 8/10\n",
      "122/122 [==============================] - 1s 5ms/step - loss: 0.0013 - accuracy: 0.9997\n",
      "Epoch 9/10\n",
      "122/122 [==============================] - 1s 5ms/step - loss: 0.0011 - accuracy: 0.9997\n",
      "Epoch 10/10\n",
      "122/122 [==============================] - 1s 5ms/step - loss: 8.5206e-04 - accuracy: 0.9997\n",
      "53/53 [==============================] - 0s 2ms/step\n"
     ]
    }
   ],
   "source": [
    "ensemble3.fit(X=bow_x_train,y=bow_y_train)\n",
    "ens_prd3=ensemble3.predict(bow_x_test)\n"
   ]
  },
  {
   "cell_type": "code",
   "execution_count": 65,
   "metadata": {},
   "outputs": [
    {
     "name": "stdout",
     "output_type": "stream",
     "text": [
      "Accuracy: 0.9736842105263158\n",
      "Recall: 0.8035714285714286\n",
      "Precision: 1.0\n",
      "F1-score: 0.8910891089108911\n"
     ]
    }
   ],
   "source": [
    "ens3_precision = precision_score(y_true=bow_y_test,y_pred=ens_prd3)\n",
    "ens3_recall = recall_score(y_true=bow_y_test, y_pred=ens_prd3)\n",
    "ens3_f1 = f1_score(y_true=bow_y_test, y_pred=ens_prd3)\n",
    "ens3_accuracy = accuracy_score(y_true=bow_y_test, y_pred=ens_prd3)\n",
    "\n",
    "print(\"Accuracy:\", ens3_accuracy)\n",
    "print(\"Recall:\", ens3_recall)\n",
    "print(\"Precision:\", ens3_precision)\n",
    "print(\"F1-score:\", ens3_f1)"
   ]
  },
  {
   "cell_type": "code",
   "execution_count": null,
   "metadata": {},
   "outputs": [],
   "source": []
  },
  {
   "cell_type": "markdown",
   "metadata": {},
   "source": [
    "<h3>voting bow with out mlp"
   ]
  },
  {
   "cell_type": "code",
   "execution_count": 66,
   "metadata": {},
   "outputs": [],
   "source": [
    "ensemble4 = VotingClassifier(estimators=[ ('SVM', bow_SVM), ('RF', bow_Random_F), ('knn', bow_knn)], voting='hard')"
   ]
  },
  {
   "cell_type": "code",
   "execution_count": 67,
   "metadata": {},
   "outputs": [],
   "source": [
    "ensemble4.fit(X=bow_x_train,y=bow_y_train)\n",
    "ens_prd4=ensemble4.predict(bow_x_test)"
   ]
  },
  {
   "cell_type": "code",
   "execution_count": 68,
   "metadata": {},
   "outputs": [
    {
     "name": "stdout",
     "output_type": "stream",
     "text": [
      "Accuracy: 0.97188995215311\n",
      "Recall: 0.7901785714285714\n",
      "Precision: 1.0\n",
      "F1-score: 0.8827930174563591\n"
     ]
    }
   ],
   "source": [
    "ens4_precision = precision_score(y_true=bow_y_test,y_pred=ens_prd4)\n",
    "ens4_recall = recall_score(y_true=bow_y_test, y_pred=ens_prd4)\n",
    "ens4_f1 = f1_score(y_true=bow_y_test, y_pred=ens_prd4)\n",
    "ens4_accuracy = accuracy_score(y_true=bow_y_test, y_pred=ens_prd4)\n",
    "\n",
    "print(\"Accuracy:\", ens4_accuracy)\n",
    "print(\"Recall:\", ens4_recall)\n",
    "print(\"Precision:\", ens4_precision)\n",
    "print(\"F1-score:\", ens4_f1)"
   ]
  },
  {
   "cell_type": "code",
   "execution_count": null,
   "metadata": {},
   "outputs": [],
   "source": []
  },
  {
   "attachments": {},
   "cell_type": "markdown",
   "metadata": {},
   "source": [
    "<h1>Feature Selection with SCA algorithm"
   ]
  },
  {
   "cell_type": "code",
   "execution_count": 69,
   "metadata": {},
   "outputs": [],
   "source": [
    "import numpy as np\n",
    "from sca import SCAFUN    "
   ]
  },
  {
   "attachments": {},
   "cell_type": "markdown",
   "metadata": {},
   "source": [
    "<h3>We have to scale data"
   ]
  },
  {
   "cell_type": "code",
   "execution_count": 70,
   "metadata": {},
   "outputs": [],
   "source": [
    "scaler2=StandardScaler()\n",
    "scaled_data=scaler2.fit_transform(tffi_tokenized_text.toarray())\n"
   ]
  },
  {
   "cell_type": "code",
   "execution_count": 71,
   "metadata": {},
   "outputs": [
    {
     "data": {
      "text/plain": [
       "(5572, 8820)"
      ]
     },
     "execution_count": 71,
     "metadata": {},
     "output_type": "execute_result"
    }
   ],
   "source": [
    "scaled_obj_data=scaled_data.astype(float)\n",
    "scaled_obj_label=text['v1'].astype(float)\n",
    "scaled_obj_data.shape"
   ]
  },
  {
   "attachments": {},
   "cell_type": "markdown",
   "metadata": {},
   "source": [
    "<h3>First extract TFIDF feature vectors with SCA on scaled data"
   ]
  },
  {
   "cell_type": "code",
   "execution_count": 72,
   "metadata": {},
   "outputs": [],
   "source": [
    "scaled_x_train_SCA, scaled_x_valid_SCA, scaled_y_train_SCA, scaled_y_valid_SCA = train_test_split(scaled_obj_data, scaled_obj_label, test_size=0.2, stratify=scaled_obj_label,shuffle=True)"
   ]
  },
  {
   "cell_type": "markdown",
   "metadata": {},
   "source": [
    "<h3>SCA by MLP"
   ]
  },
  {
   "cell_type": "code",
   "execution_count": 73,
   "metadata": {},
   "outputs": [],
   "source": [
    "fold = {'x_train':scaled_x_train_SCA, 'y_train':scaled_y_train_SCA, 'x_valid':scaled_x_valid_SCA, 'y_valid':scaled_y_valid_SCA}\n",
    "T    = 5   # maximum number of iterations\n",
    "opts = {'fold':fold, 'T':T,'alpha':0.1}"
   ]
  },
  {
   "cell_type": "code",
   "execution_count": 74,
   "metadata": {},
   "outputs": [
    {
     "name": "stdout",
     "output_type": "stream",
     "text": [
      "Epoch 1/10\n",
      "140/140 [==============================] - 1s 3ms/step - loss: 0.8688\n",
      "Epoch 2/10\n",
      "140/140 [==============================] - 0s 2ms/step - loss: 0.3076\n",
      "Epoch 3/10\n",
      "140/140 [==============================] - 0s 2ms/step - loss: 0.1584\n",
      "Epoch 4/10\n",
      "140/140 [==============================] - 0s 2ms/step - loss: 0.0310\n",
      "Epoch 5/10\n",
      "140/140 [==============================] - 0s 2ms/step - loss: 0.0957\n",
      "Epoch 6/10\n",
      "140/140 [==============================] - 0s 2ms/step - loss: 0.3225\n",
      "Epoch 7/10\n",
      "140/140 [==============================] - 0s 3ms/step - loss: 0.0699\n",
      "Epoch 8/10\n",
      "140/140 [==============================] - 0s 2ms/step - loss: 0.0905\n",
      "Epoch 9/10\n",
      "140/140 [==============================] - 0s 2ms/step - loss: 0.7463\n",
      "Epoch 10/10\n",
      "140/140 [==============================] - 0s 2ms/step - loss: 0.3602\n",
      "35/35 [==============================] - 0s 992us/step\n",
      "Epoch 1/10\n",
      "140/140 [==============================] - 1s 2ms/step - loss: 0.8353\n",
      "Epoch 2/10\n",
      "140/140 [==============================] - 0s 2ms/step - loss: 0.3582\n",
      "Epoch 3/10\n",
      "140/140 [==============================] - 0s 2ms/step - loss: 0.1380\n",
      "Epoch 4/10\n",
      "140/140 [==============================] - 0s 2ms/step - loss: 0.0460\n",
      "Epoch 5/10\n",
      "140/140 [==============================] - 0s 2ms/step - loss: 0.0358\n",
      "Epoch 6/10\n",
      "140/140 [==============================] - 0s 2ms/step - loss: 0.0128\n",
      "Epoch 7/10\n",
      "140/140 [==============================] - 0s 2ms/step - loss: 0.0084\n",
      "Epoch 8/10\n",
      "140/140 [==============================] - 0s 3ms/step - loss: 0.0087\n",
      "Epoch 9/10\n",
      "140/140 [==============================] - 0s 2ms/step - loss: 0.0049\n",
      "Epoch 10/10\n",
      "140/140 [==============================] - 0s 2ms/step - loss: 0.0043\n",
      "35/35 [==============================] - 0s 941us/step\n",
      "Epoch 1/10\n",
      "140/140 [==============================] - 1s 2ms/step - loss: 0.8689\n",
      "Epoch 2/10\n",
      "140/140 [==============================] - 0s 2ms/step - loss: 0.3198\n",
      "Epoch 3/10\n",
      "140/140 [==============================] - 0s 2ms/step - loss: 0.0771\n",
      "Epoch 4/10\n",
      "140/140 [==============================] - 0s 2ms/step - loss: 0.0698\n",
      "Epoch 5/10\n",
      "140/140 [==============================] - 0s 2ms/step - loss: 0.0643\n",
      "Epoch 6/10\n",
      "140/140 [==============================] - 0s 3ms/step - loss: 0.0532\n",
      "Epoch 7/10\n",
      "140/140 [==============================] - 0s 2ms/step - loss: 0.0486\n",
      "Epoch 8/10\n",
      "140/140 [==============================] - 0s 2ms/step - loss: 0.5302\n",
      "Epoch 9/10\n",
      "140/140 [==============================] - 0s 2ms/step - loss: 3.4637\n",
      "Epoch 10/10\n",
      "140/140 [==============================] - 0s 2ms/step - loss: 1.0948\n",
      "35/35 [==============================] - 0s 905us/step\n",
      "Epoch 1/10\n",
      "140/140 [==============================] - 1s 2ms/step - loss: 1.2475\n",
      "Epoch 2/10\n",
      "140/140 [==============================] - 0s 2ms/step - loss: 0.4383\n",
      "Epoch 3/10\n",
      "140/140 [==============================] - 0s 2ms/step - loss: 0.2552\n",
      "Epoch 4/10\n",
      "140/140 [==============================] - 0s 2ms/step - loss: 0.0296\n",
      "Epoch 5/10\n",
      "140/140 [==============================] - 0s 2ms/step - loss: 0.0531\n",
      "Epoch 6/10\n",
      "140/140 [==============================] - 0s 2ms/step - loss: 0.0122\n",
      "Epoch 7/10\n",
      "140/140 [==============================] - 0s 2ms/step - loss: 0.0050\n",
      "Epoch 8/10\n",
      "140/140 [==============================] - 0s 2ms/step - loss: 0.0041\n",
      "Epoch 9/10\n",
      "140/140 [==============================] - 0s 2ms/step - loss: 0.0041\n",
      "Epoch 10/10\n",
      "140/140 [==============================] - 0s 3ms/step - loss: 0.0034\n",
      "35/35 [==============================] - 0s 1ms/step\n",
      "Epoch 1/10\n",
      "140/140 [==============================] - 1s 2ms/step - loss: 0.8617\n",
      "Epoch 2/10\n",
      "140/140 [==============================] - 0s 2ms/step - loss: 0.3117\n",
      "Epoch 3/10\n",
      "140/140 [==============================] - 0s 2ms/step - loss: 0.2245\n",
      "Epoch 4/10\n",
      "140/140 [==============================] - 0s 2ms/step - loss: 0.0122\n",
      "Epoch 5/10\n",
      "140/140 [==============================] - 0s 2ms/step - loss: 0.0101\n",
      "Epoch 6/10\n",
      "140/140 [==============================] - 0s 2ms/step - loss: 0.0090\n",
      "Epoch 7/10\n",
      "140/140 [==============================] - 0s 2ms/step - loss: 0.0054\n",
      "Epoch 8/10\n",
      "140/140 [==============================] - 0s 3ms/step - loss: 0.0057\n",
      "Epoch 9/10\n",
      "140/140 [==============================] - 0s 2ms/step - loss: 0.0060\n",
      "Epoch 10/10\n",
      "140/140 [==============================] - 0s 2ms/step - loss: 0.0041\n",
      "35/35 [==============================] - 0s 961us/step\n"
     ]
    }
   ],
   "source": [
    "SCA_output1 = SCAFUN(scaled_obj_data, scaled_obj_label, opts,'mlp')\n",
    "sf1   = SCA_output1['selected_features']"
   ]
  },
  {
   "attachments": {},
   "cell_type": "markdown",
   "metadata": {},
   "source": [
    "<h2>Size of selected features"
   ]
  },
  {
   "cell_type": "code",
   "execution_count": 75,
   "metadata": {},
   "outputs": [
    {
     "data": {
      "text/plain": [
       "4386"
      ]
     },
     "execution_count": 75,
     "metadata": {},
     "output_type": "execute_result"
    }
   ],
   "source": [
    "sf1.size"
   ]
  },
  {
   "attachments": {},
   "cell_type": "markdown",
   "metadata": {},
   "source": [
    "<h4>splite extracted scaled data"
   ]
  },
  {
   "cell_type": "code",
   "execution_count": 76,
   "metadata": {},
   "outputs": [],
   "source": [
    "sca_x_train,mlp_sca_x_test,sca_y_train,mlp_sca_y_test=train_test_split(scaled_obj_data[:,sf1],scaled_obj_label,test_size=0.3,stratify=scaled_obj_label,shuffle=True)\n"
   ]
  },
  {
   "cell_type": "code",
   "execution_count": 77,
   "metadata": {},
   "outputs": [],
   "source": [
    "mlp_sca_x_train,mlp_sca_x_valid, mlp_sca_y_train, mlp_sca_y_valid = train_test_split(sca_x_train, sca_y_train,test_size=0.2,shuffle=True)"
   ]
  },
  {
   "cell_type": "markdown",
   "metadata": {},
   "source": [
    "<h1>Make mlp with SCA features"
   ]
  },
  {
   "cell_type": "code",
   "execution_count": 78,
   "metadata": {},
   "outputs": [
    {
     "name": "stdout",
     "output_type": "stream",
     "text": [
      "Epoch 1/10\n"
     ]
    },
    {
     "name": "stdout",
     "output_type": "stream",
     "text": [
      "98/98 [==============================] - 1s 4ms/step - loss: 2.8962 - accuracy: 0.7506 - val_loss: 1.4040 - val_accuracy: 0.8141\n",
      "Epoch 2/10\n",
      "98/98 [==============================] - 0s 3ms/step - loss: 0.1798 - accuracy: 0.9731 - val_loss: 0.4862 - val_accuracy: 0.8859\n",
      "Epoch 3/10\n",
      "98/98 [==============================] - 0s 3ms/step - loss: 0.0411 - accuracy: 0.9904 - val_loss: 0.2931 - val_accuracy: 0.9167\n",
      "Epoch 4/10\n",
      "98/98 [==============================] - 0s 3ms/step - loss: 0.0225 - accuracy: 0.9939 - val_loss: 0.2661 - val_accuracy: 0.9231\n",
      "Epoch 5/10\n",
      "98/98 [==============================] - 0s 3ms/step - loss: 0.0162 - accuracy: 0.9946 - val_loss: 0.2492 - val_accuracy: 0.9346\n",
      "Epoch 6/10\n",
      "98/98 [==============================] - 0s 3ms/step - loss: 0.0126 - accuracy: 0.9955 - val_loss: 0.2580 - val_accuracy: 0.9333\n",
      "Epoch 7/10\n",
      "98/98 [==============================] - 0s 3ms/step - loss: 0.0108 - accuracy: 0.9974 - val_loss: 0.2742 - val_accuracy: 0.9346\n",
      "Epoch 8/10\n",
      "98/98 [==============================] - 0s 3ms/step - loss: 0.0090 - accuracy: 0.9990 - val_loss: 0.2888 - val_accuracy: 0.9333\n",
      "Epoch 9/10\n",
      "98/98 [==============================] - 0s 3ms/step - loss: 0.0072 - accuracy: 0.9990 - val_loss: 0.3124 - val_accuracy: 0.9269\n",
      "Epoch 10/10\n",
      "98/98 [==============================] - 0s 3ms/step - loss: 0.0057 - accuracy: 0.9994 - val_loss: 0.3342 - val_accuracy: 0.9231\n",
      "53/53 [==============================] - 0s 1ms/step - loss: 0.3347 - accuracy: 0.9318\n",
      "Test loss: 0.33467984199523926\n",
      "Test accuracy: 0.9318181872367859\n"
     ]
    }
   ],
   "source": [
    "model5 = Sequential()\n",
    "model5.add(Dense(200, activation='relu', input_shape=(mlp_sca_x_train.shape[1],)))\n",
    "model5.add(Dense(1, activation='sigmoid'))\n",
    "\n",
    "# Compile the model \n",
    "model5.compile(optimizer=Adam(learning_rate=0.001), loss='binary_crossentropy', metrics=['accuracy'])\n",
    "# Training the model\n",
    "history5 = model5.fit(mlp_sca_x_train, mlp_sca_y_train, validation_data=(mlp_sca_x_valid, mlp_sca_y_valid), epochs=10, batch_size=32)\n",
    "# Evaluate the model\n",
    "score5 = model5.evaluate(mlp_sca_x_test, mlp_sca_y_test)\n",
    "print('Test loss:', score5[0])\n",
    "print('Test accuracy:', score5[1])"
   ]
  },
  {
   "cell_type": "markdown",
   "metadata": {},
   "source": [
    "<h4>evalute model"
   ]
  },
  {
   "cell_type": "code",
   "execution_count": 79,
   "metadata": {},
   "outputs": [
    {
     "name": "stdout",
     "output_type": "stream",
     "text": [
      " 1/53 [..............................] - ETA: 1s"
     ]
    },
    {
     "name": "stdout",
     "output_type": "stream",
     "text": [
      "53/53 [==============================] - 0s 1ms/step\n",
      "Accuracy: 0.9318181818181818\n",
      "Recall: 0.875\n",
      "Precision: 0.6950354609929078\n",
      "F1-score: 0.774703557312253\n"
     ]
    }
   ],
   "source": [
    "y_pred_prob5 = model5.predict(mlp_sca_x_test)\n",
    "\n",
    "# Converting probabilities to class labels based on a threshold (e.g., 0.5)\n",
    "y_pred5 = (y_pred_prob5 >= 0.5).astype(int)\n",
    "\n",
    "# Calculating precision, recall, F1-score, and accuracy\n",
    "precision5 = precision_score(mlp_sca_y_test, y_pred5)\n",
    "recall5 = recall_score(mlp_sca_y_test, y_pred5)\n",
    "f15 = f1_score(mlp_sca_y_test, y_pred5)\n",
    "accuracy5 = accuracy_score(mlp_sca_y_test, y_pred5)\n",
    "\n",
    "print(\"Accuracy:\", accuracy5)\n",
    "print(\"Recall:\", recall5)\n",
    "print(\"Precision:\", precision5)\n",
    "print(\"F1-score:\", f15)"
   ]
  },
  {
   "cell_type": "code",
   "execution_count": null,
   "metadata": {},
   "outputs": [],
   "source": []
  },
  {
   "cell_type": "markdown",
   "metadata": {},
   "source": [
    "<h1>KNN with SCA"
   ]
  },
  {
   "cell_type": "code",
   "execution_count": 80,
   "metadata": {},
   "outputs": [
    {
     "data": {
      "text/plain": [
       "0.8672248803827751"
      ]
     },
     "execution_count": 80,
     "metadata": {},
     "output_type": "execute_result"
    }
   ],
   "source": [
    "SCA_tffi_knn=KNeighborsClassifier(n_neighbors=13)\n",
    "SCA_tffi_knn.fit(X=sca_x_train,y=sca_y_train)\n",
    "SCA_tffi_bow_pred=SCA_tffi_knn.predict(X=mlp_sca_x_test)\n",
    "SCA_tffi_knn.score(X=mlp_sca_x_test,y=mlp_sca_y_test)"
   ]
  },
  {
   "cell_type": "code",
   "execution_count": 81,
   "metadata": {},
   "outputs": [
    {
     "name": "stdout",
     "output_type": "stream",
     "text": [
      "\n",
      "\n",
      "Measuring knn wit tffi SCA :\n",
      "\n",
      "Accuracy: 0.8672248803827751\n",
      "Recall: 0.008928571428571428\n",
      "Precision: 1.0\n",
      "F1-score: 0.017699115044247787\n"
     ]
    }
   ],
   "source": [
    "\n",
    "SCA_knn_tffi_precision = precision_score(y_true=mlp_sca_y_test, y_pred=SCA_tffi_bow_pred)\n",
    "SCA_knn_tffi_recall = recall_score(y_true=mlp_sca_y_test, y_pred=SCA_tffi_bow_pred)\n",
    "SCA_knn_tffi_f1 = f1_score(y_true=mlp_sca_y_test, y_pred=SCA_tffi_bow_pred)\n",
    "SCA_knn_tffi_accuracy = accuracy_score(y_true=mlp_sca_y_test,y_pred= SCA_tffi_bow_pred)\n",
    "print(\"\\n\\nMeasuring knn wit tffi SCA :\\n\")\n",
    "print(\"Accuracy:\", SCA_knn_tffi_accuracy)\n",
    "print(\"Recall:\", SCA_knn_tffi_recall)\n",
    "print(\"Precision:\", SCA_knn_tffi_precision)\n",
    "print(\"F1-score:\", SCA_knn_tffi_f1)"
   ]
  },
  {
   "cell_type": "markdown",
   "metadata": {},
   "source": [
    "<h1>Random forest with SCA"
   ]
  },
  {
   "cell_type": "code",
   "execution_count": 82,
   "metadata": {},
   "outputs": [
    {
     "data": {
      "text/plain": [
       "0.9736842105263158"
      ]
     },
     "execution_count": 82,
     "metadata": {},
     "output_type": "execute_result"
    }
   ],
   "source": [
    "SCA_tffi_Random_F=RandomForestClassifier(n_estimators=31,criterion='gini')\n",
    "SCA_tffi_Random_F.fit(sca_x_train,sca_y_train)\n",
    "SCA_tffi_Randmon_F_pred=SCA_tffi_Random_F.predict(X=mlp_sca_x_test)\n",
    "SCA_tffi_Random_F.score(X=mlp_sca_x_test,y=mlp_sca_y_test)"
   ]
  },
  {
   "cell_type": "code",
   "execution_count": 83,
   "metadata": {},
   "outputs": [
    {
     "name": "stdout",
     "output_type": "stream",
     "text": [
      "Measuring Random forest wit TF*IDF :\n",
      "\n",
      "Accuracy: 0.9736842105263158\n",
      "Recall: 0.8214285714285714\n",
      "Precision: 0.9787234042553191\n",
      "F1-score: 0.8932038834951456\n"
     ]
    }
   ],
   "source": [
    "SCA_tffi_Random_F_precision = precision_score(y_true=mlp_sca_y_test, y_pred=SCA_tffi_Randmon_F_pred)\n",
    "SCA_tffi_Random_F_recall = recall_score(y_true=mlp_sca_y_test, y_pred=SCA_tffi_Randmon_F_pred)\n",
    "SCA_tffi_Random_F_f1 = f1_score(y_true=mlp_sca_y_test, y_pred=SCA_tffi_Randmon_F_pred)\n",
    "SCA_tffi_Random_F_accuracy = accuracy_score(y_true=mlp_sca_y_test, y_pred=SCA_tffi_Randmon_F_pred)\n",
    "print(\"Measuring Random forest wit TF*IDF :\\n\")\n",
    "print(\"Accuracy:\", SCA_tffi_Random_F_accuracy)\n",
    "print(\"Recall:\", SCA_tffi_Random_F_recall)\n",
    "print(\"Precision:\", SCA_tffi_Random_F_precision)\n",
    "print(\"F1-score:\", SCA_tffi_Random_F_f1)"
   ]
  },
  {
   "cell_type": "code",
   "execution_count": null,
   "metadata": {},
   "outputs": [],
   "source": []
  },
  {
   "cell_type": "markdown",
   "metadata": {},
   "source": [
    "<h1>SCA SVM"
   ]
  },
  {
   "cell_type": "code",
   "execution_count": 84,
   "metadata": {},
   "outputs": [
    {
     "data": {
      "text/plain": [
       "0.902511961722488"
      ]
     },
     "execution_count": 84,
     "metadata": {},
     "output_type": "execute_result"
    }
   ],
   "source": [
    "SCA_tffi_SVM=svm.SVC(kernel='rbf',C=10,gamma=0.1)\n",
    "SCA_tffi_SVM.fit(X=sca_x_train,y=sca_y_train)\n",
    "SCA_tffi_SVM_pred=SCA_tffi_SVM.predict(X=mlp_sca_x_test)\n",
    "SCA_tffi_SVM.score(X=mlp_sca_x_test,y=mlp_sca_y_test)"
   ]
  },
  {
   "cell_type": "code",
   "execution_count": 86,
   "metadata": {},
   "outputs": [
    {
     "name": "stdout",
     "output_type": "stream",
     "text": [
      "\n",
      "\n",
      "Measuring SVM wit tf_idf :\n",
      "\n",
      "Accuracy: 0.902511961722488\n",
      "Recall: 0.2767857142857143\n",
      "Precision: 0.9841269841269841\n",
      "F1-score: 0.4320557491289199\n"
     ]
    }
   ],
   "source": [
    "\n",
    "SCA_tffi_SVM_precision = precision_score(y_true=mlp_sca_y_test, y_pred=SCA_tffi_SVM_pred)\n",
    "SCA_tffi_SVM_recall = recall_score(y_true=mlp_sca_y_test, y_pred=SCA_tffi_SVM_pred)\n",
    "SCA_tffi_SVM_f1 = f1_score(y_true=mlp_sca_y_test, y_pred=SCA_tffi_SVM_pred)\n",
    "SCA_tffi_SVM_accuracy = accuracy_score(y_true=mlp_sca_y_test, y_pred=SCA_tffi_SVM_pred)\n",
    "print(\"\\n\\nMeasuring SVM wit tf_idf :\\n\")\n",
    "print(\"Accuracy:\", SCA_tffi_SVM_accuracy)\n",
    "print(\"Recall:\", SCA_tffi_SVM_recall)\n",
    "print(\"Precision:\", SCA_tffi_SVM_precision)\n",
    "print(\"F1-score:\", SCA_tffi_SVM_f1)"
   ]
  },
  {
   "cell_type": "markdown",
   "metadata": {},
   "source": [
    "<h2>votting in SCA"
   ]
  },
  {
   "cell_type": "code",
   "execution_count": 87,
   "metadata": {},
   "outputs": [],
   "source": [
    "mlp_classifier_SCA = MLPClassifier()\n",
    "ensemble5 = VotingClassifier(estimators=[ ('mlp',mlp_classifier_SCA),('SVM', SCA_tffi_SVM), ('RF', SCA_tffi_Random_F), ('knn', SCA_tffi_knn)], voting='hard')"
   ]
  },
  {
   "cell_type": "code",
   "execution_count": 88,
   "metadata": {},
   "outputs": [
    {
     "name": "stdout",
     "output_type": "stream",
     "text": [
      "Epoch 1/10\n",
      "98/98 [==============================] - 1s 4ms/step - loss: 2.3951 - accuracy: 0.7788\n",
      "Epoch 2/10\n",
      "98/98 [==============================] - 0s 4ms/step - loss: 0.2465 - accuracy: 0.9574\n",
      "Epoch 3/10\n",
      "98/98 [==============================] - 0s 4ms/step - loss: 0.0291 - accuracy: 0.9894\n",
      "Epoch 4/10\n",
      "98/98 [==============================] - 0s 4ms/step - loss: 0.0171 - accuracy: 0.9949\n",
      "Epoch 5/10\n",
      "98/98 [==============================] - 0s 3ms/step - loss: 0.0118 - accuracy: 0.9990\n",
      "Epoch 6/10\n",
      "98/98 [==============================] - 0s 3ms/step - loss: 0.0083 - accuracy: 0.9990\n",
      "Epoch 7/10\n",
      "98/98 [==============================] - 0s 3ms/step - loss: 0.0062 - accuracy: 0.9994\n",
      "Epoch 8/10\n",
      "98/98 [==============================] - 0s 3ms/step - loss: 0.0052 - accuracy: 0.9997\n",
      "Epoch 9/10\n",
      "98/98 [==============================] - 0s 4ms/step - loss: 0.0045 - accuracy: 0.9997\n",
      "Epoch 10/10\n",
      "98/98 [==============================] - 0s 4ms/step - loss: 0.0042 - accuracy: 0.9997\n"
     ]
    }
   ],
   "source": [
    "ensemble5.fit(X=mlp_sca_x_train,y=mlp_sca_y_train)"
   ]
  },
  {
   "cell_type": "code",
   "execution_count": null,
   "metadata": {},
   "outputs": [
    {
     "name": "stdout",
     "output_type": "stream",
     "text": [
      " 1/53 [..............................] - ETA: 4s"
     ]
    },
    {
     "name": "stdout",
     "output_type": "stream",
     "text": [
      "53/53 [==============================] - 0s 2ms/step\n"
     ]
    }
   ],
   "source": [
    "ens_prd5=ensemble5.predict(mlp_sca_x_test)"
   ]
  },
  {
   "cell_type": "code",
   "execution_count": null,
   "metadata": {},
   "outputs": [
    {
     "name": "stdout",
     "output_type": "stream",
     "text": [
      "Accuracy: 0.9760765550239234\n",
      "Recall: 0.8214285714285714\n",
      "Precision: 1.0\n",
      "F1-score: 0.9019607843137255\n"
     ]
    }
   ],
   "source": [
    "ens5_precision = precision_score(y_true=mlp_sca_y_test,y_pred=ens_prd5)\n",
    "ens5_recall = recall_score(y_true=mlp_sca_y_test, y_pred=ens_prd5)\n",
    "ens5_f1 = f1_score(y_true=mlp_sca_y_test, y_pred=ens_prd5)\n",
    "ens5_accuracy = accuracy_score(y_true=mlp_sca_y_test, y_pred=ens_prd5)\n",
    "\n",
    "print(\"Accuracy:\", ens5_accuracy)\n",
    "print(\"Recall:\", ens5_recall)\n",
    "print(\"Precision:\", ens5_precision)\n",
    "print(\"F1-score:\", ens5_f1)"
   ]
  },
  {
   "attachments": {},
   "cell_type": "markdown",
   "metadata": {},
   "source": [
    "<h1>Now extract BOW feature vectors with SCA "
   ]
  },
  {
   "cell_type": "code",
   "execution_count": null,
   "metadata": {},
   "outputs": [
    {
     "data": {
      "text/plain": [
       "(5572, 8820)"
      ]
     },
     "execution_count": 109,
     "metadata": {},
     "output_type": "execute_result"
    }
   ],
   "source": [
    "bow_obj_data=bow_tokenized_text.astype(float)\n",
    "bow_obj_label=text['v1'].astype(float)\n",
    "bow_obj_data.shape"
   ]
  },
  {
   "attachments": {},
   "cell_type": "markdown",
   "metadata": {},
   "source": [
    "split data to train and test"
   ]
  },
  {
   "cell_type": "code",
   "execution_count": null,
   "metadata": {},
   "outputs": [],
   "source": [
    "bow_x_train, bow_x_valid, bow_y_train, bow_y_valid = train_test_split(bow_obj_data, bow_obj_label, test_size=0.2, stratify=bow_obj_label)"
   ]
  },
  {
   "cell_type": "code",
   "execution_count": null,
   "metadata": {},
   "outputs": [],
   "source": [
    "fold = {'x_train':bow_x_train, 'y_train':bow_y_train, 'x_valid':bow_x_valid, 'y_valid':bow_y_valid}\n",
    "T    = 5   # maximum number of iterations\n",
    "opts = {'fold':fold, 'T':T,'alpha':0.1}"
   ]
  },
  {
   "cell_type": "code",
   "execution_count": null,
   "metadata": {},
   "outputs": [
    {
     "name": "stdout",
     "output_type": "stream",
     "text": [
      "Epoch 1/5\n",
      "140/140 [==============================] - 1s 3ms/step - loss: 0.1439\n",
      "Epoch 2/5\n",
      "140/140 [==============================] - 0s 3ms/step - loss: 0.0195\n",
      "Epoch 3/5\n",
      "140/140 [==============================] - 0s 3ms/step - loss: 0.0059\n",
      "Epoch 4/5\n",
      "140/140 [==============================] - 0s 3ms/step - loss: 0.0034\n",
      "Epoch 5/5\n",
      "140/140 [==============================] - 0s 3ms/step - loss: 0.0028\n",
      "35/35 [==============================] - 0s 2ms/step\n",
      "Epoch 1/5\n",
      "140/140 [==============================] - 1s 3ms/step - loss: 0.1443\n",
      "Epoch 2/5\n",
      "140/140 [==============================] - 0s 3ms/step - loss: 0.0181\n",
      "Epoch 3/5\n",
      "140/140 [==============================] - 0s 3ms/step - loss: 0.0065\n",
      "Epoch 4/5\n",
      "140/140 [==============================] - 0s 3ms/step - loss: 0.0037\n",
      "Epoch 5/5\n",
      "140/140 [==============================] - 0s 3ms/step - loss: 0.0033\n",
      "35/35 [==============================] - 0s 2ms/step\n",
      "Epoch 1/5\n",
      "140/140 [==============================] - 1s 3ms/step - loss: 0.1401\n",
      "Epoch 2/5\n",
      "140/140 [==============================] - 0s 3ms/step - loss: 0.0169\n",
      "Epoch 3/5\n",
      "140/140 [==============================] - 0s 3ms/step - loss: 0.0069\n",
      "Epoch 4/5\n",
      "140/140 [==============================] - 0s 3ms/step - loss: 0.0031\n",
      "Epoch 5/5\n",
      "140/140 [==============================] - 0s 3ms/step - loss: 0.0025\n",
      "35/35 [==============================] - 0s 1ms/step\n",
      "Epoch 1/5\n",
      "140/140 [==============================] - 1s 3ms/step - loss: 0.1472\n",
      "Epoch 2/5\n",
      "140/140 [==============================] - 0s 3ms/step - loss: 0.0182\n",
      "Epoch 3/5\n",
      "140/140 [==============================] - 0s 3ms/step - loss: 0.0059\n",
      "Epoch 4/5\n",
      "140/140 [==============================] - 0s 3ms/step - loss: 0.0038\n",
      "Epoch 5/5\n",
      "140/140 [==============================] - 0s 3ms/step - loss: 0.0030\n",
      "35/35 [==============================] - 0s 1ms/step\n",
      "Epoch 1/5\n",
      "140/140 [==============================] - 1s 3ms/step - loss: 0.1476\n",
      "Epoch 2/5\n",
      "140/140 [==============================] - 0s 3ms/step - loss: 0.0173\n",
      "Epoch 3/5\n",
      "140/140 [==============================] - 0s 3ms/step - loss: 0.0058\n",
      "Epoch 4/5\n",
      "140/140 [==============================] - 0s 3ms/step - loss: 0.0039\n",
      "Epoch 5/5\n",
      "140/140 [==============================] - 0s 3ms/step - loss: 0.0027\n",
      "35/35 [==============================] - 0s 1ms/step\n"
     ]
    }
   ],
   "source": [
    "SCA_output2 = SCAFUN(bow_obj_data, bow_obj_label, opts,'mlp')\n",
    "sf2   = SCA_output2['selected_features']"
   ]
  },
  {
   "cell_type": "code",
   "execution_count": null,
   "metadata": {},
   "outputs": [
    {
     "data": {
      "text/plain": [
       "(4393,)"
      ]
     },
     "execution_count": 113,
     "metadata": {},
     "output_type": "execute_result"
    }
   ],
   "source": [
    "sf2.shape"
   ]
  },
  {
   "attachments": {},
   "cell_type": "markdown",
   "metadata": {},
   "source": [
    "<h4>So  8820-4462=4358 features were omitted by applying  SCA "
   ]
  },
  {
   "attachments": {},
   "cell_type": "markdown",
   "metadata": {},
   "source": [
    "<h1>load extracted data"
   ]
  },
  {
   "cell_type": "code",
   "execution_count": null,
   "metadata": {},
   "outputs": [],
   "source": [
    "sca_x_bow_train,mlp_sca_x_bow_test,sca_y_bow_train,mlp_sca_y_bow_test=train_test_split(bow_obj_data[:,sf2],bow_obj_label,test_size=0.3,stratify=bow_obj_label,shuffle=True)"
   ]
  },
  {
   "cell_type": "code",
   "execution_count": null,
   "metadata": {},
   "outputs": [],
   "source": [
    "mlp_sca_bow_x_train,mlp_sca_bow_x_valid, mlp_sca_bow_y_train, mlp_sca_bow_y_valid = train_test_split(sca_x_bow_train, sca_y_bow_train,test_size=0.2,shuffle=True)"
   ]
  },
  {
   "cell_type": "markdown",
   "metadata": {},
   "source": [
    "<h2>make mlp _ SCA on BOW data_"
   ]
  },
  {
   "cell_type": "code",
   "execution_count": null,
   "metadata": {},
   "outputs": [
    {
     "name": "stdout",
     "output_type": "stream",
     "text": [
      "Epoch 1/10\n"
     ]
    },
    {
     "name": "stdout",
     "output_type": "stream",
     "text": [
      "98/98 [==============================] - 1s 4ms/step - loss: 0.3821 - accuracy: 0.9010 - val_loss: 0.1795 - val_accuracy: 0.9487\n",
      "Epoch 2/10\n",
      "98/98 [==============================] - 0s 3ms/step - loss: 0.0963 - accuracy: 0.9769 - val_loss: 0.1130 - val_accuracy: 0.9679\n",
      "Epoch 3/10\n",
      "98/98 [==============================] - 0s 3ms/step - loss: 0.0423 - accuracy: 0.9904 - val_loss: 0.1050 - val_accuracy: 0.9679\n",
      "Epoch 4/10\n",
      "98/98 [==============================] - 0s 3ms/step - loss: 0.0244 - accuracy: 0.9949 - val_loss: 0.1052 - val_accuracy: 0.9705\n",
      "Epoch 5/10\n",
      "98/98 [==============================] - 0s 3ms/step - loss: 0.0166 - accuracy: 0.9968 - val_loss: 0.1128 - val_accuracy: 0.9705\n",
      "Epoch 6/10\n",
      "98/98 [==============================] - 0s 3ms/step - loss: 0.0124 - accuracy: 0.9974 - val_loss: 0.1182 - val_accuracy: 0.9705\n",
      "Epoch 7/10\n",
      "98/98 [==============================] - 0s 3ms/step - loss: 0.0097 - accuracy: 0.9978 - val_loss: 0.1215 - val_accuracy: 0.9705\n",
      "Epoch 8/10\n",
      "98/98 [==============================] - 0s 3ms/step - loss: 0.0079 - accuracy: 0.9981 - val_loss: 0.1307 - val_accuracy: 0.9679\n",
      "Epoch 9/10\n",
      "98/98 [==============================] - 0s 3ms/step - loss: 0.0067 - accuracy: 0.9987 - val_loss: 0.1335 - val_accuracy: 0.9705\n",
      "Epoch 10/10\n",
      "98/98 [==============================] - 0s 3ms/step - loss: 0.0059 - accuracy: 0.9987 - val_loss: 0.1340 - val_accuracy: 0.9718\n",
      "53/53 [==============================] - 0s 1ms/step - loss: 0.1087 - accuracy: 0.9737\n",
      "Test loss: 0.10865885764360428\n",
      "Test accuracy: 0.9736841917037964\n"
     ]
    }
   ],
   "source": [
    "model6 = Sequential()\n",
    "model6.add(Dense(200, activation='relu', input_shape=(mlp_sca_bow_x_train.shape[1],)))\n",
    "model6.add(Dense(1, activation='sigmoid'))\n",
    "\n",
    "# Compile the model with SCA optimizer\n",
    "model6.compile(optimizer=Adam(learning_rate=0.001), loss='binary_crossentropy', metrics=['accuracy'])\n",
    "# Training the model\n",
    "history6 = model6.fit(mlp_sca_bow_x_train, mlp_sca_bow_y_train, validation_data=(mlp_sca_bow_x_valid, mlp_sca_bow_y_valid), epochs=10, batch_size=32)\n",
    "# Evaluate the model\n",
    "score6 = model6.evaluate(mlp_sca_x_bow_test, mlp_sca_y_bow_test)\n",
    "print('Test loss:', score6[0])\n",
    "print('Test accuracy:', score6[1])"
   ]
  },
  {
   "cell_type": "code",
   "execution_count": null,
   "metadata": {},
   "outputs": [
    {
     "name": "stdout",
     "output_type": "stream",
     "text": [
      " 1/98 [..............................] - ETA: 2s - loss: 0.0012 - accuracy: 1.0000"
     ]
    },
    {
     "name": "stdout",
     "output_type": "stream",
     "text": [
      "98/98 [==============================] - 0s 1ms/step - loss: 0.0052 - accuracy: 0.9994\n",
      "Train Loss: 0.005201675463467836\n",
      "Train Accuracy: 0.9993589520454407\n"
     ]
    }
   ],
   "source": [
    "\n",
    "train_loss6, train_accuracy6 = model6.evaluate(mlp_sca_bow_x_train, mlp_sca_bow_y_train)\n",
    "print(\"Train Loss:\", train_loss6)\n",
    "print(\"Train Accuracy:\", train_accuracy6)"
   ]
  },
  {
   "cell_type": "code",
   "execution_count": null,
   "metadata": {},
   "outputs": [
    {
     "name": "stdout",
     "output_type": "stream",
     "text": [
      " 1/53 [..............................] - ETA: 1s"
     ]
    },
    {
     "name": "stdout",
     "output_type": "stream",
     "text": [
      "53/53 [==============================] - 0s 1ms/step\n",
      "Accuracy: 0.9736842105263158\n",
      "Recall: 0.8214285714285714\n",
      "Precision: 0.9787234042553191\n",
      "F1-score: 0.8932038834951456\n"
     ]
    }
   ],
   "source": [
    "y_pred_prob6 = model6.predict(mlp_sca_x_bow_test)\n",
    "\n",
    "# Converting probabilities to class labels based on a threshold (e.g., 0.5)\n",
    "y_pred6 = (y_pred_prob6 >= 0.5).astype(int)\n",
    "\n",
    "# Calculating precision, recall, F1-score, and accuracy\n",
    "precision6 = precision_score(mlp_sca_y_bow_test, y_pred6)\n",
    "recall6 = recall_score(mlp_sca_y_bow_test, y_pred6)\n",
    "f16 = f1_score(mlp_sca_y_bow_test, y_pred6)\n",
    "accuracy6 = accuracy_score(mlp_sca_y_bow_test, y_pred6)\n",
    "\n",
    "print(\"Accuracy:\", accuracy6)\n",
    "print(\"Recall:\", recall6)\n",
    "print(\"Precision:\", precision6)\n",
    "print(\"F1-score:\", f16)"
   ]
  },
  {
   "attachments": {},
   "cell_type": "markdown",
   "metadata": {},
   "source": [
    "<h1>KNN with SCA"
   ]
  },
  {
   "cell_type": "code",
   "execution_count": null,
   "metadata": {},
   "outputs": [
    {
     "data": {
      "text/plain": [
       "0.8779904306220095"
      ]
     },
     "execution_count": 119,
     "metadata": {},
     "output_type": "execute_result"
    }
   ],
   "source": [
    "SCA_bow_knn=KNeighborsClassifier(n_neighbors=13)\n",
    "SCA_bow_knn.fit(X=sca_x_bow_train,y=sca_y_bow_train)\n",
    "SCA_knn_bow_pred=SCA_bow_knn.predict(X=mlp_sca_x_bow_test)\n",
    "SCA_bow_knn.score(X=mlp_sca_x_bow_test,y=mlp_sca_y_bow_test)"
   ]
  },
  {
   "cell_type": "code",
   "execution_count": null,
   "metadata": {},
   "outputs": [
    {
     "name": "stdout",
     "output_type": "stream",
     "text": [
      "\n",
      "\n",
      "Measuring knn wit BOW SCA :\n",
      "\n",
      "Accuracy: 0.8779904306220095\n",
      "Recall: 0.08928571428571429\n",
      "Precision: 1.0\n",
      "F1-score: 0.1639344262295082\n"
     ]
    }
   ],
   "source": [
    "\n",
    "SCA_knn_bow_precision = precision_score(y_true=mlp_sca_y_bow_test,y_pred= SCA_knn_bow_pred)\n",
    "SCA_knn_bow_recall = recall_score(y_true=mlp_sca_y_bow_test, y_pred=SCA_knn_bow_pred)\n",
    "SCA_knn_bow_f1 = f1_score(y_true=mlp_sca_y_bow_test, y_pred=SCA_knn_bow_pred)\n",
    "SCA_knn_bow_accuracy = accuracy_score(y_true=mlp_sca_y_bow_test,y_pred= SCA_knn_bow_pred)\n",
    "print(\"\\n\\nMeasuring knn wit BOW SCA :\\n\")\n",
    "print(\"Accuracy:\", SCA_knn_bow_accuracy)\n",
    "print(\"Recall:\", SCA_knn_bow_recall)\n",
    "print(\"Precision:\", SCA_knn_bow_precision)\n",
    "print(\"F1-score:\", SCA_knn_bow_f1)"
   ]
  },
  {
   "attachments": {},
   "cell_type": "markdown",
   "metadata": {},
   "source": [
    "<h1>Random forest with SCA"
   ]
  },
  {
   "cell_type": "code",
   "execution_count": null,
   "metadata": {},
   "outputs": [
    {
     "data": {
      "text/plain": [
       "0.9694976076555024"
      ]
     },
     "execution_count": 121,
     "metadata": {},
     "output_type": "execute_result"
    }
   ],
   "source": [
    "SCA_bow_Random_F=RandomForestClassifier(n_estimators=31,criterion='gini')\n",
    "SCA_bow_Random_F.fit(sca_x_bow_train,sca_y_bow_train)\n",
    "SCA_bow_Randmon_F_pred=SCA_bow_Random_F.predict(X=mlp_sca_x_bow_test)\n",
    "SCA_bow_Random_F.score(X=mlp_sca_x_bow_test,y=mlp_sca_y_bow_test)"
   ]
  },
  {
   "attachments": {},
   "cell_type": "markdown",
   "metadata": {},
   "source": [
    "<h3>measuring"
   ]
  },
  {
   "cell_type": "code",
   "execution_count": null,
   "metadata": {},
   "outputs": [
    {
     "name": "stdout",
     "output_type": "stream",
     "text": [
      "\n",
      "\n",
      "Measuring Random forest wit BOW :\n",
      "\n",
      "Accuracy: 0.9694976076555024\n",
      "Recall: 0.7767857142857143\n",
      "Precision: 0.9942857142857143\n",
      "F1-score: 0.8721804511278196\n"
     ]
    }
   ],
   "source": [
    "SCA_bow_Random_F_precision = precision_score(y_true=mlp_sca_y_bow_test, y_pred=SCA_bow_Randmon_F_pred)\n",
    "SCA_bow_Random_F_recall = recall_score(y_true=mlp_sca_y_bow_test, y_pred=SCA_bow_Randmon_F_pred)\n",
    "SCA_bow_Random_F_f1 = f1_score(y_true=mlp_sca_y_bow_test, y_pred=SCA_bow_Randmon_F_pred)\n",
    "SCA_bow_Random_F_accuracy = accuracy_score(y_true=mlp_sca_y_bow_test,y_pred= SCA_bow_Randmon_F_pred)\n",
    "print(\"\\n\\nMeasuring Random forest wit BOW :\\n\")\n",
    "print(\"Accuracy:\", SCA_bow_Random_F_accuracy)\n",
    "print(\"Recall:\", SCA_bow_Random_F_recall)\n",
    "print(\"Precision:\", SCA_bow_Random_F_precision)\n",
    "print(\"F1-score:\", SCA_bow_Random_F_f1)"
   ]
  },
  {
   "attachments": {},
   "cell_type": "markdown",
   "metadata": {},
   "source": [
    "<h1>SCA SVM"
   ]
  },
  {
   "cell_type": "code",
   "execution_count": null,
   "metadata": {},
   "outputs": [
    {
     "data": {
      "text/plain": [
       "0.97188995215311"
      ]
     },
     "execution_count": 123,
     "metadata": {},
     "output_type": "execute_result"
    }
   ],
   "source": [
    "SCA_bow_SVM=svm.SVC(kernel='rbf',C=10,gamma=0.1)\n",
    "SCA_bow_SVM.fit(sca_x_bow_train,sca_y_bow_train)\n",
    "SCA_bow_SVM_pred=SCA_bow_SVM.predict(X=mlp_sca_x_bow_test)\n",
    "SCA_bow_SVM.score(X=mlp_sca_x_bow_test,y=mlp_sca_y_bow_test)"
   ]
  },
  {
   "cell_type": "code",
   "execution_count": null,
   "metadata": {},
   "outputs": [
    {
     "name": "stdout",
     "output_type": "stream",
     "text": [
      "\n",
      "\n",
      "Measuring SVM wit BOW :\n",
      "\n",
      "Accuracy: 0.97188995215311\n",
      "Recall: 0.8035714285714286\n",
      "Precision: 0.9836065573770492\n",
      "F1-score: 0.8845208845208845\n"
     ]
    }
   ],
   "source": [
    "\n",
    "SCA_bow_SVM_precision = precision_score(y_true=mlp_sca_y_bow_test, y_pred=SCA_bow_SVM_pred)\n",
    "SCA_bow_SVM_recall = recall_score(y_true=mlp_sca_y_bow_test, y_pred=SCA_bow_SVM_pred)\n",
    "SCA_bow_SVM_f1 = f1_score(y_true=mlp_sca_y_bow_test, y_pred=SCA_bow_SVM_pred)\n",
    "SCA_bow_SVM_accuracy = accuracy_score(y_true=mlp_sca_y_bow_test, y_pred=SCA_bow_SVM_pred)\n",
    "print(\"\\n\\nMeasuring SVM wit BOW :\\n\")\n",
    "print(\"Accuracy:\", SCA_bow_SVM_accuracy)\n",
    "print(\"Recall:\", SCA_bow_SVM_recall)\n",
    "print(\"Precision:\", SCA_bow_SVM_precision)\n",
    "print(\"F1-score:\", SCA_bow_SVM_f1)"
   ]
  },
  {
   "cell_type": "code",
   "execution_count": null,
   "metadata": {},
   "outputs": [],
   "source": []
  },
  {
   "cell_type": "markdown",
   "metadata": {},
   "source": [
    "<h2>votting in SCA"
   ]
  },
  {
   "cell_type": "code",
   "execution_count": null,
   "metadata": {},
   "outputs": [],
   "source": [
    "mlp_classifier_SCA2 = MLPClassifier()\n",
    "ensemble6 = VotingClassifier(estimators=[ ('mlp',mlp_classifier_SCA2),('SVM', SCA_bow_SVM), ('RF', SCA_bow_Random_F), ('knn', SCA_bow_knn)], voting='hard')"
   ]
  },
  {
   "cell_type": "code",
   "execution_count": null,
   "metadata": {},
   "outputs": [
    {
     "name": "stdout",
     "output_type": "stream",
     "text": [
      "Epoch 1/10\n"
     ]
    },
    {
     "name": "stdout",
     "output_type": "stream",
     "text": [
      "122/122 [==============================] - 3s 17ms/step - loss: 0.3624 - accuracy: 0.8923\n",
      "Epoch 2/10\n",
      "122/122 [==============================] - 2s 15ms/step - loss: 0.0716 - accuracy: 0.9846\n",
      "Epoch 3/10\n",
      "122/122 [==============================] - 2s 15ms/step - loss: 0.0242 - accuracy: 0.9951\n",
      "Epoch 4/10\n",
      "122/122 [==============================] - 2s 17ms/step - loss: 0.0113 - accuracy: 0.9982\n",
      "Epoch 5/10\n",
      "122/122 [==============================] - 2s 17ms/step - loss: 0.0061 - accuracy: 0.9992\n",
      "Epoch 6/10\n",
      "122/122 [==============================] - 2s 14ms/step - loss: 0.0037 - accuracy: 1.0000\n",
      "Epoch 7/10\n",
      "122/122 [==============================] - 2s 18ms/step - loss: 0.0025 - accuracy: 1.0000\n",
      "Epoch 8/10\n",
      "122/122 [==============================] - 2s 16ms/step - loss: 0.0018 - accuracy: 1.0000\n",
      "Epoch 9/10\n",
      "122/122 [==============================] - 2s 16ms/step - loss: 0.0014 - accuracy: 1.0000\n",
      "Epoch 10/10\n",
      "122/122 [==============================] - 2s 15ms/step - loss: 0.0011 - accuracy: 1.0000\n"
     ]
    },
    {
     "data": {
      "text/html": [
       "<style>#sk-container-id-2 {color: black;background-color: white;}#sk-container-id-2 pre{padding: 0;}#sk-container-id-2 div.sk-toggleable {background-color: white;}#sk-container-id-2 label.sk-toggleable__label {cursor: pointer;display: block;width: 100%;margin-bottom: 0;padding: 0.3em;box-sizing: border-box;text-align: center;}#sk-container-id-2 label.sk-toggleable__label-arrow:before {content: \"▸\";float: left;margin-right: 0.25em;color: #696969;}#sk-container-id-2 label.sk-toggleable__label-arrow:hover:before {color: black;}#sk-container-id-2 div.sk-estimator:hover label.sk-toggleable__label-arrow:before {color: black;}#sk-container-id-2 div.sk-toggleable__content {max-height: 0;max-width: 0;overflow: hidden;text-align: left;background-color: #f0f8ff;}#sk-container-id-2 div.sk-toggleable__content pre {margin: 0.2em;color: black;border-radius: 0.25em;background-color: #f0f8ff;}#sk-container-id-2 input.sk-toggleable__control:checked~div.sk-toggleable__content {max-height: 200px;max-width: 100%;overflow: auto;}#sk-container-id-2 input.sk-toggleable__control:checked~label.sk-toggleable__label-arrow:before {content: \"▾\";}#sk-container-id-2 div.sk-estimator input.sk-toggleable__control:checked~label.sk-toggleable__label {background-color: #d4ebff;}#sk-container-id-2 div.sk-label input.sk-toggleable__control:checked~label.sk-toggleable__label {background-color: #d4ebff;}#sk-container-id-2 input.sk-hidden--visually {border: 0;clip: rect(1px 1px 1px 1px);clip: rect(1px, 1px, 1px, 1px);height: 1px;margin: -1px;overflow: hidden;padding: 0;position: absolute;width: 1px;}#sk-container-id-2 div.sk-estimator {font-family: monospace;background-color: #f0f8ff;border: 1px dotted black;border-radius: 0.25em;box-sizing: border-box;margin-bottom: 0.5em;}#sk-container-id-2 div.sk-estimator:hover {background-color: #d4ebff;}#sk-container-id-2 div.sk-parallel-item::after {content: \"\";width: 100%;border-bottom: 1px solid gray;flex-grow: 1;}#sk-container-id-2 div.sk-label:hover label.sk-toggleable__label {background-color: #d4ebff;}#sk-container-id-2 div.sk-serial::before {content: \"\";position: absolute;border-left: 1px solid gray;box-sizing: border-box;top: 0;bottom: 0;left: 50%;z-index: 0;}#sk-container-id-2 div.sk-serial {display: flex;flex-direction: column;align-items: center;background-color: white;padding-right: 0.2em;padding-left: 0.2em;position: relative;}#sk-container-id-2 div.sk-item {position: relative;z-index: 1;}#sk-container-id-2 div.sk-parallel {display: flex;align-items: stretch;justify-content: center;background-color: white;position: relative;}#sk-container-id-2 div.sk-item::before, #sk-container-id-2 div.sk-parallel-item::before {content: \"\";position: absolute;border-left: 1px solid gray;box-sizing: border-box;top: 0;bottom: 0;left: 50%;z-index: -1;}#sk-container-id-2 div.sk-parallel-item {display: flex;flex-direction: column;z-index: 1;position: relative;background-color: white;}#sk-container-id-2 div.sk-parallel-item:first-child::after {align-self: flex-end;width: 50%;}#sk-container-id-2 div.sk-parallel-item:last-child::after {align-self: flex-start;width: 50%;}#sk-container-id-2 div.sk-parallel-item:only-child::after {width: 0;}#sk-container-id-2 div.sk-dashed-wrapped {border: 1px dashed gray;margin: 0 0.4em 0.5em 0.4em;box-sizing: border-box;padding-bottom: 0.4em;background-color: white;}#sk-container-id-2 div.sk-label label {font-family: monospace;font-weight: bold;display: inline-block;line-height: 1.2em;}#sk-container-id-2 div.sk-label-container {text-align: center;}#sk-container-id-2 div.sk-container {/* jupyter's `normalize.less` sets `[hidden] { display: none; }` but bootstrap.min.css set `[hidden] { display: none !important; }` so we also need the `!important` here to be able to override the default hidden behavior on the sphinx rendered scikit-learn.org. See: https://github.com/scikit-learn/scikit-learn/issues/21755 */display: inline-block !important;position: relative;}#sk-container-id-2 div.sk-text-repr-fallback {display: none;}</style><div id=\"sk-container-id-2\" class=\"sk-top-container\"><div class=\"sk-text-repr-fallback\"><pre>VotingClassifier(estimators=[(&#x27;mlp&#x27;, MLPClassifier()),\n",
       "                             (&#x27;SVM&#x27;, SVC(C=10, gamma=0.1)),\n",
       "                             (&#x27;RF&#x27;, RandomForestClassifier(n_estimators=31)),\n",
       "                             (&#x27;knn&#x27;, KNeighborsClassifier(n_neighbors=13))])</pre><b>In a Jupyter environment, please rerun this cell to show the HTML representation or trust the notebook. <br />On GitHub, the HTML representation is unable to render, please try loading this page with nbviewer.org.</b></div><div class=\"sk-container\" hidden><div class=\"sk-item sk-dashed-wrapped\"><div class=\"sk-label-container\"><div class=\"sk-label sk-toggleable\"><input class=\"sk-toggleable__control sk-hidden--visually\" id=\"sk-estimator-id-5\" type=\"checkbox\" ><label for=\"sk-estimator-id-5\" class=\"sk-toggleable__label sk-toggleable__label-arrow\">VotingClassifier</label><div class=\"sk-toggleable__content\"><pre>VotingClassifier(estimators=[(&#x27;mlp&#x27;, MLPClassifier()),\n",
       "                             (&#x27;SVM&#x27;, SVC(C=10, gamma=0.1)),\n",
       "                             (&#x27;RF&#x27;, RandomForestClassifier(n_estimators=31)),\n",
       "                             (&#x27;knn&#x27;, KNeighborsClassifier(n_neighbors=13))])</pre></div></div></div><div class=\"sk-parallel\"><div class=\"sk-parallel-item\"><div class=\"sk-item\"><div class=\"sk-label-container\"><div class=\"sk-label sk-toggleable\"><label>mlp</label></div></div><div class=\"sk-serial\"><div class=\"sk-item\"><div class=\"sk-estimator sk-toggleable\"><input class=\"sk-toggleable__control sk-hidden--visually\" id=\"sk-estimator-id-6\" type=\"checkbox\" ><label for=\"sk-estimator-id-6\" class=\"sk-toggleable__label sk-toggleable__label-arrow\">MLPClassifier</label><div class=\"sk-toggleable__content\"><pre>MLPClassifier()</pre></div></div></div></div></div></div><div class=\"sk-parallel-item\"><div class=\"sk-item\"><div class=\"sk-label-container\"><div class=\"sk-label sk-toggleable\"><label>SVM</label></div></div><div class=\"sk-serial\"><div class=\"sk-item\"><div class=\"sk-estimator sk-toggleable\"><input class=\"sk-toggleable__control sk-hidden--visually\" id=\"sk-estimator-id-7\" type=\"checkbox\" ><label for=\"sk-estimator-id-7\" class=\"sk-toggleable__label sk-toggleable__label-arrow\">SVC</label><div class=\"sk-toggleable__content\"><pre>SVC(C=10, gamma=0.1)</pre></div></div></div></div></div></div><div class=\"sk-parallel-item\"><div class=\"sk-item\"><div class=\"sk-label-container\"><div class=\"sk-label sk-toggleable\"><label>RF</label></div></div><div class=\"sk-serial\"><div class=\"sk-item\"><div class=\"sk-estimator sk-toggleable\"><input class=\"sk-toggleable__control sk-hidden--visually\" id=\"sk-estimator-id-8\" type=\"checkbox\" ><label for=\"sk-estimator-id-8\" class=\"sk-toggleable__label sk-toggleable__label-arrow\">RandomForestClassifier</label><div class=\"sk-toggleable__content\"><pre>RandomForestClassifier(n_estimators=31)</pre></div></div></div></div></div></div><div class=\"sk-parallel-item\"><div class=\"sk-item\"><div class=\"sk-label-container\"><div class=\"sk-label sk-toggleable\"><label>knn</label></div></div><div class=\"sk-serial\"><div class=\"sk-item\"><div class=\"sk-estimator sk-toggleable\"><input class=\"sk-toggleable__control sk-hidden--visually\" id=\"sk-estimator-id-9\" type=\"checkbox\" ><label for=\"sk-estimator-id-9\" class=\"sk-toggleable__label sk-toggleable__label-arrow\">KNeighborsClassifier</label><div class=\"sk-toggleable__content\"><pre>KNeighborsClassifier(n_neighbors=13)</pre></div></div></div></div></div></div></div></div></div></div>"
      ],
      "text/plain": [
       "VotingClassifier(estimators=[('mlp', MLPClassifier()),\n",
       "                             ('SVM', SVC(C=10, gamma=0.1)),\n",
       "                             ('RF', RandomForestClassifier(n_estimators=31)),\n",
       "                             ('knn', KNeighborsClassifier(n_neighbors=13))])"
      ]
     },
     "metadata": {},
     "output_type": "display_data"
    }
   ],
   "source": [
    "ensemble6.fit(X=mlp_sca_bow_x_train,y=mlp_sca_bow_y_train)"
   ]
  },
  {
   "cell_type": "code",
   "execution_count": null,
   "metadata": {},
   "outputs": [
    {
     "name": "stdout",
     "output_type": "stream",
     "text": [
      " 1/53 [..............................] - ETA: 4s"
     ]
    },
    {
     "name": "stdout",
     "output_type": "stream",
     "text": [
      "53/53 [==============================] - 0s 2ms/step\n"
     ]
    }
   ],
   "source": [
    "ens_prd6=ensemble6.predict(mlp_sca_x_bow_test)"
   ]
  },
  {
   "cell_type": "code",
   "execution_count": null,
   "metadata": {},
   "outputs": [
    {
     "name": "stdout",
     "output_type": "stream",
     "text": [
      "Accuracy: 0.9760765550239234\n",
      "Recall: 0.8214285714285714\n",
      "Precision: 1.0\n",
      "F1-score: 0.9019607843137255\n"
     ]
    }
   ],
   "source": [
    "ens6_precision = precision_score(y_true=mlp_sca_y_bow_test,y_pred=ens_prd6)\n",
    "ens6_recall = recall_score(y_true=mlp_sca_y_bow_test, y_pred=ens_prd6)\n",
    "ens6_f1 = f1_score(y_true=mlp_sca_y_bow_test, y_pred=ens_prd6)\n",
    "ens6_accuracy = accuracy_score(y_true=mlp_sca_y_bow_test, y_pred=ens_prd6)\n",
    "\n",
    "print(\"Accuracy:\", ens6_accuracy)\n",
    "print(\"Recall:\", ens6_recall)\n",
    "print(\"Precision:\", ens6_precision)\n",
    "print(\"F1-score:\", ens6_f1)"
   ]
  },
  {
   "attachments": {},
   "cell_type": "markdown",
   "metadata": {},
   "source": [
    "<h1>make result Table"
   ]
  },
  {
   "cell_type": "code",
   "execution_count": null,
   "metadata": {},
   "outputs": [
    {
     "data": {
      "text/html": [
       "<div>\n",
       "<style scoped>\n",
       "    .dataframe tbody tr th:only-of-type {\n",
       "        vertical-align: middle;\n",
       "    }\n",
       "\n",
       "    .dataframe tbody tr th {\n",
       "        vertical-align: top;\n",
       "    }\n",
       "\n",
       "    .dataframe thead th {\n",
       "        text-align: right;\n",
       "    }\n",
       "</style>\n",
       "<table border=\"1\" class=\"dataframe\">\n",
       "  <thead>\n",
       "    <tr style=\"text-align: right;\">\n",
       "      <th></th>\n",
       "      <th>Accuracy      BOW</th>\n",
       "      <th>Accuracy   TF-IDF</th>\n",
       "      <th>Precision     BOW</th>\n",
       "      <th>Precision  TF-IDF</th>\n",
       "      <th>Recall        BOW</th>\n",
       "      <th>Recall     TF-IDF</th>\n",
       "      <th>F-measure     BOW</th>\n",
       "      <th>F-measure  TF-IDF</th>\n",
       "    </tr>\n",
       "    <tr>\n",
       "      <th>Algorithm</th>\n",
       "      <th></th>\n",
       "      <th></th>\n",
       "      <th></th>\n",
       "      <th></th>\n",
       "      <th></th>\n",
       "      <th></th>\n",
       "      <th></th>\n",
       "      <th></th>\n",
       "    </tr>\n",
       "  </thead>\n",
       "  <tbody>\n",
       "    <tr>\n",
       "      <th>MLP</th>\n",
       "      <td>98.028674</td>\n",
       "      <td>97.491039</td>\n",
       "      <td>85.333333</td>\n",
       "      <td>81.333333</td>\n",
       "      <td>100.0</td>\n",
       "      <td>100.000000</td>\n",
       "      <td>92.086331</td>\n",
       "      <td>92.086331</td>\n",
       "    </tr>\n",
       "    <tr>\n",
       "      <th>MLP-scaled</th>\n",
       "      <td>----------</td>\n",
       "      <td>97.311828</td>\n",
       "      <td>----------</td>\n",
       "      <td>81.333333</td>\n",
       "      <td>----------</td>\n",
       "      <td>98.387097</td>\n",
       "      <td>----------</td>\n",
       "      <td>89.051095</td>\n",
       "    </tr>\n",
       "    <tr>\n",
       "      <th>MLP-SCA</th>\n",
       "      <td>97.368421</td>\n",
       "      <td>96.291866</td>\n",
       "      <td>82.142857</td>\n",
       "      <td>84.821429</td>\n",
       "      <td>97.87234</td>\n",
       "      <td>87.155963</td>\n",
       "      <td>89.320388</td>\n",
       "      <td>85.972851</td>\n",
       "    </tr>\n",
       "    <tr>\n",
       "      <th>KNN</th>\n",
       "      <td>87.739234</td>\n",
       "      <td>94.796651</td>\n",
       "      <td>8.482143</td>\n",
       "      <td>61.160714</td>\n",
       "      <td>100.0</td>\n",
       "      <td>100.000000</td>\n",
       "      <td>15.63786</td>\n",
       "      <td>75.900277</td>\n",
       "    </tr>\n",
       "    <tr>\n",
       "      <th>KNN-SCA</th>\n",
       "      <td>87.799043</td>\n",
       "      <td>86.722488</td>\n",
       "      <td>8.928571</td>\n",
       "      <td>0.892857</td>\n",
       "      <td>100.0</td>\n",
       "      <td>100.000000</td>\n",
       "      <td>16.393443</td>\n",
       "      <td>1.769912</td>\n",
       "    </tr>\n",
       "    <tr>\n",
       "      <th>SVM</th>\n",
       "      <td>97.84689</td>\n",
       "      <td>98.385167</td>\n",
       "      <td>83.928571</td>\n",
       "      <td>89.285714</td>\n",
       "      <td>100.0</td>\n",
       "      <td>98.522167</td>\n",
       "      <td>91.262136</td>\n",
       "      <td>93.676815</td>\n",
       "    </tr>\n",
       "    <tr>\n",
       "      <th>SVM-SCA</th>\n",
       "      <td>97.188995</td>\n",
       "      <td>89.174641</td>\n",
       "      <td>80.357143</td>\n",
       "      <td>19.196429</td>\n",
       "      <td>98.360656</td>\n",
       "      <td>100.000000</td>\n",
       "      <td>88.452088</td>\n",
       "      <td>32.209738</td>\n",
       "    </tr>\n",
       "    <tr>\n",
       "      <th>R.forest</th>\n",
       "      <td>97.42823</td>\n",
       "      <td>97.667464</td>\n",
       "      <td>80.803571</td>\n",
       "      <td>82.589286</td>\n",
       "      <td>100.0</td>\n",
       "      <td>100.000000</td>\n",
       "      <td>89.382716</td>\n",
       "      <td>90.464548</td>\n",
       "    </tr>\n",
       "    <tr>\n",
       "      <th>R.forest-SCA</th>\n",
       "      <td>96.949761</td>\n",
       "      <td>97.248804</td>\n",
       "      <td>77.678571</td>\n",
       "      <td>79.910714</td>\n",
       "      <td>99.428571</td>\n",
       "      <td>99.444444</td>\n",
       "      <td>87.218045</td>\n",
       "      <td>88.613861</td>\n",
       "    </tr>\n",
       "  </tbody>\n",
       "</table>\n",
       "</div>"
      ],
      "text/plain": [
       "             Accuracy      BOW  Accuracy   TF-IDF Precision     BOW  \\\n",
       "Algorithm                                                             \n",
       "MLP                  98.028674          97.491039         85.333333   \n",
       "MLP-scaled          ----------          97.311828        ----------   \n",
       "MLP-SCA              97.368421          96.291866         82.142857   \n",
       "KNN                  87.739234          94.796651          8.482143   \n",
       "KNN-SCA              87.799043          86.722488          8.928571   \n",
       "SVM                   97.84689          98.385167         83.928571   \n",
       "SVM-SCA              97.188995          89.174641         80.357143   \n",
       "R.forest              97.42823          97.667464         80.803571   \n",
       "R.forest-SCA         96.949761          97.248804         77.678571   \n",
       "\n",
       "              Precision  TF-IDF Recall        BOW  Recall     TF-IDF  \\\n",
       "Algorithm                                                              \n",
       "MLP                   81.333333             100.0         100.000000   \n",
       "MLP-scaled            81.333333        ----------          98.387097   \n",
       "MLP-SCA               84.821429          97.87234          87.155963   \n",
       "KNN                   61.160714             100.0         100.000000   \n",
       "KNN-SCA                0.892857             100.0         100.000000   \n",
       "SVM                   89.285714             100.0          98.522167   \n",
       "SVM-SCA               19.196429         98.360656         100.000000   \n",
       "R.forest              82.589286             100.0         100.000000   \n",
       "R.forest-SCA          79.910714         99.428571          99.444444   \n",
       "\n",
       "             F-measure     BOW  F-measure  TF-IDF  \n",
       "Algorithm                                          \n",
       "MLP                  92.086331          92.086331  \n",
       "MLP-scaled          ----------          89.051095  \n",
       "MLP-SCA              89.320388          85.972851  \n",
       "KNN                   15.63786          75.900277  \n",
       "KNN-SCA              16.393443           1.769912  \n",
       "SVM                  91.262136          93.676815  \n",
       "SVM-SCA              88.452088          32.209738  \n",
       "R.forest             89.382716          90.464548  \n",
       "R.forest-SCA         87.218045          88.613861  "
      ]
     },
     "execution_count": 137,
     "metadata": {},
     "output_type": "execute_result"
    }
   ],
   "source": [
    "results_mlp_12 = {'Algorithm': 'MLP', 'Accuracy_BOW': accuracy2*100 ,'Accuracy_TF-IDF':accuracy1*100 , 'Recall_BOW': recall2*100, 'Recall_TF-IDF': recall1*100,'Precision_BOW':precision2*100  ,'Precision_TF-IDF':precision1*100 ,'F-measure_BOW':f12*100,'F-measure_TF-IDF':f12*100}\n",
    "results_mlp3 = {'Algorithm': 'MLP-scaled', 'Accuracy_BOW': '----------' ,'Accuracy_TF-IDF':accuracy3*100 , 'Recall_BOW': '----------', 'Recall_TF-IDF': recall3*100,'Precision_BOW':'----------'  ,'Precision_TF-IDF':precision3*100 ,'F-measure_BOW':'----------','F-measure_TF-IDF':f13*100}\n",
    "results_mlp_56 = {'Algorithm': 'MLP-SCA', 'Accuracy_BOW': accuracy6*100 ,'Accuracy_TF-IDF':accuracy5*100 , 'Recall_BOW': recall6*100, 'Recall_TF-IDF': recall5*100,'Precision_BOW':precision6*100  ,'Precision_TF-IDF':precision5*100 ,'F-measure_BOW':f16*100,'F-measure_TF-IDF':f15*100}\n",
    "results_knn = {'Algorithm': 'KNN', 'Accuracy_BOW': knn_bow_accuracy*100 ,'Accuracy_TF-IDF':knn_tffi_accuracy*100 , 'Recall_BOW': knn_bow_recall*100, 'Recall_TF-IDF': knn_tffi_recall*100,'Precision_BOW':knn_bow_precision*100  ,'Precision_TF-IDF':knn_tffi_precision*100 ,'F-measure_BOW':knn_bow_f1*100,'F-measure_TF-IDF':knn_tffi_f1*100}\n",
    "results_svm = {'Algorithm': 'SVM', 'Accuracy_BOW': bow_SVM_accuracy*100 ,'Accuracy_TF-IDF':tffi_SVM_accuracy*100 , 'Recall_BOW': bow_SVM_recall*100, 'Recall_TF-IDF': tffi_SVM_recall*100,'Precision_BOW':bow_SVM_precision*100  ,'Precision_TF-IDF':tffi_SVM_precision*100 ,'F-measure_BOW':bow_SVM_f1*100,'F-measure_TF-IDF':tffi_SVM_f1*100}\n",
    "results_rf = {'Algorithm': 'R.forest', 'Accuracy_BOW': bow_Random_F_accuracy*100 ,'Accuracy_TF-IDF':tffi_Random_F_accuracy*100 , 'Recall_BOW': bow_Random_F_recall*100, 'Recall_TF-IDF': tffi_Random_F_recall*100,'Precision_BOW':bow_Random_F_precision*100  ,'Precision_TF-IDF':tffi_Random_F_precision*100 ,'F-measure_BOW':bow_Random_F_f1*100,'F-measure_TF-IDF':tffi_Random_F_f1*100}\n",
    "\n",
    "\n",
    "\n",
    "results_SCA_knn = {'Algorithm': 'KNN-SCA', 'Accuracy_BOW': SCA_knn_bow_accuracy*100 ,'Accuracy_TF-IDF':SCA_knn_tffi_accuracy*100 , 'Recall_BOW': SCA_knn_bow_recall*100, 'Recall_TF-IDF': SCA_knn_tffi_recall*100,'Precision_BOW':SCA_knn_bow_precision*100  ,'Precision_TF-IDF':SCA_knn_tffi_precision*100 ,'F-measure_BOW':SCA_knn_bow_f1*100,'F-measure_TF-IDF':SCA_knn_tffi_f1*100}\n",
    "results_SCA_svm = {'Algorithm': 'SVM-SCA', 'Accuracy_BOW': SCA_bow_SVM_accuracy*100 ,'Accuracy_TF-IDF':SCA_tffi_SVM_accuracy*100 , 'Recall_BOW': SCA_bow_SVM_recall*100, 'Recall_TF-IDF': SCA_tffi_SVM_recall*100,'Precision_BOW':SCA_bow_SVM_precision*100  ,'Precision_TF-IDF':SCA_tffi_SVM_precision*100 ,'F-measure_BOW':SCA_bow_SVM_f1*100,'F-measure_TF-IDF':SCA_tffi_SVM_f1*100}\n",
    "results_SCA_rf = {'Algorithm': 'R.forest-SCA', 'Accuracy_BOW': SCA_bow_Random_F_accuracy*100 ,'Accuracy_TF-IDF':SCA_tffi_Random_F_accuracy*100 , 'Recall_BOW': SCA_bow_Random_F_recall*100, 'Recall_TF-IDF': SCA_tffi_Random_F_recall*100,'Precision_BOW':SCA_bow_Random_F_precision*100  ,'Precision_TF-IDF':SCA_tffi_Random_F_precision*100 ,'F-measure_BOW':SCA_bow_Random_F_f1*100,'F-measure_TF-IDF':SCA_tffi_Random_F_f1*100}\n",
    "\n",
    "results_votting1={'Algorithm': 'Vot with  mlp', 'Accuracy_BOW': ens3_accuracy*100 ,'Accuracy_TF-IDF':ens2_accuracy*100 , 'Recall_BOW': ens3_recall*100, 'Recall_TF-IDF': ens2_recall*100,'Precision_BOW':ens3_precision*100  ,'Precision_TF-IDF':ens2_precision*100 ,'F-measure_BOW':ens3_f1*100,'F-measure_TF-IDF':ens2_f1*100}\n",
    "results_votting2={'Algorithm': 'Vot with out mlp', 'Accuracy_BOW': ens4_accuracy*100 ,'Accuracy_TF-IDF':ens1_accuracy*100 , 'Recall_BOW': ens4_recall*100, 'Recall_TF-IDF': ens1_recall*100,'Precision_BOW':ens4_precision*100  ,'Precision_TF-IDF':ens1_precision*100 ,'F-measure_BOW':ens4_f1*100,'F-measure_TF-IDF':ens1_f1*100}\n",
    "results_votting3={'Algorithm': 'Vot_mlp_SCA', 'Accuracy_BOW': ens6_accuracy*100 ,'Accuracy_TF-IDF':ens5_accuracy*100 , 'Recall_BOW': ens6_recall*100, 'Recall_TF-IDF': ens5_recall*100,'Precision_BOW':ens6_precision*100  ,'Precision_TF-IDF':ens5_precision*100 ,'F-measure_BOW':ens6_f1*100,'F-measure_TF-IDF':ens5_f1*100}\n",
    "df = pd.DataFrame([results_mlp_12, results_mlp3,results_mlp_56,results_knn,results_SCA_knn,results_svm,results_SCA_svm,results_rf,results_SCA_rf,results_votting1,results_votting2,results_votting3])\n",
    "df.set_index('Algorithm', inplace=True)\n",
    "columns = pd.MultiIndex.from_tuples([\n",
    "    ('Accuracy', 'BOW'), ('Accuracy', 'TF-IDF'),\n",
    "    ('Precision', 'BOW'), ('Precision', 'TF-IDF'),\n",
    "    ('Recall', 'BOW'), ('Recall', 'TF-IDF'),\n",
    "    ('F-measure', 'BOW'), ('F-measure', 'TF-IDF')\n",
    "])\n",
    "\n",
    "\n",
    "\n",
    "df.columns = columns\n",
    "\n",
    "# Define column spacing\n",
    "col_width = max(len(name) for name in df.columns.get_level_values(0))\n",
    "level_width = max(len(str(level)) for level in df.columns.get_level_values(1))\n",
    "spacing = 2  # Number of extra spaces between columns\n",
    "\n",
    "# Function to format column headers with adjusted spacing\n",
    "def format_columns(columns):\n",
    "    return [f\"{col:{col_width}s}{level:>{level_width + spacing}s}\" for col, level in columns]\n",
    "\n",
    "# Format columns with adjusted spacing\n",
    "df.columns = format_columns(df.columns)\n",
    "\n",
    "# Display the DataFrame\n",
    "df"
   ]
  },
  {
   "attachments": {},
   "cell_type": "markdown",
   "metadata": {},
   "source": [
    "<h4>Save  result table as chart.CSV"
   ]
  },
  {
   "cell_type": "code",
   "execution_count": null,
   "metadata": {},
   "outputs": [],
   "source": [
    "df = pd.DataFrame([results_mlp_12, results_mlp3,results_mlp_56,results_knn,results_SCA_knn,results_svm,results_SCA_svm,results_rf,results_SCA_rf])\n",
    "df.set_index('Algorithm', inplace=True)\n",
    "df.to_csv('chart_data.csv')"
   ]
  },
  {
   "cell_type": "code",
   "execution_count": null,
   "metadata": {},
   "outputs": [],
   "source": []
  }
 ],
 "metadata": {
  "kernelspec": {
   "display_name": "Python 3",
   "language": "python",
   "name": "python3"
  },
  "language_info": {
   "codemirror_mode": {
    "name": "ipython",
    "version": 3
   },
   "file_extension": ".py",
   "mimetype": "text/x-python",
   "name": "python",
   "nbconvert_exporter": "python",
   "pygments_lexer": "ipython3",
   "version": "3.9.0"
  },
  "orig_nbformat": 4
 },
 "nbformat": 4,
 "nbformat_minor": 2
}
