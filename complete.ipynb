{
 "cells": [
  {
   "attachments": {},
   "cell_type": "markdown",
   "metadata": {},
   "source": [
    "<h1> __________________Sepehr Rezaei__________________ \n",
    "<h3> ________________________rsepehr746@gmail.com________________________ "
   ]
  },
  {
   "cell_type": "code",
   "execution_count": 1,
   "metadata": {},
   "outputs": [],
   "source": [
    "import pandas as pd"
   ]
  },
  {
   "attachments": {},
   "cell_type": "markdown",
   "metadata": {},
   "source": [
    "<h1>load data"
   ]
  },
  {
   "cell_type": "code",
   "execution_count": 2,
   "metadata": {},
   "outputs": [
    {
     "data": {
      "text/html": [
       "<div>\n",
       "<style scoped>\n",
       "    .dataframe tbody tr th:only-of-type {\n",
       "        vertical-align: middle;\n",
       "    }\n",
       "\n",
       "    .dataframe tbody tr th {\n",
       "        vertical-align: top;\n",
       "    }\n",
       "\n",
       "    .dataframe thead th {\n",
       "        text-align: right;\n",
       "    }\n",
       "</style>\n",
       "<table border=\"1\" class=\"dataframe\">\n",
       "  <thead>\n",
       "    <tr style=\"text-align: right;\">\n",
       "      <th></th>\n",
       "      <th>v1</th>\n",
       "      <th>v2</th>\n",
       "      <th>Unnamed: 2</th>\n",
       "      <th>Unnamed: 3</th>\n",
       "      <th>Unnamed: 4</th>\n",
       "    </tr>\n",
       "  </thead>\n",
       "  <tbody>\n",
       "    <tr>\n",
       "      <th>0</th>\n",
       "      <td>ham</td>\n",
       "      <td>Go until jurong point, crazy.. Available only ...</td>\n",
       "      <td>NaN</td>\n",
       "      <td>NaN</td>\n",
       "      <td>NaN</td>\n",
       "    </tr>\n",
       "    <tr>\n",
       "      <th>1</th>\n",
       "      <td>ham</td>\n",
       "      <td>Ok lar... Joking wif u oni...</td>\n",
       "      <td>NaN</td>\n",
       "      <td>NaN</td>\n",
       "      <td>NaN</td>\n",
       "    </tr>\n",
       "    <tr>\n",
       "      <th>2</th>\n",
       "      <td>spam</td>\n",
       "      <td>Free entry in 2 a wkly comp to win FA Cup fina...</td>\n",
       "      <td>NaN</td>\n",
       "      <td>NaN</td>\n",
       "      <td>NaN</td>\n",
       "    </tr>\n",
       "    <tr>\n",
       "      <th>3</th>\n",
       "      <td>ham</td>\n",
       "      <td>U dun say so early hor... U c already then say...</td>\n",
       "      <td>NaN</td>\n",
       "      <td>NaN</td>\n",
       "      <td>NaN</td>\n",
       "    </tr>\n",
       "    <tr>\n",
       "      <th>4</th>\n",
       "      <td>ham</td>\n",
       "      <td>Nah I don't think he goes to usf, he lives aro...</td>\n",
       "      <td>NaN</td>\n",
       "      <td>NaN</td>\n",
       "      <td>NaN</td>\n",
       "    </tr>\n",
       "    <tr>\n",
       "      <th>5</th>\n",
       "      <td>spam</td>\n",
       "      <td>FreeMsg Hey there darling it's been 3 week's n...</td>\n",
       "      <td>NaN</td>\n",
       "      <td>NaN</td>\n",
       "      <td>NaN</td>\n",
       "    </tr>\n",
       "    <tr>\n",
       "      <th>6</th>\n",
       "      <td>ham</td>\n",
       "      <td>Even my brother is not like to speak with me. ...</td>\n",
       "      <td>NaN</td>\n",
       "      <td>NaN</td>\n",
       "      <td>NaN</td>\n",
       "    </tr>\n",
       "    <tr>\n",
       "      <th>7</th>\n",
       "      <td>ham</td>\n",
       "      <td>As per your request 'Melle Melle (Oru Minnamin...</td>\n",
       "      <td>NaN</td>\n",
       "      <td>NaN</td>\n",
       "      <td>NaN</td>\n",
       "    </tr>\n",
       "    <tr>\n",
       "      <th>8</th>\n",
       "      <td>spam</td>\n",
       "      <td>WINNER!! As a valued network customer you have...</td>\n",
       "      <td>NaN</td>\n",
       "      <td>NaN</td>\n",
       "      <td>NaN</td>\n",
       "    </tr>\n",
       "    <tr>\n",
       "      <th>9</th>\n",
       "      <td>spam</td>\n",
       "      <td>Had your mobile 11 months or more? U R entitle...</td>\n",
       "      <td>NaN</td>\n",
       "      <td>NaN</td>\n",
       "      <td>NaN</td>\n",
       "    </tr>\n",
       "  </tbody>\n",
       "</table>\n",
       "</div>"
      ],
      "text/plain": [
       "     v1                                                 v2 Unnamed: 2  \\\n",
       "0   ham  Go until jurong point, crazy.. Available only ...        NaN   \n",
       "1   ham                      Ok lar... Joking wif u oni...        NaN   \n",
       "2  spam  Free entry in 2 a wkly comp to win FA Cup fina...        NaN   \n",
       "3   ham  U dun say so early hor... U c already then say...        NaN   \n",
       "4   ham  Nah I don't think he goes to usf, he lives aro...        NaN   \n",
       "5  spam  FreeMsg Hey there darling it's been 3 week's n...        NaN   \n",
       "6   ham  Even my brother is not like to speak with me. ...        NaN   \n",
       "7   ham  As per your request 'Melle Melle (Oru Minnamin...        NaN   \n",
       "8  spam  WINNER!! As a valued network customer you have...        NaN   \n",
       "9  spam  Had your mobile 11 months or more? U R entitle...        NaN   \n",
       "\n",
       "  Unnamed: 3 Unnamed: 4  \n",
       "0        NaN        NaN  \n",
       "1        NaN        NaN  \n",
       "2        NaN        NaN  \n",
       "3        NaN        NaN  \n",
       "4        NaN        NaN  \n",
       "5        NaN        NaN  \n",
       "6        NaN        NaN  \n",
       "7        NaN        NaN  \n",
       "8        NaN        NaN  \n",
       "9        NaN        NaN  "
      ]
     },
     "execution_count": 2,
     "metadata": {},
     "output_type": "execute_result"
    }
   ],
   "source": [
    "text=pd.read_csv( 'spam.csv',encoding='ISO-8859-1')\n",
    "text.head(10)"
   ]
  },
  {
   "cell_type": "code",
   "execution_count": 3,
   "metadata": {},
   "outputs": [
    {
     "data": {
      "text/html": [
       "<div>\n",
       "<style scoped>\n",
       "    .dataframe tbody tr th:only-of-type {\n",
       "        vertical-align: middle;\n",
       "    }\n",
       "\n",
       "    .dataframe tbody tr th {\n",
       "        vertical-align: top;\n",
       "    }\n",
       "\n",
       "    .dataframe thead th {\n",
       "        text-align: right;\n",
       "    }\n",
       "</style>\n",
       "<table border=\"1\" class=\"dataframe\">\n",
       "  <thead>\n",
       "    <tr style=\"text-align: right;\">\n",
       "      <th></th>\n",
       "      <th>v1</th>\n",
       "      <th>v2</th>\n",
       "    </tr>\n",
       "  </thead>\n",
       "  <tbody>\n",
       "    <tr>\n",
       "      <th>0</th>\n",
       "      <td>ham</td>\n",
       "      <td>Go until jurong point, crazy.. Available only ...</td>\n",
       "    </tr>\n",
       "    <tr>\n",
       "      <th>1</th>\n",
       "      <td>ham</td>\n",
       "      <td>Ok lar... Joking wif u oni...</td>\n",
       "    </tr>\n",
       "    <tr>\n",
       "      <th>2</th>\n",
       "      <td>spam</td>\n",
       "      <td>Free entry in 2 a wkly comp to win FA Cup fina...</td>\n",
       "    </tr>\n",
       "    <tr>\n",
       "      <th>3</th>\n",
       "      <td>ham</td>\n",
       "      <td>U dun say so early hor... U c already then say...</td>\n",
       "    </tr>\n",
       "    <tr>\n",
       "      <th>4</th>\n",
       "      <td>ham</td>\n",
       "      <td>Nah I don't think he goes to usf, he lives aro...</td>\n",
       "    </tr>\n",
       "    <tr>\n",
       "      <th>5</th>\n",
       "      <td>spam</td>\n",
       "      <td>FreeMsg Hey there darling it's been 3 week's n...</td>\n",
       "    </tr>\n",
       "    <tr>\n",
       "      <th>6</th>\n",
       "      <td>ham</td>\n",
       "      <td>Even my brother is not like to speak with me. ...</td>\n",
       "    </tr>\n",
       "    <tr>\n",
       "      <th>7</th>\n",
       "      <td>ham</td>\n",
       "      <td>As per your request 'Melle Melle (Oru Minnamin...</td>\n",
       "    </tr>\n",
       "    <tr>\n",
       "      <th>8</th>\n",
       "      <td>spam</td>\n",
       "      <td>WINNER!! As a valued network customer you have...</td>\n",
       "    </tr>\n",
       "    <tr>\n",
       "      <th>9</th>\n",
       "      <td>spam</td>\n",
       "      <td>Had your mobile 11 months or more? U R entitle...</td>\n",
       "    </tr>\n",
       "  </tbody>\n",
       "</table>\n",
       "</div>"
      ],
      "text/plain": [
       "     v1                                                 v2\n",
       "0   ham  Go until jurong point, crazy.. Available only ...\n",
       "1   ham                      Ok lar... Joking wif u oni...\n",
       "2  spam  Free entry in 2 a wkly comp to win FA Cup fina...\n",
       "3   ham  U dun say so early hor... U c already then say...\n",
       "4   ham  Nah I don't think he goes to usf, he lives aro...\n",
       "5  spam  FreeMsg Hey there darling it's been 3 week's n...\n",
       "6   ham  Even my brother is not like to speak with me. ...\n",
       "7   ham  As per your request 'Melle Melle (Oru Minnamin...\n",
       "8  spam  WINNER!! As a valued network customer you have...\n",
       "9  spam  Had your mobile 11 months or more? U R entitle..."
      ]
     },
     "execution_count": 3,
     "metadata": {},
     "output_type": "execute_result"
    }
   ],
   "source": [
    "text.drop(['Unnamed: 2', 'Unnamed: 3','Unnamed: 4'], axis=1,inplace=True)\n",
    "# Verify the updated DataFrame\n",
    "text.head(10)"
   ]
  },
  {
   "attachments": {},
   "cell_type": "markdown",
   "metadata": {},
   "source": [
    "<h4>number of ham & spam sms "
   ]
  },
  {
   "cell_type": "code",
   "execution_count": 4,
   "metadata": {},
   "outputs": [
    {
     "data": {
      "text/plain": [
       "ham     4825\n",
       "spam     747\n",
       "Name: v1, dtype: int64"
      ]
     },
     "execution_count": 4,
     "metadata": {},
     "output_type": "execute_result"
    }
   ],
   "source": [
    "text['v1'].value_counts()"
   ]
  },
  {
   "attachments": {},
   "cell_type": "markdown",
   "metadata": {},
   "source": [
    "<h3>change ham to 0 and spam to 1"
   ]
  },
  {
   "cell_type": "code",
   "execution_count": 5,
   "metadata": {},
   "outputs": [
    {
     "data": {
      "text/html": [
       "<div>\n",
       "<style scoped>\n",
       "    .dataframe tbody tr th:only-of-type {\n",
       "        vertical-align: middle;\n",
       "    }\n",
       "\n",
       "    .dataframe tbody tr th {\n",
       "        vertical-align: top;\n",
       "    }\n",
       "\n",
       "    .dataframe thead th {\n",
       "        text-align: right;\n",
       "    }\n",
       "</style>\n",
       "<table border=\"1\" class=\"dataframe\">\n",
       "  <thead>\n",
       "    <tr style=\"text-align: right;\">\n",
       "      <th></th>\n",
       "      <th>v1</th>\n",
       "      <th>v2</th>\n",
       "    </tr>\n",
       "  </thead>\n",
       "  <tbody>\n",
       "    <tr>\n",
       "      <th>0</th>\n",
       "      <td>0</td>\n",
       "      <td>Go until jurong point, crazy.. Available only ...</td>\n",
       "    </tr>\n",
       "    <tr>\n",
       "      <th>1</th>\n",
       "      <td>0</td>\n",
       "      <td>Ok lar... Joking wif u oni...</td>\n",
       "    </tr>\n",
       "    <tr>\n",
       "      <th>2</th>\n",
       "      <td>1</td>\n",
       "      <td>Free entry in 2 a wkly comp to win FA Cup fina...</td>\n",
       "    </tr>\n",
       "    <tr>\n",
       "      <th>3</th>\n",
       "      <td>0</td>\n",
       "      <td>U dun say so early hor... U c already then say...</td>\n",
       "    </tr>\n",
       "    <tr>\n",
       "      <th>4</th>\n",
       "      <td>0</td>\n",
       "      <td>Nah I don't think he goes to usf, he lives aro...</td>\n",
       "    </tr>\n",
       "    <tr>\n",
       "      <th>5</th>\n",
       "      <td>1</td>\n",
       "      <td>FreeMsg Hey there darling it's been 3 week's n...</td>\n",
       "    </tr>\n",
       "    <tr>\n",
       "      <th>6</th>\n",
       "      <td>0</td>\n",
       "      <td>Even my brother is not like to speak with me. ...</td>\n",
       "    </tr>\n",
       "    <tr>\n",
       "      <th>7</th>\n",
       "      <td>0</td>\n",
       "      <td>As per your request 'Melle Melle (Oru Minnamin...</td>\n",
       "    </tr>\n",
       "    <tr>\n",
       "      <th>8</th>\n",
       "      <td>1</td>\n",
       "      <td>WINNER!! As a valued network customer you have...</td>\n",
       "    </tr>\n",
       "    <tr>\n",
       "      <th>9</th>\n",
       "      <td>1</td>\n",
       "      <td>Had your mobile 11 months or more? U R entitle...</td>\n",
       "    </tr>\n",
       "  </tbody>\n",
       "</table>\n",
       "</div>"
      ],
      "text/plain": [
       "   v1                                                 v2\n",
       "0   0  Go until jurong point, crazy.. Available only ...\n",
       "1   0                      Ok lar... Joking wif u oni...\n",
       "2   1  Free entry in 2 a wkly comp to win FA Cup fina...\n",
       "3   0  U dun say so early hor... U c already then say...\n",
       "4   0  Nah I don't think he goes to usf, he lives aro...\n",
       "5   1  FreeMsg Hey there darling it's been 3 week's n...\n",
       "6   0  Even my brother is not like to speak with me. ...\n",
       "7   0  As per your request 'Melle Melle (Oru Minnamin...\n",
       "8   1  WINNER!! As a valued network customer you have...\n",
       "9   1  Had your mobile 11 months or more? U R entitle..."
      ]
     },
     "execution_count": 5,
     "metadata": {},
     "output_type": "execute_result"
    }
   ],
   "source": [
    "text['v1'] = text['v1'].replace({'ham': 0, 'spam': 1})\n",
    "text.head(10)"
   ]
  },
  {
   "attachments": {},
   "cell_type": "markdown",
   "metadata": {},
   "source": [
    "<h2>Data Pre_Processing"
   ]
  },
  {
   "attachments": {},
   "cell_type": "markdown",
   "metadata": {},
   "source": [
    "<h4>make words to lowercase"
   ]
  },
  {
   "cell_type": "code",
   "execution_count": 6,
   "metadata": {},
   "outputs": [
    {
     "data": {
      "text/html": [
       "<div>\n",
       "<style scoped>\n",
       "    .dataframe tbody tr th:only-of-type {\n",
       "        vertical-align: middle;\n",
       "    }\n",
       "\n",
       "    .dataframe tbody tr th {\n",
       "        vertical-align: top;\n",
       "    }\n",
       "\n",
       "    .dataframe thead th {\n",
       "        text-align: right;\n",
       "    }\n",
       "</style>\n",
       "<table border=\"1\" class=\"dataframe\">\n",
       "  <thead>\n",
       "    <tr style=\"text-align: right;\">\n",
       "      <th></th>\n",
       "      <th>v1</th>\n",
       "      <th>v2</th>\n",
       "    </tr>\n",
       "  </thead>\n",
       "  <tbody>\n",
       "    <tr>\n",
       "      <th>0</th>\n",
       "      <td>0</td>\n",
       "      <td>go until jurong point, crazy.. available only ...</td>\n",
       "    </tr>\n",
       "    <tr>\n",
       "      <th>1</th>\n",
       "      <td>0</td>\n",
       "      <td>ok lar... joking wif u oni...</td>\n",
       "    </tr>\n",
       "    <tr>\n",
       "      <th>2</th>\n",
       "      <td>1</td>\n",
       "      <td>free entry in 2 a wkly comp to win fa cup fina...</td>\n",
       "    </tr>\n",
       "    <tr>\n",
       "      <th>3</th>\n",
       "      <td>0</td>\n",
       "      <td>u dun say so early hor... u c already then say...</td>\n",
       "    </tr>\n",
       "    <tr>\n",
       "      <th>4</th>\n",
       "      <td>0</td>\n",
       "      <td>nah i don't think he goes to usf, he lives aro...</td>\n",
       "    </tr>\n",
       "    <tr>\n",
       "      <th>5</th>\n",
       "      <td>1</td>\n",
       "      <td>freemsg hey there darling it's been 3 week's n...</td>\n",
       "    </tr>\n",
       "    <tr>\n",
       "      <th>6</th>\n",
       "      <td>0</td>\n",
       "      <td>even my brother is not like to speak with me. ...</td>\n",
       "    </tr>\n",
       "    <tr>\n",
       "      <th>7</th>\n",
       "      <td>0</td>\n",
       "      <td>as per your request 'melle melle (oru minnamin...</td>\n",
       "    </tr>\n",
       "    <tr>\n",
       "      <th>8</th>\n",
       "      <td>1</td>\n",
       "      <td>winner!! as a valued network customer you have...</td>\n",
       "    </tr>\n",
       "    <tr>\n",
       "      <th>9</th>\n",
       "      <td>1</td>\n",
       "      <td>had your mobile 11 months or more? u r entitle...</td>\n",
       "    </tr>\n",
       "  </tbody>\n",
       "</table>\n",
       "</div>"
      ],
      "text/plain": [
       "   v1                                                 v2\n",
       "0   0  go until jurong point, crazy.. available only ...\n",
       "1   0                      ok lar... joking wif u oni...\n",
       "2   1  free entry in 2 a wkly comp to win fa cup fina...\n",
       "3   0  u dun say so early hor... u c already then say...\n",
       "4   0  nah i don't think he goes to usf, he lives aro...\n",
       "5   1  freemsg hey there darling it's been 3 week's n...\n",
       "6   0  even my brother is not like to speak with me. ...\n",
       "7   0  as per your request 'melle melle (oru minnamin...\n",
       "8   1  winner!! as a valued network customer you have...\n",
       "9   1  had your mobile 11 months or more? u r entitle..."
      ]
     },
     "execution_count": 6,
     "metadata": {},
     "output_type": "execute_result"
    }
   ],
   "source": [
    "text['v2']=text['v2'].str.lower()\n",
    "text.head(10)"
   ]
  },
  {
   "attachments": {},
   "cell_type": "markdown",
   "metadata": {},
   "source": [
    "<h4>removing stop words"
   ]
  },
  {
   "cell_type": "code",
   "execution_count": 7,
   "metadata": {},
   "outputs": [],
   "source": [
    "from nltk.corpus import stopwords\n",
    "import nltk\n"
   ]
  },
  {
   "cell_type": "code",
   "execution_count": 8,
   "metadata": {},
   "outputs": [
    {
     "data": {
      "text/html": [
       "<div>\n",
       "<style scoped>\n",
       "    .dataframe tbody tr th:only-of-type {\n",
       "        vertical-align: middle;\n",
       "    }\n",
       "\n",
       "    .dataframe tbody tr th {\n",
       "        vertical-align: top;\n",
       "    }\n",
       "\n",
       "    .dataframe thead th {\n",
       "        text-align: right;\n",
       "    }\n",
       "</style>\n",
       "<table border=\"1\" class=\"dataframe\">\n",
       "  <thead>\n",
       "    <tr style=\"text-align: right;\">\n",
       "      <th></th>\n",
       "      <th>v1</th>\n",
       "      <th>v2</th>\n",
       "    </tr>\n",
       "  </thead>\n",
       "  <tbody>\n",
       "    <tr>\n",
       "      <th>0</th>\n",
       "      <td>0</td>\n",
       "      <td>go jurong point, crazy.. available bugis n gre...</td>\n",
       "    </tr>\n",
       "    <tr>\n",
       "      <th>1</th>\n",
       "      <td>0</td>\n",
       "      <td>ok lar... joking wif u oni...</td>\n",
       "    </tr>\n",
       "    <tr>\n",
       "      <th>2</th>\n",
       "      <td>1</td>\n",
       "      <td>free entry 2 wkly comp win fa cup final tkts 2...</td>\n",
       "    </tr>\n",
       "    <tr>\n",
       "      <th>3</th>\n",
       "      <td>0</td>\n",
       "      <td>u dun say early hor... u c already say...</td>\n",
       "    </tr>\n",
       "    <tr>\n",
       "      <th>4</th>\n",
       "      <td>0</td>\n",
       "      <td>nah think goes usf, lives around though</td>\n",
       "    </tr>\n",
       "    <tr>\n",
       "      <th>5</th>\n",
       "      <td>1</td>\n",
       "      <td>freemsg hey darling 3 week's word back! i'd li...</td>\n",
       "    </tr>\n",
       "    <tr>\n",
       "      <th>6</th>\n",
       "      <td>0</td>\n",
       "      <td>even brother like speak me. treat like aids pa...</td>\n",
       "    </tr>\n",
       "    <tr>\n",
       "      <th>7</th>\n",
       "      <td>0</td>\n",
       "      <td>per request 'melle melle (oru minnaminunginte ...</td>\n",
       "    </tr>\n",
       "    <tr>\n",
       "      <th>8</th>\n",
       "      <td>1</td>\n",
       "      <td>winner!! valued network customer selected rece...</td>\n",
       "    </tr>\n",
       "    <tr>\n",
       "      <th>9</th>\n",
       "      <td>1</td>\n",
       "      <td>mobile 11 months more? u r entitled update lat...</td>\n",
       "    </tr>\n",
       "  </tbody>\n",
       "</table>\n",
       "</div>"
      ],
      "text/plain": [
       "   v1                                                 v2\n",
       "0   0  go jurong point, crazy.. available bugis n gre...\n",
       "1   0                      ok lar... joking wif u oni...\n",
       "2   1  free entry 2 wkly comp win fa cup final tkts 2...\n",
       "3   0          u dun say early hor... u c already say...\n",
       "4   0            nah think goes usf, lives around though\n",
       "5   1  freemsg hey darling 3 week's word back! i'd li...\n",
       "6   0  even brother like speak me. treat like aids pa...\n",
       "7   0  per request 'melle melle (oru minnaminunginte ...\n",
       "8   1  winner!! valued network customer selected rece...\n",
       "9   1  mobile 11 months more? u r entitled update lat..."
      ]
     },
     "execution_count": 8,
     "metadata": {},
     "output_type": "execute_result"
    }
   ],
   "source": [
    "stopword=set(stopwords.words('english'))\n",
    "def remove_stopwords(text):\n",
    "    words = text.split()\n",
    "    words = [word for word in words if word.lower() not in stopword]\n",
    "    return ' '.join(words)\n",
    "# Apply the remove_stopwords function to the 'sms' column\n",
    "text['v2'] = text['v2'].apply(remove_stopwords)\n",
    "text.head(10)"
   ]
  },
  {
   "attachments": {},
   "cell_type": "markdown",
   "metadata": {},
   "source": [
    "<h4>Stemming with Porter stemmer "
   ]
  },
  {
   "cell_type": "code",
   "execution_count": 9,
   "metadata": {},
   "outputs": [],
   "source": [
    "from nltk.stem import porter\n",
    "Pstemmer = porter.PorterStemmer()"
   ]
  },
  {
   "cell_type": "code",
   "execution_count": 10,
   "metadata": {},
   "outputs": [
    {
     "data": {
      "text/html": [
       "<div>\n",
       "<style scoped>\n",
       "    .dataframe tbody tr th:only-of-type {\n",
       "        vertical-align: middle;\n",
       "    }\n",
       "\n",
       "    .dataframe tbody tr th {\n",
       "        vertical-align: top;\n",
       "    }\n",
       "\n",
       "    .dataframe thead th {\n",
       "        text-align: right;\n",
       "    }\n",
       "</style>\n",
       "<table border=\"1\" class=\"dataframe\">\n",
       "  <thead>\n",
       "    <tr style=\"text-align: right;\">\n",
       "      <th></th>\n",
       "      <th>v1</th>\n",
       "      <th>v2</th>\n",
       "    </tr>\n",
       "  </thead>\n",
       "  <tbody>\n",
       "    <tr>\n",
       "      <th>0</th>\n",
       "      <td>0</td>\n",
       "      <td>go jurong point, crazy.. available bugis n gre...</td>\n",
       "    </tr>\n",
       "    <tr>\n",
       "      <th>1</th>\n",
       "      <td>0</td>\n",
       "      <td>ok lar... joking wif u oni...</td>\n",
       "    </tr>\n",
       "    <tr>\n",
       "      <th>2</th>\n",
       "      <td>1</td>\n",
       "      <td>free entry 2 wkly comp win fa cup final tkts 2...</td>\n",
       "    </tr>\n",
       "    <tr>\n",
       "      <th>3</th>\n",
       "      <td>0</td>\n",
       "      <td>u dun say early hor... u c already say...</td>\n",
       "    </tr>\n",
       "    <tr>\n",
       "      <th>4</th>\n",
       "      <td>0</td>\n",
       "      <td>nah think goes usf, lives around though</td>\n",
       "    </tr>\n",
       "    <tr>\n",
       "      <th>5</th>\n",
       "      <td>1</td>\n",
       "      <td>freemsg hey darling 3 week's word back! i'd li...</td>\n",
       "    </tr>\n",
       "    <tr>\n",
       "      <th>6</th>\n",
       "      <td>0</td>\n",
       "      <td>even brother like speak me. treat like aids pa...</td>\n",
       "    </tr>\n",
       "    <tr>\n",
       "      <th>7</th>\n",
       "      <td>0</td>\n",
       "      <td>per request 'melle melle (oru minnaminunginte ...</td>\n",
       "    </tr>\n",
       "    <tr>\n",
       "      <th>8</th>\n",
       "      <td>1</td>\n",
       "      <td>winner!! valued network customer selected rece...</td>\n",
       "    </tr>\n",
       "    <tr>\n",
       "      <th>9</th>\n",
       "      <td>1</td>\n",
       "      <td>mobile 11 months more? u r entitled update lat...</td>\n",
       "    </tr>\n",
       "  </tbody>\n",
       "</table>\n",
       "</div>"
      ],
      "text/plain": [
       "   v1                                                 v2\n",
       "0   0  go jurong point, crazy.. available bugis n gre...\n",
       "1   0                      ok lar... joking wif u oni...\n",
       "2   1  free entry 2 wkly comp win fa cup final tkts 2...\n",
       "3   0          u dun say early hor... u c already say...\n",
       "4   0            nah think goes usf, lives around though\n",
       "5   1  freemsg hey darling 3 week's word back! i'd li...\n",
       "6   0  even brother like speak me. treat like aids pa...\n",
       "7   0  per request 'melle melle (oru minnaminunginte ...\n",
       "8   1  winner!! valued network customer selected rece...\n",
       "9   1  mobile 11 months more? u r entitled update lat..."
      ]
     },
     "execution_count": 10,
     "metadata": {},
     "output_type": "execute_result"
    }
   ],
   "source": [
    "text['v2'] = [Pstemmer.stem(word=wo) for wo in text['v2']]\n",
    "text.head(10)"
   ]
  },
  {
   "cell_type": "markdown",
   "metadata": {},
   "source": [
    "<h1>store preprocessed data"
   ]
  },
  {
   "cell_type": "code",
   "execution_count": 11,
   "metadata": {},
   "outputs": [],
   "source": [
    "text.to_csv('ready_text.csv')"
   ]
  },
  {
   "attachments": {},
   "cell_type": "markdown",
   "metadata": {},
   "source": [
    "<h2>Tokenization-TF*IDF"
   ]
  },
  {
   "cell_type": "code",
   "execution_count": 12,
   "metadata": {},
   "outputs": [],
   "source": [
    "from sklearn.feature_extraction.text import TfidfVectorizer"
   ]
  },
  {
   "cell_type": "code",
   "execution_count": 13,
   "metadata": {},
   "outputs": [
    {
     "data": {
      "text/plain": [
       "<5572x8820 sparse matrix of type '<class 'numpy.float64'>'\n",
       "\twith 50149 stored elements in Compressed Sparse Row format>"
      ]
     },
     "execution_count": 13,
     "metadata": {},
     "output_type": "execute_result"
    }
   ],
   "source": [
    "TFFi=TfidfVectorizer()\n",
    "tffi_tokenized_text=TFFi.fit_transform(text['v2'])\n",
    "tffi_tokenized_text\n"
   ]
  },
  {
   "attachments": {},
   "cell_type": "markdown",
   "metadata": {},
   "source": [
    "<h1>Bag of Word"
   ]
  },
  {
   "cell_type": "code",
   "execution_count": 14,
   "metadata": {},
   "outputs": [],
   "source": [
    "from sklearn.feature_extraction.text import CountVectorizer"
   ]
  },
  {
   "cell_type": "code",
   "execution_count": 15,
   "metadata": {},
   "outputs": [
    {
     "name": "stdout",
     "output_type": "stream",
     "text": [
      "[[0 0 0 ... 0 0 0]\n",
      " [0 0 0 ... 0 0 0]\n",
      " [0 0 0 ... 0 0 0]\n",
      " ...\n",
      " [0 0 0 ... 0 0 0]\n",
      " [0 0 0 ... 0 0 0]\n",
      " [0 0 0 ... 0 0 0]]\n"
     ]
    }
   ],
   "source": [
    "vectorizer = CountVectorizer()\n",
    "bow_model = vectorizer.fit_transform(text['v2'])\n",
    "bow_tokenized_text=bow_model.toarray()      # returns the rows and column number of cells which have 1 as value\n",
    "print(bow_tokenized_text)  "
   ]
  },
  {
   "attachments": {},
   "cell_type": "markdown",
   "metadata": {},
   "source": [
    "<h1>Split data to Train and test "
   ]
  },
  {
   "cell_type": "code",
   "execution_count": 16,
   "metadata": {},
   "outputs": [],
   "source": [
    "from sklearn.model_selection import train_test_split"
   ]
  },
  {
   "cell_type": "code",
   "execution_count": 17,
   "metadata": {},
   "outputs": [],
   "source": [
    "tffi_x_train,tffi_x_test,tffi_y_train,tffi_y_test=train_test_split(tffi_tokenized_text,text['v1'],random_state=42,shuffle=True,test_size=0.3,stratify=text['v1'])\n",
    "bow_x_train,bow_x_test,bow_y_train,bow_y_test=train_test_split(bow_tokenized_text,text['v1'],random_state=42,shuffle=True,test_size=0.3,stratify=text['v1'])"
   ]
  },
  {
   "attachments": {},
   "cell_type": "markdown",
   "metadata": {},
   "source": [
    "<h1>measures"
   ]
  },
  {
   "cell_type": "code",
   "execution_count": 18,
   "metadata": {},
   "outputs": [],
   "source": [
    "from sklearn.metrics import recall_score,accuracy_score,precision_score,f1_score"
   ]
  },
  {
   "attachments": {},
   "cell_type": "markdown",
   "metadata": {},
   "source": [
    "<h1>KNN"
   ]
  },
  {
   "cell_type": "code",
   "execution_count": 19,
   "metadata": {},
   "outputs": [],
   "source": [
    "from sklearn.neighbors import KNeighborsClassifier"
   ]
  },
  {
   "cell_type": "code",
   "execution_count": 20,
   "metadata": {},
   "outputs": [
    {
     "data": {
      "text/plain": [
       "0.9479665071770335"
      ]
     },
     "execution_count": 20,
     "metadata": {},
     "output_type": "execute_result"
    }
   ],
   "source": [
    "tffi_knn=KNeighborsClassifier(n_neighbors=13)\n",
    "tffi_knn.fit(tffi_x_train,tffi_y_train)\n",
    "knn_tffi_pred=tffi_knn.predict(X=tffi_x_test)\n",
    "tffi_knn.score(X=tffi_x_test,y=tffi_y_test)"
   ]
  },
  {
   "cell_type": "code",
   "execution_count": 21,
   "metadata": {},
   "outputs": [
    {
     "data": {
      "text/plain": [
       "0.8773923444976076"
      ]
     },
     "execution_count": 21,
     "metadata": {},
     "output_type": "execute_result"
    }
   ],
   "source": [
    "bow_knn=KNeighborsClassifier(n_neighbors=13)\n",
    "bow_knn.fit(X=bow_x_train,y=bow_y_train)\n",
    "knn_bow_pred=bow_knn.predict(X=bow_x_test)\n",
    "bow_knn.score(X=bow_x_test,y=bow_y_test)"
   ]
  },
  {
   "attachments": {},
   "cell_type": "markdown",
   "metadata": {},
   "source": [
    "<h2>Measurin knn algorithms\n"
   ]
  },
  {
   "cell_type": "code",
   "execution_count": 22,
   "metadata": {},
   "outputs": [
    {
     "name": "stdout",
     "output_type": "stream",
     "text": [
      "Measuring knn wit TF*IDF :\n",
      "\n",
      "Accuracy: 0.9479665071770335\n",
      "Recall: 0.6116071428571429\n",
      "Precision: 1.0\n",
      "F1-score: 0.7590027700831026\n",
      "\n",
      "\n",
      "Measuring knn wit BOW :\n",
      "\n",
      "Accuracy: 0.8773923444976076\n",
      "Recall: 0.08482142857142858\n",
      "Precision: 1.0\n",
      "F1-score: 0.15637860082304528\n"
     ]
    }
   ],
   "source": [
    "knn_tffi_precision = precision_score(y_true=tffi_y_test,y_pred= knn_tffi_pred)\n",
    "knn_tffi_recall = recall_score(y_true=tffi_y_test, y_pred=knn_tffi_pred)\n",
    "knn_tffi_f1 = f1_score(y_true=tffi_y_test, y_pred=knn_tffi_pred)\n",
    "knn_tffi_accuracy = accuracy_score(y_true=tffi_y_test, y_pred=knn_tffi_pred)\n",
    "print(\"Measuring knn wit TF*IDF :\\n\")\n",
    "print(\"Accuracy:\", knn_tffi_accuracy)\n",
    "print(\"Recall:\", knn_tffi_recall)\n",
    "print(\"Precision:\", knn_tffi_precision)\n",
    "print(\"F1-score:\", knn_tffi_f1)\n",
    "\n",
    "knn_bow_precision = precision_score(y_true=bow_y_test, y_pred=knn_bow_pred)\n",
    "knn_bow_recall = recall_score(y_true=bow_y_test, y_pred=knn_bow_pred)\n",
    "knn_bow_f1 = f1_score(y_true=bow_y_test, y_pred=knn_bow_pred)\n",
    "knn_bow_accuracy = accuracy_score(y_true=bow_y_test, y_pred=knn_bow_pred)\n",
    "print(\"\\n\\nMeasuring knn wit BOW :\\n\")\n",
    "print(\"Accuracy:\", knn_bow_accuracy)\n",
    "print(\"Recall:\", knn_bow_recall)\n",
    "print(\"Precision:\", knn_bow_precision)\n",
    "print(\"F1-score:\", knn_bow_f1)"
   ]
  },
  {
   "attachments": {},
   "cell_type": "markdown",
   "metadata": {},
   "source": [
    "<h1>Random forest"
   ]
  },
  {
   "cell_type": "code",
   "execution_count": 23,
   "metadata": {},
   "outputs": [],
   "source": [
    "from sklearn.ensemble import RandomForestClassifier"
   ]
  },
  {
   "attachments": {},
   "cell_type": "markdown",
   "metadata": {},
   "source": [
    "<h5>Random forest with TF*IDF"
   ]
  },
  {
   "cell_type": "code",
   "execution_count": 24,
   "metadata": {},
   "outputs": [
    {
     "data": {
      "text/plain": [
       "0.9826555023923444"
      ]
     },
     "execution_count": 24,
     "metadata": {},
     "output_type": "execute_result"
    }
   ],
   "source": [
    "tffi_Random_F=RandomForestClassifier(n_estimators=31,criterion='gini')\n",
    "tffi_Random_F.fit(tffi_x_train,tffi_y_train)\n",
    "tffi_Randmon_F_pred=tffi_Random_F.predict(X=tffi_x_test)\n",
    "tffi_Random_F.score(X=tffi_x_test,y=tffi_y_test)"
   ]
  },
  {
   "attachments": {},
   "cell_type": "markdown",
   "metadata": {},
   "source": [
    "<h5>Random_forest with BOW"
   ]
  },
  {
   "cell_type": "code",
   "execution_count": 25,
   "metadata": {},
   "outputs": [
    {
     "data": {
      "text/plain": [
       "0.9748803827751196"
      ]
     },
     "execution_count": 25,
     "metadata": {},
     "output_type": "execute_result"
    }
   ],
   "source": [
    "bow_Random_F=RandomForestClassifier(n_estimators=31,criterion='gini')\n",
    "bow_Random_F.fit(bow_x_train,bow_y_train)\n",
    "bow_Randmon_F_pred=bow_Random_F.predict(X=bow_x_test)\n",
    "bow_Random_F.score(X=bow_x_test,y=bow_y_test)"
   ]
  },
  {
   "attachments": {},
   "cell_type": "markdown",
   "metadata": {},
   "source": [
    "<h4>Measuring both Random Forest "
   ]
  },
  {
   "cell_type": "code",
   "execution_count": 26,
   "metadata": {},
   "outputs": [
    {
     "name": "stdout",
     "output_type": "stream",
     "text": [
      "Measuring Random forest wit TF*IDF :\n",
      "\n",
      "Accuracy: 0.9826555023923444\n",
      "Recall: 0.8705357142857143\n",
      "Precision: 1.0\n",
      "F1-score: 0.9307875894988067\n",
      "\n",
      "\n",
      "Measuring Random forest wit BOW :\n",
      "\n",
      "Accuracy: 0.9748803827751196\n",
      "Recall: 0.8125\n",
      "Precision: 1.0\n",
      "F1-score: 0.896551724137931\n"
     ]
    }
   ],
   "source": [
    "tffi_Random_F_precision = precision_score(tffi_y_test, tffi_Randmon_F_pred)\n",
    "tffi_Random_F_recall = recall_score(tffi_y_test, tffi_Randmon_F_pred)\n",
    "tffi_Random_F_f1 = f1_score(tffi_y_test, tffi_Randmon_F_pred)\n",
    "tffi_Random_F_accuracy = accuracy_score(tffi_y_test, tffi_Randmon_F_pred)\n",
    "print(\"Measuring Random forest wit TF*IDF :\\n\")\n",
    "print(\"Accuracy:\", tffi_Random_F_accuracy)\n",
    "print(\"Recall:\", tffi_Random_F_recall)\n",
    "print(\"Precision:\", tffi_Random_F_precision)\n",
    "print(\"F1-score:\", tffi_Random_F_f1)\n",
    "\n",
    "bow_Random_F_precision = precision_score(bow_y_test, bow_Randmon_F_pred)\n",
    "bow_Random_F_recall = recall_score(bow_y_test, bow_Randmon_F_pred)\n",
    "bow_Random_F_f1 = f1_score(bow_y_test, bow_Randmon_F_pred)\n",
    "bow_Random_F_accuracy = accuracy_score(bow_y_test, bow_Randmon_F_pred)\n",
    "print(\"\\n\\nMeasuring Random forest wit BOW :\\n\")\n",
    "print(\"Accuracy:\", bow_Random_F_accuracy)\n",
    "print(\"Recall:\", bow_Random_F_recall)\n",
    "print(\"Precision:\", bow_Random_F_precision)\n",
    "print(\"F1-score:\", bow_Random_F_f1)"
   ]
  },
  {
   "attachments": {},
   "cell_type": "markdown",
   "metadata": {},
   "source": [
    "<h1>SVM"
   ]
  },
  {
   "cell_type": "code",
   "execution_count": 27,
   "metadata": {},
   "outputs": [],
   "source": [
    "from sklearn import svm"
   ]
  },
  {
   "attachments": {},
   "cell_type": "markdown",
   "metadata": {},
   "source": [
    "<h5>SVM with TF*IDF"
   ]
  },
  {
   "cell_type": "code",
   "execution_count": 28,
   "metadata": {},
   "outputs": [
    {
     "data": {
      "text/plain": [
       "0.9838516746411483"
      ]
     },
     "execution_count": 28,
     "metadata": {},
     "output_type": "execute_result"
    }
   ],
   "source": [
    "tffi_SVM=svm.SVC(kernel='rbf',C=10,gamma=0.1)\n",
    "tffi_SVM.fit(tffi_x_train,tffi_y_train)\n",
    "tffi_SVM_pred=tffi_SVM.predict(X=tffi_x_test)\n",
    "tffi_SVM.score(X=tffi_x_test,y=tffi_y_test)"
   ]
  },
  {
   "attachments": {},
   "cell_type": "markdown",
   "metadata": {},
   "source": [
    "<h5>SVM with BOW"
   ]
  },
  {
   "cell_type": "code",
   "execution_count": 29,
   "metadata": {},
   "outputs": [
    {
     "data": {
      "text/plain": [
       "0.9784688995215312"
      ]
     },
     "execution_count": 29,
     "metadata": {},
     "output_type": "execute_result"
    }
   ],
   "source": [
    "bow_SVM=svm.SVC(kernel='rbf',C=10,gamma=0.1)\n",
    "bow_SVM.fit(bow_x_train,bow_y_train)\n",
    "bow_SVM_pred=bow_SVM.predict(X=bow_x_test)\n",
    "bow_SVM.score(X=bow_x_test,y=bow_y_test)"
   ]
  },
  {
   "attachments": {},
   "cell_type": "markdown",
   "metadata": {},
   "source": [
    "<h3>Measuring SVM"
   ]
  },
  {
   "cell_type": "code",
   "execution_count": 30,
   "metadata": {},
   "outputs": [
    {
     "name": "stdout",
     "output_type": "stream",
     "text": [
      "Measuring SVM wit TF*IDF :\n",
      "\n",
      "Accuracy: 0.9838516746411483\n",
      "Recall: 0.8928571428571429\n",
      "Precision: 0.9852216748768473\n",
      "F1-score: 0.936768149882904\n",
      "\n",
      "\n",
      "Measuring SVM wit BOW :\n",
      "\n",
      "Accuracy: 0.9784688995215312\n",
      "Recall: 0.8392857142857143\n",
      "Precision: 1.0\n",
      "F1-score: 0.9126213592233009\n"
     ]
    }
   ],
   "source": [
    "tffi_SVM_precision = precision_score(tffi_y_test, tffi_SVM_pred)\n",
    "tffi_SVM_recall = recall_score(tffi_y_test, tffi_SVM_pred)\n",
    "tffi_SVM_f1 = f1_score(tffi_y_test, tffi_SVM_pred)\n",
    "tffi_SVM_accuracy = accuracy_score(tffi_y_test, tffi_SVM_pred)\n",
    "print(\"Measuring SVM wit TF*IDF :\\n\")\n",
    "print(\"Accuracy:\", tffi_SVM_accuracy)\n",
    "print(\"Recall:\", tffi_SVM_recall)\n",
    "print(\"Precision:\", tffi_SVM_precision)\n",
    "print(\"F1-score:\", tffi_SVM_f1)\n",
    "\n",
    "bow_SVM_precision = precision_score(bow_y_test, bow_SVM_pred)\n",
    "bow_SVM_recall = recall_score(bow_y_test, bow_SVM_pred)\n",
    "bow_SVM_f1 = f1_score(bow_y_test, bow_SVM_pred)\n",
    "bow_SVM_accuracy = accuracy_score(bow_y_test, bow_SVM_pred)\n",
    "print(\"\\n\\nMeasuring SVM wit BOW :\\n\")\n",
    "print(\"Accuracy:\", bow_SVM_accuracy)\n",
    "print(\"Recall:\", bow_SVM_recall)\n",
    "print(\"Precision:\", bow_SVM_precision)\n",
    "print(\"F1-score:\", bow_SVM_f1)"
   ]
  },
  {
   "cell_type": "markdown",
   "metadata": {},
   "source": [
    "<h1>Navie Bayse\n"
   ]
  },
  {
   "cell_type": "code",
   "execution_count": 31,
   "metadata": {},
   "outputs": [],
   "source": [
    "from sklearn.naive_bayes import GaussianNB"
   ]
  },
  {
   "cell_type": "code",
   "execution_count": 32,
   "metadata": {},
   "outputs": [
    {
     "data": {
      "text/plain": [
       "0.9084928229665071"
      ]
     },
     "execution_count": 32,
     "metadata": {},
     "output_type": "execute_result"
    }
   ],
   "source": [
    "gb_tf=GaussianNB()\n",
    "gb_tf.fit(X=tffi_x_train.toarray(),y=tffi_y_train)\n",
    "tffi_gb_pred=gb_tf.predict(X=tffi_x_test.toarray())\n",
    "gb_tf.score(X=tffi_x_test.toarray(),y=tffi_y_test)"
   ]
  },
  {
   "cell_type": "code",
   "execution_count": 33,
   "metadata": {},
   "outputs": [
    {
     "data": {
      "text/plain": [
       "0.9102870813397129"
      ]
     },
     "execution_count": 33,
     "metadata": {},
     "output_type": "execute_result"
    }
   ],
   "source": [
    "gb_bow=GaussianNB()\n",
    "gb_bow.fit(X=bow_x_train,y=bow_y_train)\n",
    "bow_gb_pred=gb_bow.predict(X=bow_x_test)\n",
    "gb_tf.score(X=bow_x_test,y=bow_y_test)"
   ]
  },
  {
   "cell_type": "code",
   "execution_count": 34,
   "metadata": {},
   "outputs": [
    {
     "name": "stdout",
     "output_type": "stream",
     "text": [
      "Measuring gb with TF*IDF :\n",
      "\n",
      "Accuracy: 0.9084928229665071\n",
      "Recall: 0.8883928571428571\n",
      "Precision: 0.6085626911314985\n",
      "F1-score: 0.7223230490018149\n",
      "\n",
      "\n",
      "Measuring gb with BOW :\n",
      "\n",
      "Accuracy: 0.909688995215311\n",
      "Recall: 0.9017857142857143\n",
      "Precision: 0.6102719033232629\n",
      "F1-score: 0.7279279279279279\n"
     ]
    }
   ],
   "source": [
    "tffi_gb_precision = precision_score(y_true=tffi_y_test,y_pred= tffi_gb_pred)\n",
    "tffi_gb_recall = recall_score(y_true=tffi_y_test, y_pred=tffi_gb_pred)\n",
    "tffi_gb_f1 = f1_score(y_true=tffi_y_test, y_pred=tffi_gb_pred)\n",
    "tffi_gb_accuracy = accuracy_score(y_true=tffi_y_test, y_pred=tffi_gb_pred)\n",
    "print(\"Measuring gb with TF*IDF :\\n\")\n",
    "print(\"Accuracy:\", tffi_gb_accuracy)\n",
    "print(\"Recall:\", tffi_gb_recall)\n",
    "print(\"Precision:\", tffi_gb_precision)\n",
    "print(\"F1-score:\", tffi_gb_f1)\n",
    "\n",
    "bow_gb_precision = precision_score(y_true=bow_y_test, y_pred=bow_gb_pred)\n",
    "bow_gb_recall = recall_score(y_true=bow_y_test, y_pred=bow_gb_pred)\n",
    "bow_gb_f1 = f1_score(y_true=bow_y_test, y_pred=bow_gb_pred)\n",
    "bow_gb_accuracy = accuracy_score(y_true=bow_y_test,y_pred= bow_gb_pred)\n",
    "print(\"\\n\\nMeasuring gb with BOW :\\n\")\n",
    "print(\"Accuracy:\", bow_gb_accuracy)\n",
    "print(\"Recall:\", bow_gb_recall)\n",
    "print(\"Precision:\", bow_gb_precision)\n",
    "print(\"F1-score:\", bow_gb_f1)"
   ]
  },
  {
   "attachments": {},
   "cell_type": "markdown",
   "metadata": {},
   "source": [
    "<h1>Learning MLP"
   ]
  },
  {
   "cell_type": "code",
   "execution_count": 35,
   "metadata": {},
   "outputs": [],
   "source": [
    "from tensorflow import  keras\n",
    "from keras.models import Sequential\n",
    "from keras.layers import Dense\n",
    "from keras.optimizers import Adam"
   ]
  },
  {
   "attachments": {},
   "cell_type": "markdown",
   "metadata": {},
   "source": [
    "<h5>split TF*IDF data"
   ]
  },
  {
   "cell_type": "code",
   "execution_count": 36,
   "metadata": {},
   "outputs": [],
   "source": [
    "mlp_tf_x_train_full, mlp_tf_x_test, mlp_tf_y_train_full, mlp_tf_y_test = train_test_split(tffi_tokenized_text.toarray(),text['v1'],random_state=42,shuffle=True,test_size=0.1,stratify=text['v1'])\n",
    "mlp_tf_x_train,mlp_tf_x_valid, mlp_tf_y_train, mlp_tf_y_valid = train_test_split(mlp_tf_x_train_full, mlp_tf_y_train_full,test_size=0.1)\n"
   ]
  },
  {
   "attachments": {},
   "cell_type": "markdown",
   "metadata": {},
   "source": [
    "<h5>split BOW data"
   ]
  },
  {
   "cell_type": "code",
   "execution_count": 37,
   "metadata": {},
   "outputs": [],
   "source": [
    "mlp_bow_x_train_full, mlp_bow_x_test, mlp_bow_y_train_full, mlp_bow_y_test = train_test_split(bow_tokenized_text,text['v1'],random_state=42,shuffle=True,test_size=0.1,stratify=text['v1'])\n",
    "mlp_bow_x_train,mlp_bow_x_valid, mlp_bow_y_train, mlp_bow_y_valid = train_test_split(mlp_bow_x_train_full, mlp_bow_y_train_full,test_size=0.1)\n"
   ]
  },
  {
   "attachments": {},
   "cell_type": "markdown",
   "metadata": {},
   "source": [
    "<h3>MLP with TF*IDF"
   ]
  },
  {
   "cell_type": "code",
   "execution_count": 38,
   "metadata": {},
   "outputs": [],
   "source": [
    "from tensorflow import  keras\n",
    "import random\n",
    "from keras.models import Sequential\n",
    "from keras.layers import Dense\n",
    "import numpy as np"
   ]
  },
  {
   "cell_type": "code",
   "execution_count": 39,
   "metadata": {},
   "outputs": [],
   "source": [
    "model1 = Sequential()\n",
    "model1.add(Dense(200, activation='relu', input_shape=(mlp_tf_x_train.shape[1],)))\n",
    "model1.add(Dense(1, activation='sigmoid'))\n"
   ]
  },
  {
   "attachments": {},
   "cell_type": "markdown",
   "metadata": {},
   "source": [
    "compile model"
   ]
  },
  {
   "cell_type": "code",
   "execution_count": 40,
   "metadata": {},
   "outputs": [],
   "source": [
    "model1.compile(optimizer=Adam(learning_rate=0.001), loss='binary_crossentropy', metrics=['accuracy'])\n"
   ]
  },
  {
   "attachments": {},
   "cell_type": "markdown",
   "metadata": {},
   "source": [
    "Train and Evaluate"
   ]
  },
  {
   "cell_type": "code",
   "execution_count": 41,
   "metadata": {},
   "outputs": [
    {
     "name": "stdout",
     "output_type": "stream",
     "text": [
      "Epoch 1/10\n",
      " 34/141 [======>.......................] - ETA: 0s - loss: 0.5970 - accuracy: 0.8373"
     ]
    },
    {
     "name": "stdout",
     "output_type": "stream",
     "text": [
      "141/141 [==============================] - 1s 7ms/step - loss: 0.3298 - accuracy: 0.8974 - val_loss: 0.1068 - val_accuracy: 0.9761\n",
      "Epoch 2/10\n",
      "141/141 [==============================] - 1s 5ms/step - loss: 0.0579 - accuracy: 0.9869 - val_loss: 0.0616 - val_accuracy: 0.9801\n",
      "Epoch 3/10\n",
      "141/141 [==============================] - 1s 6ms/step - loss: 0.0203 - accuracy: 0.9960 - val_loss: 0.0552 - val_accuracy: 0.9821\n",
      "Epoch 4/10\n",
      "141/141 [==============================] - 1s 5ms/step - loss: 0.0094 - accuracy: 0.9984 - val_loss: 0.0550 - val_accuracy: 0.9821\n",
      "Epoch 5/10\n",
      "141/141 [==============================] - 1s 6ms/step - loss: 0.0052 - accuracy: 0.9996 - val_loss: 0.0548 - val_accuracy: 0.9821\n",
      "Epoch 6/10\n",
      "141/141 [==============================] - 1s 6ms/step - loss: 0.0031 - accuracy: 0.9998 - val_loss: 0.0556 - val_accuracy: 0.9821\n",
      "Epoch 7/10\n",
      "141/141 [==============================] - 1s 6ms/step - loss: 0.0020 - accuracy: 1.0000 - val_loss: 0.0572 - val_accuracy: 0.9821\n",
      "Epoch 8/10\n",
      "141/141 [==============================] - 1s 6ms/step - loss: 0.0014 - accuracy: 1.0000 - val_loss: 0.0589 - val_accuracy: 0.9821\n",
      "Epoch 9/10\n",
      "141/141 [==============================] - 1s 5ms/step - loss: 0.0010 - accuracy: 1.0000 - val_loss: 0.0600 - val_accuracy: 0.9821\n",
      "Epoch 10/10\n",
      "141/141 [==============================] - 1s 6ms/step - loss: 7.8755e-04 - accuracy: 1.0000 - val_loss: 0.0619 - val_accuracy: 0.9821\n",
      "18/18 [==============================] - 0s 2ms/step - loss: 0.0854 - accuracy: 0.9803\n",
      "Test loss: 0.08541062474250793\n",
      "Test accuracy: 0.980286717414856\n"
     ]
    }
   ],
   "source": [
    "history1 = model1.fit(mlp_tf_x_train, mlp_tf_y_train, validation_data=(mlp_tf_x_valid, mlp_tf_y_valid), epochs=10, batch_size=32)\n",
    "# Evaluate the model\n",
    "score1 = model1.evaluate(mlp_tf_x_test, mlp_tf_y_test)\n",
    "print('Test loss:', score1[0])\n",
    "print('Test accuracy:', score1[1])"
   ]
  },
  {
   "attachments": {},
   "cell_type": "markdown",
   "metadata": {},
   "source": [
    "<h4>evaluate model on trainig data"
   ]
  },
  {
   "cell_type": "markdown",
   "metadata": {},
   "source": [
    "<h1>plot train and test acurracy plot"
   ]
  },
  {
   "cell_type": "code",
   "execution_count": 42,
   "metadata": {},
   "outputs": [],
   "source": [
    "from matplotlib import pyplot"
   ]
  },
  {
   "cell_type": "code",
   "execution_count": 43,
   "metadata": {},
   "outputs": [
    {
     "data": {
      "image/png": "[encoded data removed]",
      "text/plain": [
       "<Figure size 432x288 with 1 Axes>"
      ]
     },
     "metadata": {
      "needs_background": "light"
     },
     "output_type": "display_data"
    }
   ],
   "source": [
    "pyplot.plot(history1.history['accuracy'], label='train')\n",
    "pyplot.plot(history1.history['val_accuracy'], label='test')\n",
    "pyplot.legend()\n",
    "pyplot.show()"
   ]
  },
  {
   "cell_type": "code",
   "execution_count": 44,
   "metadata": {},
   "outputs": [
    {
     "name": "stdout",
     "output_type": "stream",
     "text": [
      "  1/141 [..............................] - ETA: 2s - loss: 2.0205e-04 - accuracy: 1.0000"
     ]
    },
    {
     "name": "stdout",
     "output_type": "stream",
     "text": [
      "141/141 [==============================] - 0s 2ms/step - loss: 6.5595e-04 - accuracy: 1.0000\n",
      "Train Loss: 0.000655949639622122\n",
      "Train Accuracy: 1.0\n"
     ]
    }
   ],
   "source": [
    "# Evaluating the model on the train set\n",
    "train_loss1, train_accuracy1 = model1.evaluate(mlp_tf_x_train, mlp_tf_y_train)\n",
    "print(\"Train Loss:\", train_loss1)\n",
    "print(\"Train Accuracy:\", train_accuracy1)"
   ]
  },
  {
   "attachments": {},
   "cell_type": "markdown",
   "metadata": {},
   "source": [
    "<h4>evaluate model on test data"
   ]
  },
  {
   "cell_type": "code",
   "execution_count": 45,
   "metadata": {},
   "outputs": [
    {
     "name": "stdout",
     "output_type": "stream",
     "text": [
      "18/18 [==============================] - 0s 2ms/step\n",
      "Accuracy: 0.9802867383512545\n",
      "Recall: 0.8533333333333334\n",
      "Precision: 1.0\n",
      "F1-score: 0.9208633093525179\n"
     ]
    }
   ],
   "source": [
    "y_pred_prob1 = model1.predict(mlp_tf_x_test)\n",
    "\n",
    "# Converting probabilities to class labels based on a threshold \n",
    "y_pred1 = (y_pred_prob1 >= 0.5).astype(int)\n",
    "\n",
    "# Calculating precision, recall, F1-score, and accuracy\n",
    "precision1 = precision_score(mlp_tf_y_test, y_pred1)\n",
    "recall1 = recall_score(mlp_tf_y_test, y_pred1)\n",
    "f11 = f1_score(mlp_tf_y_test, y_pred1)\n",
    "accuracy1 = accuracy_score(mlp_tf_y_test, y_pred1)\n",
    "\n",
    "print(\"Accuracy:\", accuracy1)\n",
    "print(\"Recall:\", recall1)\n",
    "print(\"Precision:\", precision1)\n",
    "print(\"F1-score:\", f11)\n"
   ]
  },
  {
   "attachments": {},
   "cell_type": "markdown",
   "metadata": {},
   "source": [
    "<h1>MLP with BOW"
   ]
  },
  {
   "attachments": {},
   "cell_type": "markdown",
   "metadata": {},
   "source": [
    "Define the neural network model"
   ]
  },
  {
   "cell_type": "code",
   "execution_count": 46,
   "metadata": {},
   "outputs": [],
   "source": [
    "model2 = Sequential()\n",
    "model2.add(Dense(200, activation='relu', input_shape=(mlp_bow_x_train.shape[1],)))\n",
    "model2.add(Dense(1, activation='sigmoid'))"
   ]
  },
  {
   "attachments": {},
   "cell_type": "markdown",
   "metadata": {},
   "source": [
    "Compile the model with SCA optimizer"
   ]
  },
  {
   "cell_type": "code",
   "execution_count": 47,
   "metadata": {},
   "outputs": [],
   "source": [
    "model2.compile(optimizer=Adam(learning_rate=0.001), loss='binary_crossentropy', metrics=['accuracy'])"
   ]
  },
  {
   "attachments": {},
   "cell_type": "markdown",
   "metadata": {},
   "source": [
    "Train and Evaluate"
   ]
  },
  {
   "cell_type": "code",
   "execution_count": 48,
   "metadata": {},
   "outputs": [
    {
     "name": "stdout",
     "output_type": "stream",
     "text": [
      "Epoch 1/10\n"
     ]
    },
    {
     "name": "stdout",
     "output_type": "stream",
     "text": [
      "141/141 [==============================] - 1s 7ms/step - loss: 0.2275 - accuracy: 0.9594 - val_loss: 0.0820 - val_accuracy: 0.9801\n",
      "Epoch 2/10\n",
      "141/141 [==============================] - 1s 6ms/step - loss: 0.0296 - accuracy: 0.9938 - val_loss: 0.0701 - val_accuracy: 0.9841\n",
      "Epoch 3/10\n",
      "141/141 [==============================] - 1s 6ms/step - loss: 0.0102 - accuracy: 0.9980 - val_loss: 0.0765 - val_accuracy: 0.9821\n",
      "Epoch 4/10\n",
      "141/141 [==============================] - 1s 6ms/step - loss: 0.0044 - accuracy: 0.9996 - val_loss: 0.0820 - val_accuracy: 0.9821\n",
      "Epoch 5/10\n",
      "141/141 [==============================] - 1s 6ms/step - loss: 0.0026 - accuracy: 0.9998 - val_loss: 0.0900 - val_accuracy: 0.9801\n",
      "Epoch 6/10\n",
      "141/141 [==============================] - 1s 6ms/step - loss: 0.0019 - accuracy: 0.9998 - val_loss: 0.0950 - val_accuracy: 0.9801\n",
      "Epoch 7/10\n",
      "141/141 [==============================] - 1s 6ms/step - loss: 0.0014 - accuracy: 0.9998 - val_loss: 0.0992 - val_accuracy: 0.9801\n",
      "Epoch 8/10\n",
      "141/141 [==============================] - 1s 5ms/step - loss: 0.0011 - accuracy: 0.9998 - val_loss: 0.1021 - val_accuracy: 0.9801\n",
      "Epoch 9/10\n",
      "141/141 [==============================] - 1s 5ms/step - loss: 8.7463e-04 - accuracy: 0.9998 - val_loss: 0.1047 - val_accuracy: 0.9801\n",
      "Epoch 10/10\n",
      "141/141 [==============================] - 1s 5ms/step - loss: 7.0056e-04 - accuracy: 0.9998 - val_loss: 0.1098 - val_accuracy: 0.9801\n",
      "18/18 [==============================] - 0s 2ms/step - loss: 0.1153 - accuracy: 0.9821\n",
      "Test loss: 0.11525515466928482\n",
      "Test accuracy: 0.9820788502693176\n"
     ]
    }
   ],
   "source": [
    "history2 = model2.fit(mlp_bow_x_train, mlp_bow_y_train, validation_data=(mlp_bow_x_valid, mlp_bow_y_valid), epochs=10, batch_size=32)\n",
    "# Evaluate the model\n",
    "score2 = model2.evaluate(mlp_bow_x_test, mlp_bow_y_test)\n",
    "print('Test loss:', score2[0])\n",
    "print('Test accuracy:', score2[1])"
   ]
  },
  {
   "attachments": {},
   "cell_type": "markdown",
   "metadata": {},
   "source": [
    "<h4>evaluate model on trainig data"
   ]
  },
  {
   "cell_type": "code",
   "execution_count": 49,
   "metadata": {},
   "outputs": [
    {
     "name": "stdout",
     "output_type": "stream",
     "text": [
      " 25/141 [====>.........................] - ETA: 0s - loss: 4.5621e-04 - accuracy: 1.0000"
     ]
    },
    {
     "name": "stdout",
     "output_type": "stream",
     "text": [
      "141/141 [==============================] - 0s 2ms/step - loss: 5.9021e-04 - accuracy: 0.9998\n",
      "Train Loss: 0.0005902071134187281\n",
      "Train Accuracy: 0.9997783899307251\n"
     ]
    }
   ],
   "source": [
    "# Evaluating the model on the train set\n",
    "train_loss2, train_accuracy2 = model2.evaluate(mlp_bow_x_train, mlp_bow_y_train)\n",
    "print(\"Train Loss:\", train_loss2)\n",
    "print(\"Train Accuracy:\", train_accuracy2)"
   ]
  },
  {
   "attachments": {},
   "cell_type": "markdown",
   "metadata": {},
   "source": [
    "<h4>evaluate model on test data"
   ]
  },
  {
   "cell_type": "code",
   "execution_count": 50,
   "metadata": {},
   "outputs": [
    {
     "name": "stdout",
     "output_type": "stream",
     "text": [
      "18/18 [==============================] - 0s 2ms/step\n"
     ]
    },
    {
     "name": "stdout",
     "output_type": "stream",
     "text": [
      "Accuracy: 0.982078853046595\n",
      "Recall: 0.8666666666666667\n",
      "Precision: 1.0\n",
      "F1-score: 0.9285714285714286\n"
     ]
    }
   ],
   "source": [
    "y_pred_prob2 = model2.predict(mlp_bow_x_test)\n",
    "\n",
    "# Converting probabilities to class labels based on a threshold \n",
    "y_pred2 = (y_pred_prob2 >= 0.5).astype(int)\n",
    "\n",
    "# Calculating precision, recall, F1-score, and accuracy\n",
    "precision2 = precision_score(mlp_bow_y_test, y_pred2)\n",
    "recall2 = recall_score(mlp_bow_y_test, y_pred2)\n",
    "f12 = f1_score(mlp_bow_y_test, y_pred2)\n",
    "accuracy2 = accuracy_score(mlp_bow_y_test, y_pred2)\n",
    "\n",
    "print(\"Accuracy:\", accuracy2)\n",
    "print(\"Recall:\", recall2)\n",
    "print(\"Precision:\", precision2)\n",
    "print(\"F1-score:\", f12)\n"
   ]
  },
  {
   "attachments": {},
   "cell_type": "markdown",
   "metadata": {},
   "source": [
    "<h3>MLP with scaled data  TF*IDF"
   ]
  },
  {
   "cell_type": "code",
   "execution_count": 51,
   "metadata": {},
   "outputs": [],
   "source": [
    "from sklearn.preprocessing import StandardScaler"
   ]
  },
  {
   "attachments": {},
   "cell_type": "markdown",
   "metadata": {},
   "source": [
    "scailing data"
   ]
  },
  {
   "cell_type": "code",
   "execution_count": 52,
   "metadata": {},
   "outputs": [],
   "source": [
    "scaler = StandardScaler()\n",
    "mlp_tf_x_train_scaled = scaler.fit_transform(mlp_tf_x_train)\n",
    "mlp_tf_x_valid_scaled = scaler.transform(mlp_tf_x_valid)\n",
    "mlp_tf_x_test_scaled = scaler.transform(mlp_tf_x_test)"
   ]
  },
  {
   "attachments": {},
   "cell_type": "markdown",
   "metadata": {},
   "source": [
    "Defining model"
   ]
  },
  {
   "cell_type": "code",
   "execution_count": 53,
   "metadata": {},
   "outputs": [],
   "source": [
    "model3 = Sequential()\n",
    "model3.add(Dense(200, activation='relu', input_shape=(mlp_tf_x_train_scaled.shape[1],)))\n",
    "model3.add(Dense(1, activation='sigmoid'))"
   ]
  },
  {
   "attachments": {},
   "cell_type": "markdown",
   "metadata": {},
   "source": [
    "Compiling the model"
   ]
  },
  {
   "cell_type": "code",
   "execution_count": 54,
   "metadata": {},
   "outputs": [],
   "source": [
    "model3.compile(optimizer=Adam(learning_rate=0.001), loss='binary_crossentropy', metrics=['accuracy'])"
   ]
  },
  {
   "attachments": {},
   "cell_type": "markdown",
   "metadata": {},
   "source": [
    "Train and Evaluate"
   ]
  },
  {
   "cell_type": "code",
   "execution_count": 55,
   "metadata": {},
   "outputs": [
    {
     "name": "stdout",
     "output_type": "stream",
     "text": [
      "Epoch 1/10\n"
     ]
    },
    {
     "name": "stdout",
     "output_type": "stream",
     "text": [
      "141/141 [==============================] - 1s 5ms/step - loss: 2.5620 - accuracy: 0.8129 - val_loss: 0.5171 - val_accuracy: 0.9622\n",
      "Epoch 2/10\n",
      "141/141 [==============================] - 1s 5ms/step - loss: 0.0760 - accuracy: 0.9896 - val_loss: 0.2161 - val_accuracy: 0.9681\n",
      "Epoch 3/10\n",
      "141/141 [==============================] - 1s 6ms/step - loss: 0.0091 - accuracy: 0.9973 - val_loss: 0.1871 - val_accuracy: 0.9701\n",
      "Epoch 4/10\n",
      "141/141 [==============================] - 1s 6ms/step - loss: 0.0032 - accuracy: 0.9998 - val_loss: 0.1652 - val_accuracy: 0.9741\n",
      "Epoch 5/10\n",
      "141/141 [==============================] - 1s 5ms/step - loss: 0.0013 - accuracy: 1.0000 - val_loss: 0.1524 - val_accuracy: 0.9741\n",
      "Epoch 6/10\n",
      "141/141 [==============================] - 1s 5ms/step - loss: 5.7692e-04 - accuracy: 1.0000 - val_loss: 0.1440 - val_accuracy: 0.9741\n",
      "Epoch 7/10\n",
      "141/141 [==============================] - 1s 5ms/step - loss: 3.3738e-04 - accuracy: 1.0000 - val_loss: 0.1390 - val_accuracy: 0.9781\n",
      "Epoch 8/10\n",
      "141/141 [==============================] - 1s 5ms/step - loss: 2.3448e-04 - accuracy: 1.0000 - val_loss: 0.1360 - val_accuracy: 0.9781\n",
      "Epoch 9/10\n",
      "141/141 [==============================] - 1s 5ms/step - loss: 1.7708e-04 - accuracy: 1.0000 - val_loss: 0.1344 - val_accuracy: 0.9781\n",
      "Epoch 10/10\n",
      "141/141 [==============================] - 1s 6ms/step - loss: 1.4017e-04 - accuracy: 1.0000 - val_loss: 0.1331 - val_accuracy: 0.9781\n",
      "18/18 [==============================] - 0s 2ms/step - loss: 0.1711 - accuracy: 0.9731\n",
      "Test Loss: 0.17106454074382782\n",
      "Test Accuracy: 0.9731183052062988\n"
     ]
    }
   ],
   "source": [
    "history3 = model3.fit(mlp_tf_x_train_scaled, mlp_tf_y_train, validation_data=(mlp_tf_x_valid_scaled, mlp_tf_y_valid), epochs=10, batch_size=32)\n",
    "test_loss3, test_accuracy3 = model3.evaluate(mlp_tf_x_test_scaled, mlp_tf_y_test)\n",
    "print(\"Test Loss:\", test_loss3)\n",
    "print(\"Test Accuracy:\", test_accuracy3)"
   ]
  },
  {
   "attachments": {},
   "cell_type": "markdown",
   "metadata": {},
   "source": [
    "<h4>evaluate model on test data"
   ]
  },
  {
   "cell_type": "code",
   "execution_count": 56,
   "metadata": {},
   "outputs": [
    {
     "name": "stdout",
     "output_type": "stream",
     "text": [
      "18/18 [==============================] - 0s 1ms/step\n"
     ]
    },
    {
     "name": "stdout",
     "output_type": "stream",
     "text": [
      "Accuracy: 0.9731182795698925\n",
      "Recall: 0.8133333333333334\n",
      "Precision: 0.9838709677419355\n",
      "F1-score: 0.8905109489051095\n"
     ]
    }
   ],
   "source": [
    "y_pred_prob3 = model3.predict(mlp_tf_x_test_scaled)\n",
    "\n",
    "# Converting probabilities to class labels based on a threshold \n",
    "y_pred3 = (y_pred_prob3 >= 0.5).astype(int)\n",
    "\n",
    "# Calculating precision, recall, F1-score, and accuracy\n",
    "precision3 = precision_score(mlp_tf_y_test, y_pred3)\n",
    "recall3 = recall_score(mlp_tf_y_test, y_pred3)\n",
    "f13 = f1_score(mlp_tf_y_test, y_pred3)\n",
    "accuracy3 = accuracy_score(mlp_tf_y_test, y_pred3)\n",
    "\n",
    "print(\"Accuracy:\", accuracy3)\n",
    "print(\"Recall:\", recall3)\n",
    "print(\"Precision:\", precision3)\n",
    "print(\"F1-score:\", f13)\n"
   ]
  },
  {
   "cell_type": "code",
   "execution_count": null,
   "metadata": {},
   "outputs": [],
   "source": []
  },
  {
   "cell_type": "markdown",
   "metadata": {},
   "source": [
    "<h1>Voting betwen classifiers"
   ]
  },
  {
   "cell_type": "code",
   "execution_count": 57,
   "metadata": {},
   "outputs": [],
   "source": [
    "from sklearn.ensemble import VotingClassifier"
   ]
  },
  {
   "cell_type": "code",
   "execution_count": 58,
   "metadata": {},
   "outputs": [],
   "source": [
    "from sklearn.base import BaseEstimator, ClassifierMixin\n",
    "from keras.wrappers.scikit_learn import KerasClassifier\n",
    "class MLPClassifier(BaseEstimator, ClassifierMixin):\n",
    "    def __init__(self):\n",
    "        self.model = None\n",
    "\n",
    "    def fit(self, X, y):\n",
    "        self.model = Sequential()\n",
    "        self.model.add(Dense(200, activation='relu', input_shape=(X.shape[1],)))\n",
    "        self.model.add(Dense(1, activation='sigmoid'))\n",
    "        self.model.compile(optimizer=Adam(learning_rate=0.001), loss='binary_crossentropy', metrics=['accuracy'])\n",
    "        self.model.fit(X, y, epochs=10, batch_size=32)\n",
    "\n",
    "    def predict(self, X):\n",
    "        return np.squeeze((self.model.predict(X) > 0.5).astype(int))"
   ]
  },
  {
   "cell_type": "code",
   "execution_count": 59,
   "metadata": {},
   "outputs": [],
   "source": [
    "#votting betwen SVM and Random_f and KNN in tf-idf\n",
    "ensemble1 = VotingClassifier(estimators=[ ('SVM', tffi_SVM), ('RF', tffi_Random_F), ('knn', tffi_knn)], voting='hard')"
   ]
  },
  {
   "cell_type": "code",
   "execution_count": 60,
   "metadata": {},
   "outputs": [
    {
     "data": {
      "text/html": [
       "<style>#sk-container-id-1 {color: black;background-color: white;}#sk-container-id-1 pre{padding: 0;}#sk-container-id-1 div.sk-toggleable {background-color: white;}#sk-container-id-1 label.sk-toggleable__label {cursor: pointer;display: block;width: 100%;margin-bottom: 0;padding: 0.3em;box-sizing: border-box;text-align: center;}#sk-container-id-1 label.sk-toggleable__label-arrow:before {content: \"▸\";float: left;margin-right: 0.25em;color: #696969;}#sk-container-id-1 label.sk-toggleable__label-arrow:hover:before {color: black;}#sk-container-id-1 div.sk-estimator:hover label.sk-toggleable__label-arrow:before {color: black;}#sk-container-id-1 div.sk-toggleable__content {max-height: 0;max-width: 0;overflow: hidden;text-align: left;background-color: #f0f8ff;}#sk-container-id-1 div.sk-toggleable__content pre {margin: 0.2em;color: black;border-radius: 0.25em;background-color: #f0f8ff;}#sk-container-id-1 input.sk-toggleable__control:checked~div.sk-toggleable__content {max-height: 200px;max-width: 100%;overflow: auto;}#sk-container-id-1 input.sk-toggleable__control:checked~label.sk-toggleable__label-arrow:before {content: \"▾\";}#sk-container-id-1 div.sk-estimator input.sk-toggleable__control:checked~label.sk-toggleable__label {background-color: #d4ebff;}#sk-container-id-1 div.sk-label input.sk-toggleable__control:checked~label.sk-toggleable__label {background-color: #d4ebff;}#sk-container-id-1 input.sk-hidden--visually {border: 0;clip: rect(1px 1px 1px 1px);clip: rect(1px, 1px, 1px, 1px);height: 1px;margin: -1px;overflow: hidden;padding: 0;position: absolute;width: 1px;}#sk-container-id-1 div.sk-estimator {font-family: monospace;background-color: #f0f8ff;border: 1px dotted black;border-radius: 0.25em;box-sizing: border-box;margin-bottom: 0.5em;}#sk-container-id-1 div.sk-estimator:hover {background-color: #d4ebff;}#sk-container-id-1 div.sk-parallel-item::after {content: \"\";width: 100%;border-bottom: 1px solid gray;flex-grow: 1;}#sk-container-id-1 div.sk-label:hover label.sk-toggleable__label {background-color: #d4ebff;}#sk-container-id-1 div.sk-serial::before {content: \"\";position: absolute;border-left: 1px solid gray;box-sizing: border-box;top: 0;bottom: 0;left: 50%;z-index: 0;}#sk-container-id-1 div.sk-serial {display: flex;flex-direction: column;align-items: center;background-color: white;padding-right: 0.2em;padding-left: 0.2em;position: relative;}#sk-container-id-1 div.sk-item {position: relative;z-index: 1;}#sk-container-id-1 div.sk-parallel {display: flex;align-items: stretch;justify-content: center;background-color: white;position: relative;}#sk-container-id-1 div.sk-item::before, #sk-container-id-1 div.sk-parallel-item::before {content: \"\";position: absolute;border-left: 1px solid gray;box-sizing: border-box;top: 0;bottom: 0;left: 50%;z-index: -1;}#sk-container-id-1 div.sk-parallel-item {display: flex;flex-direction: column;z-index: 1;position: relative;background-color: white;}#sk-container-id-1 div.sk-parallel-item:first-child::after {align-self: flex-end;width: 50%;}#sk-container-id-1 div.sk-parallel-item:last-child::after {align-self: flex-start;width: 50%;}#sk-container-id-1 div.sk-parallel-item:only-child::after {width: 0;}#sk-container-id-1 div.sk-dashed-wrapped {border: 1px dashed gray;margin: 0 0.4em 0.5em 0.4em;box-sizing: border-box;padding-bottom: 0.4em;background-color: white;}#sk-container-id-1 div.sk-label label {font-family: monospace;font-weight: bold;display: inline-block;line-height: 1.2em;}#sk-container-id-1 div.sk-label-container {text-align: center;}#sk-container-id-1 div.sk-container {/* jupyter's `normalize.less` sets `[hidden] { display: none; }` but bootstrap.min.css set `[hidden] { display: none !important; }` so we also need the `!important` here to be able to override the default hidden behavior on the sphinx rendered scikit-learn.org. See: https://github.com/scikit-learn/scikit-learn/issues/21755 */display: inline-block !important;position: relative;}#sk-container-id-1 div.sk-text-repr-fallback {display: none;}</style><div id=\"sk-container-id-1\" class=\"sk-top-container\"><div class=\"sk-text-repr-fallback\"><pre>VotingClassifier(estimators=[(&#x27;SVM&#x27;, SVC(C=10, gamma=0.1)),\n",
       "                             (&#x27;RF&#x27;, RandomForestClassifier(n_estimators=31)),\n",
       "                             (&#x27;knn&#x27;, KNeighborsClassifier(n_neighbors=13))])</pre><b>In a Jupyter environment, please rerun this cell to show the HTML representation or trust the notebook. <br />On GitHub, the HTML representation is unable to render, please try loading this page with nbviewer.org.</b></div><div class=\"sk-container\" hidden><div class=\"sk-item sk-dashed-wrapped\"><div class=\"sk-label-container\"><div class=\"sk-label sk-toggleable\"><input class=\"sk-toggleable__control sk-hidden--visually\" id=\"sk-estimator-id-1\" type=\"checkbox\" ><label for=\"sk-estimator-id-1\" class=\"sk-toggleable__label sk-toggleable__label-arrow\">VotingClassifier</label><div class=\"sk-toggleable__content\"><pre>VotingClassifier(estimators=[(&#x27;SVM&#x27;, SVC(C=10, gamma=0.1)),\n",
       "                             (&#x27;RF&#x27;, RandomForestClassifier(n_estimators=31)),\n",
       "                             (&#x27;knn&#x27;, KNeighborsClassifier(n_neighbors=13))])</pre></div></div></div><div class=\"sk-parallel\"><div class=\"sk-parallel-item\"><div class=\"sk-item\"><div class=\"sk-label-container\"><div class=\"sk-label sk-toggleable\"><label>SVM</label></div></div><div class=\"sk-serial\"><div class=\"sk-item\"><div class=\"sk-estimator sk-toggleable\"><input class=\"sk-toggleable__control sk-hidden--visually\" id=\"sk-estimator-id-2\" type=\"checkbox\" ><label for=\"sk-estimator-id-2\" class=\"sk-toggleable__label sk-toggleable__label-arrow\">SVC</label><div class=\"sk-toggleable__content\"><pre>SVC(C=10, gamma=0.1)</pre></div></div></div></div></div></div><div class=\"sk-parallel-item\"><div class=\"sk-item\"><div class=\"sk-label-container\"><div class=\"sk-label sk-toggleable\"><label>RF</label></div></div><div class=\"sk-serial\"><div class=\"sk-item\"><div class=\"sk-estimator sk-toggleable\"><input class=\"sk-toggleable__control sk-hidden--visually\" id=\"sk-estimator-id-3\" type=\"checkbox\" ><label for=\"sk-estimator-id-3\" class=\"sk-toggleable__label sk-toggleable__label-arrow\">RandomForestClassifier</label><div class=\"sk-toggleable__content\"><pre>RandomForestClassifier(n_estimators=31)</pre></div></div></div></div></div></div><div class=\"sk-parallel-item\"><div class=\"sk-item\"><div class=\"sk-label-container\"><div class=\"sk-label sk-toggleable\"><label>knn</label></div></div><div class=\"sk-serial\"><div class=\"sk-item\"><div class=\"sk-estimator sk-toggleable\"><input class=\"sk-toggleable__control sk-hidden--visually\" id=\"sk-estimator-id-4\" type=\"checkbox\" ><label for=\"sk-estimator-id-4\" class=\"sk-toggleable__label sk-toggleable__label-arrow\">KNeighborsClassifier</label><div class=\"sk-toggleable__content\"><pre>KNeighborsClassifier(n_neighbors=13)</pre></div></div></div></div></div></div></div></div></div></div>"
      ],
      "text/plain": [
       "VotingClassifier(estimators=[('SVM', SVC(C=10, gamma=0.1)),\n",
       "                             ('RF', RandomForestClassifier(n_estimators=31)),\n",
       "                             ('knn', KNeighborsClassifier(n_neighbors=13))])"
      ]
     },
     "execution_count": 60,
     "metadata": {},
     "output_type": "execute_result"
    }
   ],
   "source": [
    "ensemble1.fit(tffi_x_train,tffi_y_train)"
   ]
  },
  {
   "cell_type": "code",
   "execution_count": 61,
   "metadata": {},
   "outputs": [],
   "source": [
    "ens_prd1=ensemble1.predict(tffi_x_test)"
   ]
  },
  {
   "cell_type": "code",
   "execution_count": 62,
   "metadata": {},
   "outputs": [
    {
     "name": "stdout",
     "output_type": "stream",
     "text": [
      "Accuracy: 0.9796650717703349\n",
      "Recall: 0.8482142857142857\n",
      "Precision: 1.0\n",
      "F1-score: 0.9178743961352658\n"
     ]
    }
   ],
   "source": [
    "ens1_precision = precision_score(y_true=tffi_y_test, y_pred=ens_prd1)\n",
    "ens1_recall = recall_score(y_true=tffi_y_test,y_pred= ens_prd1)\n",
    "ens1_f1 = f1_score(y_true=tffi_y_test, y_pred=ens_prd1)\n",
    "ens1_accuracy = accuracy_score(y_true=tffi_y_test, y_pred=ens_prd1)\n",
    "\n",
    "print(\"Accuracy:\", ens1_accuracy)\n",
    "print(\"Recall:\", ens1_recall)\n",
    "print(\"Precision:\", ens1_precision)\n",
    "print(\"F1-score:\", ens1_f1)"
   ]
  },
  {
   "cell_type": "markdown",
   "metadata": {},
   "source": [
    "<h3>add mlp to votting"
   ]
  },
  {
   "cell_type": "code",
   "execution_count": 63,
   "metadata": {},
   "outputs": [],
   "source": [
    "mlp_classifier_tf1 = MLPClassifier()\n",
    "ensemble2 = VotingClassifier(estimators=[ ('mlp',mlp_classifier_tf1),('SVM', tffi_SVM), ('RF', tffi_Random_F), ('knn', tffi_knn)], voting='hard')"
   ]
  },
  {
   "cell_type": "code",
   "execution_count": 64,
   "metadata": {},
   "outputs": [
    {
     "name": "stdout",
     "output_type": "stream",
     "text": [
      "Epoch 1/10\n"
     ]
    },
    {
     "name": "stdout",
     "output_type": "stream",
     "text": [
      "122/122 [==============================] - 2s 10ms/step - loss: 0.3620 - accuracy: 0.8856\n",
      "Epoch 2/10\n",
      "122/122 [==============================] - 1s 12ms/step - loss: 0.0731 - accuracy: 0.9846\n",
      "Epoch 3/10\n",
      "122/122 [==============================] - 1s 12ms/step - loss: 0.0248 - accuracy: 0.9949\n",
      "Epoch 4/10\n",
      "122/122 [==============================] - 1s 11ms/step - loss: 0.0119 - accuracy: 0.9982\n",
      "Epoch 5/10\n",
      "122/122 [==============================] - 1s 12ms/step - loss: 0.0066 - accuracy: 0.9987\n",
      "Epoch 6/10\n",
      "122/122 [==============================] - 2s 13ms/step - loss: 0.0039 - accuracy: 1.0000\n",
      "Epoch 7/10\n",
      "122/122 [==============================] - 1s 11ms/step - loss: 0.0026 - accuracy: 1.0000\n",
      "Epoch 8/10\n",
      "122/122 [==============================] - 1s 11ms/step - loss: 0.0019 - accuracy: 1.0000\n",
      "Epoch 9/10\n",
      "122/122 [==============================] - 1s 11ms/step - loss: 0.0014 - accuracy: 1.0000\n",
      "Epoch 10/10\n",
      "122/122 [==============================] - 1s 11ms/step - loss: 0.0011 - accuracy: 1.0000\n"
     ]
    },
    {
     "data": {
      "text/html": [
       "<style>#sk-container-id-2 {color: black;background-color: white;}#sk-container-id-2 pre{padding: 0;}#sk-container-id-2 div.sk-toggleable {background-color: white;}#sk-container-id-2 label.sk-toggleable__label {cursor: pointer;display: block;width: 100%;margin-bottom: 0;padding: 0.3em;box-sizing: border-box;text-align: center;}#sk-container-id-2 label.sk-toggleable__label-arrow:before {content: \"▸\";float: left;margin-right: 0.25em;color: #696969;}#sk-container-id-2 label.sk-toggleable__label-arrow:hover:before {color: black;}#sk-container-id-2 div.sk-estimator:hover label.sk-toggleable__label-arrow:before {color: black;}#sk-container-id-2 div.sk-toggleable__content {max-height: 0;max-width: 0;overflow: hidden;text-align: left;background-color: #f0f8ff;}#sk-container-id-2 div.sk-toggleable__content pre {margin: 0.2em;color: black;border-radius: 0.25em;background-color: #f0f8ff;}#sk-container-id-2 input.sk-toggleable__control:checked~div.sk-toggleable__content {max-height: 200px;max-width: 100%;overflow: auto;}#sk-container-id-2 input.sk-toggleable__control:checked~label.sk-toggleable__label-arrow:before {content: \"▾\";}#sk-container-id-2 div.sk-estimator input.sk-toggleable__control:checked~label.sk-toggleable__label {background-color: #d4ebff;}#sk-container-id-2 div.sk-label input.sk-toggleable__control:checked~label.sk-toggleable__label {background-color: #d4ebff;}#sk-container-id-2 input.sk-hidden--visually {border: 0;clip: rect(1px 1px 1px 1px);clip: rect(1px, 1px, 1px, 1px);height: 1px;margin: -1px;overflow: hidden;padding: 0;position: absolute;width: 1px;}#sk-container-id-2 div.sk-estimator {font-family: monospace;background-color: #f0f8ff;border: 1px dotted black;border-radius: 0.25em;box-sizing: border-box;margin-bottom: 0.5em;}#sk-container-id-2 div.sk-estimator:hover {background-color: #d4ebff;}#sk-container-id-2 div.sk-parallel-item::after {content: \"\";width: 100%;border-bottom: 1px solid gray;flex-grow: 1;}#sk-container-id-2 div.sk-label:hover label.sk-toggleable__label {background-color: #d4ebff;}#sk-container-id-2 div.sk-serial::before {content: \"\";position: absolute;border-left: 1px solid gray;box-sizing: border-box;top: 0;bottom: 0;left: 50%;z-index: 0;}#sk-container-id-2 div.sk-serial {display: flex;flex-direction: column;align-items: center;background-color: white;padding-right: 0.2em;padding-left: 0.2em;position: relative;}#sk-container-id-2 div.sk-item {position: relative;z-index: 1;}#sk-container-id-2 div.sk-parallel {display: flex;align-items: stretch;justify-content: center;background-color: white;position: relative;}#sk-container-id-2 div.sk-item::before, #sk-container-id-2 div.sk-parallel-item::before {content: \"\";position: absolute;border-left: 1px solid gray;box-sizing: border-box;top: 0;bottom: 0;left: 50%;z-index: -1;}#sk-container-id-2 div.sk-parallel-item {display: flex;flex-direction: column;z-index: 1;position: relative;background-color: white;}#sk-container-id-2 div.sk-parallel-item:first-child::after {align-self: flex-end;width: 50%;}#sk-container-id-2 div.sk-parallel-item:last-child::after {align-self: flex-start;width: 50%;}#sk-container-id-2 div.sk-parallel-item:only-child::after {width: 0;}#sk-container-id-2 div.sk-dashed-wrapped {border: 1px dashed gray;margin: 0 0.4em 0.5em 0.4em;box-sizing: border-box;padding-bottom: 0.4em;background-color: white;}#sk-container-id-2 div.sk-label label {font-family: monospace;font-weight: bold;display: inline-block;line-height: 1.2em;}#sk-container-id-2 div.sk-label-container {text-align: center;}#sk-container-id-2 div.sk-container {/* jupyter's `normalize.less` sets `[hidden] { display: none; }` but bootstrap.min.css set `[hidden] { display: none !important; }` so we also need the `!important` here to be able to override the default hidden behavior on the sphinx rendered scikit-learn.org. See: https://github.com/scikit-learn/scikit-learn/issues/21755 */display: inline-block !important;position: relative;}#sk-container-id-2 div.sk-text-repr-fallback {display: none;}</style><div id=\"sk-container-id-2\" class=\"sk-top-container\"><div class=\"sk-text-repr-fallback\"><pre>VotingClassifier(estimators=[(&#x27;mlp&#x27;, MLPClassifier()),\n",
       "                             (&#x27;SVM&#x27;, SVC(C=10, gamma=0.1)),\n",
       "                             (&#x27;RF&#x27;, RandomForestClassifier(n_estimators=31)),\n",
       "                             (&#x27;knn&#x27;, KNeighborsClassifier(n_neighbors=13))])</pre><b>In a Jupyter environment, please rerun this cell to show the HTML representation or trust the notebook. <br />On GitHub, the HTML representation is unable to render, please try loading this page with nbviewer.org.</b></div><div class=\"sk-container\" hidden><div class=\"sk-item sk-dashed-wrapped\"><div class=\"sk-label-container\"><div class=\"sk-label sk-toggleable\"><input class=\"sk-toggleable__control sk-hidden--visually\" id=\"sk-estimator-id-5\" type=\"checkbox\" ><label for=\"sk-estimator-id-5\" class=\"sk-toggleable__label sk-toggleable__label-arrow\">VotingClassifier</label><div class=\"sk-toggleable__content\"><pre>VotingClassifier(estimators=[(&#x27;mlp&#x27;, MLPClassifier()),\n",
       "                             (&#x27;SVM&#x27;, SVC(C=10, gamma=0.1)),\n",
       "                             (&#x27;RF&#x27;, RandomForestClassifier(n_estimators=31)),\n",
       "                             (&#x27;knn&#x27;, KNeighborsClassifier(n_neighbors=13))])</pre></div></div></div><div class=\"sk-parallel\"><div class=\"sk-parallel-item\"><div class=\"sk-item\"><div class=\"sk-label-container\"><div class=\"sk-label sk-toggleable\"><label>mlp</label></div></div><div class=\"sk-serial\"><div class=\"sk-item\"><div class=\"sk-estimator sk-toggleable\"><input class=\"sk-toggleable__control sk-hidden--visually\" id=\"sk-estimator-id-6\" type=\"checkbox\" ><label for=\"sk-estimator-id-6\" class=\"sk-toggleable__label sk-toggleable__label-arrow\">MLPClassifier</label><div class=\"sk-toggleable__content\"><pre>MLPClassifier()</pre></div></div></div></div></div></div><div class=\"sk-parallel-item\"><div class=\"sk-item\"><div class=\"sk-label-container\"><div class=\"sk-label sk-toggleable\"><label>SVM</label></div></div><div class=\"sk-serial\"><div class=\"sk-item\"><div class=\"sk-estimator sk-toggleable\"><input class=\"sk-toggleable__control sk-hidden--visually\" id=\"sk-estimator-id-7\" type=\"checkbox\" ><label for=\"sk-estimator-id-7\" class=\"sk-toggleable__label sk-toggleable__label-arrow\">SVC</label><div class=\"sk-toggleable__content\"><pre>SVC(C=10, gamma=0.1)</pre></div></div></div></div></div></div><div class=\"sk-parallel-item\"><div class=\"sk-item\"><div class=\"sk-label-container\"><div class=\"sk-label sk-toggleable\"><label>RF</label></div></div><div class=\"sk-serial\"><div class=\"sk-item\"><div class=\"sk-estimator sk-toggleable\"><input class=\"sk-toggleable__control sk-hidden--visually\" id=\"sk-estimator-id-8\" type=\"checkbox\" ><label for=\"sk-estimator-id-8\" class=\"sk-toggleable__label sk-toggleable__label-arrow\">RandomForestClassifier</label><div class=\"sk-toggleable__content\"><pre>RandomForestClassifier(n_estimators=31)</pre></div></div></div></div></div></div><div class=\"sk-parallel-item\"><div class=\"sk-item\"><div class=\"sk-label-container\"><div class=\"sk-label sk-toggleable\"><label>knn</label></div></div><div class=\"sk-serial\"><div class=\"sk-item\"><div class=\"sk-estimator sk-toggleable\"><input class=\"sk-toggleable__control sk-hidden--visually\" id=\"sk-estimator-id-9\" type=\"checkbox\" ><label for=\"sk-estimator-id-9\" class=\"sk-toggleable__label sk-toggleable__label-arrow\">KNeighborsClassifier</label><div class=\"sk-toggleable__content\"><pre>KNeighborsClassifier(n_neighbors=13)</pre></div></div></div></div></div></div></div></div></div></div>"
      ],
      "text/plain": [
       "VotingClassifier(estimators=[('mlp', MLPClassifier()),\n",
       "                             ('SVM', SVC(C=10, gamma=0.1)),\n",
       "                             ('RF', RandomForestClassifier(n_estimators=31)),\n",
       "                             ('knn', KNeighborsClassifier(n_neighbors=13))])"
      ]
     },
     "execution_count": 64,
     "metadata": {},
     "output_type": "execute_result"
    }
   ],
   "source": [
    "ensemble2.fit(X=tffi_x_train,y=tffi_y_train)"
   ]
  },
  {
   "cell_type": "code",
   "execution_count": 65,
   "metadata": {},
   "outputs": [
    {
     "name": "stdout",
     "output_type": "stream",
     "text": [
      "53/53 [==============================] - 0s 673us/step\n"
     ]
    }
   ],
   "source": [
    "ens_prd2=ensemble2.predict(tffi_x_test)"
   ]
  },
  {
   "cell_type": "code",
   "execution_count": 66,
   "metadata": {},
   "outputs": [
    {
     "name": "stdout",
     "output_type": "stream",
     "text": [
      "Accuracy: 0.9772727272727273\n",
      "Recall: 0.8303571428571429\n",
      "Precision: 1.0\n",
      "F1-score: 0.9073170731707317\n"
     ]
    }
   ],
   "source": [
    "ens2_precision = precision_score(y_true=tffi_y_test,y_pred=ens_prd2)\n",
    "ens2_recall = recall_score(y_true=tffi_y_test, y_pred=ens_prd2)\n",
    "ens2_f1 = f1_score(y_true=tffi_y_test, y_pred=ens_prd2)\n",
    "ens2_accuracy = accuracy_score(y_true=tffi_y_test, y_pred=ens_prd2)\n",
    "\n",
    "print(\"Accuracy:\", ens2_accuracy)\n",
    "print(\"Recall:\", ens2_recall)\n",
    "print(\"Precision:\", ens2_precision)\n",
    "print(\"F1-score:\", ens2_f1)"
   ]
  },
  {
   "cell_type": "markdown",
   "metadata": {},
   "source": [
    "<h3>votting with BOW"
   ]
  },
  {
   "cell_type": "code",
   "execution_count": 67,
   "metadata": {},
   "outputs": [],
   "source": [
    "mlp_classifier_bow1 = MLPClassifier()\n",
    "ensemble3 = VotingClassifier(estimators=[('mlp',mlp_classifier_bow1),('SVM', tffi_SVM), ('RF', tffi_Random_F), ('knn', tffi_knn)], voting='hard')"
   ]
  },
  {
   "cell_type": "code",
   "execution_count": 68,
   "metadata": {},
   "outputs": [
    {
     "name": "stdout",
     "output_type": "stream",
     "text": [
      "Epoch 1/10\n"
     ]
    },
    {
     "name": "stdout",
     "output_type": "stream",
     "text": [
      "122/122 [==============================] - 1s 5ms/step - loss: 0.2526 - accuracy: 0.9531\n",
      "Epoch 2/10\n",
      "122/122 [==============================] - 1s 5ms/step - loss: 0.0363 - accuracy: 0.9933\n",
      "Epoch 3/10\n",
      "122/122 [==============================] - 1s 6ms/step - loss: 0.0126 - accuracy: 0.9979\n",
      "Epoch 4/10\n",
      "122/122 [==============================] - 1s 6ms/step - loss: 0.0059 - accuracy: 0.9990\n",
      "Epoch 5/10\n",
      "122/122 [==============================] - 1s 7ms/step - loss: 0.0035 - accuracy: 0.9997\n",
      "Epoch 6/10\n",
      "122/122 [==============================] - 1s 6ms/step - loss: 0.0025 - accuracy: 0.9997\n",
      "Epoch 7/10\n",
      "122/122 [==============================] - 1s 6ms/step - loss: 0.0019 - accuracy: 0.9997\n",
      "Epoch 8/10\n",
      "122/122 [==============================] - 1s 6ms/step - loss: 0.0015 - accuracy: 0.9997\n",
      "Epoch 9/10\n",
      "122/122 [==============================] - 1s 6ms/step - loss: 0.0012 - accuracy: 0.9997\n",
      "Epoch 10/10\n",
      "122/122 [==============================] - 1s 7ms/step - loss: 9.6307e-04 - accuracy: 0.9997\n",
      "53/53 [==============================] - 0s 2ms/step\n"
     ]
    }
   ],
   "source": [
    "ensemble3.fit(X=bow_x_train,y=bow_y_train)\n",
    "ens_prd3=ensemble3.predict(bow_x_test)\n"
   ]
  },
  {
   "cell_type": "code",
   "execution_count": 69,
   "metadata": {},
   "outputs": [
    {
     "name": "stdout",
     "output_type": "stream",
     "text": [
      "Accuracy: 0.9700956937799043\n",
      "Recall: 0.7767857142857143\n",
      "Precision: 1.0\n",
      "F1-score: 0.8743718592964823\n"
     ]
    }
   ],
   "source": [
    "ens3_precision = precision_score(y_true=bow_y_test,y_pred=ens_prd3)\n",
    "ens3_recall = recall_score(y_true=bow_y_test, y_pred=ens_prd3)\n",
    "ens3_f1 = f1_score(y_true=bow_y_test, y_pred=ens_prd3)\n",
    "ens3_accuracy = accuracy_score(y_true=bow_y_test, y_pred=ens_prd3)\n",
    "\n",
    "print(\"Accuracy:\", ens3_accuracy)\n",
    "print(\"Recall:\", ens3_recall)\n",
    "print(\"Precision:\", ens3_precision)\n",
    "print(\"F1-score:\", ens3_f1)"
   ]
  },
  {
   "cell_type": "code",
   "execution_count": null,
   "metadata": {},
   "outputs": [],
   "source": []
  },
  {
   "cell_type": "markdown",
   "metadata": {},
   "source": [
    "<h3>voting bow with out mlp"
   ]
  },
  {
   "cell_type": "code",
   "execution_count": 70,
   "metadata": {},
   "outputs": [],
   "source": [
    "ensemble4 = VotingClassifier(estimators=[ ('SVM', bow_SVM), ('RF', bow_Random_F), ('knn', bow_knn)], voting='hard')"
   ]
  },
  {
   "cell_type": "code",
   "execution_count": 71,
   "metadata": {},
   "outputs": [],
   "source": [
    "ensemble4.fit(X=bow_x_train,y=bow_y_train)\n",
    "ens_prd4=ensemble4.predict(bow_x_test)"
   ]
  },
  {
   "cell_type": "code",
   "execution_count": 72,
   "metadata": {},
   "outputs": [
    {
     "name": "stdout",
     "output_type": "stream",
     "text": [
      "Accuracy: 0.9736842105263158\n",
      "Recall: 0.8035714285714286\n",
      "Precision: 1.0\n",
      "F1-score: 0.8910891089108911\n"
     ]
    }
   ],
   "source": [
    "ens4_precision = precision_score(y_true=bow_y_test,y_pred=ens_prd4)\n",
    "ens4_recall = recall_score(y_true=bow_y_test, y_pred=ens_prd4)\n",
    "ens4_f1 = f1_score(y_true=bow_y_test, y_pred=ens_prd4)\n",
    "ens4_accuracy = accuracy_score(y_true=bow_y_test, y_pred=ens_prd4)\n",
    "\n",
    "print(\"Accuracy:\", ens4_accuracy)\n",
    "print(\"Recall:\", ens4_recall)\n",
    "print(\"Precision:\", ens4_precision)\n",
    "print(\"F1-score:\", ens4_f1)"
   ]
  },
  {
   "cell_type": "markdown",
   "metadata": {},
   "source": [
    "<h1>bagging"
   ]
  },
  {
   "cell_type": "code",
   "execution_count": 73,
   "metadata": {},
   "outputs": [],
   "source": [
    "from sklearn.ensemble import BaggingClassifier"
   ]
  },
  {
   "cell_type": "markdown",
   "metadata": {},
   "source": [
    "<h3>Naive Bayes"
   ]
  },
  {
   "cell_type": "code",
   "execution_count": 74,
   "metadata": {},
   "outputs": [],
   "source": [
    "gb_tf_bag=BaggingClassifier(estimator=gb_tf,n_estimators=8,max_samples=0.4,bootstrap=True)\n",
    "gb_tf_bag.fit(X=tffi_x_train.toarray(),y=tffi_y_train)\n",
    "gb_tf_bag.score(X=tffi_x_test.toarray(),y=tffi_y_test)\n",
    "gb_tf_bag_pred=gb_tf_bag.predict(X=tffi_x_test.toarray())"
   ]
  },
  {
   "cell_type": "code",
   "execution_count": 75,
   "metadata": {},
   "outputs": [],
   "source": [
    "gb_bow_bag=BaggingClassifier(estimator=gb_bow,n_estimators=8,max_samples=0.4,bootstrap=True)\n",
    "gb_bow_bag.fit(X=bow_x_train,y=bow_y_train)\n",
    "gb_bow_bag.score(X=bow_x_test,y=bow_y_test)\n",
    "gb_bow_bag_pred=gb_bow_bag.predict(X=bow_x_test)"
   ]
  },
  {
   "cell_type": "code",
   "execution_count": 76,
   "metadata": {},
   "outputs": [
    {
     "name": "stdout",
     "output_type": "stream",
     "text": [
      "\n",
      "Measuring Naive Bayes wit tf_idf :\n",
      "\n",
      "Accuracy: 0.9366028708133971\n",
      "Recall: 0.8526785714285714\n",
      "Precision: 0.7234848484848485\n",
      "F1-score: 0.7827868852459017\n",
      "\n",
      "Measuring Naive Bayes wit BOW :\n",
      "\n",
      "Accuracy: 0.9366028708133971\n",
      "Recall: 0.8928571428571429\n",
      "Precision: 0.7092198581560284\n",
      "F1-score: 0.7905138339920948\n"
     ]
    }
   ],
   "source": [
    "gb_tf_bag_per=precision_score(y_true=tffi_y_test,y_pred=gb_tf_bag_pred)\n",
    "gb_tf_bag_f=f1_score(y_true=tffi_y_test,y_pred=gb_tf_bag_pred)\n",
    "gb_tf_bag_re=recall_score(y_true=tffi_y_test,y_pred=gb_tf_bag_pred)\n",
    "gb_tf_bag_ac=accuracy_score(y_true=tffi_y_test,y_pred=gb_tf_bag_pred)\n",
    "\n",
    "gb_bow_bag_per=precision_score(y_true=bow_y_test,y_pred=gb_bow_bag_pred)\n",
    "gb_bow_bag_f=f1_score(y_true=bow_y_test,y_pred=gb_bow_bag_pred)\n",
    "gb_bow_bag_re=recall_score(y_true=bow_y_test,y_pred=gb_bow_bag_pred)\n",
    "gb_bow_bag_ac=accuracy_score(y_true=bow_y_test,y_pred=gb_bow_bag_pred)\n",
    "\n",
    "print(\"\\nMeasuring Naive Bayes wit tf_idf :\\n\")\n",
    "print(\"Accuracy:\", gb_tf_bag_ac)\n",
    "print(\"Recall:\", gb_tf_bag_re)\n",
    "print(\"Precision:\", gb_tf_bag_per)\n",
    "print(\"F1-score:\", gb_tf_bag_f)\n",
    "\n",
    "print(\"\\nMeasuring Naive Bayes wit BOW :\\n\")\n",
    "print(\"Accuracy:\", gb_bow_bag_ac)\n",
    "print(\"Recall:\", gb_bow_bag_re)\n",
    "print(\"Precision:\", gb_bow_bag_per)\n",
    "print(\"F1-score:\", gb_bow_bag_f)"
   ]
  },
  {
   "cell_type": "code",
   "execution_count": 77,
   "metadata": {},
   "outputs": [
    {
     "data": {
      "text/plain": [
       "0.9521531100478469"
      ]
     },
     "execution_count": 77,
     "metadata": {},
     "output_type": "execute_result"
    }
   ],
   "source": [
    "clf2=BaggingClassifier(estimator=tffi_knn,n_estimators=8,max_samples=0.4,bootstrap=True)\n",
    "clf2.fit(X=tffi_x_train,y=tffi_y_train)\n",
    "clf2.score(X=tffi_x_test,y=tffi_y_test)"
   ]
  },
  {
   "cell_type": "code",
   "execution_count": 78,
   "metadata": {},
   "outputs": [
    {
     "name": "stdout",
     "output_type": "stream",
     "text": [
      "\n",
      "Measuring KNN with tf_idf _bagging :\n",
      "\n",
      "Accuracy: 0.9521531100478469\n",
      "Recall: 0.6428571428571429\n",
      "Precision: 1.0\n",
      "F1-score: 0.782608695652174\n"
     ]
    }
   ],
   "source": [
    "clfpr2=clf2.predict(tffi_x_test)\n",
    "clf2_per2=precision_score(y_true=tffi_y_test,y_pred=clfpr2)\n",
    "clf2_f2=f1_score(y_true=tffi_y_test,y_pred=clfpr2)\n",
    "clf2_re2=recall_score(y_true=tffi_y_test,y_pred=clfpr2)\n",
    "clf2_ac=accuracy_score(y_true=tffi_y_test,y_pred=clfpr2)\n",
    "print(\"\\nMeasuring KNN with tf_idf _bagging :\\n\")\n",
    "print(\"Accuracy:\", clf2_ac)\n",
    "print(\"Recall:\", clf2_re2)\n",
    "print(\"Precision:\", clf2_per2)\n",
    "print(\"F1-score:\", clf2_f2)"
   ]
  },
  {
   "cell_type": "markdown",
   "metadata": {},
   "source": [
    "<h3>SVM"
   ]
  },
  {
   "cell_type": "code",
   "execution_count": 79,
   "metadata": {},
   "outputs": [
    {
     "data": {
      "text/plain": [
       "0.9730861244019139"
      ]
     },
     "execution_count": 79,
     "metadata": {},
     "output_type": "execute_result"
    }
   ],
   "source": [
    "clf3=BaggingClassifier(estimator=tffi_SVM,n_estimators=8,max_samples=0.4,bootstrap=True)\n",
    "clf3.fit(X=tffi_x_train,y=tffi_y_train)\n",
    "clf3.score(X=tffi_x_test,y=tffi_y_test)"
   ]
  },
  {
   "cell_type": "code",
   "execution_count": 80,
   "metadata": {},
   "outputs": [
    {
     "data": {
      "text/plain": [
       "0.9629186602870813"
      ]
     },
     "execution_count": 80,
     "metadata": {},
     "output_type": "execute_result"
    }
   ],
   "source": [
    "clf4=BaggingClassifier(estimator=bow_SVM,n_estimators=8,max_samples=0.4,bootstrap=True)\n",
    "clf4.fit(X=bow_x_train,y=bow_y_train)\n",
    "clf4.score(X=bow_x_test,y=bow_y_test)"
   ]
  },
  {
   "cell_type": "code",
   "execution_count": 81,
   "metadata": {},
   "outputs": [
    {
     "name": "stdout",
     "output_type": "stream",
     "text": [
      "\n",
      "Measuring SVM with tf_idf _bagging :\n",
      "\n",
      "Accuracy: 0.9730861244019139\n",
      "Recall: 0.7991071428571429\n",
      "Precision: 1.0\n",
      "F1-score: 0.8883374689826303\n",
      "\n",
      "Measuring SVM with bow _bagging :\n",
      "\n",
      "Accuracy: 0.9629186602870813\n",
      "Recall: 0.7232142857142857\n",
      "Precision: 1.0\n",
      "F1-score: 0.839378238341969\n"
     ]
    }
   ],
   "source": [
    "clfpr3=clf3.predict(tffi_x_test)\n",
    "clf3_per3=precision_score(y_true=tffi_y_test,y_pred=clfpr3)\n",
    "clf3_f3=f1_score(y_true=tffi_y_test,y_pred=clfpr3)\n",
    "clf3_re3=recall_score(y_true=tffi_y_test,y_pred=clfpr3)\n",
    "clf3_ac=accuracy_score(y_true=tffi_y_test,y_pred=clfpr3)\n",
    "\n",
    "clfpr4=clf4.predict(bow_x_test)\n",
    "clf4_per4=precision_score(y_true=bow_y_test,y_pred=clfpr4)\n",
    "clf4_f4=f1_score(y_true=bow_y_test,y_pred=clfpr4)\n",
    "clf4_re4=recall_score(y_true=bow_y_test,y_pred=clfpr4)\n",
    "clf4_ac=accuracy_score(y_true=bow_y_test,y_pred=clfpr4)\n",
    "\n",
    "print(\"\\nMeasuring SVM with tf_idf _bagging :\\n\")\n",
    "print(\"Accuracy:\", clf3_ac)\n",
    "print(\"Recall:\", clf3_re3)\n",
    "print(\"Precision:\", clf3_per3)\n",
    "print(\"F1-score:\", clf3_f3)\n",
    "\n",
    "print(\"\\nMeasuring SVM with bow _bagging :\\n\")\n",
    "print(\"Accuracy:\", clf4_ac)\n",
    "print(\"Recall:\", clf4_re4)\n",
    "print(\"Precision:\", clf4_per4)\n",
    "print(\"F1-score:\", clf4_f4)"
   ]
  },
  {
   "cell_type": "code",
   "execution_count": null,
   "metadata": {},
   "outputs": [],
   "source": []
  },
  {
   "attachments": {},
   "cell_type": "markdown",
   "metadata": {},
   "source": [
    "<h1>Feature Selection with SCA algorithm"
   ]
  },
  {
   "cell_type": "code",
   "execution_count": 82,
   "metadata": {},
   "outputs": [],
   "source": [
    "import numpy as np\n",
    "from sca import SCAFUN    "
   ]
  },
  {
   "attachments": {},
   "cell_type": "markdown",
   "metadata": {},
   "source": [
    "<h3>We have to scale data"
   ]
  },
  {
   "cell_type": "code",
   "execution_count": 83,
   "metadata": {},
   "outputs": [],
   "source": [
    "scaler2=StandardScaler()\n",
    "scaled_data=scaler2.fit_transform(tffi_tokenized_text.toarray())\n"
   ]
  },
  {
   "cell_type": "code",
   "execution_count": 84,
   "metadata": {},
   "outputs": [
    {
     "data": {
      "text/plain": [
       "(5572, 8820)"
      ]
     },
     "execution_count": 84,
     "metadata": {},
     "output_type": "execute_result"
    }
   ],
   "source": [
    "scaled_obj_data=scaled_data.astype(float)\n",
    "scaled_obj_label=text['v1'].astype(float)\n",
    "scaled_obj_data.shape"
   ]
  },
  {
   "attachments": {},
   "cell_type": "markdown",
   "metadata": {},
   "source": [
    "<h3>First extract TFIDF feature vectors with SCA on scaled data"
   ]
  },
  {
   "cell_type": "code",
   "execution_count": 85,
   "metadata": {},
   "outputs": [],
   "source": [
    "scaled_x_train_SCA, scaled_x_valid_SCA, scaled_y_train_SCA, scaled_y_valid_SCA = train_test_split(scaled_obj_data, scaled_obj_label, test_size=0.2, stratify=scaled_obj_label,shuffle=True)"
   ]
  },
  {
   "cell_type": "markdown",
   "metadata": {},
   "source": [
    "<h3>SCA by MLP"
   ]
  },
  {
   "cell_type": "code",
   "execution_count": 86,
   "metadata": {},
   "outputs": [],
   "source": [
    "fold = {'x_train':scaled_x_train_SCA, 'y_train':scaled_y_train_SCA, 'x_valid':scaled_x_valid_SCA, 'y_valid':scaled_y_valid_SCA}\n",
    "T    = 5   # maximum number of iterations\n",
    "opts = {'fold':fold, 'T':T,'alpha':0.1}"
   ]
  },
  {
   "cell_type": "code",
   "execution_count": 87,
   "metadata": {},
   "outputs": [
    {
     "name": "stdout",
     "output_type": "stream",
     "text": [
      "Epoch 1/10\n",
      "140/140 [==============================] - 0s 2ms/step - loss: 0.7175\n",
      "Epoch 2/10\n",
      "140/140 [==============================] - 0s 2ms/step - loss: 0.1389\n",
      "Epoch 3/10\n",
      "140/140 [==============================] - 0s 2ms/step - loss: 0.0905\n",
      "Epoch 4/10\n",
      "140/140 [==============================] - 0s 2ms/step - loss: 0.1864\n",
      "Epoch 5/10\n",
      "140/140 [==============================] - 0s 2ms/step - loss: 0.0693\n",
      "Epoch 6/10\n",
      "140/140 [==============================] - 0s 2ms/step - loss: 0.0839\n",
      "Epoch 7/10\n",
      "140/140 [==============================] - 0s 2ms/step - loss: 0.0796\n",
      "Epoch 8/10\n",
      "140/140 [==============================] - 0s 2ms/step - loss: 0.1044\n",
      "Epoch 9/10\n",
      "140/140 [==============================] - 0s 2ms/step - loss: 0.0465\n",
      "Epoch 10/10\n",
      "140/140 [==============================] - 0s 2ms/step - loss: 0.0139\n",
      "35/35 [==============================] - 0s 1ms/step\n",
      "Epoch 1/10\n",
      "140/140 [==============================] - 1s 4ms/step - loss: 0.6797\n",
      "Epoch 2/10\n",
      "140/140 [==============================] - 1s 4ms/step - loss: 0.1228\n",
      "Epoch 3/10\n",
      "140/140 [==============================] - 1s 4ms/step - loss: 0.0323\n",
      "Epoch 4/10\n",
      "140/140 [==============================] - 1s 4ms/step - loss: 0.0083\n",
      "Epoch 5/10\n",
      "140/140 [==============================] - 1s 4ms/step - loss: 0.0062\n",
      "Epoch 6/10\n",
      "140/140 [==============================] - 0s 3ms/step - loss: 0.0055\n",
      "Epoch 7/10\n",
      "140/140 [==============================] - 0s 3ms/step - loss: 0.0047\n",
      "Epoch 8/10\n",
      "140/140 [==============================] - 1s 5ms/step - loss: 0.0058\n",
      "Epoch 9/10\n",
      "140/140 [==============================] - 1s 4ms/step - loss: 0.0065\n",
      "Epoch 10/10\n",
      "140/140 [==============================] - 1s 4ms/step - loss: 0.0053\n",
      "35/35 [==============================] - 0s 1ms/step\n",
      "Epoch 1/10\n",
      "140/140 [==============================] - 1s 2ms/step - loss: 0.8960\n",
      "Epoch 2/10\n",
      "140/140 [==============================] - 0s 2ms/step - loss: 0.2718\n",
      "Epoch 3/10\n",
      "140/140 [==============================] - 0s 2ms/step - loss: 0.2040\n",
      "Epoch 4/10\n",
      "140/140 [==============================] - 0s 2ms/step - loss: 0.3638\n",
      "Epoch 5/10\n",
      "140/140 [==============================] - 0s 3ms/step - loss: 0.0741\n",
      "Epoch 6/10\n",
      "140/140 [==============================] - 0s 3ms/step - loss: 0.0164\n",
      "Epoch 7/10\n",
      "140/140 [==============================] - 0s 2ms/step - loss: 0.0056\n",
      "Epoch 8/10\n",
      "140/140 [==============================] - 0s 2ms/step - loss: 0.0075\n",
      "Epoch 9/10\n",
      "140/140 [==============================] - 0s 2ms/step - loss: 0.0065\n",
      "Epoch 10/10\n",
      "140/140 [==============================] - 0s 2ms/step - loss: 0.0070\n",
      "35/35 [==============================] - 0s 936us/step\n",
      "Epoch 1/10\n",
      "140/140 [==============================] - 1s 2ms/step - loss: 0.8171\n",
      "Epoch 2/10\n",
      "140/140 [==============================] - 0s 2ms/step - loss: 0.2568\n",
      "Epoch 3/10\n",
      "140/140 [==============================] - 0s 3ms/step - loss: 0.0663\n",
      "Epoch 4/10\n",
      "140/140 [==============================] - 0s 3ms/step - loss: 0.0382\n",
      "Epoch 5/10\n",
      "140/140 [==============================] - 0s 2ms/step - loss: 0.0427\n",
      "Epoch 6/10\n",
      "140/140 [==============================] - 0s 2ms/step - loss: 0.0086\n",
      "Epoch 7/10\n",
      "140/140 [==============================] - 0s 2ms/step - loss: 0.0063\n",
      "Epoch 8/10\n",
      "140/140 [==============================] - 0s 2ms/step - loss: 0.0057\n",
      "Epoch 9/10\n",
      "140/140 [==============================] - 0s 2ms/step - loss: 0.0061\n",
      "Epoch 10/10\n",
      "140/140 [==============================] - 0s 2ms/step - loss: 0.0037\n",
      "35/35 [==============================] - 0s 949us/step\n",
      "Epoch 1/10\n",
      "140/140 [==============================] - 1s 3ms/step - loss: 1.3274\n",
      "Epoch 2/10\n",
      "140/140 [==============================] - 0s 2ms/step - loss: 0.7324\n",
      "Epoch 3/10\n",
      "140/140 [==============================] - 0s 2ms/step - loss: 0.2282\n",
      "Epoch 4/10\n",
      "140/140 [==============================] - 0s 2ms/step - loss: 0.1469\n",
      "Epoch 5/10\n",
      "140/140 [==============================] - 0s 2ms/step - loss: 0.0962\n",
      "Epoch 6/10\n",
      "140/140 [==============================] - 0s 2ms/step - loss: 0.0194\n",
      "Epoch 7/10\n",
      "140/140 [==============================] - 0s 2ms/step - loss: 0.0081\n",
      "Epoch 8/10\n",
      "140/140 [==============================] - 0s 2ms/step - loss: 0.0066\n",
      "Epoch 9/10\n",
      "140/140 [==============================] - 0s 3ms/step - loss: 0.0058\n",
      "Epoch 10/10\n",
      "140/140 [==============================] - 0s 2ms/step - loss: 0.0034\n",
      "35/35 [==============================] - 0s 959us/step\n"
     ]
    }
   ],
   "source": [
    "SCA_output1 = SCAFUN(scaled_obj_data, scaled_obj_label, opts,'mlp')\n",
    "sf1   = SCA_output1['selected_features']"
   ]
  },
  {
   "attachments": {},
   "cell_type": "markdown",
   "metadata": {},
   "source": [
    "<h2>Size of selected features"
   ]
  },
  {
   "cell_type": "code",
   "execution_count": 88,
   "metadata": {},
   "outputs": [
    {
     "data": {
      "text/plain": [
       "4543"
      ]
     },
     "execution_count": 88,
     "metadata": {},
     "output_type": "execute_result"
    }
   ],
   "source": [
    "sf1.size"
   ]
  },
  {
   "attachments": {},
   "cell_type": "markdown",
   "metadata": {},
   "source": [
    "<h4>splite extracted scaled data"
   ]
  },
  {
   "cell_type": "code",
   "execution_count": 89,
   "metadata": {},
   "outputs": [],
   "source": [
    "sca_x_train,mlp_sca_x_test,sca_y_train,mlp_sca_y_test=train_test_split(scaled_obj_data[:,sf1],scaled_obj_label,test_size=0.3,stratify=scaled_obj_label,shuffle=True)\n"
   ]
  },
  {
   "cell_type": "code",
   "execution_count": 90,
   "metadata": {},
   "outputs": [],
   "source": [
    "mlp_sca_x_train,mlp_sca_x_valid, mlp_sca_y_train, mlp_sca_y_valid = train_test_split(sca_x_train, sca_y_train,test_size=0.2,shuffle=True)"
   ]
  },
  {
   "cell_type": "markdown",
   "metadata": {},
   "source": [
    "<h1>Make mlp with SCA features"
   ]
  },
  {
   "cell_type": "code",
   "execution_count": 91,
   "metadata": {},
   "outputs": [
    {
     "name": "stdout",
     "output_type": "stream",
     "text": [
      "Epoch 1/10\n"
     ]
    },
    {
     "name": "stdout",
     "output_type": "stream",
     "text": [
      "98/98 [==============================] - 1s 3ms/step - loss: 2.3904 - accuracy: 0.7753 - val_loss: 0.8859 - val_accuracy: 0.8462\n",
      "Epoch 2/10\n",
      "98/98 [==============================] - 0s 3ms/step - loss: 0.1865 - accuracy: 0.9625 - val_loss: 0.1915 - val_accuracy: 0.9487\n",
      "Epoch 3/10\n",
      "98/98 [==============================] - 0s 3ms/step - loss: 0.0288 - accuracy: 0.9891 - val_loss: 0.1493 - val_accuracy: 0.9590\n",
      "Epoch 4/10\n",
      "98/98 [==============================] - 0s 3ms/step - loss: 0.0199 - accuracy: 0.9929 - val_loss: 0.1440 - val_accuracy: 0.9603\n",
      "Epoch 5/10\n",
      "98/98 [==============================] - 0s 3ms/step - loss: 0.0170 - accuracy: 0.9933 - val_loss: 0.1404 - val_accuracy: 0.9615\n",
      "Epoch 6/10\n",
      "98/98 [==============================] - 0s 3ms/step - loss: 0.0150 - accuracy: 0.9949 - val_loss: 0.1391 - val_accuracy: 0.9628\n",
      "Epoch 7/10\n",
      "98/98 [==============================] - 0s 3ms/step - loss: 0.0133 - accuracy: 0.9978 - val_loss: 0.1389 - val_accuracy: 0.9654\n",
      "Epoch 8/10\n",
      "98/98 [==============================] - 0s 3ms/step - loss: 0.0117 - accuracy: 0.9990 - val_loss: 0.1422 - val_accuracy: 0.9590\n",
      "Epoch 9/10\n",
      "98/98 [==============================] - 0s 3ms/step - loss: 0.0097 - accuracy: 0.9994 - val_loss: 0.1396 - val_accuracy: 0.9615\n",
      "Epoch 10/10\n",
      "98/98 [==============================] - 0s 3ms/step - loss: 0.0072 - accuracy: 0.9994 - val_loss: 0.1518 - val_accuracy: 0.9551\n",
      "53/53 [==============================] - 0s 1ms/step - loss: 0.1096 - accuracy: 0.9623\n",
      "Test loss: 0.10955417901277542\n",
      "Test accuracy: 0.9623205661773682\n"
     ]
    }
   ],
   "source": [
    "model5 = Sequential()\n",
    "model5.add(Dense(200, activation='relu', input_shape=(mlp_sca_x_train.shape[1],)))\n",
    "model5.add(Dense(1, activation='sigmoid'))\n",
    "\n",
    "# Compile the model \n",
    "model5.compile(optimizer=Adam(learning_rate=0.001), loss='binary_crossentropy', metrics=['accuracy'])\n",
    "# Training the model\n",
    "history5 = model5.fit(mlp_sca_x_train, mlp_sca_y_train, validation_data=(mlp_sca_x_valid, mlp_sca_y_valid), epochs=10, batch_size=32)\n",
    "# Evaluate the model\n",
    "score5 = model5.evaluate(mlp_sca_x_test, mlp_sca_y_test)\n",
    "print('Test loss:', score5[0])\n",
    "print('Test accuracy:', score5[1])"
   ]
  },
  {
   "cell_type": "markdown",
   "metadata": {},
   "source": [
    "<h4>evalute model"
   ]
  },
  {
   "cell_type": "code",
   "execution_count": 92,
   "metadata": {},
   "outputs": [
    {
     "name": "stdout",
     "output_type": "stream",
     "text": [
      " 1/53 [..............................] - ETA: 1s"
     ]
    },
    {
     "name": "stdout",
     "output_type": "stream",
     "text": [
      "53/53 [==============================] - 0s 1ms/step\n",
      "Accuracy: 0.9623205741626795\n",
      "Recall: 0.8526785714285714\n",
      "Precision: 0.8642533936651584\n",
      "F1-score: 0.8584269662921349\n"
     ]
    }
   ],
   "source": [
    "y_pred_prob5 = model5.predict(mlp_sca_x_test)\n",
    "\n",
    "# Converting probabilities to class labels based on a threshold (e.g., 0.5)\n",
    "y_pred5 = (y_pred_prob5 >= 0.5).astype(int)\n",
    "\n",
    "# Calculating precision, recall, F1-score, and accuracy\n",
    "precision5 = precision_score(mlp_sca_y_test, y_pred5)\n",
    "recall5 = recall_score(mlp_sca_y_test, y_pred5)\n",
    "f15 = f1_score(mlp_sca_y_test, y_pred5)\n",
    "accuracy5 = accuracy_score(mlp_sca_y_test, y_pred5)\n",
    "\n",
    "print(\"Accuracy:\", accuracy5)\n",
    "print(\"Recall:\", recall5)\n",
    "print(\"Precision:\", precision5)\n",
    "print(\"F1-score:\", f15)"
   ]
  },
  {
   "cell_type": "code",
   "execution_count": null,
   "metadata": {},
   "outputs": [],
   "source": []
  },
  {
   "cell_type": "markdown",
   "metadata": {},
   "source": [
    "<h1>KNN with SCA"
   ]
  },
  {
   "cell_type": "code",
   "execution_count": 93,
   "metadata": {},
   "outputs": [
    {
     "data": {
      "text/plain": [
       "0.8666267942583732"
      ]
     },
     "execution_count": 93,
     "metadata": {},
     "output_type": "execute_result"
    }
   ],
   "source": [
    "SCA_tffi_knn=KNeighborsClassifier(n_neighbors=13)\n",
    "SCA_tffi_knn.fit(X=sca_x_train,y=sca_y_train)\n",
    "SCA_tffi_bow_pred=SCA_tffi_knn.predict(X=mlp_sca_x_test)\n",
    "SCA_tffi_knn.score(X=mlp_sca_x_test,y=mlp_sca_y_test)"
   ]
  },
  {
   "cell_type": "code",
   "execution_count": 94,
   "metadata": {},
   "outputs": [
    {
     "name": "stdout",
     "output_type": "stream",
     "text": [
      "\n",
      "\n",
      "Measuring knn wit tffi SCA :\n",
      "\n",
      "Accuracy: 0.8666267942583732\n",
      "Recall: 0.004464285714285714\n",
      "Precision: 1.0\n",
      "F1-score: 0.008888888888888887\n"
     ]
    }
   ],
   "source": [
    "\n",
    "SCA_knn_tffi_precision = precision_score(y_true=mlp_sca_y_test, y_pred=SCA_tffi_bow_pred)\n",
    "SCA_knn_tffi_recall = recall_score(y_true=mlp_sca_y_test, y_pred=SCA_tffi_bow_pred)\n",
    "SCA_knn_tffi_f1 = f1_score(y_true=mlp_sca_y_test, y_pred=SCA_tffi_bow_pred)\n",
    "SCA_knn_tffi_accuracy = accuracy_score(y_true=mlp_sca_y_test,y_pred= SCA_tffi_bow_pred)\n",
    "print(\"\\n\\nMeasuring knn wit tffi SCA :\\n\")\n",
    "print(\"Accuracy:\", SCA_knn_tffi_accuracy)\n",
    "print(\"Recall:\", SCA_knn_tffi_recall)\n",
    "print(\"Precision:\", SCA_knn_tffi_precision)\n",
    "print(\"F1-score:\", SCA_knn_tffi_f1)"
   ]
  },
  {
   "cell_type": "markdown",
   "metadata": {},
   "source": [
    "<h1>Random forest with SCA"
   ]
  },
  {
   "cell_type": "code",
   "execution_count": 95,
   "metadata": {},
   "outputs": [
    {
     "data": {
      "text/plain": [
       "0.9754784688995215"
      ]
     },
     "execution_count": 95,
     "metadata": {},
     "output_type": "execute_result"
    }
   ],
   "source": [
    "SCA_tffi_Random_F=RandomForestClassifier(n_estimators=31,criterion='gini')\n",
    "SCA_tffi_Random_F.fit(sca_x_train,sca_y_train)\n",
    "SCA_tffi_Randmon_F_pred=SCA_tffi_Random_F.predict(X=mlp_sca_x_test)\n",
    "SCA_tffi_Random_F.score(X=mlp_sca_x_test,y=mlp_sca_y_test)"
   ]
  },
  {
   "cell_type": "code",
   "execution_count": 96,
   "metadata": {},
   "outputs": [
    {
     "name": "stdout",
     "output_type": "stream",
     "text": [
      "Measuring Random forest wit TF*IDF :\n",
      "\n",
      "Accuracy: 0.9754784688995215\n",
      "Recall: 0.8348214285714286\n",
      "Precision: 0.9790575916230366\n",
      "F1-score: 0.9012048192771085\n"
     ]
    }
   ],
   "source": [
    "SCA_tffi_Random_F_precision = precision_score(y_true=mlp_sca_y_test, y_pred=SCA_tffi_Randmon_F_pred)\n",
    "SCA_tffi_Random_F_recall = recall_score(y_true=mlp_sca_y_test, y_pred=SCA_tffi_Randmon_F_pred)\n",
    "SCA_tffi_Random_F_f1 = f1_score(y_true=mlp_sca_y_test, y_pred=SCA_tffi_Randmon_F_pred)\n",
    "SCA_tffi_Random_F_accuracy = accuracy_score(y_true=mlp_sca_y_test, y_pred=SCA_tffi_Randmon_F_pred)\n",
    "print(\"Measuring Random forest wit TF*IDF :\\n\")\n",
    "print(\"Accuracy:\", SCA_tffi_Random_F_accuracy)\n",
    "print(\"Recall:\", SCA_tffi_Random_F_recall)\n",
    "print(\"Precision:\", SCA_tffi_Random_F_precision)\n",
    "print(\"F1-score:\", SCA_tffi_Random_F_f1)"
   ]
  },
  {
   "cell_type": "code",
   "execution_count": null,
   "metadata": {},
   "outputs": [],
   "source": []
  },
  {
   "cell_type": "markdown",
   "metadata": {},
   "source": [
    "<h1>SCA SVM"
   ]
  },
  {
   "cell_type": "code",
   "execution_count": 97,
   "metadata": {},
   "outputs": [
    {
     "data": {
      "text/plain": [
       "0.9013157894736842"
      ]
     },
     "execution_count": 97,
     "metadata": {},
     "output_type": "execute_result"
    }
   ],
   "source": [
    "SCA_tffi_SVM=svm.SVC(kernel='rbf',C=10,gamma=0.1)\n",
    "SCA_tffi_SVM.fit(X=sca_x_train,y=sca_y_train)\n",
    "SCA_tffi_SVM_pred=SCA_tffi_SVM.predict(X=mlp_sca_x_test)\n",
    "SCA_tffi_SVM.score(X=mlp_sca_x_test,y=mlp_sca_y_test)"
   ]
  },
  {
   "cell_type": "code",
   "execution_count": 98,
   "metadata": {},
   "outputs": [
    {
     "name": "stdout",
     "output_type": "stream",
     "text": [
      "\n",
      "\n",
      "Measuring SVM wit tf_idf :\n",
      "\n",
      "Accuracy: 0.9013157894736842\n",
      "Recall: 0.26339285714285715\n",
      "Precision: 1.0\n",
      "F1-score: 0.41696113074204944\n"
     ]
    }
   ],
   "source": [
    "\n",
    "SCA_tffi_SVM_precision = precision_score(y_true=mlp_sca_y_test, y_pred=SCA_tffi_SVM_pred)\n",
    "SCA_tffi_SVM_recall = recall_score(y_true=mlp_sca_y_test, y_pred=SCA_tffi_SVM_pred)\n",
    "SCA_tffi_SVM_f1 = f1_score(y_true=mlp_sca_y_test, y_pred=SCA_tffi_SVM_pred)\n",
    "SCA_tffi_SVM_accuracy = accuracy_score(y_true=mlp_sca_y_test, y_pred=SCA_tffi_SVM_pred)\n",
    "print(\"\\n\\nMeasuring SVM wit tf_idf :\\n\")\n",
    "print(\"Accuracy:\", SCA_tffi_SVM_accuracy)\n",
    "print(\"Recall:\", SCA_tffi_SVM_recall)\n",
    "print(\"Precision:\", SCA_tffi_SVM_precision)\n",
    "print(\"F1-score:\", SCA_tffi_SVM_f1)"
   ]
  },
  {
   "cell_type": "markdown",
   "metadata": {},
   "source": [
    "<h2>votting in SCA"
   ]
  },
  {
   "cell_type": "code",
   "execution_count": 99,
   "metadata": {},
   "outputs": [],
   "source": [
    "mlp_classifier_SCA = MLPClassifier()\n",
    "ensemble5 = VotingClassifier(estimators=[ ('mlp',mlp_classifier_SCA),('SVM', SCA_tffi_SVM), ('RF', SCA_tffi_Random_F), ('knn', SCA_tffi_knn)], voting='hard')"
   ]
  },
  {
   "cell_type": "code",
   "execution_count": 100,
   "metadata": {},
   "outputs": [
    {
     "name": "stdout",
     "output_type": "stream",
     "text": [
      "Epoch 1/10\n",
      " 1/98 [..............................] - ETA: 24s - loss: 0.7127 - accuracy: 0.5312"
     ]
    },
    {
     "name": "stdout",
     "output_type": "stream",
     "text": [
      "98/98 [==============================] - 1s 3ms/step - loss: 2.6777 - accuracy: 0.7660\n",
      "Epoch 2/10\n",
      "98/98 [==============================] - 0s 2ms/step - loss: 0.1927 - accuracy: 0.9590\n",
      "Epoch 3/10\n",
      "98/98 [==============================] - 0s 3ms/step - loss: 0.0348 - accuracy: 0.9881\n",
      "Epoch 4/10\n",
      "98/98 [==============================] - 0s 3ms/step - loss: 0.0228 - accuracy: 0.9920\n",
      "Epoch 5/10\n",
      "98/98 [==============================] - 0s 3ms/step - loss: 0.0187 - accuracy: 0.9939\n",
      "Epoch 6/10\n",
      "98/98 [==============================] - 0s 2ms/step - loss: 0.0162 - accuracy: 0.9946\n",
      "Epoch 7/10\n",
      "98/98 [==============================] - 0s 2ms/step - loss: 0.0142 - accuracy: 0.9949\n",
      "Epoch 8/10\n",
      "98/98 [==============================] - 0s 2ms/step - loss: 0.0126 - accuracy: 0.9981\n",
      "Epoch 9/10\n",
      "98/98 [==============================] - 0s 2ms/step - loss: 0.0105 - accuracy: 0.9987\n",
      "Epoch 10/10\n",
      "98/98 [==============================] - 0s 2ms/step - loss: 0.0081 - accuracy: 0.9990\n"
     ]
    },
    {
     "data": {
      "text/html": [
       "<style>#sk-container-id-3 {color: black;background-color: white;}#sk-container-id-3 pre{padding: 0;}#sk-container-id-3 div.sk-toggleable {background-color: white;}#sk-container-id-3 label.sk-toggleable__label {cursor: pointer;display: block;width: 100%;margin-bottom: 0;padding: 0.3em;box-sizing: border-box;text-align: center;}#sk-container-id-3 label.sk-toggleable__label-arrow:before {content: \"▸\";float: left;margin-right: 0.25em;color: #696969;}#sk-container-id-3 label.sk-toggleable__label-arrow:hover:before {color: black;}#sk-container-id-3 div.sk-estimator:hover label.sk-toggleable__label-arrow:before {color: black;}#sk-container-id-3 div.sk-toggleable__content {max-height: 0;max-width: 0;overflow: hidden;text-align: left;background-color: #f0f8ff;}#sk-container-id-3 div.sk-toggleable__content pre {margin: 0.2em;color: black;border-radius: 0.25em;background-color: #f0f8ff;}#sk-container-id-3 input.sk-toggleable__control:checked~div.sk-toggleable__content {max-height: 200px;max-width: 100%;overflow: auto;}#sk-container-id-3 input.sk-toggleable__control:checked~label.sk-toggleable__label-arrow:before {content: \"▾\";}#sk-container-id-3 div.sk-estimator input.sk-toggleable__control:checked~label.sk-toggleable__label {background-color: #d4ebff;}#sk-container-id-3 div.sk-label input.sk-toggleable__control:checked~label.sk-toggleable__label {background-color: #d4ebff;}#sk-container-id-3 input.sk-hidden--visually {border: 0;clip: rect(1px 1px 1px 1px);clip: rect(1px, 1px, 1px, 1px);height: 1px;margin: -1px;overflow: hidden;padding: 0;position: absolute;width: 1px;}#sk-container-id-3 div.sk-estimator {font-family: monospace;background-color: #f0f8ff;border: 1px dotted black;border-radius: 0.25em;box-sizing: border-box;margin-bottom: 0.5em;}#sk-container-id-3 div.sk-estimator:hover {background-color: #d4ebff;}#sk-container-id-3 div.sk-parallel-item::after {content: \"\";width: 100%;border-bottom: 1px solid gray;flex-grow: 1;}#sk-container-id-3 div.sk-label:hover label.sk-toggleable__label {background-color: #d4ebff;}#sk-container-id-3 div.sk-serial::before {content: \"\";position: absolute;border-left: 1px solid gray;box-sizing: border-box;top: 0;bottom: 0;left: 50%;z-index: 0;}#sk-container-id-3 div.sk-serial {display: flex;flex-direction: column;align-items: center;background-color: white;padding-right: 0.2em;padding-left: 0.2em;position: relative;}#sk-container-id-3 div.sk-item {position: relative;z-index: 1;}#sk-container-id-3 div.sk-parallel {display: flex;align-items: stretch;justify-content: center;background-color: white;position: relative;}#sk-container-id-3 div.sk-item::before, #sk-container-id-3 div.sk-parallel-item::before {content: \"\";position: absolute;border-left: 1px solid gray;box-sizing: border-box;top: 0;bottom: 0;left: 50%;z-index: -1;}#sk-container-id-3 div.sk-parallel-item {display: flex;flex-direction: column;z-index: 1;position: relative;background-color: white;}#sk-container-id-3 div.sk-parallel-item:first-child::after {align-self: flex-end;width: 50%;}#sk-container-id-3 div.sk-parallel-item:last-child::after {align-self: flex-start;width: 50%;}#sk-container-id-3 div.sk-parallel-item:only-child::after {width: 0;}#sk-container-id-3 div.sk-dashed-wrapped {border: 1px dashed gray;margin: 0 0.4em 0.5em 0.4em;box-sizing: border-box;padding-bottom: 0.4em;background-color: white;}#sk-container-id-3 div.sk-label label {font-family: monospace;font-weight: bold;display: inline-block;line-height: 1.2em;}#sk-container-id-3 div.sk-label-container {text-align: center;}#sk-container-id-3 div.sk-container {/* jupyter's `normalize.less` sets `[hidden] { display: none; }` but bootstrap.min.css set `[hidden] { display: none !important; }` so we also need the `!important` here to be able to override the default hidden behavior on the sphinx rendered scikit-learn.org. See: https://github.com/scikit-learn/scikit-learn/issues/21755 */display: inline-block !important;position: relative;}#sk-container-id-3 div.sk-text-repr-fallback {display: none;}</style><div id=\"sk-container-id-3\" class=\"sk-top-container\"><div class=\"sk-text-repr-fallback\"><pre>VotingClassifier(estimators=[(&#x27;mlp&#x27;, MLPClassifier()),\n",
       "                             (&#x27;SVM&#x27;, SVC(C=10, gamma=0.1)),\n",
       "                             (&#x27;RF&#x27;, RandomForestClassifier(n_estimators=31)),\n",
       "                             (&#x27;knn&#x27;, KNeighborsClassifier(n_neighbors=13))])</pre><b>In a Jupyter environment, please rerun this cell to show the HTML representation or trust the notebook. <br />On GitHub, the HTML representation is unable to render, please try loading this page with nbviewer.org.</b></div><div class=\"sk-container\" hidden><div class=\"sk-item sk-dashed-wrapped\"><div class=\"sk-label-container\"><div class=\"sk-label sk-toggleable\"><input class=\"sk-toggleable__control sk-hidden--visually\" id=\"sk-estimator-id-10\" type=\"checkbox\" ><label for=\"sk-estimator-id-10\" class=\"sk-toggleable__label sk-toggleable__label-arrow\">VotingClassifier</label><div class=\"sk-toggleable__content\"><pre>VotingClassifier(estimators=[(&#x27;mlp&#x27;, MLPClassifier()),\n",
       "                             (&#x27;SVM&#x27;, SVC(C=10, gamma=0.1)),\n",
       "                             (&#x27;RF&#x27;, RandomForestClassifier(n_estimators=31)),\n",
       "                             (&#x27;knn&#x27;, KNeighborsClassifier(n_neighbors=13))])</pre></div></div></div><div class=\"sk-parallel\"><div class=\"sk-parallel-item\"><div class=\"sk-item\"><div class=\"sk-label-container\"><div class=\"sk-label sk-toggleable\"><label>mlp</label></div></div><div class=\"sk-serial\"><div class=\"sk-item\"><div class=\"sk-estimator sk-toggleable\"><input class=\"sk-toggleable__control sk-hidden--visually\" id=\"sk-estimator-id-11\" type=\"checkbox\" ><label for=\"sk-estimator-id-11\" class=\"sk-toggleable__label sk-toggleable__label-arrow\">MLPClassifier</label><div class=\"sk-toggleable__content\"><pre>MLPClassifier()</pre></div></div></div></div></div></div><div class=\"sk-parallel-item\"><div class=\"sk-item\"><div class=\"sk-label-container\"><div class=\"sk-label sk-toggleable\"><label>SVM</label></div></div><div class=\"sk-serial\"><div class=\"sk-item\"><div class=\"sk-estimator sk-toggleable\"><input class=\"sk-toggleable__control sk-hidden--visually\" id=\"sk-estimator-id-12\" type=\"checkbox\" ><label for=\"sk-estimator-id-12\" class=\"sk-toggleable__label sk-toggleable__label-arrow\">SVC</label><div class=\"sk-toggleable__content\"><pre>SVC(C=10, gamma=0.1)</pre></div></div></div></div></div></div><div class=\"sk-parallel-item\"><div class=\"sk-item\"><div class=\"sk-label-container\"><div class=\"sk-label sk-toggleable\"><label>RF</label></div></div><div class=\"sk-serial\"><div class=\"sk-item\"><div class=\"sk-estimator sk-toggleable\"><input class=\"sk-toggleable__control sk-hidden--visually\" id=\"sk-estimator-id-13\" type=\"checkbox\" ><label for=\"sk-estimator-id-13\" class=\"sk-toggleable__label sk-toggleable__label-arrow\">RandomForestClassifier</label><div class=\"sk-toggleable__content\"><pre>RandomForestClassifier(n_estimators=31)</pre></div></div></div></div></div></div><div class=\"sk-parallel-item\"><div class=\"sk-item\"><div class=\"sk-label-container\"><div class=\"sk-label sk-toggleable\"><label>knn</label></div></div><div class=\"sk-serial\"><div class=\"sk-item\"><div class=\"sk-estimator sk-toggleable\"><input class=\"sk-toggleable__control sk-hidden--visually\" id=\"sk-estimator-id-14\" type=\"checkbox\" ><label for=\"sk-estimator-id-14\" class=\"sk-toggleable__label sk-toggleable__label-arrow\">KNeighborsClassifier</label><div class=\"sk-toggleable__content\"><pre>KNeighborsClassifier(n_neighbors=13)</pre></div></div></div></div></div></div></div></div></div></div>"
      ],
      "text/plain": [
       "VotingClassifier(estimators=[('mlp', MLPClassifier()),\n",
       "                             ('SVM', SVC(C=10, gamma=0.1)),\n",
       "                             ('RF', RandomForestClassifier(n_estimators=31)),\n",
       "                             ('knn', KNeighborsClassifier(n_neighbors=13))])"
      ]
     },
     "execution_count": 100,
     "metadata": {},
     "output_type": "execute_result"
    }
   ],
   "source": [
    "ensemble5.fit(X=mlp_sca_x_train,y=mlp_sca_y_train)"
   ]
  },
  {
   "cell_type": "code",
   "execution_count": 101,
   "metadata": {},
   "outputs": [
    {
     "name": "stdout",
     "output_type": "stream",
     "text": [
      "53/53 [==============================] - 0s 1ms/step\n"
     ]
    }
   ],
   "source": [
    "ens_prd5=ensemble5.predict(mlp_sca_x_test)"
   ]
  },
  {
   "cell_type": "code",
   "execution_count": 102,
   "metadata": {},
   "outputs": [
    {
     "name": "stdout",
     "output_type": "stream",
     "text": [
      "Accuracy: 0.8947368421052632\n",
      "Recall: 0.21428571428571427\n",
      "Precision: 1.0\n",
      "F1-score: 0.35294117647058826\n"
     ]
    }
   ],
   "source": [
    "ens5_precision = precision_score(y_true=mlp_sca_y_test,y_pred=ens_prd5)\n",
    "ens5_recall = recall_score(y_true=mlp_sca_y_test, y_pred=ens_prd5)\n",
    "ens5_f1 = f1_score(y_true=mlp_sca_y_test, y_pred=ens_prd5)\n",
    "ens5_accuracy = accuracy_score(y_true=mlp_sca_y_test, y_pred=ens_prd5)\n",
    "\n",
    "print(\"Accuracy:\", ens5_accuracy)\n",
    "print(\"Recall:\", ens5_recall)\n",
    "print(\"Precision:\", ens5_precision)\n",
    "print(\"F1-score:\", ens5_f1)"
   ]
  },
  {
   "attachments": {},
   "cell_type": "markdown",
   "metadata": {},
   "source": [
    "<h1>Now extract BOW feature vectors with SCA "
   ]
  },
  {
   "cell_type": "code",
   "execution_count": 103,
   "metadata": {},
   "outputs": [
    {
     "data": {
      "text/plain": [
       "(5572, 8820)"
      ]
     },
     "execution_count": 103,
     "metadata": {},
     "output_type": "execute_result"
    }
   ],
   "source": [
    "bow_obj_data=bow_tokenized_text.astype(float)\n",
    "bow_obj_label=text['v1'].astype(float)\n",
    "bow_obj_data.shape"
   ]
  },
  {
   "attachments": {},
   "cell_type": "markdown",
   "metadata": {},
   "source": [
    "split data to train and test"
   ]
  },
  {
   "cell_type": "code",
   "execution_count": 104,
   "metadata": {},
   "outputs": [],
   "source": [
    "bow_x_train, bow_x_valid, bow_y_train, bow_y_valid = train_test_split(bow_obj_data, bow_obj_label, test_size=0.2, stratify=bow_obj_label)"
   ]
  },
  {
   "cell_type": "code",
   "execution_count": 105,
   "metadata": {},
   "outputs": [],
   "source": [
    "fold = {'x_train':bow_x_train, 'y_train':bow_y_train, 'x_valid':bow_x_valid, 'y_valid':bow_y_valid}\n",
    "T    = 5   # maximum number of iterations\n",
    "opts = {'fold':fold, 'T':T,'alpha':0.1}"
   ]
  },
  {
   "cell_type": "code",
   "execution_count": 106,
   "metadata": {},
   "outputs": [
    {
     "name": "stdout",
     "output_type": "stream",
     "text": [
      "Epoch 1/10\n",
      "140/140 [==============================] - 1s 2ms/step - loss: 0.1403\n",
      "Epoch 2/10\n",
      "140/140 [==============================] - 0s 3ms/step - loss: 0.0218\n",
      "Epoch 3/10\n",
      "140/140 [==============================] - 0s 3ms/step - loss: 0.0067\n",
      "Epoch 4/10\n",
      "140/140 [==============================] - 0s 2ms/step - loss: 0.0033\n",
      "Epoch 5/10\n",
      "140/140 [==============================] - 0s 2ms/step - loss: 0.0027\n",
      "Epoch 6/10\n",
      "140/140 [==============================] - 0s 2ms/step - loss: 0.0027\n",
      "Epoch 7/10\n",
      "140/140 [==============================] - 0s 2ms/step - loss: 0.0025\n",
      "Epoch 8/10\n",
      "140/140 [==============================] - 0s 2ms/step - loss: 0.0039\n",
      "Epoch 9/10\n",
      "140/140 [==============================] - 0s 2ms/step - loss: 0.0025\n",
      "Epoch 10/10\n",
      "140/140 [==============================] - 0s 2ms/step - loss: 0.0020\n",
      "35/35 [==============================] - 0s 862us/step\n",
      "Epoch 1/10\n",
      "140/140 [==============================] - 1s 2ms/step - loss: 0.1358\n",
      "Epoch 2/10\n",
      "140/140 [==============================] - 0s 2ms/step - loss: 0.0251\n",
      "Epoch 3/10\n",
      "140/140 [==============================] - 0s 2ms/step - loss: 0.0084\n",
      "Epoch 4/10\n",
      "140/140 [==============================] - 0s 2ms/step - loss: 0.0036\n",
      "Epoch 5/10\n",
      "140/140 [==============================] - 0s 2ms/step - loss: 0.0027\n",
      "Epoch 6/10\n",
      "140/140 [==============================] - 0s 2ms/step - loss: 0.0023\n",
      "Epoch 7/10\n",
      "140/140 [==============================] - 0s 2ms/step - loss: 0.0022\n",
      "Epoch 8/10\n",
      "140/140 [==============================] - 0s 2ms/step - loss: 0.0022\n",
      "Epoch 9/10\n",
      "140/140 [==============================] - 0s 2ms/step - loss: 0.0021\n",
      "Epoch 10/10\n",
      "140/140 [==============================] - 0s 2ms/step - loss: 0.0020\n",
      "35/35 [==============================] - 0s 911us/step\n",
      "Epoch 1/10\n",
      "140/140 [==============================] - 1s 2ms/step - loss: 0.1415\n",
      "Epoch 2/10\n",
      "140/140 [==============================] - 0s 2ms/step - loss: 0.0251\n",
      "Epoch 3/10\n",
      "140/140 [==============================] - 0s 2ms/step - loss: 0.0078\n",
      "Epoch 4/10\n",
      "140/140 [==============================] - 0s 2ms/step - loss: 0.0044\n",
      "Epoch 5/10\n",
      "140/140 [==============================] - 0s 2ms/step - loss: 0.0027\n",
      "Epoch 6/10\n",
      "140/140 [==============================] - 0s 2ms/step - loss: 0.0024\n",
      "Epoch 7/10\n",
      "140/140 [==============================] - 0s 2ms/step - loss: 0.0021\n",
      "Epoch 8/10\n",
      "140/140 [==============================] - 0s 2ms/step - loss: 0.0020\n",
      "Epoch 9/10\n",
      "140/140 [==============================] - 0s 2ms/step - loss: 0.0019\n",
      "Epoch 10/10\n",
      "140/140 [==============================] - 0s 2ms/step - loss: 0.0019\n",
      "35/35 [==============================] - 0s 1ms/step\n",
      "Epoch 1/10\n",
      "140/140 [==============================] - 1s 2ms/step - loss: 0.1486\n",
      "Epoch 2/10\n",
      "140/140 [==============================] - 0s 2ms/step - loss: 0.0221\n",
      "Epoch 3/10\n",
      "140/140 [==============================] - 0s 2ms/step - loss: 0.0079\n",
      "Epoch 4/10\n",
      "140/140 [==============================] - 0s 2ms/step - loss: 0.0041\n",
      "Epoch 5/10\n",
      "140/140 [==============================] - 0s 2ms/step - loss: 0.0032\n",
      "Epoch 6/10\n",
      "140/140 [==============================] - 0s 2ms/step - loss: 0.0027\n",
      "Epoch 7/10\n",
      "140/140 [==============================] - 0s 2ms/step - loss: 0.0023\n",
      "Epoch 8/10\n",
      "140/140 [==============================] - 0s 2ms/step - loss: 0.0022\n",
      "Epoch 9/10\n",
      "140/140 [==============================] - 0s 2ms/step - loss: 0.0022\n",
      "Epoch 10/10\n",
      "140/140 [==============================] - 0s 2ms/step - loss: 0.0020\n",
      "35/35 [==============================] - 0s 957us/step\n",
      "Epoch 1/10\n",
      "140/140 [==============================] - 1s 2ms/step - loss: 0.1455\n",
      "Epoch 2/10\n",
      "140/140 [==============================] - 0s 2ms/step - loss: 0.0220\n",
      "Epoch 3/10\n",
      "140/140 [==============================] - 0s 2ms/step - loss: 0.0074\n",
      "Epoch 4/10\n",
      "140/140 [==============================] - 0s 2ms/step - loss: 0.0037\n",
      "Epoch 5/10\n",
      "140/140 [==============================] - 0s 2ms/step - loss: 0.0026\n",
      "Epoch 6/10\n",
      "140/140 [==============================] - 0s 2ms/step - loss: 0.0023\n",
      "Epoch 7/10\n",
      "140/140 [==============================] - 0s 2ms/step - loss: 0.0021\n",
      "Epoch 8/10\n",
      "140/140 [==============================] - 0s 2ms/step - loss: 0.0019\n",
      "Epoch 9/10\n",
      "140/140 [==============================] - 0s 2ms/step - loss: 0.0019\n",
      "Epoch 10/10\n",
      "140/140 [==============================] - 0s 2ms/step - loss: 0.0018\n",
      "35/35 [==============================] - 0s 986us/step\n"
     ]
    }
   ],
   "source": [
    "SCA_output2 = SCAFUN(bow_obj_data, bow_obj_label, opts,'mlp')\n",
    "sf2   = SCA_output2['selected_features']"
   ]
  },
  {
   "cell_type": "code",
   "execution_count": 107,
   "metadata": {},
   "outputs": [
    {
     "data": {
      "text/plain": [
       "(4392,)"
      ]
     },
     "execution_count": 107,
     "metadata": {},
     "output_type": "execute_result"
    }
   ],
   "source": [
    "sf2.shape"
   ]
  },
  {
   "attachments": {},
   "cell_type": "markdown",
   "metadata": {},
   "source": [
    "<h4>So  8820-4462=4358 features were omitted by applying  SCA "
   ]
  },
  {
   "attachments": {},
   "cell_type": "markdown",
   "metadata": {},
   "source": [
    "<h1>load extracted data"
   ]
  },
  {
   "cell_type": "code",
   "execution_count": 108,
   "metadata": {},
   "outputs": [],
   "source": [
    "sca_x_bow_train,mlp_sca_x_bow_test,sca_y_bow_train,mlp_sca_y_bow_test=train_test_split(bow_obj_data[:,sf2],bow_obj_label,test_size=0.3,stratify=bow_obj_label,shuffle=True)\n"
   ]
  },
  {
   "cell_type": "code",
   "execution_count": 109,
   "metadata": {},
   "outputs": [],
   "source": [
    "mlp_sca_bow_x_train,mlp_sca_bow_x_valid, mlp_sca_bow_y_train, mlp_sca_bow_y_valid = train_test_split(sca_x_bow_train, sca_y_bow_train,test_size=0.2,shuffle=True)\n"
   ]
  },
  {
   "cell_type": "markdown",
   "metadata": {},
   "source": [
    "<h2>make mlp _ SCA on BOW data_"
   ]
  },
  {
   "cell_type": "code",
   "execution_count": 110,
   "metadata": {},
   "outputs": [
    {
     "name": "stdout",
     "output_type": "stream",
     "text": [
      "Epoch 1/10\n"
     ]
    },
    {
     "name": "stdout",
     "output_type": "stream",
     "text": [
      "98/98 [==============================] - 1s 4ms/step - loss: 0.3797 - accuracy: 0.9090 - val_loss: 0.1853 - val_accuracy: 0.9526\n",
      "Epoch 2/10\n",
      "98/98 [==============================] - 0s 3ms/step - loss: 0.0924 - accuracy: 0.9776 - val_loss: 0.1062 - val_accuracy: 0.9692\n",
      "Epoch 3/10\n",
      "98/98 [==============================] - 0s 3ms/step - loss: 0.0419 - accuracy: 0.9897 - val_loss: 0.0988 - val_accuracy: 0.9744\n",
      "Epoch 4/10\n",
      "98/98 [==============================] - 0s 3ms/step - loss: 0.0243 - accuracy: 0.9942 - val_loss: 0.1008 - val_accuracy: 0.9731\n",
      "Epoch 5/10\n",
      "98/98 [==============================] - 0s 3ms/step - loss: 0.0159 - accuracy: 0.9968 - val_loss: 0.1046 - val_accuracy: 0.9731\n",
      "Epoch 6/10\n",
      "98/98 [==============================] - 0s 3ms/step - loss: 0.0111 - accuracy: 0.9978 - val_loss: 0.1145 - val_accuracy: 0.9718\n",
      "Epoch 7/10\n",
      "98/98 [==============================] - 0s 3ms/step - loss: 0.0080 - accuracy: 0.9981 - val_loss: 0.1185 - val_accuracy: 0.9718\n",
      "Epoch 8/10\n",
      "98/98 [==============================] - 0s 3ms/step - loss: 0.0061 - accuracy: 0.9990 - val_loss: 0.1245 - val_accuracy: 0.9705\n",
      "Epoch 9/10\n",
      "98/98 [==============================] - 0s 3ms/step - loss: 0.0046 - accuracy: 0.9994 - val_loss: 0.1292 - val_accuracy: 0.9705\n",
      "Epoch 10/10\n",
      "98/98 [==============================] - 0s 3ms/step - loss: 0.0036 - accuracy: 0.9994 - val_loss: 0.1332 - val_accuracy: 0.9718\n",
      "53/53 [==============================] - 0s 1ms/step - loss: 0.0990 - accuracy: 0.9773\n",
      "Test loss: 0.09904082864522934\n",
      "Test accuracy: 0.9772727489471436\n"
     ]
    }
   ],
   "source": [
    "model6 = Sequential()\n",
    "model6.add(Dense(200, activation='relu', input_shape=(mlp_sca_bow_x_train.shape[1],)))\n",
    "model6.add(Dense(1, activation='sigmoid'))\n",
    "\n",
    "# Compile the model with SCA optimizer\n",
    "model6.compile(optimizer=Adam(learning_rate=0.001), loss='binary_crossentropy', metrics=['accuracy'])\n",
    "# Training the model\n",
    "history6 = model6.fit(mlp_sca_bow_x_train, mlp_sca_bow_y_train, validation_data=(mlp_sca_bow_x_valid, mlp_sca_bow_y_valid), epochs=10, batch_size=32)\n",
    "# Evaluate the model\n",
    "score6 = model6.evaluate(mlp_sca_x_bow_test, mlp_sca_y_bow_test)\n",
    "print('Test loss:', score6[0])\n",
    "print('Test accuracy:', score6[1])"
   ]
  },
  {
   "cell_type": "code",
   "execution_count": 111,
   "metadata": {},
   "outputs": [
    {
     "name": "stdout",
     "output_type": "stream",
     "text": [
      " 1/98 [..............................] - ETA: 1s - loss: 0.0011 - accuracy: 1.0000"
     ]
    },
    {
     "name": "stdout",
     "output_type": "stream",
     "text": [
      "98/98 [==============================] - 0s 1ms/step - loss: 0.0029 - accuracy: 0.9997\n",
      "Train Loss: 0.0029047769494354725\n",
      "Train Accuracy: 0.9996795058250427\n"
     ]
    }
   ],
   "source": [
    "\n",
    "train_loss6, train_accuracy6 = model6.evaluate(mlp_sca_bow_x_train, mlp_sca_bow_y_train)\n",
    "print(\"Train Loss:\", train_loss6)\n",
    "print(\"Train Accuracy:\", train_accuracy6)"
   ]
  },
  {
   "cell_type": "code",
   "execution_count": 112,
   "metadata": {},
   "outputs": [
    {
     "name": "stdout",
     "output_type": "stream",
     "text": [
      " 1/53 [..............................] - ETA: 1s"
     ]
    },
    {
     "name": "stdout",
     "output_type": "stream",
     "text": [
      "53/53 [==============================] - 0s 1ms/step\n",
      "Accuracy: 0.9772727272727273\n",
      "Recall: 0.8348214285714286\n",
      "Precision: 0.9946808510638298\n",
      "F1-score: 0.9077669902912622\n"
     ]
    }
   ],
   "source": [
    "y_pred_prob6 = model6.predict(mlp_sca_x_bow_test)\n",
    "\n",
    "# Converting probabilities to class labels based on a threshold (e.g., 0.5)\n",
    "y_pred6 = (y_pred_prob6 >= 0.5).astype(int)\n",
    "\n",
    "# Calculating precision, recall, F1-score, and accuracy\n",
    "precision6 = precision_score(mlp_sca_y_bow_test, y_pred6)\n",
    "recall6 = recall_score(mlp_sca_y_bow_test, y_pred6)\n",
    "f16 = f1_score(mlp_sca_y_bow_test, y_pred6)\n",
    "accuracy6 = accuracy_score(mlp_sca_y_bow_test, y_pred6)\n",
    "\n",
    "print(\"Accuracy:\", accuracy6)\n",
    "print(\"Recall:\", recall6)\n",
    "print(\"Precision:\", precision6)\n",
    "print(\"F1-score:\", f16)"
   ]
  },
  {
   "attachments": {},
   "cell_type": "markdown",
   "metadata": {},
   "source": [
    "<h1>KNN with SCA"
   ]
  },
  {
   "cell_type": "code",
   "execution_count": 113,
   "metadata": {},
   "outputs": [
    {
     "data": {
      "text/plain": [
       "0.881578947368421"
      ]
     },
     "execution_count": 113,
     "metadata": {},
     "output_type": "execute_result"
    }
   ],
   "source": [
    "SCA_bow_knn=KNeighborsClassifier(n_neighbors=13)\n",
    "SCA_bow_knn.fit(X=sca_x_bow_train,y=sca_y_bow_train)\n",
    "SCA_knn_bow_pred=SCA_bow_knn.predict(X=mlp_sca_x_bow_test)\n",
    "SCA_bow_knn.score(X=mlp_sca_x_bow_test,y=mlp_sca_y_bow_test)"
   ]
  },
  {
   "cell_type": "code",
   "execution_count": 114,
   "metadata": {},
   "outputs": [
    {
     "name": "stdout",
     "output_type": "stream",
     "text": [
      "\n",
      "\n",
      "Measuring knn wit BOW SCA :\n",
      "\n",
      "Accuracy: 0.881578947368421\n",
      "Recall: 0.11607142857142858\n",
      "Precision: 1.0\n",
      "F1-score: 0.208\n"
     ]
    }
   ],
   "source": [
    "\n",
    "SCA_knn_bow_precision = precision_score(y_true=mlp_sca_y_bow_test,y_pred= SCA_knn_bow_pred)\n",
    "SCA_knn_bow_recall = recall_score(y_true=mlp_sca_y_bow_test, y_pred=SCA_knn_bow_pred)\n",
    "SCA_knn_bow_f1 = f1_score(y_true=mlp_sca_y_bow_test, y_pred=SCA_knn_bow_pred)\n",
    "SCA_knn_bow_accuracy = accuracy_score(y_true=mlp_sca_y_bow_test,y_pred= SCA_knn_bow_pred)\n",
    "print(\"\\n\\nMeasuring knn wit BOW SCA :\\n\")\n",
    "print(\"Accuracy:\", SCA_knn_bow_accuracy)\n",
    "print(\"Recall:\", SCA_knn_bow_recall)\n",
    "print(\"Precision:\", SCA_knn_bow_precision)\n",
    "print(\"F1-score:\", SCA_knn_bow_f1)"
   ]
  },
  {
   "attachments": {},
   "cell_type": "markdown",
   "metadata": {},
   "source": [
    "<h1>Random forest with SCA"
   ]
  },
  {
   "cell_type": "code",
   "execution_count": 115,
   "metadata": {},
   "outputs": [
    {
     "data": {
      "text/plain": [
       "0.972488038277512"
      ]
     },
     "execution_count": 115,
     "metadata": {},
     "output_type": "execute_result"
    }
   ],
   "source": [
    "SCA_bow_Random_F=RandomForestClassifier(n_estimators=31,criterion='gini')\n",
    "SCA_bow_Random_F.fit(sca_x_bow_train,sca_y_bow_train)\n",
    "SCA_bow_Randmon_F_pred=SCA_bow_Random_F.predict(X=mlp_sca_x_bow_test)\n",
    "SCA_bow_Random_F.score(X=mlp_sca_x_bow_test,y=mlp_sca_y_bow_test)"
   ]
  },
  {
   "attachments": {},
   "cell_type": "markdown",
   "metadata": {},
   "source": [
    "<h3>measuring"
   ]
  },
  {
   "cell_type": "code",
   "execution_count": 116,
   "metadata": {},
   "outputs": [
    {
     "name": "stdout",
     "output_type": "stream",
     "text": [
      "\n",
      "\n",
      "Measuring Random forest wit BOW :\n",
      "\n",
      "Accuracy: 0.972488038277512\n",
      "Recall: 0.7991071428571429\n",
      "Precision: 0.9944444444444445\n",
      "F1-score: 0.8861386138613861\n"
     ]
    }
   ],
   "source": [
    "SCA_bow_Random_F_precision = precision_score(y_true=mlp_sca_y_bow_test, y_pred=SCA_bow_Randmon_F_pred)\n",
    "SCA_bow_Random_F_recall = recall_score(y_true=mlp_sca_y_bow_test, y_pred=SCA_bow_Randmon_F_pred)\n",
    "SCA_bow_Random_F_f1 = f1_score(y_true=mlp_sca_y_bow_test, y_pred=SCA_bow_Randmon_F_pred)\n",
    "SCA_bow_Random_F_accuracy = accuracy_score(y_true=mlp_sca_y_bow_test,y_pred= SCA_bow_Randmon_F_pred)\n",
    "print(\"\\n\\nMeasuring Random forest wit BOW :\\n\")\n",
    "print(\"Accuracy:\", SCA_bow_Random_F_accuracy)\n",
    "print(\"Recall:\", SCA_bow_Random_F_recall)\n",
    "print(\"Precision:\", SCA_bow_Random_F_precision)\n",
    "print(\"F1-score:\", SCA_bow_Random_F_f1)"
   ]
  },
  {
   "attachments": {},
   "cell_type": "markdown",
   "metadata": {},
   "source": [
    "<h1>SCA SVM"
   ]
  },
  {
   "cell_type": "code",
   "execution_count": 117,
   "metadata": {},
   "outputs": [
    {
     "data": {
      "text/plain": [
       "0.9766746411483254"
      ]
     },
     "execution_count": 117,
     "metadata": {},
     "output_type": "execute_result"
    }
   ],
   "source": [
    "SCA_bow_SVM=svm.SVC(kernel='rbf',C=10,gamma=0.1)\n",
    "SCA_bow_SVM.fit(sca_x_bow_train,sca_y_bow_train)\n",
    "SCA_bow_SVM_pred=SCA_bow_SVM.predict(X=mlp_sca_x_bow_test)\n",
    "SCA_bow_SVM.score(X=mlp_sca_x_bow_test,y=mlp_sca_y_bow_test)"
   ]
  },
  {
   "cell_type": "code",
   "execution_count": 118,
   "metadata": {},
   "outputs": [
    {
     "name": "stdout",
     "output_type": "stream",
     "text": [
      "\n",
      "\n",
      "Measuring SVM wit BOW :\n",
      "\n",
      "Accuracy: 0.9766746411483254\n",
      "Recall: 0.8392857142857143\n",
      "Precision: 0.9842931937172775\n",
      "F1-score: 0.9060240963855423\n"
     ]
    }
   ],
   "source": [
    "\n",
    "SCA_bow_SVM_precision = precision_score(y_true=mlp_sca_y_bow_test, y_pred=SCA_bow_SVM_pred)\n",
    "SCA_bow_SVM_recall = recall_score(y_true=mlp_sca_y_bow_test, y_pred=SCA_bow_SVM_pred)\n",
    "SCA_bow_SVM_f1 = f1_score(y_true=mlp_sca_y_bow_test, y_pred=SCA_bow_SVM_pred)\n",
    "SCA_bow_SVM_accuracy = accuracy_score(y_true=mlp_sca_y_bow_test, y_pred=SCA_bow_SVM_pred)\n",
    "print(\"\\n\\nMeasuring SVM wit BOW :\\n\")\n",
    "print(\"Accuracy:\", SCA_bow_SVM_accuracy)\n",
    "print(\"Recall:\", SCA_bow_SVM_recall)\n",
    "print(\"Precision:\", SCA_bow_SVM_precision)\n",
    "print(\"F1-score:\", SCA_bow_SVM_f1)"
   ]
  },
  {
   "cell_type": "code",
   "execution_count": null,
   "metadata": {},
   "outputs": [],
   "source": []
  },
  {
   "cell_type": "markdown",
   "metadata": {},
   "source": [
    "<h2>votting in SCA"
   ]
  },
  {
   "cell_type": "code",
   "execution_count": 119,
   "metadata": {},
   "outputs": [],
   "source": [
    "mlp_classifier_SCA2 = MLPClassifier()\n",
    "ensemble6 = VotingClassifier(estimators=[ ('mlp',mlp_classifier_SCA2),('SVM', SCA_bow_SVM), ('RF', SCA_bow_Random_F), ('knn', SCA_bow_knn)], voting='hard')"
   ]
  },
  {
   "cell_type": "code",
   "execution_count": 120,
   "metadata": {},
   "outputs": [
    {
     "name": "stdout",
     "output_type": "stream",
     "text": [
      "Epoch 1/10\n"
     ]
    },
    {
     "name": "stdout",
     "output_type": "stream",
     "text": [
      "98/98 [==============================] - 1s 3ms/step - loss: 0.3629 - accuracy: 0.9122\n",
      "Epoch 2/10\n",
      "98/98 [==============================] - 0s 3ms/step - loss: 0.0890 - accuracy: 0.9776\n",
      "Epoch 3/10\n",
      "98/98 [==============================] - 0s 3ms/step - loss: 0.0407 - accuracy: 0.9897\n",
      "Epoch 4/10\n",
      "98/98 [==============================] - 0s 3ms/step - loss: 0.0237 - accuracy: 0.9942\n",
      "Epoch 5/10\n",
      "98/98 [==============================] - 0s 3ms/step - loss: 0.0157 - accuracy: 0.9971\n",
      "Epoch 6/10\n",
      "98/98 [==============================] - 0s 3ms/step - loss: 0.0110 - accuracy: 0.9974\n",
      "Epoch 7/10\n",
      "98/98 [==============================] - 0s 3ms/step - loss: 0.0080 - accuracy: 0.9981\n",
      "Epoch 8/10\n",
      "98/98 [==============================] - 0s 3ms/step - loss: 0.0059 - accuracy: 0.9990\n",
      "Epoch 9/10\n",
      "98/98 [==============================] - 0s 3ms/step - loss: 0.0046 - accuracy: 0.9994\n",
      "Epoch 10/10\n",
      "98/98 [==============================] - 0s 3ms/step - loss: 0.0036 - accuracy: 0.9994\n"
     ]
    },
    {
     "data": {
      "text/html": [
       "<style>#sk-container-id-4 {color: black;background-color: white;}#sk-container-id-4 pre{padding: 0;}#sk-container-id-4 div.sk-toggleable {background-color: white;}#sk-container-id-4 label.sk-toggleable__label {cursor: pointer;display: block;width: 100%;margin-bottom: 0;padding: 0.3em;box-sizing: border-box;text-align: center;}#sk-container-id-4 label.sk-toggleable__label-arrow:before {content: \"▸\";float: left;margin-right: 0.25em;color: #696969;}#sk-container-id-4 label.sk-toggleable__label-arrow:hover:before {color: black;}#sk-container-id-4 div.sk-estimator:hover label.sk-toggleable__label-arrow:before {color: black;}#sk-container-id-4 div.sk-toggleable__content {max-height: 0;max-width: 0;overflow: hidden;text-align: left;background-color: #f0f8ff;}#sk-container-id-4 div.sk-toggleable__content pre {margin: 0.2em;color: black;border-radius: 0.25em;background-color: #f0f8ff;}#sk-container-id-4 input.sk-toggleable__control:checked~div.sk-toggleable__content {max-height: 200px;max-width: 100%;overflow: auto;}#sk-container-id-4 input.sk-toggleable__control:checked~label.sk-toggleable__label-arrow:before {content: \"▾\";}#sk-container-id-4 div.sk-estimator input.sk-toggleable__control:checked~label.sk-toggleable__label {background-color: #d4ebff;}#sk-container-id-4 div.sk-label input.sk-toggleable__control:checked~label.sk-toggleable__label {background-color: #d4ebff;}#sk-container-id-4 input.sk-hidden--visually {border: 0;clip: rect(1px 1px 1px 1px);clip: rect(1px, 1px, 1px, 1px);height: 1px;margin: -1px;overflow: hidden;padding: 0;position: absolute;width: 1px;}#sk-container-id-4 div.sk-estimator {font-family: monospace;background-color: #f0f8ff;border: 1px dotted black;border-radius: 0.25em;box-sizing: border-box;margin-bottom: 0.5em;}#sk-container-id-4 div.sk-estimator:hover {background-color: #d4ebff;}#sk-container-id-4 div.sk-parallel-item::after {content: \"\";width: 100%;border-bottom: 1px solid gray;flex-grow: 1;}#sk-container-id-4 div.sk-label:hover label.sk-toggleable__label {background-color: #d4ebff;}#sk-container-id-4 div.sk-serial::before {content: \"\";position: absolute;border-left: 1px solid gray;box-sizing: border-box;top: 0;bottom: 0;left: 50%;z-index: 0;}#sk-container-id-4 div.sk-serial {display: flex;flex-direction: column;align-items: center;background-color: white;padding-right: 0.2em;padding-left: 0.2em;position: relative;}#sk-container-id-4 div.sk-item {position: relative;z-index: 1;}#sk-container-id-4 div.sk-parallel {display: flex;align-items: stretch;justify-content: center;background-color: white;position: relative;}#sk-container-id-4 div.sk-item::before, #sk-container-id-4 div.sk-parallel-item::before {content: \"\";position: absolute;border-left: 1px solid gray;box-sizing: border-box;top: 0;bottom: 0;left: 50%;z-index: -1;}#sk-container-id-4 div.sk-parallel-item {display: flex;flex-direction: column;z-index: 1;position: relative;background-color: white;}#sk-container-id-4 div.sk-parallel-item:first-child::after {align-self: flex-end;width: 50%;}#sk-container-id-4 div.sk-parallel-item:last-child::after {align-self: flex-start;width: 50%;}#sk-container-id-4 div.sk-parallel-item:only-child::after {width: 0;}#sk-container-id-4 div.sk-dashed-wrapped {border: 1px dashed gray;margin: 0 0.4em 0.5em 0.4em;box-sizing: border-box;padding-bottom: 0.4em;background-color: white;}#sk-container-id-4 div.sk-label label {font-family: monospace;font-weight: bold;display: inline-block;line-height: 1.2em;}#sk-container-id-4 div.sk-label-container {text-align: center;}#sk-container-id-4 div.sk-container {/* jupyter's `normalize.less` sets `[hidden] { display: none; }` but bootstrap.min.css set `[hidden] { display: none !important; }` so we also need the `!important` here to be able to override the default hidden behavior on the sphinx rendered scikit-learn.org. See: https://github.com/scikit-learn/scikit-learn/issues/21755 */display: inline-block !important;position: relative;}#sk-container-id-4 div.sk-text-repr-fallback {display: none;}</style><div id=\"sk-container-id-4\" class=\"sk-top-container\"><div class=\"sk-text-repr-fallback\"><pre>VotingClassifier(estimators=[(&#x27;mlp&#x27;, MLPClassifier()),\n",
       "                             (&#x27;SVM&#x27;, SVC(C=10, gamma=0.1)),\n",
       "                             (&#x27;RF&#x27;, RandomForestClassifier(n_estimators=31)),\n",
       "                             (&#x27;knn&#x27;, KNeighborsClassifier(n_neighbors=13))])</pre><b>In a Jupyter environment, please rerun this cell to show the HTML representation or trust the notebook. <br />On GitHub, the HTML representation is unable to render, please try loading this page with nbviewer.org.</b></div><div class=\"sk-container\" hidden><div class=\"sk-item sk-dashed-wrapped\"><div class=\"sk-label-container\"><div class=\"sk-label sk-toggleable\"><input class=\"sk-toggleable__control sk-hidden--visually\" id=\"sk-estimator-id-15\" type=\"checkbox\" ><label for=\"sk-estimator-id-15\" class=\"sk-toggleable__label sk-toggleable__label-arrow\">VotingClassifier</label><div class=\"sk-toggleable__content\"><pre>VotingClassifier(estimators=[(&#x27;mlp&#x27;, MLPClassifier()),\n",
       "                             (&#x27;SVM&#x27;, SVC(C=10, gamma=0.1)),\n",
       "                             (&#x27;RF&#x27;, RandomForestClassifier(n_estimators=31)),\n",
       "                             (&#x27;knn&#x27;, KNeighborsClassifier(n_neighbors=13))])</pre></div></div></div><div class=\"sk-parallel\"><div class=\"sk-parallel-item\"><div class=\"sk-item\"><div class=\"sk-label-container\"><div class=\"sk-label sk-toggleable\"><label>mlp</label></div></div><div class=\"sk-serial\"><div class=\"sk-item\"><div class=\"sk-estimator sk-toggleable\"><input class=\"sk-toggleable__control sk-hidden--visually\" id=\"sk-estimator-id-16\" type=\"checkbox\" ><label for=\"sk-estimator-id-16\" class=\"sk-toggleable__label sk-toggleable__label-arrow\">MLPClassifier</label><div class=\"sk-toggleable__content\"><pre>MLPClassifier()</pre></div></div></div></div></div></div><div class=\"sk-parallel-item\"><div class=\"sk-item\"><div class=\"sk-label-container\"><div class=\"sk-label sk-toggleable\"><label>SVM</label></div></div><div class=\"sk-serial\"><div class=\"sk-item\"><div class=\"sk-estimator sk-toggleable\"><input class=\"sk-toggleable__control sk-hidden--visually\" id=\"sk-estimator-id-17\" type=\"checkbox\" ><label for=\"sk-estimator-id-17\" class=\"sk-toggleable__label sk-toggleable__label-arrow\">SVC</label><div class=\"sk-toggleable__content\"><pre>SVC(C=10, gamma=0.1)</pre></div></div></div></div></div></div><div class=\"sk-parallel-item\"><div class=\"sk-item\"><div class=\"sk-label-container\"><div class=\"sk-label sk-toggleable\"><label>RF</label></div></div><div class=\"sk-serial\"><div class=\"sk-item\"><div class=\"sk-estimator sk-toggleable\"><input class=\"sk-toggleable__control sk-hidden--visually\" id=\"sk-estimator-id-18\" type=\"checkbox\" ><label for=\"sk-estimator-id-18\" class=\"sk-toggleable__label sk-toggleable__label-arrow\">RandomForestClassifier</label><div class=\"sk-toggleable__content\"><pre>RandomForestClassifier(n_estimators=31)</pre></div></div></div></div></div></div><div class=\"sk-parallel-item\"><div class=\"sk-item\"><div class=\"sk-label-container\"><div class=\"sk-label sk-toggleable\"><label>knn</label></div></div><div class=\"sk-serial\"><div class=\"sk-item\"><div class=\"sk-estimator sk-toggleable\"><input class=\"sk-toggleable__control sk-hidden--visually\" id=\"sk-estimator-id-19\" type=\"checkbox\" ><label for=\"sk-estimator-id-19\" class=\"sk-toggleable__label sk-toggleable__label-arrow\">KNeighborsClassifier</label><div class=\"sk-toggleable__content\"><pre>KNeighborsClassifier(n_neighbors=13)</pre></div></div></div></div></div></div></div></div></div></div>"
      ],
      "text/plain": [
       "VotingClassifier(estimators=[('mlp', MLPClassifier()),\n",
       "                             ('SVM', SVC(C=10, gamma=0.1)),\n",
       "                             ('RF', RandomForestClassifier(n_estimators=31)),\n",
       "                             ('knn', KNeighborsClassifier(n_neighbors=13))])"
      ]
     },
     "execution_count": 120,
     "metadata": {},
     "output_type": "execute_result"
    }
   ],
   "source": [
    "ensemble6.fit(X=mlp_sca_bow_x_train,y=mlp_sca_bow_y_train)"
   ]
  },
  {
   "cell_type": "code",
   "execution_count": 121,
   "metadata": {},
   "outputs": [
    {
     "name": "stdout",
     "output_type": "stream",
     "text": [
      "35/53 [==================>...........] - ETA: 0s"
     ]
    },
    {
     "name": "stdout",
     "output_type": "stream",
     "text": [
      "53/53 [==============================] - 0s 2ms/step\n"
     ]
    }
   ],
   "source": [
    "ens_prd6=ensemble6.predict(mlp_sca_x_bow_test)"
   ]
  },
  {
   "cell_type": "code",
   "execution_count": 122,
   "metadata": {},
   "outputs": [
    {
     "name": "stdout",
     "output_type": "stream",
     "text": [
      "Accuracy: 0.9581339712918661\n",
      "Recall: 0.6919642857142857\n",
      "Precision: 0.9935897435897436\n",
      "F1-score: 0.8157894736842106\n"
     ]
    }
   ],
   "source": [
    "ens6_precision = precision_score(y_true=mlp_sca_y_bow_test,y_pred=ens_prd6)\n",
    "ens6_recall = recall_score(y_true=mlp_sca_y_bow_test, y_pred=ens_prd6)\n",
    "ens6_f1 = f1_score(y_true=mlp_sca_y_bow_test, y_pred=ens_prd6)\n",
    "ens6_accuracy = accuracy_score(y_true=mlp_sca_y_bow_test, y_pred=ens_prd6)\n",
    "\n",
    "print(\"Accuracy:\", ens6_accuracy)\n",
    "print(\"Recall:\", ens6_recall)\n",
    "print(\"Precision:\", ens6_precision)\n",
    "print(\"F1-score:\", ens6_f1)"
   ]
  },
  {
   "cell_type": "markdown",
   "metadata": {},
   "source": [
    "<H1>Complex model"
   ]
  },
  {
   "cell_type": "markdown",
   "metadata": {},
   "source": [
    "<h3>tf_idf\n"
   ]
  },
  {
   "cell_type": "code",
   "execution_count": 123,
   "metadata": {},
   "outputs": [],
   "source": [
    "sca_x_train,mlp_sca_x_test,sca_y_train,mlp_sca_y_test=train_test_split(scaled_obj_data[:,sf1],scaled_obj_label,test_size=0.3,shuffle=False)\n",
    "mlp_sca_x_train,mlp_sca_x_valid, mlp_sca_y_train, mlp_sca_y_valid = train_test_split(sca_x_train, sca_y_train,test_size=0.2,shuffle=False)"
   ]
  },
  {
   "cell_type": "code",
   "execution_count": 124,
   "metadata": {},
   "outputs": [],
   "source": [
    "all_features = range(scaled_obj_data.shape[1])\n",
    "remaining_features = list(set(all_features) - set(sf1))"
   ]
  },
  {
   "cell_type": "code",
   "execution_count": 125,
   "metadata": {},
   "outputs": [],
   "source": [
    "sca_x_train_remaining, mlp_sca_x_test_remaining, sca_y_train_remaining, mlp_sca_y_test_remaining = train_test_split(scaled_obj_data[:, remaining_features],scaled_obj_label,test_size=0.3,shuffle=False)\n",
    "sca_x_train_remaining,sca_x_valid_remaining, sca_y_train_remaining, sca_y_valid_remaining = train_test_split(sca_x_train_remaining, sca_y_train_remaining,test_size=0.2,shuffle=False)"
   ]
  },
  {
   "cell_type": "markdown",
   "metadata": {},
   "source": [
    "define complex model"
   ]
  },
  {
   "cell_type": "code",
   "execution_count": 126,
   "metadata": {},
   "outputs": [
    {
     "name": "stdout",
     "output_type": "stream",
     "text": [
      "Epoch 1/10\n",
      "98/98 [==============================] - 1s 5ms/step - loss: 0.4384 - accuracy: 0.8551 - val_loss: 0.3320 - val_accuracy: 0.8987\n",
      "Epoch 2/10\n",
      "98/98 [==============================] - 1s 6ms/step - loss: 0.1180 - accuracy: 0.9663 - val_loss: 0.1364 - val_accuracy: 0.9526\n",
      "Epoch 3/10\n",
      "98/98 [==============================] - 1s 6ms/step - loss: 0.0180 - accuracy: 0.9939 - val_loss: 0.1233 - val_accuracy: 0.9577\n",
      "Epoch 4/10\n",
      "98/98 [==============================] - 1s 5ms/step - loss: 0.0053 - accuracy: 0.9984 - val_loss: 0.1263 - val_accuracy: 0.9564\n",
      "Epoch 5/10\n",
      "98/98 [==============================] - 1s 5ms/step - loss: 0.0027 - accuracy: 0.9997 - val_loss: 0.1250 - val_accuracy: 0.9603\n",
      "Epoch 6/10\n",
      "98/98 [==============================] - 1s 5ms/step - loss: 0.0016 - accuracy: 1.0000 - val_loss: 0.1228 - val_accuracy: 0.9628\n",
      "Epoch 7/10\n",
      "98/98 [==============================] - 0s 4ms/step - loss: 0.0011 - accuracy: 1.0000 - val_loss: 0.1233 - val_accuracy: 0.9628\n",
      "Epoch 8/10\n",
      "98/98 [==============================] - 0s 4ms/step - loss: 8.3855e-04 - accuracy: 1.0000 - val_loss: 0.1228 - val_accuracy: 0.9615\n",
      "Epoch 9/10\n",
      "98/98 [==============================] - 0s 4ms/step - loss: 6.4987e-04 - accuracy: 1.0000 - val_loss: 0.1228 - val_accuracy: 0.9615\n",
      "Epoch 10/10\n",
      "98/98 [==============================] - 0s 5ms/step - loss: 5.1916e-04 - accuracy: 1.0000 - val_loss: 0.1228 - val_accuracy: 0.9615\n",
      "53/53 [==============================] - 0s 2ms/step - loss: 0.1495 - accuracy: 0.9551\n"
     ]
    }
   ],
   "source": [
    "input1=keras.layers.Input(shape=(mlp_sca_x_train.shape[1],))\n",
    "input2=keras.layers.Input(shape=(sca_x_train_remaining.shape[1],))\n",
    "hidden1=keras.layers.Dense(200,activation='relu')(input2)\n",
    "concat=keras.layers.concatenate([input1,hidden1])\n",
    "output=keras.layers.Dense(1,activation='sigmoid')(concat)\n",
    "cmodel=keras.models.Model(inputs=[input1,input2],outputs=[output])\n",
    "cmodel.compile(optimizer=Adam(learning_rate=0.001), loss='binary_crossentropy', metrics=['accuracy'])\n",
    "chistory = cmodel.fit((mlp_sca_x_train,sca_x_train_remaining), mlp_sca_y_train, validation_data=((mlp_sca_x_valid,sca_x_valid_remaining), mlp_sca_y_valid), epochs=10, batch_size=32)\n",
    "cscore = cmodel.evaluate((mlp_sca_x_test,mlp_sca_x_test_remaining), mlp_sca_y_test)"
   ]
  },
  {
   "cell_type": "markdown",
   "metadata": {},
   "source": [
    "evaluat"
   ]
  },
  {
   "cell_type": "code",
   "execution_count": 127,
   "metadata": {},
   "outputs": [
    {
     "name": "stdout",
     "output_type": "stream",
     "text": [
      "27/53 [==============>...............] - ETA: 0s"
     ]
    },
    {
     "name": "stdout",
     "output_type": "stream",
     "text": [
      "53/53 [==============================] - 0s 2ms/step\n",
      "Accuracy: 0.9551435406698564\n",
      "Recall: 0.6973684210526315\n",
      "Precision: 0.9636363636363636\n",
      "F1-score: 0.8091603053435114\n"
     ]
    }
   ],
   "source": [
    "c_y_pred= cmodel.predict((mlp_sca_x_test,mlp_sca_x_test_remaining))\n",
    "\n",
    "# Converting probabilities to class labels based on a threshold (e.g., 0.5)\n",
    "c_y_pred = (c_y_pred >= 0.5).astype(int)\n",
    "\n",
    "# Calculating precision, recall, F1-score, and accuracy\n",
    "cprecision = precision_score(y_true=mlp_sca_y_test, y_pred=c_y_pred)\n",
    "crecall = recall_score(y_true=mlp_sca_y_test, y_pred=c_y_pred)\n",
    "cf1 = f1_score(y_true=mlp_sca_y_test, y_pred=c_y_pred)\n",
    "caccuracy = accuracy_score(y_true=mlp_sca_y_test, y_pred=c_y_pred)\n",
    "\n",
    "print(\"Accuracy:\", caccuracy)\n",
    "print(\"Recall:\", crecall)\n",
    "print(\"Precision:\", cprecision)\n",
    "print(\"F1-score:\", cf1)"
   ]
  },
  {
   "cell_type": "markdown",
   "metadata": {},
   "source": [
    "<h3>BOW"
   ]
  },
  {
   "cell_type": "code",
   "execution_count": 128,
   "metadata": {},
   "outputs": [],
   "source": [
    "sca_x_bow_train,mlp_sca_x_bow_test,sca_y_bow_train,mlp_sca_y_bow_test=train_test_split(bow_obj_data[:,sf2],bow_obj_label,test_size=0.3,shuffle=False)\n",
    "mlp_sca_bow_x_train,mlp_sca_bow_x_valid, mlp_sca_bow_y_train, mlp_sca_bow_y_valid = train_test_split(sca_x_bow_train, sca_y_bow_train,test_size=0.2,shuffle=False)\n"
   ]
  },
  {
   "cell_type": "code",
   "execution_count": 129,
   "metadata": {},
   "outputs": [],
   "source": [
    "all_features2 = range(bow_obj_data.shape[1])\n",
    "remaining_features2 = list(set(all_features2) - set(sf2))"
   ]
  },
  {
   "cell_type": "code",
   "execution_count": 130,
   "metadata": {},
   "outputs": [],
   "source": [
    "sca_bow_x_train_remaining, mlp_bow_sca_x_test_remaining, sca_bow_y_train_remaining, mlp_sca_bow_y_test_remaining = train_test_split(bow_obj_data[:, remaining_features2],bow_obj_label,test_size=0.3,shuffle=False)\n",
    "sca_bow_x_train_remaining,sca_bow_x_valid_remaining, sca_bow_y_train_remaining, sca_bow_y_valid_remaining = train_test_split(sca_bow_x_train_remaining, sca_bow_y_train_remaining,test_size=0.2,shuffle=False)"
   ]
  },
  {
   "cell_type": "markdown",
   "metadata": {},
   "source": [
    "define complex model"
   ]
  },
  {
   "cell_type": "code",
   "execution_count": 131,
   "metadata": {},
   "outputs": [
    {
     "name": "stdout",
     "output_type": "stream",
     "text": [
      "Epoch 1/10\n",
      "98/98 [==============================] - 1s 7ms/step - loss: 0.4371 - accuracy: 0.8808 - val_loss: 0.2056 - val_accuracy: 0.9462\n",
      "Epoch 2/10\n",
      "98/98 [==============================] - 1s 5ms/step - loss: 0.1042 - accuracy: 0.9740 - val_loss: 0.1200 - val_accuracy: 0.9744\n",
      "Epoch 3/10\n",
      "98/98 [==============================] - 0s 5ms/step - loss: 0.0427 - accuracy: 0.9894 - val_loss: 0.1193 - val_accuracy: 0.9744\n",
      "Epoch 4/10\n",
      "98/98 [==============================] - 1s 5ms/step - loss: 0.0247 - accuracy: 0.9939 - val_loss: 0.1229 - val_accuracy: 0.9744\n",
      "Epoch 5/10\n",
      "98/98 [==============================] - 0s 5ms/step - loss: 0.0161 - accuracy: 0.9952 - val_loss: 0.1293 - val_accuracy: 0.9744\n",
      "Epoch 6/10\n",
      "98/98 [==============================] - 0s 5ms/step - loss: 0.0118 - accuracy: 0.9974 - val_loss: 0.1363 - val_accuracy: 0.9731\n",
      "Epoch 7/10\n",
      "98/98 [==============================] - 0s 4ms/step - loss: 0.0092 - accuracy: 0.9981 - val_loss: 0.1408 - val_accuracy: 0.9731\n",
      "Epoch 8/10\n",
      "98/98 [==============================] - 0s 4ms/step - loss: 0.0076 - accuracy: 0.9987 - val_loss: 0.1486 - val_accuracy: 0.9731\n",
      "Epoch 9/10\n",
      "98/98 [==============================] - 0s 4ms/step - loss: 0.0064 - accuracy: 0.9984 - val_loss: 0.1516 - val_accuracy: 0.9705\n",
      "Epoch 10/10\n",
      "98/98 [==============================] - 0s 4ms/step - loss: 0.0055 - accuracy: 0.9987 - val_loss: 0.1577 - val_accuracy: 0.9718\n",
      "53/53 [==============================] - 0s 2ms/step - loss: 0.1122 - accuracy: 0.9719\n"
     ]
    }
   ],
   "source": [
    "input12=keras.layers.Input(shape=(mlp_sca_bow_x_train.shape[1],))\n",
    "input22=keras.layers.Input(shape=(sca_bow_x_train_remaining.shape[1],))\n",
    "hidden12=keras.layers.Dense(200,activation='relu')(input22)\n",
    "concat2=keras.layers.concatenate([input12,hidden12])\n",
    "output2=keras.layers.Dense(1,activation='sigmoid')(concat2)\n",
    "cmodel2=keras.models.Model(inputs=[input12,input22],outputs=[output2])\n",
    "cmodel2.compile(optimizer=Adam(learning_rate=0.001), loss='binary_crossentropy', metrics=['accuracy'])\n",
    "chistory2 = cmodel2.fit((mlp_sca_bow_x_train,sca_bow_x_train_remaining), mlp_sca_bow_y_train, validation_data=((mlp_sca_bow_x_valid,sca_bow_x_valid_remaining), mlp_sca_bow_y_valid), epochs=10, batch_size=32)\n",
    "cscore2 = cmodel2.evaluate((mlp_sca_x_bow_test,mlp_bow_sca_x_test_remaining), mlp_sca_y_bow_test)"
   ]
  },
  {
   "cell_type": "markdown",
   "metadata": {},
   "source": [
    "evaluat"
   ]
  },
  {
   "cell_type": "code",
   "execution_count": 132,
   "metadata": {},
   "outputs": [
    {
     "name": "stdout",
     "output_type": "stream",
     "text": [
      " 1/53 [..............................] - ETA: 1s"
     ]
    },
    {
     "name": "stdout",
     "output_type": "stream",
     "text": [
      "53/53 [==============================] - 0s 2ms/step\n",
      "Accuracy: 0.97188995215311\n",
      "Recall: 0.7982456140350878\n",
      "Precision: 0.994535519125683\n",
      "F1-score: 0.8856447688564477\n"
     ]
    }
   ],
   "source": [
    "c_y_pred2= cmodel2.predict((mlp_sca_x_bow_test,mlp_bow_sca_x_test_remaining))\n",
    "\n",
    "# Converting probabilities to class labels based on a threshold (e.g., 0.5)\n",
    "c_y_pred2 = (c_y_pred2 >= 0.5).astype(int)\n",
    "\n",
    "# Calculating precision, recall, F1-score, and accuracy\n",
    "cprecision2 = precision_score(y_true=mlp_sca_y_bow_test, y_pred=c_y_pred2)\n",
    "crecall2 = recall_score(y_true=mlp_sca_y_bow_test, y_pred=c_y_pred2)\n",
    "cf12 = f1_score(y_true=mlp_sca_y_bow_test, y_pred=c_y_pred2)\n",
    "caccuracy2 = accuracy_score(y_true=mlp_sca_y_bow_test, y_pred=c_y_pred2)\n",
    "\n",
    "print(\"Accuracy:\", caccuracy2)\n",
    "print(\"Recall:\", crecall2)\n",
    "print(\"Precision:\", cprecision2)\n",
    "print(\"F1-score:\", cf12)"
   ]
  },
  {
   "attachments": {},
   "cell_type": "markdown",
   "metadata": {},
   "source": [
    "<h1>make result Table"
   ]
  },
  {
   "cell_type": "code",
   "execution_count": 133,
   "metadata": {},
   "outputs": [
    {
     "data": {
      "text/html": [
       "<div>\n",
       "<style scoped>\n",
       "    .dataframe tbody tr th:only-of-type {\n",
       "        vertical-align: middle;\n",
       "    }\n",
       "\n",
       "    .dataframe tbody tr th {\n",
       "        vertical-align: top;\n",
       "    }\n",
       "\n",
       "    .dataframe thead th {\n",
       "        text-align: right;\n",
       "    }\n",
       "</style>\n",
       "<table border=\"1\" class=\"dataframe\">\n",
       "  <thead>\n",
       "    <tr style=\"text-align: right;\">\n",
       "      <th></th>\n",
       "      <th>Accuracy      BOW</th>\n",
       "      <th>Accuracy   TF-IDF</th>\n",
       "      <th>Precision     BOW</th>\n",
       "      <th>Precision  TF-IDF</th>\n",
       "      <th>Recall        BOW</th>\n",
       "      <th>Recall     TF-IDF</th>\n",
       "      <th>F-measure     BOW</th>\n",
       "      <th>F-measure  TF-IDF</th>\n",
       "    </tr>\n",
       "    <tr>\n",
       "      <th>Algorithm</th>\n",
       "      <th></th>\n",
       "      <th></th>\n",
       "      <th></th>\n",
       "      <th></th>\n",
       "      <th></th>\n",
       "      <th></th>\n",
       "      <th></th>\n",
       "      <th></th>\n",
       "    </tr>\n",
       "  </thead>\n",
       "  <tbody>\n",
       "    <tr>\n",
       "      <th>MLP</th>\n",
       "      <td>98.207885</td>\n",
       "      <td>98.028674</td>\n",
       "      <td>86.666667</td>\n",
       "      <td>85.333333</td>\n",
       "      <td>100.0</td>\n",
       "      <td>100.000000</td>\n",
       "      <td>92.857143</td>\n",
       "      <td>92.857143</td>\n",
       "    </tr>\n",
       "    <tr>\n",
       "      <th>MLP-scaled</th>\n",
       "      <td>----------</td>\n",
       "      <td>97.311828</td>\n",
       "      <td>----------</td>\n",
       "      <td>81.333333</td>\n",
       "      <td>----------</td>\n",
       "      <td>98.387097</td>\n",
       "      <td>----------</td>\n",
       "      <td>89.051095</td>\n",
       "    </tr>\n",
       "    <tr>\n",
       "      <th>MLP-SCA</th>\n",
       "      <td>97.727273</td>\n",
       "      <td>96.232057</td>\n",
       "      <td>83.482143</td>\n",
       "      <td>85.267857</td>\n",
       "      <td>99.468085</td>\n",
       "      <td>86.425339</td>\n",
       "      <td>90.776699</td>\n",
       "      <td>85.842697</td>\n",
       "    </tr>\n",
       "    <tr>\n",
       "      <th>KNN</th>\n",
       "      <td>87.739234</td>\n",
       "      <td>94.796651</td>\n",
       "      <td>8.482143</td>\n",
       "      <td>61.160714</td>\n",
       "      <td>100.0</td>\n",
       "      <td>100.000000</td>\n",
       "      <td>15.63786</td>\n",
       "      <td>75.900277</td>\n",
       "    </tr>\n",
       "    <tr>\n",
       "      <th>KNN-SCA</th>\n",
       "      <td>88.157895</td>\n",
       "      <td>86.662679</td>\n",
       "      <td>11.607143</td>\n",
       "      <td>0.446429</td>\n",
       "      <td>100.0</td>\n",
       "      <td>100.000000</td>\n",
       "      <td>20.8</td>\n",
       "      <td>0.888889</td>\n",
       "    </tr>\n",
       "    <tr>\n",
       "      <th>SVM</th>\n",
       "      <td>97.84689</td>\n",
       "      <td>98.385167</td>\n",
       "      <td>83.928571</td>\n",
       "      <td>89.285714</td>\n",
       "      <td>100.0</td>\n",
       "      <td>98.522167</td>\n",
       "      <td>91.262136</td>\n",
       "      <td>93.676815</td>\n",
       "    </tr>\n",
       "    <tr>\n",
       "      <th>SVM-SCA</th>\n",
       "      <td>97.667464</td>\n",
       "      <td>90.131579</td>\n",
       "      <td>83.928571</td>\n",
       "      <td>26.339286</td>\n",
       "      <td>98.429319</td>\n",
       "      <td>100.000000</td>\n",
       "      <td>90.60241</td>\n",
       "      <td>41.696113</td>\n",
       "    </tr>\n",
       "    <tr>\n",
       "      <th>R.forest</th>\n",
       "      <td>97.488038</td>\n",
       "      <td>98.265550</td>\n",
       "      <td>81.25</td>\n",
       "      <td>87.053571</td>\n",
       "      <td>100.0</td>\n",
       "      <td>100.000000</td>\n",
       "      <td>89.655172</td>\n",
       "      <td>93.078759</td>\n",
       "    </tr>\n",
       "    <tr>\n",
       "      <th>R.forest-SCA</th>\n",
       "      <td>97.248804</td>\n",
       "      <td>97.547847</td>\n",
       "      <td>79.910714</td>\n",
       "      <td>83.482143</td>\n",
       "      <td>99.444444</td>\n",
       "      <td>97.905759</td>\n",
       "      <td>88.613861</td>\n",
       "      <td>90.120482</td>\n",
       "    </tr>\n",
       "    <tr>\n",
       "      <th>Vot with  mlp</th>\n",
       "      <td>97.009569</td>\n",
       "      <td>97.727273</td>\n",
       "      <td>77.678571</td>\n",
       "      <td>83.035714</td>\n",
       "      <td>100.0</td>\n",
       "      <td>100.000000</td>\n",
       "      <td>87.437186</td>\n",
       "      <td>90.731707</td>\n",
       "    </tr>\n",
       "    <tr>\n",
       "      <th>Vot with out mlp</th>\n",
       "      <td>97.368421</td>\n",
       "      <td>97.966507</td>\n",
       "      <td>80.357143</td>\n",
       "      <td>84.821429</td>\n",
       "      <td>100.0</td>\n",
       "      <td>100.000000</td>\n",
       "      <td>89.108911</td>\n",
       "      <td>91.787440</td>\n",
       "    </tr>\n",
       "    <tr>\n",
       "      <th>Vot_mlp_SCA</th>\n",
       "      <td>95.813397</td>\n",
       "      <td>89.473684</td>\n",
       "      <td>69.196429</td>\n",
       "      <td>21.428571</td>\n",
       "      <td>99.358974</td>\n",
       "      <td>100.000000</td>\n",
       "      <td>81.578947</td>\n",
       "      <td>35.294118</td>\n",
       "    </tr>\n",
       "    <tr>\n",
       "      <th>Naive Bayes</th>\n",
       "      <td>93.660287</td>\n",
       "      <td>93.660287</td>\n",
       "      <td>89.285714</td>\n",
       "      <td>85.267857</td>\n",
       "      <td>70.921986</td>\n",
       "      <td>72.348485</td>\n",
       "      <td>79.051383</td>\n",
       "      <td>78.278689</td>\n",
       "    </tr>\n",
       "    <tr>\n",
       "      <th>Complex-model</th>\n",
       "      <td>97.188995</td>\n",
       "      <td>95.514354</td>\n",
       "      <td>79.824561</td>\n",
       "      <td>69.736842</td>\n",
       "      <td>99.453552</td>\n",
       "      <td>96.363636</td>\n",
       "      <td>88.564477</td>\n",
       "      <td>80.916031</td>\n",
       "    </tr>\n",
       "  </tbody>\n",
       "</table>\n",
       "</div>"
      ],
      "text/plain": [
       "                 Accuracy      BOW  Accuracy   TF-IDF Precision     BOW  \\\n",
       "Algorithm                                                                 \n",
       "MLP                      98.207885          98.028674         86.666667   \n",
       "MLP-scaled              ----------          97.311828        ----------   \n",
       "MLP-SCA                  97.727273          96.232057         83.482143   \n",
       "KNN                      87.739234          94.796651          8.482143   \n",
       "KNN-SCA                  88.157895          86.662679         11.607143   \n",
       "SVM                       97.84689          98.385167         83.928571   \n",
       "SVM-SCA                  97.667464          90.131579         83.928571   \n",
       "R.forest                 97.488038          98.265550             81.25   \n",
       "R.forest-SCA             97.248804          97.547847         79.910714   \n",
       "Vot with  mlp            97.009569          97.727273         77.678571   \n",
       "Vot with out mlp         97.368421          97.966507         80.357143   \n",
       "Vot_mlp_SCA              95.813397          89.473684         69.196429   \n",
       "Naive Bayes              93.660287          93.660287         89.285714   \n",
       "Complex-model            97.188995          95.514354         79.824561   \n",
       "\n",
       "                  Precision  TF-IDF Recall        BOW  Recall     TF-IDF  \\\n",
       "Algorithm                                                                  \n",
       "MLP                       85.333333             100.0         100.000000   \n",
       "MLP-scaled                81.333333        ----------          98.387097   \n",
       "MLP-SCA                   85.267857         99.468085          86.425339   \n",
       "KNN                       61.160714             100.0         100.000000   \n",
       "KNN-SCA                    0.446429             100.0         100.000000   \n",
       "SVM                       89.285714             100.0          98.522167   \n",
       "SVM-SCA                   26.339286         98.429319         100.000000   \n",
       "R.forest                  87.053571             100.0         100.000000   \n",
       "R.forest-SCA              83.482143         99.444444          97.905759   \n",
       "Vot with  mlp             83.035714             100.0         100.000000   \n",
       "Vot with out mlp          84.821429             100.0         100.000000   \n",
       "Vot_mlp_SCA               21.428571         99.358974         100.000000   \n",
       "Naive Bayes               85.267857         70.921986          72.348485   \n",
       "Complex-model             69.736842         99.453552          96.363636   \n",
       "\n",
       "                 F-measure     BOW  F-measure  TF-IDF  \n",
       "Algorithm                                              \n",
       "MLP                      92.857143          92.857143  \n",
       "MLP-scaled              ----------          89.051095  \n",
       "MLP-SCA                  90.776699          85.842697  \n",
       "KNN                       15.63786          75.900277  \n",
       "KNN-SCA                       20.8           0.888889  \n",
       "SVM                      91.262136          93.676815  \n",
       "SVM-SCA                   90.60241          41.696113  \n",
       "R.forest                 89.655172          93.078759  \n",
       "R.forest-SCA             88.613861          90.120482  \n",
       "Vot with  mlp            87.437186          90.731707  \n",
       "Vot with out mlp         89.108911          91.787440  \n",
       "Vot_mlp_SCA              81.578947          35.294118  \n",
       "Naive Bayes              79.051383          78.278689  \n",
       "Complex-model            88.564477          80.916031  "
      ]
     },
     "execution_count": 133,
     "metadata": {},
     "output_type": "execute_result"
    }
   ],
   "source": [
    "results_mlp_12 = {'Algorithm': 'MLP', 'Accuracy_BOW': accuracy2*100 ,'Accuracy_TF-IDF':accuracy1*100 , 'Recall_BOW': recall2*100, 'Recall_TF-IDF': recall1*100,'Precision_BOW':precision2*100  ,'Precision_TF-IDF':precision1*100 ,'F-measure_BOW':f12*100,'F-measure_TF-IDF':f12*100}\n",
    "results_mlp3 = {'Algorithm': 'MLP-scaled', 'Accuracy_BOW': '----------' ,'Accuracy_TF-IDF':accuracy3*100 , 'Recall_BOW': '----------', 'Recall_TF-IDF': recall3*100,'Precision_BOW':'----------'  ,'Precision_TF-IDF':precision3*100 ,'F-measure_BOW':'----------','F-measure_TF-IDF':f13*100}\n",
    "results_mlp_56 = {'Algorithm': 'MLP-SCA', 'Accuracy_BOW': accuracy6*100 ,'Accuracy_TF-IDF':accuracy5*100 , 'Recall_BOW': recall6*100, 'Recall_TF-IDF': recall5*100,'Precision_BOW':precision6*100  ,'Precision_TF-IDF':precision5*100 ,'F-measure_BOW':f16*100,'F-measure_TF-IDF':f15*100}\n",
    "results_knn = {'Algorithm': 'KNN', 'Accuracy_BOW': knn_bow_accuracy*100 ,'Accuracy_TF-IDF':knn_tffi_accuracy*100 , 'Recall_BOW': knn_bow_recall*100, 'Recall_TF-IDF': knn_tffi_recall*100,'Precision_BOW':knn_bow_precision*100  ,'Precision_TF-IDF':knn_tffi_precision*100 ,'F-measure_BOW':knn_bow_f1*100,'F-measure_TF-IDF':knn_tffi_f1*100}\n",
    "results_svm = {'Algorithm': 'SVM', 'Accuracy_BOW': bow_SVM_accuracy*100 ,'Accuracy_TF-IDF':tffi_SVM_accuracy*100 , 'Recall_BOW': bow_SVM_recall*100, 'Recall_TF-IDF': tffi_SVM_recall*100,'Precision_BOW':bow_SVM_precision*100  ,'Precision_TF-IDF':tffi_SVM_precision*100 ,'F-measure_BOW':bow_SVM_f1*100,'F-measure_TF-IDF':tffi_SVM_f1*100}\n",
    "results_rf = {'Algorithm': 'R.forest', 'Accuracy_BOW': bow_Random_F_accuracy*100 ,'Accuracy_TF-IDF':tffi_Random_F_accuracy*100 , 'Recall_BOW': bow_Random_F_recall*100, 'Recall_TF-IDF': tffi_Random_F_recall*100,'Precision_BOW':bow_Random_F_precision*100  ,'Precision_TF-IDF':tffi_Random_F_precision*100 ,'F-measure_BOW':bow_Random_F_f1*100,'F-measure_TF-IDF':tffi_Random_F_f1*100}\n",
    "results_nay={'Algorithm': 'Naive Bayes', 'Accuracy_BOW': gb_bow_bag_ac*100 ,'Accuracy_TF-IDF':gb_tf_bag_ac*100 , 'Recall_BOW': gb_bow_bag_re*100, 'Recall_TF-IDF': gb_tf_bag_re*100,'Precision_BOW':gb_bow_bag_per*100  ,'Precision_TF-IDF':gb_tf_bag_per*100 ,'F-measure_BOW':gb_bow_bag_f*100,'F-measure_TF-IDF':gb_tf_bag_f*100}\n",
    "\n",
    "\n",
    "results_SCA_knn = {'Algorithm': 'KNN-SCA', 'Accuracy_BOW': SCA_knn_bow_accuracy*100 ,'Accuracy_TF-IDF':SCA_knn_tffi_accuracy*100 , 'Recall_BOW': SCA_knn_bow_recall*100, 'Recall_TF-IDF': SCA_knn_tffi_recall*100,'Precision_BOW':SCA_knn_bow_precision*100  ,'Precision_TF-IDF':SCA_knn_tffi_precision*100 ,'F-measure_BOW':SCA_knn_bow_f1*100,'F-measure_TF-IDF':SCA_knn_tffi_f1*100}\n",
    "results_SCA_svm = {'Algorithm': 'SVM-SCA', 'Accuracy_BOW': SCA_bow_SVM_accuracy*100 ,'Accuracy_TF-IDF':SCA_tffi_SVM_accuracy*100 , 'Recall_BOW': SCA_bow_SVM_recall*100, 'Recall_TF-IDF': SCA_tffi_SVM_recall*100,'Precision_BOW':SCA_bow_SVM_precision*100  ,'Precision_TF-IDF':SCA_tffi_SVM_precision*100 ,'F-measure_BOW':SCA_bow_SVM_f1*100,'F-measure_TF-IDF':SCA_tffi_SVM_f1*100}\n",
    "results_SCA_rf = {'Algorithm': 'R.forest-SCA', 'Accuracy_BOW': SCA_bow_Random_F_accuracy*100 ,'Accuracy_TF-IDF':SCA_tffi_Random_F_accuracy*100 , 'Recall_BOW': SCA_bow_Random_F_recall*100, 'Recall_TF-IDF': SCA_tffi_Random_F_recall*100,'Precision_BOW':SCA_bow_Random_F_precision*100  ,'Precision_TF-IDF':SCA_tffi_Random_F_precision*100 ,'F-measure_BOW':SCA_bow_Random_F_f1*100,'F-measure_TF-IDF':SCA_tffi_Random_F_f1*100}\n",
    "\n",
    "results_Cmodel={'Algorithm': 'Complex-model', 'Accuracy_BOW': caccuracy2*100 ,'Accuracy_TF-IDF':caccuracy*100 , 'Recall_BOW':crecall2*100, 'Recall_TF-IDF':crecall*100,'Precision_BOW':cprecision2*100  ,'Precision_TF-IDF':cprecision*100 ,'F-measure_BOW':cf12*100,'F-measure_TF-IDF':cf1*100}\n",
    "\n",
    "results_votting1={'Algorithm': 'Vot with  mlp', 'Accuracy_BOW': ens3_accuracy*100 ,'Accuracy_TF-IDF':ens2_accuracy*100 , 'Recall_BOW': ens3_recall*100, 'Recall_TF-IDF': ens2_recall*100,'Precision_BOW':ens3_precision*100  ,'Precision_TF-IDF':ens2_precision*100 ,'F-measure_BOW':ens3_f1*100,'F-measure_TF-IDF':ens2_f1*100}\n",
    "results_votting2={'Algorithm': 'Vot with out mlp', 'Accuracy_BOW': ens4_accuracy*100 ,'Accuracy_TF-IDF':ens1_accuracy*100 , 'Recall_BOW': ens4_recall*100, 'Recall_TF-IDF': ens1_recall*100,'Precision_BOW':ens4_precision*100  ,'Precision_TF-IDF':ens1_precision*100 ,'F-measure_BOW':ens4_f1*100,'F-measure_TF-IDF':ens1_f1*100}\n",
    "results_votting3={'Algorithm': 'Vot_mlp_SCA', 'Accuracy_BOW': ens6_accuracy*100 ,'Accuracy_TF-IDF':ens5_accuracy*100 , 'Recall_BOW': ens6_recall*100, 'Recall_TF-IDF': ens5_recall*100,'Precision_BOW':ens6_precision*100  ,'Precision_TF-IDF':ens5_precision*100 ,'F-measure_BOW':ens6_f1*100,'F-measure_TF-IDF':ens5_f1*100}\n",
    "df = pd.DataFrame([results_mlp_12, results_mlp3,results_mlp_56,results_knn,results_SCA_knn,results_svm,results_SCA_svm,results_rf,results_SCA_rf,results_votting1,results_votting2,results_votting3,results_nay,results_Cmodel])\n",
    "df.set_index('Algorithm', inplace=True)\n",
    "columns = pd.MultiIndex.from_tuples([\n",
    "    ('Accuracy', 'BOW'), ('Accuracy', 'TF-IDF'),\n",
    "    ('Precision', 'BOW'), ('Precision', 'TF-IDF'),\n",
    "    ('Recall', 'BOW'), ('Recall', 'TF-IDF'),\n",
    "    ('F-measure', 'BOW'), ('F-measure', 'TF-IDF')\n",
    "])\n",
    "\n",
    "\n",
    "\n",
    "df.columns = columns\n",
    "\n",
    "# Define column spacing\n",
    "col_width = max(len(name) for name in df.columns.get_level_values(0))\n",
    "level_width = max(len(str(level)) for level in df.columns.get_level_values(1))\n",
    "spacing = 2  # Number of extra spaces between columns\n",
    "\n",
    "# Function to format column headers with adjusted spacing\n",
    "def format_columns(columns):\n",
    "    return [f\"{col:{col_width}s}{level:>{level_width + spacing}s}\" for col, level in columns]\n",
    "\n",
    "# Format columns with adjusted spacing\n",
    "df.columns = format_columns(df.columns)\n",
    "\n",
    "# Display the DataFrame\n",
    "df"
   ]
  },
  {
   "attachments": {},
   "cell_type": "markdown",
   "metadata": {},
   "source": [
    "<h4>Save  result table as chart.CSV"
   ]
  },
  {
   "cell_type": "code",
   "execution_count": 134,
   "metadata": {},
   "outputs": [],
   "source": [
    "df = pd.DataFrame([results_mlp_12, results_mlp3,results_mlp_56,results_knn,results_SCA_knn,results_svm,results_SCA_svm,results_rf,results_SCA_rf])\n",
    "df.set_index('Algorithm', inplace=True)\n",
    "df.to_csv('chart_data.csv')"
   ]
  },
  {
   "cell_type": "markdown",
   "metadata": {},
   "source": [
    "bagging svm , naive , knn ? "
   ]
  }
 ],
 "metadata": {
  "kernelspec": {
   "display_name": "Python 3",
   "language": "python",
   "name": "python3"
  },
  "language_info": {
   "codemirror_mode": {
    "name": "ipython",
    "version": 3
   },
   "file_extension": ".py",
   "mimetype": "text/x-python",
   "name": "python",
   "nbconvert_exporter": "python",
   "pygments_lexer": "ipython3",
   "version": "3.9.0"
  },
  "orig_nbformat": 4
 },
 "nbformat": 4,
 "nbformat_minor": 2
}
